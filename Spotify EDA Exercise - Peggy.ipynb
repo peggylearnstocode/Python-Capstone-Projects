{
 "cells": [
  {
   "cell_type": "markdown",
   "id": "20fabb54",
   "metadata": {},
   "source": [
    "# This is an EDA exercise on a data set from Spotify. \n",
    "\n",
    "## The objective is to uncover insights about my activity on Spotify."
   ]
  },
  {
   "cell_type": "code",
   "execution_count": 1,
   "id": "e1e09f1d",
   "metadata": {},
   "outputs": [],
   "source": [
    "import numpy as np\n",
    "import pandas as pd\n",
    "import matplotlib.pyplot as plt\n",
    "import seaborn as sns"
   ]
  },
  {
   "cell_type": "code",
   "execution_count": 2,
   "id": "96105b40",
   "metadata": {},
   "outputs": [],
   "source": [
    "df = pd.read_json('C:/Users/pclee/Downloads/my_spotify_data/MyData/StreamingHistory0.json')"
   ]
  },
  {
   "cell_type": "code",
   "execution_count": 3,
   "id": "569f1a65",
   "metadata": {},
   "outputs": [
    {
     "data": {
      "text/html": [
       "<div>\n",
       "<style scoped>\n",
       "    .dataframe tbody tr th:only-of-type {\n",
       "        vertical-align: middle;\n",
       "    }\n",
       "\n",
       "    .dataframe tbody tr th {\n",
       "        vertical-align: top;\n",
       "    }\n",
       "\n",
       "    .dataframe thead th {\n",
       "        text-align: right;\n",
       "    }\n",
       "</style>\n",
       "<table border=\"1\" class=\"dataframe\">\n",
       "  <thead>\n",
       "    <tr style=\"text-align: right;\">\n",
       "      <th></th>\n",
       "      <th>endTime</th>\n",
       "      <th>artistName</th>\n",
       "      <th>trackName</th>\n",
       "      <th>msPlayed</th>\n",
       "    </tr>\n",
       "  </thead>\n",
       "  <tbody>\n",
       "    <tr>\n",
       "      <th>0</th>\n",
       "      <td>2021-10-03 23:04</td>\n",
       "      <td>Vance Joy</td>\n",
       "      <td>Emmylou</td>\n",
       "      <td>127281</td>\n",
       "    </tr>\n",
       "    <tr>\n",
       "      <th>1</th>\n",
       "      <td>2021-10-05 00:30</td>\n",
       "      <td>Radio Headspace</td>\n",
       "      <td>Great Expectations</td>\n",
       "      <td>327872</td>\n",
       "    </tr>\n",
       "    <tr>\n",
       "      <th>2</th>\n",
       "      <td>2021-10-06 00:31</td>\n",
       "      <td>Radio Headspace</td>\n",
       "      <td>Me, Myself, and I</td>\n",
       "      <td>308458</td>\n",
       "    </tr>\n",
       "    <tr>\n",
       "      <th>3</th>\n",
       "      <td>2021-10-06 02:51</td>\n",
       "      <td>Coldplay</td>\n",
       "      <td>Champion Of The World</td>\n",
       "      <td>216192</td>\n",
       "    </tr>\n",
       "    <tr>\n",
       "      <th>4</th>\n",
       "      <td>2021-10-06 02:56</td>\n",
       "      <td>Coldplay</td>\n",
       "      <td>Everyday Life</td>\n",
       "      <td>322831</td>\n",
       "    </tr>\n",
       "  </tbody>\n",
       "</table>\n",
       "</div>"
      ],
      "text/plain": [
       "            endTime       artistName              trackName  msPlayed\n",
       "0  2021-10-03 23:04        Vance Joy                Emmylou    127281\n",
       "1  2021-10-05 00:30  Radio Headspace     Great Expectations    327872\n",
       "2  2021-10-06 00:31  Radio Headspace      Me, Myself, and I    308458\n",
       "3  2021-10-06 02:51         Coldplay  Champion Of The World    216192\n",
       "4  2021-10-06 02:56         Coldplay          Everyday Life    322831"
      ]
     },
     "execution_count": 3,
     "metadata": {},
     "output_type": "execute_result"
    }
   ],
   "source": [
    "df.head()"
   ]
  },
  {
   "cell_type": "code",
   "execution_count": 4,
   "id": "6b64837d",
   "metadata": {},
   "outputs": [
    {
     "name": "stdout",
     "output_type": "stream",
     "text": [
      "<class 'pandas.core.frame.DataFrame'>\n",
      "RangeIndex: 8995 entries, 0 to 8994\n",
      "Data columns (total 4 columns):\n",
      " #   Column      Non-Null Count  Dtype \n",
      "---  ------      --------------  ----- \n",
      " 0   endTime     8995 non-null   object\n",
      " 1   artistName  8995 non-null   object\n",
      " 2   trackName   8995 non-null   object\n",
      " 3   msPlayed    8995 non-null   int64 \n",
      "dtypes: int64(1), object(3)\n",
      "memory usage: 281.2+ KB\n"
     ]
    }
   ],
   "source": [
    "df.info()"
   ]
  },
  {
   "cell_type": "code",
   "execution_count": 5,
   "id": "39f16ec5",
   "metadata": {},
   "outputs": [],
   "source": [
    "df['endTime'] = pd.to_datetime(df['endTime'])"
   ]
  },
  {
   "cell_type": "code",
   "execution_count": 6,
   "id": "23cb0037",
   "metadata": {},
   "outputs": [
    {
     "name": "stdout",
     "output_type": "stream",
     "text": [
      "<class 'pandas.core.frame.DataFrame'>\n",
      "RangeIndex: 8995 entries, 0 to 8994\n",
      "Data columns (total 4 columns):\n",
      " #   Column      Non-Null Count  Dtype         \n",
      "---  ------      --------------  -----         \n",
      " 0   endTime     8995 non-null   datetime64[ns]\n",
      " 1   artistName  8995 non-null   object        \n",
      " 2   trackName   8995 non-null   object        \n",
      " 3   msPlayed    8995 non-null   int64         \n",
      "dtypes: datetime64[ns](1), int64(1), object(2)\n",
      "memory usage: 281.2+ KB\n"
     ]
    }
   ],
   "source": [
    "df.info()"
   ]
  },
  {
   "cell_type": "code",
   "execution_count": 7,
   "id": "3f3b1252",
   "metadata": {},
   "outputs": [],
   "source": [
    "df['date'] = df['endTime'].apply(lambda x: x.date())"
   ]
  },
  {
   "cell_type": "code",
   "execution_count": 8,
   "id": "e289a079",
   "metadata": {},
   "outputs": [],
   "source": [
    "df['time'] = df['endTime'].apply(lambda x: x.time())"
   ]
  },
  {
   "cell_type": "code",
   "execution_count": 9,
   "id": "d18603d5",
   "metadata": {},
   "outputs": [],
   "source": [
    "df['year'] = pd.to_datetime(df['date']).apply(lambda x: x.year)"
   ]
  },
  {
   "cell_type": "code",
   "execution_count": 10,
   "id": "56b1758e",
   "metadata": {},
   "outputs": [],
   "source": [
    "df['month'] = pd.to_datetime(df['date']).apply(lambda x: x.month)"
   ]
  },
  {
   "cell_type": "code",
   "execution_count": 11,
   "id": "6c962b47",
   "metadata": {},
   "outputs": [],
   "source": [
    "df['day'] = pd.to_datetime(df['date']).apply(lambda x: x.day)"
   ]
  },
  {
   "cell_type": "code",
   "execution_count": 12,
   "id": "f2077de1",
   "metadata": {},
   "outputs": [],
   "source": [
    "df['hour'] = df['time'].apply(lambda x: x.hour)"
   ]
  },
  {
   "cell_type": "code",
   "execution_count": 13,
   "id": "4baf534b",
   "metadata": {},
   "outputs": [
    {
     "data": {
      "text/html": [
       "<div>\n",
       "<style scoped>\n",
       "    .dataframe tbody tr th:only-of-type {\n",
       "        vertical-align: middle;\n",
       "    }\n",
       "\n",
       "    .dataframe tbody tr th {\n",
       "        vertical-align: top;\n",
       "    }\n",
       "\n",
       "    .dataframe thead th {\n",
       "        text-align: right;\n",
       "    }\n",
       "</style>\n",
       "<table border=\"1\" class=\"dataframe\">\n",
       "  <thead>\n",
       "    <tr style=\"text-align: right;\">\n",
       "      <th></th>\n",
       "      <th>endTime</th>\n",
       "      <th>artistName</th>\n",
       "      <th>trackName</th>\n",
       "      <th>msPlayed</th>\n",
       "      <th>date</th>\n",
       "      <th>time</th>\n",
       "      <th>year</th>\n",
       "      <th>month</th>\n",
       "      <th>day</th>\n",
       "      <th>hour</th>\n",
       "    </tr>\n",
       "  </thead>\n",
       "  <tbody>\n",
       "    <tr>\n",
       "      <th>0</th>\n",
       "      <td>2021-10-03 23:04:00</td>\n",
       "      <td>Vance Joy</td>\n",
       "      <td>Emmylou</td>\n",
       "      <td>127281</td>\n",
       "      <td>2021-10-03</td>\n",
       "      <td>23:04:00</td>\n",
       "      <td>2021</td>\n",
       "      <td>10</td>\n",
       "      <td>3</td>\n",
       "      <td>23</td>\n",
       "    </tr>\n",
       "    <tr>\n",
       "      <th>1</th>\n",
       "      <td>2021-10-05 00:30:00</td>\n",
       "      <td>Radio Headspace</td>\n",
       "      <td>Great Expectations</td>\n",
       "      <td>327872</td>\n",
       "      <td>2021-10-05</td>\n",
       "      <td>00:30:00</td>\n",
       "      <td>2021</td>\n",
       "      <td>10</td>\n",
       "      <td>5</td>\n",
       "      <td>0</td>\n",
       "    </tr>\n",
       "    <tr>\n",
       "      <th>2</th>\n",
       "      <td>2021-10-06 00:31:00</td>\n",
       "      <td>Radio Headspace</td>\n",
       "      <td>Me, Myself, and I</td>\n",
       "      <td>308458</td>\n",
       "      <td>2021-10-06</td>\n",
       "      <td>00:31:00</td>\n",
       "      <td>2021</td>\n",
       "      <td>10</td>\n",
       "      <td>6</td>\n",
       "      <td>0</td>\n",
       "    </tr>\n",
       "    <tr>\n",
       "      <th>3</th>\n",
       "      <td>2021-10-06 02:51:00</td>\n",
       "      <td>Coldplay</td>\n",
       "      <td>Champion Of The World</td>\n",
       "      <td>216192</td>\n",
       "      <td>2021-10-06</td>\n",
       "      <td>02:51:00</td>\n",
       "      <td>2021</td>\n",
       "      <td>10</td>\n",
       "      <td>6</td>\n",
       "      <td>2</td>\n",
       "    </tr>\n",
       "    <tr>\n",
       "      <th>4</th>\n",
       "      <td>2021-10-06 02:56:00</td>\n",
       "      <td>Coldplay</td>\n",
       "      <td>Everyday Life</td>\n",
       "      <td>322831</td>\n",
       "      <td>2021-10-06</td>\n",
       "      <td>02:56:00</td>\n",
       "      <td>2021</td>\n",
       "      <td>10</td>\n",
       "      <td>6</td>\n",
       "      <td>2</td>\n",
       "    </tr>\n",
       "  </tbody>\n",
       "</table>\n",
       "</div>"
      ],
      "text/plain": [
       "              endTime       artistName              trackName  msPlayed  \\\n",
       "0 2021-10-03 23:04:00        Vance Joy                Emmylou    127281   \n",
       "1 2021-10-05 00:30:00  Radio Headspace     Great Expectations    327872   \n",
       "2 2021-10-06 00:31:00  Radio Headspace      Me, Myself, and I    308458   \n",
       "3 2021-10-06 02:51:00         Coldplay  Champion Of The World    216192   \n",
       "4 2021-10-06 02:56:00         Coldplay          Everyday Life    322831   \n",
       "\n",
       "         date      time  year  month  day  hour  \n",
       "0  2021-10-03  23:04:00  2021     10    3    23  \n",
       "1  2021-10-05  00:30:00  2021     10    5     0  \n",
       "2  2021-10-06  00:31:00  2021     10    6     0  \n",
       "3  2021-10-06  02:51:00  2021     10    6     2  \n",
       "4  2021-10-06  02:56:00  2021     10    6     2  "
      ]
     },
     "execution_count": 13,
     "metadata": {},
     "output_type": "execute_result"
    }
   ],
   "source": [
    "df.head()"
   ]
  },
  {
   "cell_type": "markdown",
   "id": "62d2c5f0",
   "metadata": {},
   "source": [
    "# Part 1: Basic EDA"
   ]
  },
  {
   "cell_type": "markdown",
   "id": "8a498682",
   "metadata": {},
   "source": [
    "## Volume of data collection"
   ]
  },
  {
   "cell_type": "code",
   "execution_count": 14,
   "id": "c37ac21c",
   "metadata": {},
   "outputs": [
    {
     "data": {
      "text/plain": [
       "array([2021, 2022], dtype=int64)"
      ]
     },
     "execution_count": 14,
     "metadata": {},
     "output_type": "execute_result"
    }
   ],
   "source": [
    "df['year'].unique()"
   ]
  },
  {
   "cell_type": "code",
   "execution_count": 15,
   "id": "7e722307",
   "metadata": {},
   "outputs": [
    {
     "data": {
      "text/plain": [
       "Timestamp('2021-10-03 23:04:00')"
      ]
     },
     "execution_count": 15,
     "metadata": {},
     "output_type": "execute_result"
    }
   ],
   "source": [
    "df['endTime'].min()"
   ]
  },
  {
   "cell_type": "code",
   "execution_count": 16,
   "id": "5c694d4a",
   "metadata": {},
   "outputs": [
    {
     "data": {
      "text/plain": [
       "Timestamp('2022-10-04 11:40:00')"
      ]
     },
     "execution_count": 16,
     "metadata": {},
     "output_type": "execute_result"
    }
   ],
   "source": [
    "df['endTime'].max()"
   ]
  },
  {
   "cell_type": "markdown",
   "id": "9e775574",
   "metadata": {},
   "source": [
    "### Insight: The data set contains one year worth of data."
   ]
  },
  {
   "cell_type": "markdown",
   "id": "e76d334f",
   "metadata": {},
   "source": [
    "## Time spent on Spotify"
   ]
  },
  {
   "cell_type": "code",
   "execution_count": 17,
   "id": "83d55cce",
   "metadata": {},
   "outputs": [
    {
     "data": {
      "text/plain": [
       "1422236947"
      ]
     },
     "execution_count": 17,
     "metadata": {},
     "output_type": "execute_result"
    }
   ],
   "source": [
    "df['msPlayed'].sum()"
   ]
  },
  {
   "cell_type": "markdown",
   "id": "b2b52b48",
   "metadata": {},
   "source": [
    "Convert milliseconds to minutes "
   ]
  },
  {
   "cell_type": "code",
   "execution_count": 18,
   "id": "ee120683",
   "metadata": {},
   "outputs": [
    {
     "data": {
      "text/plain": [
       "23703.949116666667"
      ]
     },
     "execution_count": 18,
     "metadata": {},
     "output_type": "execute_result"
    }
   ],
   "source": [
    "df['msPlayed'].sum() / 60000"
   ]
  },
  {
   "cell_type": "markdown",
   "id": "2323a243",
   "metadata": {},
   "source": [
    "Convert minutes to hours"
   ]
  },
  {
   "cell_type": "code",
   "execution_count": 19,
   "id": "78ce2337",
   "metadata": {},
   "outputs": [
    {
     "data": {
      "text/plain": [
       "395.0658186111111"
      ]
     },
     "execution_count": 19,
     "metadata": {},
     "output_type": "execute_result"
    }
   ],
   "source": [
    "df['msPlayed'].sum() / 60000 / 60"
   ]
  },
  {
   "cell_type": "markdown",
   "id": "5feaf316",
   "metadata": {},
   "source": [
    "Convert hours to days"
   ]
  },
  {
   "cell_type": "code",
   "execution_count": 20,
   "id": "c74e2357",
   "metadata": {},
   "outputs": [
    {
     "data": {
      "text/plain": [
       "16.461075775462962"
      ]
     },
     "execution_count": 20,
     "metadata": {},
     "output_type": "execute_result"
    }
   ],
   "source": [
    "df['msPlayed'].sum() / 60000 / 60 / 24"
   ]
  },
  {
   "cell_type": "markdown",
   "id": "7b80e29f",
   "metadata": {},
   "source": [
    "### Insight: I have spent a total of 16+ full days being active on Spotify."
   ]
  },
  {
   "cell_type": "markdown",
   "id": "32193845",
   "metadata": {},
   "source": [
    "## Spread of time spent on each track"
   ]
  },
  {
   "cell_type": "code",
   "execution_count": 21,
   "id": "aa468017",
   "metadata": {},
   "outputs": [],
   "source": [
    "df_mins = df.copy()"
   ]
  },
  {
   "cell_type": "code",
   "execution_count": 22,
   "id": "c0b83d8b",
   "metadata": {},
   "outputs": [],
   "source": [
    "df_mins['minsPlayed'] = df_mins['msPlayed'] / 60000"
   ]
  },
  {
   "cell_type": "code",
   "execution_count": 23,
   "id": "50da30ea",
   "metadata": {},
   "outputs": [
    {
     "data": {
      "text/plain": [
       "<AxesSubplot:xlabel='minsPlayed', ylabel='Count'>"
      ]
     },
     "execution_count": 23,
     "metadata": {},
     "output_type": "execute_result"
    },
    {
     "data": {
      "image/png": "[encoded data removed]",
      "text/plain": [
       "<Figure size 432x288 with 1 Axes>"
      ]
     },
     "metadata": {
      "needs_background": "light"
     },
     "output_type": "display_data"
    }
   ],
   "source": [
    "sns.histplot(data=df_mins, x='minsPlayed', bins=30)"
   ]
  },
  {
   "cell_type": "code",
   "execution_count": 24,
   "id": "43d92482",
   "metadata": {},
   "outputs": [
    {
     "data": {
      "text/plain": [
       "17.540616666666665"
      ]
     },
     "execution_count": 24,
     "metadata": {},
     "output_type": "execute_result"
    }
   ],
   "source": [
    "df_mins['minsPlayed'].max()"
   ]
  },
  {
   "cell_type": "code",
   "execution_count": 25,
   "id": "c7eca607",
   "metadata": {},
   "outputs": [
    {
     "data": {
      "text/html": [
       "<div>\n",
       "<style scoped>\n",
       "    .dataframe tbody tr th:only-of-type {\n",
       "        vertical-align: middle;\n",
       "    }\n",
       "\n",
       "    .dataframe tbody tr th {\n",
       "        vertical-align: top;\n",
       "    }\n",
       "\n",
       "    .dataframe thead th {\n",
       "        text-align: right;\n",
       "    }\n",
       "</style>\n",
       "<table border=\"1\" class=\"dataframe\">\n",
       "  <thead>\n",
       "    <tr style=\"text-align: right;\">\n",
       "      <th></th>\n",
       "      <th>endTime</th>\n",
       "      <th>artistName</th>\n",
       "      <th>trackName</th>\n",
       "      <th>msPlayed</th>\n",
       "      <th>date</th>\n",
       "      <th>time</th>\n",
       "      <th>year</th>\n",
       "      <th>month</th>\n",
       "      <th>day</th>\n",
       "      <th>hour</th>\n",
       "      <th>minsPlayed</th>\n",
       "    </tr>\n",
       "  </thead>\n",
       "  <tbody>\n",
       "    <tr>\n",
       "      <th>5222</th>\n",
       "      <td>2022-05-23 23:51:00</td>\n",
       "      <td>1 Foot In - An Asian Career Podcast</td>\n",
       "      <td>HR Speaks: Does HR read all resumes? (2 of 4)</td>\n",
       "      <td>1052437</td>\n",
       "      <td>2022-05-23</td>\n",
       "      <td>23:51:00</td>\n",
       "      <td>2022</td>\n",
       "      <td>5</td>\n",
       "      <td>23</td>\n",
       "      <td>23</td>\n",
       "      <td>17.540617</td>\n",
       "    </tr>\n",
       "  </tbody>\n",
       "</table>\n",
       "</div>"
      ],
      "text/plain": [
       "                 endTime                           artistName  \\\n",
       "5222 2022-05-23 23:51:00  1 Foot In - An Asian Career Podcast   \n",
       "\n",
       "                                          trackName  msPlayed        date  \\\n",
       "5222  HR Speaks: Does HR read all resumes? (2 of 4)   1052437  2022-05-23   \n",
       "\n",
       "          time  year  month  day  hour  minsPlayed  \n",
       "5222  23:51:00  2022      5   23    23   17.540617  "
      ]
     },
     "execution_count": 25,
     "metadata": {},
     "output_type": "execute_result"
    }
   ],
   "source": [
    "df_mins[df_mins['minsPlayed'] == df_mins['minsPlayed'].max()]"
   ]
  },
  {
   "cell_type": "markdown",
   "id": "74ca040b",
   "metadata": {},
   "source": [
    "The track that I have spent the most time listening to is a podcast. This explains the long run time."
   ]
  },
  {
   "cell_type": "code",
   "execution_count": 26,
   "id": "15618fba",
   "metadata": {},
   "outputs": [
    {
     "data": {
      "text/plain": [
       "0.0"
      ]
     },
     "execution_count": 26,
     "metadata": {},
     "output_type": "execute_result"
    }
   ],
   "source": [
    "df_mins['minsPlayed'].min()"
   ]
  },
  {
   "cell_type": "code",
   "execution_count": 27,
   "id": "ba6eb5f7",
   "metadata": {},
   "outputs": [
    {
     "data": {
      "text/html": [
       "<div>\n",
       "<style scoped>\n",
       "    .dataframe tbody tr th:only-of-type {\n",
       "        vertical-align: middle;\n",
       "    }\n",
       "\n",
       "    .dataframe tbody tr th {\n",
       "        vertical-align: top;\n",
       "    }\n",
       "\n",
       "    .dataframe thead th {\n",
       "        text-align: right;\n",
       "    }\n",
       "</style>\n",
       "<table border=\"1\" class=\"dataframe\">\n",
       "  <thead>\n",
       "    <tr style=\"text-align: right;\">\n",
       "      <th></th>\n",
       "      <th>endTime</th>\n",
       "      <th>artistName</th>\n",
       "      <th>trackName</th>\n",
       "      <th>msPlayed</th>\n",
       "      <th>date</th>\n",
       "      <th>time</th>\n",
       "      <th>year</th>\n",
       "      <th>month</th>\n",
       "      <th>day</th>\n",
       "      <th>hour</th>\n",
       "      <th>minsPlayed</th>\n",
       "    </tr>\n",
       "  </thead>\n",
       "  <tbody>\n",
       "    <tr>\n",
       "      <th>62</th>\n",
       "      <td>2021-10-11 04:35:00</td>\n",
       "      <td>Gary Jules</td>\n",
       "      <td>Falling Awake</td>\n",
       "      <td>0</td>\n",
       "      <td>2021-10-11</td>\n",
       "      <td>04:35:00</td>\n",
       "      <td>2021</td>\n",
       "      <td>10</td>\n",
       "      <td>11</td>\n",
       "      <td>4</td>\n",
       "      <td>0.0</td>\n",
       "    </tr>\n",
       "    <tr>\n",
       "      <th>472</th>\n",
       "      <td>2021-10-29 02:19:00</td>\n",
       "      <td>Ed Sheeran</td>\n",
       "      <td>Stop The Rain</td>\n",
       "      <td>0</td>\n",
       "      <td>2021-10-29</td>\n",
       "      <td>02:19:00</td>\n",
       "      <td>2021</td>\n",
       "      <td>10</td>\n",
       "      <td>29</td>\n",
       "      <td>2</td>\n",
       "      <td>0.0</td>\n",
       "    </tr>\n",
       "    <tr>\n",
       "      <th>704</th>\n",
       "      <td>2021-11-04 01:33:00</td>\n",
       "      <td>Hollow Coves</td>\n",
       "      <td>Patience</td>\n",
       "      <td>0</td>\n",
       "      <td>2021-11-04</td>\n",
       "      <td>01:33:00</td>\n",
       "      <td>2021</td>\n",
       "      <td>11</td>\n",
       "      <td>4</td>\n",
       "      <td>1</td>\n",
       "      <td>0.0</td>\n",
       "    </tr>\n",
       "    <tr>\n",
       "      <th>984</th>\n",
       "      <td>2021-12-02 03:56:00</td>\n",
       "      <td>Coldplay</td>\n",
       "      <td>Princess of China</td>\n",
       "      <td>0</td>\n",
       "      <td>2021-12-02</td>\n",
       "      <td>03:56:00</td>\n",
       "      <td>2021</td>\n",
       "      <td>12</td>\n",
       "      <td>2</td>\n",
       "      <td>3</td>\n",
       "      <td>0.0</td>\n",
       "    </tr>\n",
       "    <tr>\n",
       "      <th>1069</th>\n",
       "      <td>2021-12-04 08:32:00</td>\n",
       "      <td>Miley Cyrus</td>\n",
       "      <td>The Climb</td>\n",
       "      <td>0</td>\n",
       "      <td>2021-12-04</td>\n",
       "      <td>08:32:00</td>\n",
       "      <td>2021</td>\n",
       "      <td>12</td>\n",
       "      <td>4</td>\n",
       "      <td>8</td>\n",
       "      <td>0.0</td>\n",
       "    </tr>\n",
       "    <tr>\n",
       "      <th>...</th>\n",
       "      <td>...</td>\n",
       "      <td>...</td>\n",
       "      <td>...</td>\n",
       "      <td>...</td>\n",
       "      <td>...</td>\n",
       "      <td>...</td>\n",
       "      <td>...</td>\n",
       "      <td>...</td>\n",
       "      <td>...</td>\n",
       "      <td>...</td>\n",
       "      <td>...</td>\n",
       "    </tr>\n",
       "    <tr>\n",
       "      <th>8614</th>\n",
       "      <td>2022-09-22 13:14:00</td>\n",
       "      <td>The Offspring</td>\n",
       "      <td>Nothingtown</td>\n",
       "      <td>0</td>\n",
       "      <td>2022-09-22</td>\n",
       "      <td>13:14:00</td>\n",
       "      <td>2022</td>\n",
       "      <td>9</td>\n",
       "      <td>22</td>\n",
       "      <td>13</td>\n",
       "      <td>0.0</td>\n",
       "    </tr>\n",
       "    <tr>\n",
       "      <th>8645</th>\n",
       "      <td>2022-09-23 00:41:00</td>\n",
       "      <td>The Piano Guys</td>\n",
       "      <td>Ghost</td>\n",
       "      <td>0</td>\n",
       "      <td>2022-09-23</td>\n",
       "      <td>00:41:00</td>\n",
       "      <td>2022</td>\n",
       "      <td>9</td>\n",
       "      <td>23</td>\n",
       "      <td>0</td>\n",
       "      <td>0.0</td>\n",
       "    </tr>\n",
       "    <tr>\n",
       "      <th>8814</th>\n",
       "      <td>2022-09-28 01:56:00</td>\n",
       "      <td>Coldplay</td>\n",
       "      <td>Daddy</td>\n",
       "      <td>0</td>\n",
       "      <td>2022-09-28</td>\n",
       "      <td>01:56:00</td>\n",
       "      <td>2022</td>\n",
       "      <td>9</td>\n",
       "      <td>28</td>\n",
       "      <td>1</td>\n",
       "      <td>0.0</td>\n",
       "    </tr>\n",
       "    <tr>\n",
       "      <th>8817</th>\n",
       "      <td>2022-09-28 01:56:00</td>\n",
       "      <td>Coldplay</td>\n",
       "      <td>See You Soon</td>\n",
       "      <td>0</td>\n",
       "      <td>2022-09-28</td>\n",
       "      <td>01:56:00</td>\n",
       "      <td>2022</td>\n",
       "      <td>9</td>\n",
       "      <td>28</td>\n",
       "      <td>1</td>\n",
       "      <td>0.0</td>\n",
       "    </tr>\n",
       "    <tr>\n",
       "      <th>8875</th>\n",
       "      <td>2022-09-30 07:10:00</td>\n",
       "      <td>Ed Sheeran</td>\n",
       "      <td>Celestial</td>\n",
       "      <td>0</td>\n",
       "      <td>2022-09-30</td>\n",
       "      <td>07:10:00</td>\n",
       "      <td>2022</td>\n",
       "      <td>9</td>\n",
       "      <td>30</td>\n",
       "      <td>7</td>\n",
       "      <td>0.0</td>\n",
       "    </tr>\n",
       "  </tbody>\n",
       "</table>\n",
       "<p>141 rows × 11 columns</p>\n",
       "</div>"
      ],
      "text/plain": [
       "                 endTime      artistName          trackName  msPlayed  \\\n",
       "62   2021-10-11 04:35:00      Gary Jules      Falling Awake         0   \n",
       "472  2021-10-29 02:19:00      Ed Sheeran      Stop The Rain         0   \n",
       "704  2021-11-04 01:33:00    Hollow Coves           Patience         0   \n",
       "984  2021-12-02 03:56:00        Coldplay  Princess of China         0   \n",
       "1069 2021-12-04 08:32:00     Miley Cyrus          The Climb         0   \n",
       "...                  ...             ...                ...       ...   \n",
       "8614 2022-09-22 13:14:00   The Offspring        Nothingtown         0   \n",
       "8645 2022-09-23 00:41:00  The Piano Guys              Ghost         0   \n",
       "8814 2022-09-28 01:56:00        Coldplay              Daddy         0   \n",
       "8817 2022-09-28 01:56:00        Coldplay       See You Soon         0   \n",
       "8875 2022-09-30 07:10:00      Ed Sheeran          Celestial         0   \n",
       "\n",
       "            date      time  year  month  day  hour  minsPlayed  \n",
       "62    2021-10-11  04:35:00  2021     10   11     4         0.0  \n",
       "472   2021-10-29  02:19:00  2021     10   29     2         0.0  \n",
       "704   2021-11-04  01:33:00  2021     11    4     1         0.0  \n",
       "984   2021-12-02  03:56:00  2021     12    2     3         0.0  \n",
       "1069  2021-12-04  08:32:00  2021     12    4     8         0.0  \n",
       "...          ...       ...   ...    ...  ...   ...         ...  \n",
       "8614  2022-09-22  13:14:00  2022      9   22    13         0.0  \n",
       "8645  2022-09-23  00:41:00  2022      9   23     0         0.0  \n",
       "8814  2022-09-28  01:56:00  2022      9   28     1         0.0  \n",
       "8817  2022-09-28  01:56:00  2022      9   28     1         0.0  \n",
       "8875  2022-09-30  07:10:00  2022      9   30     7         0.0  \n",
       "\n",
       "[141 rows x 11 columns]"
      ]
     },
     "execution_count": 27,
     "metadata": {},
     "output_type": "execute_result"
    }
   ],
   "source": [
    "df_mins[df_mins['minsPlayed'] == df_mins['minsPlayed'].min()]"
   ]
  },
  {
   "cell_type": "markdown",
   "id": "d3514e30",
   "metadata": {},
   "source": [
    "There are 141 songs that I have probably skipped right when the playlist switches to the song."
   ]
  },
  {
   "cell_type": "code",
   "execution_count": 28,
   "id": "2c20c7a3",
   "metadata": {},
   "outputs": [
    {
     "data": {
      "text/plain": [
       "130"
      ]
     },
     "execution_count": 28,
     "metadata": {},
     "output_type": "execute_result"
    }
   ],
   "source": [
    "df_mins[df_mins['minsPlayed'] == df_mins['minsPlayed'].min()]['trackName'].nunique()"
   ]
  },
  {
   "cell_type": "markdown",
   "id": "36676461",
   "metadata": {},
   "source": [
    "Out of the 141 songs, there are only 130 unique tracks."
   ]
  },
  {
   "cell_type": "code",
   "execution_count": 29,
   "id": "edd51c0c",
   "metadata": {},
   "outputs": [
    {
     "data": {
      "text/html": [
       "<div>\n",
       "<style scoped>\n",
       "    .dataframe tbody tr th:only-of-type {\n",
       "        vertical-align: middle;\n",
       "    }\n",
       "\n",
       "    .dataframe tbody tr th {\n",
       "        vertical-align: top;\n",
       "    }\n",
       "\n",
       "    .dataframe thead th {\n",
       "        text-align: right;\n",
       "    }\n",
       "</style>\n",
       "<table border=\"1\" class=\"dataframe\">\n",
       "  <thead>\n",
       "    <tr style=\"text-align: right;\">\n",
       "      <th></th>\n",
       "      <th>trackName</th>\n",
       "      <th>freq</th>\n",
       "    </tr>\n",
       "  </thead>\n",
       "  <tbody>\n",
       "    <tr>\n",
       "      <th>0</th>\n",
       "      <td>Sing To Me</td>\n",
       "      <td>3</td>\n",
       "    </tr>\n",
       "    <tr>\n",
       "      <th>1</th>\n",
       "      <td>All Alone</td>\n",
       "      <td>2</td>\n",
       "    </tr>\n",
       "    <tr>\n",
       "      <th>2</th>\n",
       "      <td>Dissin the Dead</td>\n",
       "      <td>2</td>\n",
       "    </tr>\n",
       "    <tr>\n",
       "      <th>3</th>\n",
       "      <td>The Scientist</td>\n",
       "      <td>2</td>\n",
       "    </tr>\n",
       "    <tr>\n",
       "      <th>4</th>\n",
       "      <td>As Long as You Love Me</td>\n",
       "      <td>2</td>\n",
       "    </tr>\n",
       "    <tr>\n",
       "      <th>5</th>\n",
       "      <td>Do Ya Wanna Taste It</td>\n",
       "      <td>2</td>\n",
       "    </tr>\n",
       "    <tr>\n",
       "      <th>6</th>\n",
       "      <td>Save Me (feat. Lil Durk)</td>\n",
       "      <td>2</td>\n",
       "    </tr>\n",
       "    <tr>\n",
       "      <th>7</th>\n",
       "      <td>Freefall</td>\n",
       "      <td>2</td>\n",
       "    </tr>\n",
       "    <tr>\n",
       "      <th>8</th>\n",
       "      <td>Real Talk</td>\n",
       "      <td>2</td>\n",
       "    </tr>\n",
       "    <tr>\n",
       "      <th>9</th>\n",
       "      <td>One Step Closer</td>\n",
       "      <td>2</td>\n",
       "    </tr>\n",
       "  </tbody>\n",
       "</table>\n",
       "</div>"
      ],
      "text/plain": [
       "                  trackName  freq\n",
       "0                Sing To Me     3\n",
       "1                 All Alone     2\n",
       "2           Dissin the Dead     2\n",
       "3             The Scientist     2\n",
       "4    As Long as You Love Me     2\n",
       "5      Do Ya Wanna Taste It     2\n",
       "6  Save Me (feat. Lil Durk)     2\n",
       "7                  Freefall     2\n",
       "8                 Real Talk     2\n",
       "9           One Step Closer     2"
      ]
     },
     "execution_count": 29,
     "metadata": {},
     "output_type": "execute_result"
    }
   ],
   "source": [
    "track = df_mins[df_mins['minsPlayed'] == df_mins['minsPlayed'].min()]['trackName'].value_counts().to_frame().reset_index()\n",
    "track.columns = ['trackName', 'freq']\n",
    "track[track['freq'] > 1]"
   ]
  },
  {
   "cell_type": "markdown",
   "id": "5512560c",
   "metadata": {},
   "source": [
    "The above are the repeated tracks."
   ]
  },
  {
   "cell_type": "markdown",
   "id": "bdd6f7ad",
   "metadata": {},
   "source": [
    "## Unique number of artists that I have listened to"
   ]
  },
  {
   "cell_type": "code",
   "execution_count": 30,
   "id": "7c3197c2",
   "metadata": {},
   "outputs": [
    {
     "data": {
      "text/plain": [
       "1338"
      ]
     },
     "execution_count": 30,
     "metadata": {},
     "output_type": "execute_result"
    }
   ],
   "source": [
    "df['artistName'].nunique()"
   ]
  },
  {
   "cell_type": "markdown",
   "id": "ef23aecf",
   "metadata": {},
   "source": [
    "## Unique number of songs that I have listened to"
   ]
  },
  {
   "cell_type": "code",
   "execution_count": 31,
   "id": "a8a8a02b",
   "metadata": {},
   "outputs": [
    {
     "data": {
      "text/plain": [
       "3209"
      ]
     },
     "execution_count": 31,
     "metadata": {},
     "output_type": "execute_result"
    }
   ],
   "source": [
    "df['trackName'].nunique()"
   ]
  },
  {
   "cell_type": "markdown",
   "id": "a077b518",
   "metadata": {},
   "source": [
    "## Top 20 most played artists"
   ]
  },
  {
   "cell_type": "code",
   "execution_count": 32,
   "id": "c5c34ddf",
   "metadata": {},
   "outputs": [
    {
     "data": {
      "text/html": [
       "<div>\n",
       "<style scoped>\n",
       "    .dataframe tbody tr th:only-of-type {\n",
       "        vertical-align: middle;\n",
       "    }\n",
       "\n",
       "    .dataframe tbody tr th {\n",
       "        vertical-align: top;\n",
       "    }\n",
       "\n",
       "    .dataframe thead th {\n",
       "        text-align: right;\n",
       "    }\n",
       "</style>\n",
       "<table border=\"1\" class=\"dataframe\">\n",
       "  <thead>\n",
       "    <tr style=\"text-align: right;\">\n",
       "      <th></th>\n",
       "      <th>artistName</th>\n",
       "      <th>msPlayed</th>\n",
       "    </tr>\n",
       "  </thead>\n",
       "  <tbody>\n",
       "    <tr>\n",
       "      <th>239</th>\n",
       "      <td>Coldplay</td>\n",
       "      <td>387</td>\n",
       "    </tr>\n",
       "    <tr>\n",
       "      <th>424</th>\n",
       "      <td>Green Day</td>\n",
       "      <td>192</td>\n",
       "    </tr>\n",
       "    <tr>\n",
       "      <th>1221</th>\n",
       "      <td>Vance Joy</td>\n",
       "      <td>191</td>\n",
       "    </tr>\n",
       "    <tr>\n",
       "      <th>531</th>\n",
       "      <td>Jason Mraz</td>\n",
       "      <td>188</td>\n",
       "    </tr>\n",
       "    <tr>\n",
       "      <th>649</th>\n",
       "      <td>Linkin Park</td>\n",
       "      <td>124</td>\n",
       "    </tr>\n",
       "    <tr>\n",
       "      <th>1258</th>\n",
       "      <td>With Confidence</td>\n",
       "      <td>121</td>\n",
       "    </tr>\n",
       "    <tr>\n",
       "      <th>325</th>\n",
       "      <td>Ed Sheeran</td>\n",
       "      <td>115</td>\n",
       "    </tr>\n",
       "    <tr>\n",
       "      <th>989</th>\n",
       "      <td>Simple Plan</td>\n",
       "      <td>112</td>\n",
       "    </tr>\n",
       "    <tr>\n",
       "      <th>1080</th>\n",
       "      <td>The All-American Rejects</td>\n",
       "      <td>110</td>\n",
       "    </tr>\n",
       "    <tr>\n",
       "      <th>472</th>\n",
       "      <td>Hollow Coves</td>\n",
       "      <td>108</td>\n",
       "    </tr>\n",
       "    <tr>\n",
       "      <th>1005</th>\n",
       "      <td>Slipknot</td>\n",
       "      <td>108</td>\n",
       "    </tr>\n",
       "    <tr>\n",
       "      <th>792</th>\n",
       "      <td>Nirvana</td>\n",
       "      <td>99</td>\n",
       "    </tr>\n",
       "    <tr>\n",
       "      <th>533</th>\n",
       "      <td>Jay Chou</td>\n",
       "      <td>98</td>\n",
       "    </tr>\n",
       "    <tr>\n",
       "      <th>721</th>\n",
       "      <td>Mayday Parade</td>\n",
       "      <td>95</td>\n",
       "    </tr>\n",
       "    <tr>\n",
       "      <th>1161</th>\n",
       "      <td>The Weeknd</td>\n",
       "      <td>78</td>\n",
       "    </tr>\n",
       "    <tr>\n",
       "      <th>1243</th>\n",
       "      <td>Weezer</td>\n",
       "      <td>77</td>\n",
       "    </tr>\n",
       "    <tr>\n",
       "      <th>482</th>\n",
       "      <td>Howie Day</td>\n",
       "      <td>76</td>\n",
       "    </tr>\n",
       "    <tr>\n",
       "      <th>173</th>\n",
       "      <td>Boyce Avenue</td>\n",
       "      <td>76</td>\n",
       "    </tr>\n",
       "    <tr>\n",
       "      <th>1295</th>\n",
       "      <td>blink-182</td>\n",
       "      <td>73</td>\n",
       "    </tr>\n",
       "    <tr>\n",
       "      <th>1056</th>\n",
       "      <td>Swedish House Mafia</td>\n",
       "      <td>72</td>\n",
       "    </tr>\n",
       "  </tbody>\n",
       "</table>\n",
       "</div>"
      ],
      "text/plain": [
       "                    artistName  msPlayed\n",
       "239                   Coldplay       387\n",
       "424                  Green Day       192\n",
       "1221                 Vance Joy       191\n",
       "531                 Jason Mraz       188\n",
       "649                Linkin Park       124\n",
       "1258           With Confidence       121\n",
       "325                 Ed Sheeran       115\n",
       "989                Simple Plan       112\n",
       "1080  The All-American Rejects       110\n",
       "472               Hollow Coves       108\n",
       "1005                  Slipknot       108\n",
       "792                    Nirvana        99\n",
       "533                   Jay Chou        98\n",
       "721              Mayday Parade        95\n",
       "1161                The Weeknd        78\n",
       "1243                    Weezer        77\n",
       "482                  Howie Day        76\n",
       "173               Boyce Avenue        76\n",
       "1295                 blink-182        73\n",
       "1056       Swedish House Mafia        72"
      ]
     },
     "execution_count": 32,
     "metadata": {},
     "output_type": "execute_result"
    }
   ],
   "source": [
    "df.groupby('artistName').count().reset_index()[['artistName', 'msPlayed']].sort_values(by='msPlayed', ascending=False).head(20)"
   ]
  },
  {
   "cell_type": "markdown",
   "id": "06ecc4de",
   "metadata": {},
   "source": [
    "## Top 20 most played songs"
   ]
  },
  {
   "cell_type": "code",
   "execution_count": 33,
   "id": "27668150",
   "metadata": {},
   "outputs": [
    {
     "data": {
      "text/html": [
       "<div>\n",
       "<style scoped>\n",
       "    .dataframe tbody tr th:only-of-type {\n",
       "        vertical-align: middle;\n",
       "    }\n",
       "\n",
       "    .dataframe tbody tr th {\n",
       "        vertical-align: top;\n",
       "    }\n",
       "\n",
       "    .dataframe thead th {\n",
       "        text-align: right;\n",
       "    }\n",
       "</style>\n",
       "<table border=\"1\" class=\"dataframe\">\n",
       "  <thead>\n",
       "    <tr style=\"text-align: right;\">\n",
       "      <th></th>\n",
       "      <th>trackName</th>\n",
       "      <th>msPlayed</th>\n",
       "    </tr>\n",
       "  </thead>\n",
       "  <tbody>\n",
       "    <tr>\n",
       "      <th>548</th>\n",
       "      <td>Collide - Acoustic Version</td>\n",
       "      <td>66</td>\n",
       "    </tr>\n",
       "    <tr>\n",
       "      <th>796</th>\n",
       "      <td>Everyday Life</td>\n",
       "      <td>60</td>\n",
       "    </tr>\n",
       "    <tr>\n",
       "      <th>1690</th>\n",
       "      <td>Move Along</td>\n",
       "      <td>53</td>\n",
       "    </tr>\n",
       "    <tr>\n",
       "      <th>1682</th>\n",
       "      <td>Moth To A Flame (with The Weeknd)</td>\n",
       "      <td>48</td>\n",
       "    </tr>\n",
       "    <tr>\n",
       "      <th>2468</th>\n",
       "      <td>The Climb</td>\n",
       "      <td>46</td>\n",
       "    </tr>\n",
       "    <tr>\n",
       "      <th>2933</th>\n",
       "      <td>You Can't Kill My Rock 'n Roll</td>\n",
       "      <td>42</td>\n",
       "    </tr>\n",
       "    <tr>\n",
       "      <th>2913</th>\n",
       "      <td>Yellow</td>\n",
       "      <td>36</td>\n",
       "    </tr>\n",
       "    <tr>\n",
       "      <th>2151</th>\n",
       "      <td>Shape of My Heart</td>\n",
       "      <td>36</td>\n",
       "    </tr>\n",
       "    <tr>\n",
       "      <th>766</th>\n",
       "      <td>Enter Sandman</td>\n",
       "      <td>36</td>\n",
       "    </tr>\n",
       "    <tr>\n",
       "      <th>1240</th>\n",
       "      <td>I'm Yours</td>\n",
       "      <td>36</td>\n",
       "    </tr>\n",
       "    <tr>\n",
       "      <th>2448</th>\n",
       "      <td>The Antidote</td>\n",
       "      <td>34</td>\n",
       "    </tr>\n",
       "    <tr>\n",
       "      <th>754</th>\n",
       "      <td>Emmylou</td>\n",
       "      <td>31</td>\n",
       "    </tr>\n",
       "    <tr>\n",
       "      <th>1658</th>\n",
       "      <td>Missing Piece</td>\n",
       "      <td>30</td>\n",
       "    </tr>\n",
       "    <tr>\n",
       "      <th>2224</th>\n",
       "      <td>Smells Like Teen Spirit</td>\n",
       "      <td>30</td>\n",
       "    </tr>\n",
       "    <tr>\n",
       "      <th>2388</th>\n",
       "      <td>Sweet Child O' Mine</td>\n",
       "      <td>30</td>\n",
       "    </tr>\n",
       "    <tr>\n",
       "      <th>1795</th>\n",
       "      <td>Ocean Avenue</td>\n",
       "      <td>29</td>\n",
       "    </tr>\n",
       "    <tr>\n",
       "      <th>481</th>\n",
       "      <td>Champion Of The World</td>\n",
       "      <td>28</td>\n",
       "    </tr>\n",
       "    <tr>\n",
       "      <th>2517</th>\n",
       "      <td>The Middle</td>\n",
       "      <td>28</td>\n",
       "    </tr>\n",
       "    <tr>\n",
       "      <th>680</th>\n",
       "      <td>Do Ya Wanna Taste It</td>\n",
       "      <td>28</td>\n",
       "    </tr>\n",
       "    <tr>\n",
       "      <th>1217</th>\n",
       "      <td>I Won't Give Up</td>\n",
       "      <td>28</td>\n",
       "    </tr>\n",
       "  </tbody>\n",
       "</table>\n",
       "</div>"
      ],
      "text/plain": [
       "                              trackName  msPlayed\n",
       "548          Collide - Acoustic Version        66\n",
       "796                       Everyday Life        60\n",
       "1690                         Move Along        53\n",
       "1682  Moth To A Flame (with The Weeknd)        48\n",
       "2468                          The Climb        46\n",
       "2933     You Can't Kill My Rock 'n Roll        42\n",
       "2913                             Yellow        36\n",
       "2151                  Shape of My Heart        36\n",
       "766                       Enter Sandman        36\n",
       "1240                          I'm Yours        36\n",
       "2448                       The Antidote        34\n",
       "754                             Emmylou        31\n",
       "1658                      Missing Piece        30\n",
       "2224            Smells Like Teen Spirit        30\n",
       "2388                Sweet Child O' Mine        30\n",
       "1795                       Ocean Avenue        29\n",
       "481               Champion Of The World        28\n",
       "2517                         The Middle        28\n",
       "680                Do Ya Wanna Taste It        28\n",
       "1217                    I Won't Give Up        28"
      ]
     },
     "execution_count": 33,
     "metadata": {},
     "output_type": "execute_result"
    }
   ],
   "source": [
    "df.groupby('trackName').count().reset_index()[['trackName', 'msPlayed']].sort_values(by='msPlayed', ascending=False).head(20)"
   ]
  },
  {
   "cell_type": "markdown",
   "id": "e4a3a925",
   "metadata": {},
   "source": [
    "## Top 5 most played songs each month (dense rank)"
   ]
  },
  {
   "cell_type": "code",
   "execution_count": 34,
   "id": "d6d024a1",
   "metadata": {},
   "outputs": [
    {
     "data": {
      "text/html": [
       "<div>\n",
       "<style scoped>\n",
       "    .dataframe tbody tr th:only-of-type {\n",
       "        vertical-align: middle;\n",
       "    }\n",
       "\n",
       "    .dataframe tbody tr th {\n",
       "        vertical-align: top;\n",
       "    }\n",
       "\n",
       "    .dataframe thead th {\n",
       "        text-align: right;\n",
       "    }\n",
       "</style>\n",
       "<table border=\"1\" class=\"dataframe\">\n",
       "  <thead>\n",
       "    <tr style=\"text-align: right;\">\n",
       "      <th></th>\n",
       "      <th>trackName</th>\n",
       "      <th>month</th>\n",
       "      <th>msPlayed</th>\n",
       "    </tr>\n",
       "  </thead>\n",
       "  <tbody>\n",
       "    <tr>\n",
       "      <th>9</th>\n",
       "      <td>1, 2, 3, 4</td>\n",
       "      <td>1</td>\n",
       "      <td>2</td>\n",
       "    </tr>\n",
       "    <tr>\n",
       "      <th>10</th>\n",
       "      <td>1, 2, 3, 4</td>\n",
       "      <td>4</td>\n",
       "      <td>2</td>\n",
       "    </tr>\n",
       "    <tr>\n",
       "      <th>15</th>\n",
       "      <td>100 Strangers</td>\n",
       "      <td>9</td>\n",
       "      <td>2</td>\n",
       "    </tr>\n",
       "    <tr>\n",
       "      <th>18</th>\n",
       "      <td>100 Years</td>\n",
       "      <td>5</td>\n",
       "      <td>2</td>\n",
       "    </tr>\n",
       "    <tr>\n",
       "      <th>22</th>\n",
       "      <td>100 Years</td>\n",
       "      <td>11</td>\n",
       "      <td>2</td>\n",
       "    </tr>\n",
       "    <tr>\n",
       "      <th>...</th>\n",
       "      <td>...</td>\n",
       "      <td>...</td>\n",
       "      <td>...</td>\n",
       "    </tr>\n",
       "    <tr>\n",
       "      <th>5324</th>\n",
       "      <td>聽見下雨的聲音</td>\n",
       "      <td>5</td>\n",
       "      <td>2</td>\n",
       "    </tr>\n",
       "    <tr>\n",
       "      <th>5328</th>\n",
       "      <td>記得</td>\n",
       "      <td>1</td>\n",
       "      <td>2</td>\n",
       "    </tr>\n",
       "    <tr>\n",
       "      <th>5331</th>\n",
       "      <td>說好的幸福呢</td>\n",
       "      <td>3</td>\n",
       "      <td>2</td>\n",
       "    </tr>\n",
       "    <tr>\n",
       "      <th>5337</th>\n",
       "      <td>開不了口</td>\n",
       "      <td>3</td>\n",
       "      <td>2</td>\n",
       "    </tr>\n",
       "    <tr>\n",
       "      <th>5345</th>\n",
       "      <td>아쉬운 마음인걸</td>\n",
       "      <td>7</td>\n",
       "      <td>2</td>\n",
       "    </tr>\n",
       "  </tbody>\n",
       "</table>\n",
       "<p>1690 rows × 3 columns</p>\n",
       "</div>"
      ],
      "text/plain": [
       "          trackName  month  msPlayed\n",
       "9        1, 2, 3, 4      1         2\n",
       "10       1, 2, 3, 4      4         2\n",
       "15    100 Strangers      9         2\n",
       "18        100 Years      5         2\n",
       "22        100 Years     11         2\n",
       "...             ...    ...       ...\n",
       "5324        聽見下雨的聲音      5         2\n",
       "5328             記得      1         2\n",
       "5331         說好的幸福呢      3         2\n",
       "5337           開不了口      3         2\n",
       "5345       아쉬운 마음인걸      7         2\n",
       "\n",
       "[1690 rows x 3 columns]"
      ]
     },
     "execution_count": 34,
     "metadata": {},
     "output_type": "execute_result"
    }
   ],
   "source": [
    "df1 = df.groupby(['trackName','month']).count().reset_index()[['trackName', 'month', 'msPlayed']]\n",
    "df1[df1['msPlayed'] > 1]"
   ]
  },
  {
   "cell_type": "code",
   "execution_count": 35,
   "id": "116c3521",
   "metadata": {},
   "outputs": [],
   "source": [
    "df1['rank'] = df1.groupby('month')['msPlayed'].rank(method='dense', ascending=False).astype(int)"
   ]
  },
  {
   "cell_type": "code",
   "execution_count": 36,
   "id": "1441910f",
   "metadata": {},
   "outputs": [
    {
     "name": "stdout",
     "output_type": "stream",
     "text": [
      "<class 'pandas.core.frame.DataFrame'>\n",
      "Int64Index: 122 entries, 3594 to 626\n",
      "Data columns (total 4 columns):\n",
      " #   Column     Non-Null Count  Dtype \n",
      "---  ------     --------------  ----- \n",
      " 0   trackName  122 non-null    object\n",
      " 1   month      122 non-null    int64 \n",
      " 2   msPlayed   122 non-null    int64 \n",
      " 3   rank       122 non-null    int32 \n",
      "dtypes: int32(1), int64(2), object(1)\n",
      "memory usage: 4.3+ KB\n"
     ]
    }
   ],
   "source": [
    "df2 = df1[df1['rank'] < 6].sort_values(['month', 'rank'])\n",
    "df2.info()"
   ]
  },
  {
   "cell_type": "code",
   "execution_count": 37,
   "id": "7db4358f",
   "metadata": {},
   "outputs": [
    {
     "data": {
      "text/plain": [
       "98"
      ]
     },
     "execution_count": 37,
     "metadata": {},
     "output_type": "execute_result"
    }
   ],
   "source": [
    "df2['trackName'].nunique()"
   ]
  },
  {
   "cell_type": "markdown",
   "id": "4b26c7c3",
   "metadata": {},
   "source": [
    "### Insight: Out of 122 data records in df2, there are only 98 unique songs recorded. This means that there are repeated songs in the top 5 songs monthly leaderboard."
   ]
  },
  {
   "cell_type": "markdown",
   "id": "a103e99b",
   "metadata": {},
   "source": [
    "## Repeated songs in the top 5 songs monthly leaderboard"
   ]
  },
  {
   "cell_type": "markdown",
   "id": "bf7458c5",
   "metadata": {},
   "source": [
    "These are the songs that appeared in the top 5 ranking for more than one month."
   ]
  },
  {
   "cell_type": "code",
   "execution_count": 38,
   "id": "d953c393",
   "metadata": {},
   "outputs": [],
   "source": [
    "df3 = df2['trackName'].value_counts().reset_index()\n",
    "df4 = df3[df3['trackName'] > 1]"
   ]
  },
  {
   "cell_type": "markdown",
   "id": "ae1e7384",
   "metadata": {},
   "source": [
    "## Using music genre finder on the internet to identify the song genre (manual method)"
   ]
  },
  {
   "cell_type": "code",
   "execution_count": 39,
   "id": "544a4763",
   "metadata": {},
   "outputs": [
    {
     "data": {
      "text/html": [
       "<div>\n",
       "<style scoped>\n",
       "    .dataframe tbody tr th:only-of-type {\n",
       "        vertical-align: middle;\n",
       "    }\n",
       "\n",
       "    .dataframe tbody tr th {\n",
       "        vertical-align: top;\n",
       "    }\n",
       "\n",
       "    .dataframe thead th {\n",
       "        text-align: right;\n",
       "    }\n",
       "</style>\n",
       "<table border=\"1\" class=\"dataframe\">\n",
       "  <thead>\n",
       "    <tr style=\"text-align: right;\">\n",
       "      <th></th>\n",
       "      <th>genre</th>\n",
       "    </tr>\n",
       "  </thead>\n",
       "  <tbody>\n",
       "    <tr>\n",
       "      <th>0</th>\n",
       "      <td>pop</td>\n",
       "    </tr>\n",
       "    <tr>\n",
       "      <th>1</th>\n",
       "      <td>acoustic pop</td>\n",
       "    </tr>\n",
       "    <tr>\n",
       "      <th>2</th>\n",
       "      <td>alternative rock</td>\n",
       "    </tr>\n",
       "    <tr>\n",
       "      <th>3</th>\n",
       "      <td>acoustic pop</td>\n",
       "    </tr>\n",
       "    <tr>\n",
       "      <th>4</th>\n",
       "      <td>dance pop</td>\n",
       "    </tr>\n",
       "    <tr>\n",
       "      <th>5</th>\n",
       "      <td>rock</td>\n",
       "    </tr>\n",
       "    <tr>\n",
       "      <th>6</th>\n",
       "      <td>folk pop</td>\n",
       "    </tr>\n",
       "    <tr>\n",
       "      <th>7</th>\n",
       "      <td>pop</td>\n",
       "    </tr>\n",
       "    <tr>\n",
       "      <th>8</th>\n",
       "      <td>pop rock</td>\n",
       "    </tr>\n",
       "    <tr>\n",
       "      <th>9</th>\n",
       "      <td>rock</td>\n",
       "    </tr>\n",
       "    <tr>\n",
       "      <th>10</th>\n",
       "      <td>rock</td>\n",
       "    </tr>\n",
       "    <tr>\n",
       "      <th>11</th>\n",
       "      <td>pop punk</td>\n",
       "    </tr>\n",
       "    <tr>\n",
       "      <th>12</th>\n",
       "      <td>metal</td>\n",
       "    </tr>\n",
       "    <tr>\n",
       "      <th>13</th>\n",
       "      <td>pop</td>\n",
       "    </tr>\n",
       "    <tr>\n",
       "      <th>14</th>\n",
       "      <td>acoustic pop</td>\n",
       "    </tr>\n",
       "    <tr>\n",
       "      <th>15</th>\n",
       "      <td>edm</td>\n",
       "    </tr>\n",
       "    <tr>\n",
       "      <th>16</th>\n",
       "      <td>j-rock</td>\n",
       "    </tr>\n",
       "  </tbody>\n",
       "</table>\n",
       "</div>"
      ],
      "text/plain": [
       "               genre\n",
       "0                pop\n",
       "1       acoustic pop\n",
       "2   alternative rock\n",
       "3       acoustic pop\n",
       "4          dance pop\n",
       "5               rock\n",
       "6           folk pop\n",
       "7                pop\n",
       "8           pop rock\n",
       "9               rock\n",
       "10              rock\n",
       "11          pop punk\n",
       "12             metal\n",
       "13               pop\n",
       "14      acoustic pop\n",
       "15               edm\n",
       "16            j-rock"
      ]
     },
     "execution_count": 39,
     "metadata": {},
     "output_type": "execute_result"
    }
   ],
   "source": [
    "genre = ['pop', 'acoustic pop', 'alternative rock', 'acoustic pop', 'dance pop', 'rock', 'folk pop', 'pop', 'pop rock', 'rock', 'rock', 'pop punk', 'metal', 'pop', 'acoustic pop', 'edm', 'j-rock']\n",
    "genre_df = pd.DataFrame({'genre':genre})\n",
    "genre_df"
   ]
  },
  {
   "cell_type": "markdown",
   "id": "bc6b5f93",
   "metadata": {},
   "source": [
    "Merge genre_df with df4 to match the repeated songs with their respective genre"
   ]
  },
  {
   "cell_type": "code",
   "execution_count": 40,
   "id": "76dd6733",
   "metadata": {},
   "outputs": [
    {
     "name": "stderr",
     "output_type": "stream",
     "text": [
      "C:\\Users\\pclee\\AppData\\Local\\Temp/ipykernel_11748/1237936460.py:1: SettingWithCopyWarning: \n",
      "A value is trying to be set on a copy of a slice from a DataFrame.\n",
      "Try using .loc[row_indexer,col_indexer] = value instead\n",
      "\n",
      "See the caveats in the documentation: https://pandas.pydata.org/pandas-docs/stable/user_guide/indexing.html#returning-a-view-versus-a-copy\n",
      "  df4['genre'] = genre_df['genre']\n"
     ]
    },
    {
     "data": {
      "text/html": [
       "<div>\n",
       "<style scoped>\n",
       "    .dataframe tbody tr th:only-of-type {\n",
       "        vertical-align: middle;\n",
       "    }\n",
       "\n",
       "    .dataframe tbody tr th {\n",
       "        vertical-align: top;\n",
       "    }\n",
       "\n",
       "    .dataframe thead th {\n",
       "        text-align: right;\n",
       "    }\n",
       "</style>\n",
       "<table border=\"1\" class=\"dataframe\">\n",
       "  <thead>\n",
       "    <tr style=\"text-align: right;\">\n",
       "      <th></th>\n",
       "      <th>index</th>\n",
       "      <th>trackName</th>\n",
       "      <th>genre</th>\n",
       "    </tr>\n",
       "  </thead>\n",
       "  <tbody>\n",
       "    <tr>\n",
       "      <th>0</th>\n",
       "      <td>Everyday Life</td>\n",
       "      <td>5</td>\n",
       "      <td>pop</td>\n",
       "    </tr>\n",
       "    <tr>\n",
       "      <th>1</th>\n",
       "      <td>Collide - Acoustic Version</td>\n",
       "      <td>4</td>\n",
       "      <td>acoustic pop</td>\n",
       "    </tr>\n",
       "    <tr>\n",
       "      <th>2</th>\n",
       "      <td>You Can't Kill My Rock 'n Roll</td>\n",
       "      <td>3</td>\n",
       "      <td>alternative rock</td>\n",
       "    </tr>\n",
       "    <tr>\n",
       "      <th>3</th>\n",
       "      <td>I'm Yours</td>\n",
       "      <td>3</td>\n",
       "      <td>acoustic pop</td>\n",
       "    </tr>\n",
       "    <tr>\n",
       "      <th>4</th>\n",
       "      <td>Shape of My Heart</td>\n",
       "      <td>2</td>\n",
       "      <td>dance pop</td>\n",
       "    </tr>\n",
       "    <tr>\n",
       "      <th>5</th>\n",
       "      <td>Livin' On A Prayer</td>\n",
       "      <td>2</td>\n",
       "      <td>rock</td>\n",
       "    </tr>\n",
       "    <tr>\n",
       "      <th>6</th>\n",
       "      <td>Missing Piece</td>\n",
       "      <td>2</td>\n",
       "      <td>folk pop</td>\n",
       "    </tr>\n",
       "    <tr>\n",
       "      <th>7</th>\n",
       "      <td>Yellow</td>\n",
       "      <td>2</td>\n",
       "      <td>pop</td>\n",
       "    </tr>\n",
       "    <tr>\n",
       "      <th>8</th>\n",
       "      <td>Monsoon</td>\n",
       "      <td>2</td>\n",
       "      <td>pop rock</td>\n",
       "    </tr>\n",
       "    <tr>\n",
       "      <th>9</th>\n",
       "      <td>Sweet Child O' Mine</td>\n",
       "      <td>2</td>\n",
       "      <td>rock</td>\n",
       "    </tr>\n",
       "    <tr>\n",
       "      <th>10</th>\n",
       "      <td>Hysteria</td>\n",
       "      <td>2</td>\n",
       "      <td>rock</td>\n",
       "    </tr>\n",
       "    <tr>\n",
       "      <th>11</th>\n",
       "      <td>Move Along</td>\n",
       "      <td>2</td>\n",
       "      <td>pop punk</td>\n",
       "    </tr>\n",
       "    <tr>\n",
       "      <th>12</th>\n",
       "      <td>Enter Sandman</td>\n",
       "      <td>2</td>\n",
       "      <td>metal</td>\n",
       "    </tr>\n",
       "    <tr>\n",
       "      <th>13</th>\n",
       "      <td>Beautiful Soul</td>\n",
       "      <td>2</td>\n",
       "      <td>pop</td>\n",
       "    </tr>\n",
       "    <tr>\n",
       "      <th>14</th>\n",
       "      <td>I Won't Give Up</td>\n",
       "      <td>2</td>\n",
       "      <td>acoustic pop</td>\n",
       "    </tr>\n",
       "    <tr>\n",
       "      <th>15</th>\n",
       "      <td>Moth To A Flame (with The Weeknd)</td>\n",
       "      <td>2</td>\n",
       "      <td>edm</td>\n",
       "    </tr>\n",
       "    <tr>\n",
       "      <th>16</th>\n",
       "      <td>Choose me</td>\n",
       "      <td>2</td>\n",
       "      <td>j-rock</td>\n",
       "    </tr>\n",
       "  </tbody>\n",
       "</table>\n",
       "</div>"
      ],
      "text/plain": [
       "                                index  trackName             genre\n",
       "0                       Everyday Life          5               pop\n",
       "1          Collide - Acoustic Version          4      acoustic pop\n",
       "2      You Can't Kill My Rock 'n Roll          3  alternative rock\n",
       "3                           I'm Yours          3      acoustic pop\n",
       "4                   Shape of My Heart          2         dance pop\n",
       "5                  Livin' On A Prayer          2              rock\n",
       "6                       Missing Piece          2          folk pop\n",
       "7                              Yellow          2               pop\n",
       "8                             Monsoon          2          pop rock\n",
       "9                 Sweet Child O' Mine          2              rock\n",
       "10                           Hysteria          2              rock\n",
       "11                         Move Along          2          pop punk\n",
       "12                      Enter Sandman          2             metal\n",
       "13                     Beautiful Soul          2               pop\n",
       "14                    I Won't Give Up          2      acoustic pop\n",
       "15  Moth To A Flame (with The Weeknd)          2               edm\n",
       "16                          Choose me          2            j-rock"
      ]
     },
     "execution_count": 40,
     "metadata": {},
     "output_type": "execute_result"
    }
   ],
   "source": [
    "df4['genre'] = genre_df['genre']\n",
    "df4"
   ]
  },
  {
   "cell_type": "code",
   "execution_count": 41,
   "id": "11cfaef3",
   "metadata": {},
   "outputs": [
    {
     "data": {
      "text/plain": [
       "pop                 3\n",
       "acoustic pop        3\n",
       "rock                3\n",
       "alternative rock    1\n",
       "dance pop           1\n",
       "folk pop            1\n",
       "pop rock            1\n",
       "pop punk            1\n",
       "metal               1\n",
       "edm                 1\n",
       "j-rock              1\n",
       "Name: genre, dtype: int64"
      ]
     },
     "execution_count": 41,
     "metadata": {},
     "output_type": "execute_result"
    }
   ],
   "source": [
    "df4['genre'].value_counts()"
   ]
  },
  {
   "cell_type": "markdown",
   "id": "8392d7c6",
   "metadata": {},
   "source": [
    "### Insight: It appears that amongst the repeated songs that are ranked within top 5 monthly, most belongs to the pop genre. Alongside, rock is also a common genre."
   ]
  },
  {
   "cell_type": "markdown",
   "id": "5d44eba7",
   "metadata": {},
   "source": [
    "## Repeated artists in the top 20 songs leaderboard"
   ]
  },
  {
   "cell_type": "markdown",
   "id": "c48ad169",
   "metadata": {},
   "source": [
    "These are the artists whose songs are played very frequently."
   ]
  },
  {
   "cell_type": "code",
   "execution_count": 42,
   "id": "39c9a2a6",
   "metadata": {},
   "outputs": [
    {
     "data": {
      "text/plain": [
       "Coldplay                    3\n",
       "Jason Mraz                  2\n",
       "Vance Joy                   2\n",
       "Howie Day                   1\n",
       "The All-American Rejects    1\n",
       "Swedish House Mafia         1\n",
       "Miley Cyrus                 1\n",
       "Hardcore Superstar          1\n",
       "Metallica                   1\n",
       "Backstreet Boys             1\n",
       "Simple Plan                 1\n",
       "Guns N' Roses               1\n",
       "Yellowcard                  1\n",
       "Wig Wam                     1\n",
       "BAND-MAID                   1\n",
       "Nirvana                     1\n",
       "Name: artistName, dtype: int64"
      ]
     },
     "execution_count": 42,
     "metadata": {},
     "output_type": "execute_result"
    }
   ],
   "source": [
    "df5 = df.groupby(['artistName', 'trackName']).count().reset_index()[['artistName', 'trackName', 'msPlayed']].sort_values(by='msPlayed', ascending=False).head(20)\n",
    "df5['artistName'].value_counts()"
   ]
  },
  {
   "cell_type": "markdown",
   "id": "b02eba8d",
   "metadata": {},
   "source": [
    "# Part 2: Questioning"
   ]
  },
  {
   "cell_type": "markdown",
   "id": "68cfe589",
   "metadata": {},
   "source": [
    "## Which months am I most active on Spotify?"
   ]
  },
  {
   "cell_type": "code",
   "execution_count": 43,
   "id": "5fe101f5",
   "metadata": {},
   "outputs": [
    {
     "data": {
      "text/plain": [
       "month\n",
       "12    169976260\n",
       "4     165815756\n",
       "9     148887948\n",
       "7     139105123\n",
       "1     128184863\n",
       "6     120408785\n",
       "3     114452002\n",
       "10    107451535\n",
       "5     102574251\n",
       "8      97680004\n",
       "2      74541756\n",
       "11     53158664\n",
       "Name: msPlayed, dtype: int64"
      ]
     },
     "execution_count": 43,
     "metadata": {},
     "output_type": "execute_result"
    }
   ],
   "source": [
    "df.groupby('month').sum()['msPlayed'].sort_values(ascending=False)"
   ]
  },
  {
   "cell_type": "markdown",
   "id": "2b758ede",
   "metadata": {},
   "source": [
    "### Insight: Activity is particularly low in Nov 2021. This may be related to the busy period of my new job when there were lots of meetings, and I was also trying to adapt to my new job."
   ]
  },
  {
   "cell_type": "markdown",
   "id": "b36b3e69",
   "metadata": {},
   "source": [
    "## Which days am I most active on Spotify?"
   ]
  },
  {
   "cell_type": "code",
   "execution_count": 44,
   "id": "3d038063",
   "metadata": {
    "scrolled": false
   },
   "outputs": [
    {
     "data": {
      "text/html": [
       "<style type=\"text/css\">\n",
       "#T_c2ea4_row0_col0, #T_c2ea4_row4_col1, #T_c2ea4_row12_col2 {\n",
       "  background-color: #f3f0ee;\n",
       "  color: #000000;\n",
       "}\n",
       "#T_c2ea4_row0_col1 {\n",
       "  background-color: #f7d8a1;\n",
       "  color: #000000;\n",
       "}\n",
       "#T_c2ea4_row0_col2, #T_c2ea4_row14_col0 {\n",
       "  background-color: #f9cd7f;\n",
       "  color: #000000;\n",
       "}\n",
       "#T_c2ea4_row1_col0, #T_c2ea4_row25_col2 {\n",
       "  background-color: #f3eee7;\n",
       "  color: #000000;\n",
       "}\n",
       "#T_c2ea4_row1_col1 {\n",
       "  background-color: #fbbf53;\n",
       "  color: #000000;\n",
       "}\n",
       "#T_c2ea4_row1_col2, #T_c2ea4_row6_col0 {\n",
       "  background-color: #f5e1bf;\n",
       "  color: #000000;\n",
       "}\n",
       "#T_c2ea4_row2_col0, #T_c2ea4_row26_col2 {\n",
       "  background-color: #f4ebdf;\n",
       "  color: #000000;\n",
       "}\n",
       "#T_c2ea4_row2_col1, #T_c2ea4_row10_col1 {\n",
       "  background-color: #f6dfb9;\n",
       "  color: #000000;\n",
       "}\n",
       "#T_c2ea4_row2_col2, #T_c2ea4_row19_col0 {\n",
       "  background-color: #fbc057;\n",
       "  color: #000000;\n",
       "}\n",
       "#T_c2ea4_row3_col0, #T_c2ea4_row29_col2 {\n",
       "  background-color: #f4e9d7;\n",
       "  color: #000000;\n",
       "}\n",
       "#T_c2ea4_row3_col1 {\n",
       "  background-color: #fac25e;\n",
       "  color: #000000;\n",
       "}\n",
       "#T_c2ea4_row3_col2, #T_c2ea4_row8_col0, #T_c2ea4_row13_col1 {\n",
       "  background-color: #f6dcaf;\n",
       "  color: #000000;\n",
       "}\n",
       "#T_c2ea4_row4_col0, #T_c2ea4_row21_col2 {\n",
       "  background-color: #f4e6cf;\n",
       "  color: #000000;\n",
       "}\n",
       "#T_c2ea4_row4_col2, #T_c2ea4_row12_col1, #T_c2ea4_row30_col0 {\n",
       "  background-color: #ffa500;\n",
       "  color: #000000;\n",
       "}\n",
       "#T_c2ea4_row5_col0, #T_c2ea4_row19_col2 {\n",
       "  background-color: #f5e4c7;\n",
       "  color: #000000;\n",
       "}\n",
       "#T_c2ea4_row5_col1 {\n",
       "  background-color: #f8d391;\n",
       "  color: #000000;\n",
       "}\n",
       "#T_c2ea4_row5_col2, #T_c2ea4_row12_col0 {\n",
       "  background-color: #f8d28f;\n",
       "  color: #000000;\n",
       "}\n",
       "#T_c2ea4_row6_col1, #T_c2ea4_row8_col1 {\n",
       "  background-color: #f5e3c3;\n",
       "  color: #000000;\n",
       "}\n",
       "#T_c2ea4_row6_col2, #T_c2ea4_row25_col0 {\n",
       "  background-color: #fdb127;\n",
       "  color: #000000;\n",
       "}\n",
       "#T_c2ea4_row7_col0, #T_c2ea4_row27_col2 {\n",
       "  background-color: #f6dfb7;\n",
       "  color: #000000;\n",
       "}\n",
       "#T_c2ea4_row7_col1, #T_c2ea4_row20_col1, #T_c2ea4_row24_col1 {\n",
       "  background-color: #f6daa8;\n",
       "  color: #000000;\n",
       "}\n",
       "#T_c2ea4_row7_col2, #T_c2ea4_row17_col0, #T_c2ea4_row28_col1 {\n",
       "  background-color: #fac567;\n",
       "  color: #000000;\n",
       "}\n",
       "#T_c2ea4_row8_col2, #T_c2ea4_row26_col0 {\n",
       "  background-color: #fdaf20;\n",
       "  color: #000000;\n",
       "}\n",
       "#T_c2ea4_row9_col0, #T_c2ea4_row28_col2 {\n",
       "  background-color: #f6daa7;\n",
       "  color: #000000;\n",
       "}\n",
       "#T_c2ea4_row9_col1 {\n",
       "  background-color: #f9cc7b;\n",
       "  color: #000000;\n",
       "}\n",
       "#T_c2ea4_row9_col2, #T_c2ea4_row11_col0 {\n",
       "  background-color: #f7d597;\n",
       "  color: #000000;\n",
       "}\n",
       "#T_c2ea4_row10_col0, #T_c2ea4_row22_col2 {\n",
       "  background-color: #f7d79f;\n",
       "  color: #000000;\n",
       "}\n",
       "#T_c2ea4_row10_col2, #T_c2ea4_row20_col0 {\n",
       "  background-color: #fbbe4f;\n",
       "  color: #000000;\n",
       "}\n",
       "#T_c2ea4_row11_col1 {\n",
       "  background-color: #f4e8d5;\n",
       "  color: #000000;\n",
       "}\n",
       "#T_c2ea4_row11_col2, #T_c2ea4_row28_col0 {\n",
       "  background-color: #feaa10;\n",
       "  color: #000000;\n",
       "}\n",
       "#T_c2ea4_row13_col0, #T_c2ea4_row30_col2 {\n",
       "  background-color: #f8d088;\n",
       "  color: #000000;\n",
       "}\n",
       "#T_c2ea4_row13_col2, #T_c2ea4_row18_col0 {\n",
       "  background-color: #fac35f;\n",
       "  color: #000000;\n",
       "}\n",
       "#T_c2ea4_row14_col1, #T_c2ea4_row16_col1 {\n",
       "  background-color: #f5e2c2;\n",
       "  color: #000000;\n",
       "}\n",
       "#T_c2ea4_row14_col2, #T_c2ea4_row24_col0 {\n",
       "  background-color: #fdb430;\n",
       "  color: #000000;\n",
       "}\n",
       "#T_c2ea4_row15_col0, #T_c2ea4_row20_col2 {\n",
       "  background-color: #f9ca77;\n",
       "  color: #000000;\n",
       "}\n",
       "#T_c2ea4_row15_col1 {\n",
       "  background-color: #f4e8d3;\n",
       "  color: #000000;\n",
       "}\n",
       "#T_c2ea4_row15_col2, #T_c2ea4_row27_col0 {\n",
       "  background-color: #feac17;\n",
       "  color: #000000;\n",
       "}\n",
       "#T_c2ea4_row16_col0, #T_c2ea4_row24_col2 {\n",
       "  background-color: #f9c86f;\n",
       "  color: #000000;\n",
       "}\n",
       "#T_c2ea4_row16_col2, #T_c2ea4_row23_col0 {\n",
       "  background-color: #fcb637;\n",
       "  color: #000000;\n",
       "}\n",
       "#T_c2ea4_row17_col1 {\n",
       "  background-color: #f5e0bb;\n",
       "  color: #000000;\n",
       "}\n",
       "#T_c2ea4_row17_col2, #T_c2ea4_row21_col0, #T_c2ea4_row21_col1 {\n",
       "  background-color: #fbbb47;\n",
       "  color: #000000;\n",
       "}\n",
       "#T_c2ea4_row18_col1 {\n",
       "  background-color: #f3eee9;\n",
       "  color: #000000;\n",
       "}\n",
       "#T_c2ea4_row18_col2, #T_c2ea4_row29_col0 {\n",
       "  background-color: #ffa707;\n",
       "  color: #000000;\n",
       "}\n",
       "#T_c2ea4_row19_col1 {\n",
       "  background-color: #fbbe50;\n",
       "  color: #000000;\n",
       "}\n",
       "#T_c2ea4_row22_col0, #T_c2ea4_row23_col2 {\n",
       "  background-color: #fcb940;\n",
       "  color: #000000;\n",
       "}\n",
       "#T_c2ea4_row22_col1 {\n",
       "  background-color: #f9ca76;\n",
       "  color: #000000;\n",
       "}\n",
       "#T_c2ea4_row23_col1 {\n",
       "  background-color: #f5e1be;\n",
       "  color: #000000;\n",
       "}\n",
       "#T_c2ea4_row25_col1 {\n",
       "  background-color: #fdb024;\n",
       "  color: #000000;\n",
       "}\n",
       "#T_c2ea4_row26_col1 {\n",
       "  background-color: #fdb32c;\n",
       "  color: #000000;\n",
       "}\n",
       "#T_c2ea4_row27_col1 {\n",
       "  background-color: #fbc056;\n",
       "  color: #000000;\n",
       "}\n",
       "#T_c2ea4_row29_col1 {\n",
       "  background-color: #fcb738;\n",
       "  color: #000000;\n",
       "}\n",
       "#T_c2ea4_row30_col1 {\n",
       "  background-color: #f7d497;\n",
       "  color: #000000;\n",
       "}\n",
       "</style>\n",
       "<table id=\"T_c2ea4_\">\n",
       "  <thead>\n",
       "    <tr>\n",
       "      <th class=\"blank level0\" >&nbsp;</th>\n",
       "      <th class=\"col_heading level0 col0\" >day</th>\n",
       "      <th class=\"col_heading level0 col1\" >msPlayed</th>\n",
       "      <th class=\"col_heading level0 col2\" >rank</th>\n",
       "    </tr>\n",
       "  </thead>\n",
       "  <tbody>\n",
       "    <tr>\n",
       "      <th id=\"T_c2ea4_level0_row0\" class=\"row_heading level0 row0\" >0</th>\n",
       "      <td id=\"T_c2ea4_row0_col0\" class=\"data row0 col0\" >1</td>\n",
       "      <td id=\"T_c2ea4_row0_col1\" class=\"data row0 col1\" >42762469</td>\n",
       "      <td id=\"T_c2ea4_row0_col2\" class=\"data row0 col2\" >15</td>\n",
       "    </tr>\n",
       "    <tr>\n",
       "      <th id=\"T_c2ea4_level0_row1\" class=\"row_heading level0 row1\" >1</th>\n",
       "      <td id=\"T_c2ea4_row1_col0\" class=\"data row1 col0\" >2</td>\n",
       "      <td id=\"T_c2ea4_row1_col1\" class=\"data row1 col1\" >56837252</td>\n",
       "      <td id=\"T_c2ea4_row1_col2\" class=\"data row1 col2\" >7</td>\n",
       "    </tr>\n",
       "    <tr>\n",
       "      <th id=\"T_c2ea4_level0_row2\" class=\"row_heading level0 row2\" >2</th>\n",
       "      <td id=\"T_c2ea4_row2_col0\" class=\"data row2 col0\" >3</td>\n",
       "      <td id=\"T_c2ea4_row2_col1\" class=\"data row2 col1\" >38399232</td>\n",
       "      <td id=\"T_c2ea4_row2_col2\" class=\"data row2 col2\" >20</td>\n",
       "    </tr>\n",
       "    <tr>\n",
       "      <th id=\"T_c2ea4_level0_row3\" class=\"row_heading level0 row3\" >3</th>\n",
       "      <td id=\"T_c2ea4_row3_col0\" class=\"data row3 col0\" >4</td>\n",
       "      <td id=\"T_c2ea4_row3_col1\" class=\"data row3 col1\" >55009714</td>\n",
       "      <td id=\"T_c2ea4_row3_col2\" class=\"data row3 col2\" >9</td>\n",
       "    </tr>\n",
       "    <tr>\n",
       "      <th id=\"T_c2ea4_level0_row4\" class=\"row_heading level0 row4\" >4</th>\n",
       "      <td id=\"T_c2ea4_row4_col0\" class=\"data row4 col0\" >5</td>\n",
       "      <td id=\"T_c2ea4_row4_col1\" class=\"data row4 col1\" >28625714</td>\n",
       "      <td id=\"T_c2ea4_row4_col2\" class=\"data row4 col2\" >31</td>\n",
       "    </tr>\n",
       "    <tr>\n",
       "      <th id=\"T_c2ea4_level0_row5\" class=\"row_heading level0 row5\" >5</th>\n",
       "      <td id=\"T_c2ea4_row5_col0\" class=\"data row5 col0\" >6</td>\n",
       "      <td id=\"T_c2ea4_row5_col1\" class=\"data row5 col1\" >45637993</td>\n",
       "      <td id=\"T_c2ea4_row5_col2\" class=\"data row5 col2\" >13</td>\n",
       "    </tr>\n",
       "    <tr>\n",
       "      <th id=\"T_c2ea4_level0_row6\" class=\"row_heading level0 row6\" >6</th>\n",
       "      <td id=\"T_c2ea4_row6_col0\" class=\"data row6 col0\" >7</td>\n",
       "      <td id=\"T_c2ea4_row6_col1\" class=\"data row6 col1\" >36514798</td>\n",
       "      <td id=\"T_c2ea4_row6_col2\" class=\"data row6 col2\" >26</td>\n",
       "    </tr>\n",
       "    <tr>\n",
       "      <th id=\"T_c2ea4_level0_row7\" class=\"row_heading level0 row7\" >7</th>\n",
       "      <td id=\"T_c2ea4_row7_col0\" class=\"data row7 col0\" >8</td>\n",
       "      <td id=\"T_c2ea4_row7_col1\" class=\"data row7 col1\" >41346018</td>\n",
       "      <td id=\"T_c2ea4_row7_col2\" class=\"data row7 col2\" >18</td>\n",
       "    </tr>\n",
       "    <tr>\n",
       "      <th id=\"T_c2ea4_level0_row8\" class=\"row_heading level0 row8\" >8</th>\n",
       "      <td id=\"T_c2ea4_row8_col0\" class=\"data row8 col0\" >9</td>\n",
       "      <td id=\"T_c2ea4_row8_col1\" class=\"data row8 col1\" >36433954</td>\n",
       "      <td id=\"T_c2ea4_row8_col2\" class=\"data row8 col2\" >27</td>\n",
       "    </tr>\n",
       "    <tr>\n",
       "      <th id=\"T_c2ea4_level0_row9\" class=\"row_heading level0 row9\" >9</th>\n",
       "      <td id=\"T_c2ea4_row9_col0\" class=\"data row9 col0\" >10</td>\n",
       "      <td id=\"T_c2ea4_row9_col1\" class=\"data row9 col1\" >49562130</td>\n",
       "      <td id=\"T_c2ea4_row9_col2\" class=\"data row9 col2\" >12</td>\n",
       "    </tr>\n",
       "    <tr>\n",
       "      <th id=\"T_c2ea4_level0_row10\" class=\"row_heading level0 row10\" >10</th>\n",
       "      <td id=\"T_c2ea4_row10_col0\" class=\"data row10 col0\" >11</td>\n",
       "      <td id=\"T_c2ea4_row10_col1\" class=\"data row10 col1\" >38359611</td>\n",
       "      <td id=\"T_c2ea4_row10_col2\" class=\"data row10 col2\" >21</td>\n",
       "    </tr>\n",
       "    <tr>\n",
       "      <th id=\"T_c2ea4_level0_row11\" class=\"row_heading level0 row11\" >11</th>\n",
       "      <td id=\"T_c2ea4_row11_col0\" class=\"data row11 col0\" >12</td>\n",
       "      <td id=\"T_c2ea4_row11_col1\" class=\"data row11 col1\" >33331363</td>\n",
       "      <td id=\"T_c2ea4_row11_col2\" class=\"data row11 col2\" >29</td>\n",
       "    </tr>\n",
       "    <tr>\n",
       "      <th id=\"T_c2ea4_level0_row12\" class=\"row_heading level0 row12\" >12</th>\n",
       "      <td id=\"T_c2ea4_row12_col0\" class=\"data row12 col0\" >13</td>\n",
       "      <td id=\"T_c2ea4_row12_col1\" class=\"data row12 col1\" >71937822</td>\n",
       "      <td id=\"T_c2ea4_row12_col2\" class=\"data row12 col2\" >1</td>\n",
       "    </tr>\n",
       "    <tr>\n",
       "      <th id=\"T_c2ea4_level0_row13\" class=\"row_heading level0 row13\" >13</th>\n",
       "      <td id=\"T_c2ea4_row13_col0\" class=\"data row13 col0\" >14</td>\n",
       "      <td id=\"T_c2ea4_row13_col1\" class=\"data row13 col1\" >40285664</td>\n",
       "      <td id=\"T_c2ea4_row13_col2\" class=\"data row13 col2\" >19</td>\n",
       "    </tr>\n",
       "    <tr>\n",
       "      <th id=\"T_c2ea4_level0_row14\" class=\"row_heading level0 row14\" >14</th>\n",
       "      <td id=\"T_c2ea4_row14_col0\" class=\"data row14 col0\" >15</td>\n",
       "      <td id=\"T_c2ea4_row14_col1\" class=\"data row14 col1\" >36608485</td>\n",
       "      <td id=\"T_c2ea4_row14_col2\" class=\"data row14 col2\" >25</td>\n",
       "    </tr>\n",
       "    <tr>\n",
       "      <th id=\"T_c2ea4_level0_row15\" class=\"row_heading level0 row15\" >15</th>\n",
       "      <td id=\"T_c2ea4_row15_col0\" class=\"data row15 col0\" >16</td>\n",
       "      <td id=\"T_c2ea4_row15_col1\" class=\"data row15 col1\" >33623010</td>\n",
       "      <td id=\"T_c2ea4_row15_col2\" class=\"data row15 col2\" >28</td>\n",
       "    </tr>\n",
       "    <tr>\n",
       "      <th id=\"T_c2ea4_level0_row16\" class=\"row_heading level0 row16\" >16</th>\n",
       "      <td id=\"T_c2ea4_row16_col0\" class=\"data row16 col0\" >17</td>\n",
       "      <td id=\"T_c2ea4_row16_col1\" class=\"data row16 col1\" >36684518</td>\n",
       "      <td id=\"T_c2ea4_row16_col2\" class=\"data row16 col2\" >24</td>\n",
       "    </tr>\n",
       "    <tr>\n",
       "      <th id=\"T_c2ea4_level0_row17\" class=\"row_heading level0 row17\" >17</th>\n",
       "      <td id=\"T_c2ea4_row17_col0\" class=\"data row17 col0\" >18</td>\n",
       "      <td id=\"T_c2ea4_row17_col1\" class=\"data row17 col1\" >38052843</td>\n",
       "      <td id=\"T_c2ea4_row17_col2\" class=\"data row17 col2\" >22</td>\n",
       "    </tr>\n",
       "    <tr>\n",
       "      <th id=\"T_c2ea4_level0_row18\" class=\"row_heading level0 row18\" >18</th>\n",
       "      <td id=\"T_c2ea4_row18_col0\" class=\"data row18 col0\" >19</td>\n",
       "      <td id=\"T_c2ea4_row18_col1\" class=\"data row18 col1\" >29726874</td>\n",
       "      <td id=\"T_c2ea4_row18_col2\" class=\"data row18 col2\" >30</td>\n",
       "    </tr>\n",
       "    <tr>\n",
       "      <th id=\"T_c2ea4_level0_row19\" class=\"row_heading level0 row19\" >19</th>\n",
       "      <td id=\"T_c2ea4_row19_col0\" class=\"data row19 col0\" >20</td>\n",
       "      <td id=\"T_c2ea4_row19_col1\" class=\"data row19 col1\" >57363834</td>\n",
       "      <td id=\"T_c2ea4_row19_col2\" class=\"data row19 col2\" >6</td>\n",
       "    </tr>\n",
       "    <tr>\n",
       "      <th id=\"T_c2ea4_level0_row20\" class=\"row_heading level0 row20\" >20</th>\n",
       "      <td id=\"T_c2ea4_row20_col0\" class=\"data row20 col0\" >21</td>\n",
       "      <td id=\"T_c2ea4_row20_col1\" class=\"data row20 col1\" >41465907</td>\n",
       "      <td id=\"T_c2ea4_row20_col2\" class=\"data row20 col2\" >16</td>\n",
       "    </tr>\n",
       "    <tr>\n",
       "      <th id=\"T_c2ea4_level0_row21\" class=\"row_heading level0 row21\" >21</th>\n",
       "      <td id=\"T_c2ea4_row21_col0\" class=\"data row21 col0\" >22</td>\n",
       "      <td id=\"T_c2ea4_row21_col1\" class=\"data row21 col1\" >59054453</td>\n",
       "      <td id=\"T_c2ea4_row21_col2\" class=\"data row21 col2\" >5</td>\n",
       "    </tr>\n",
       "    <tr>\n",
       "      <th id=\"T_c2ea4_level0_row22\" class=\"row_heading level0 row22\" >22</th>\n",
       "      <td id=\"T_c2ea4_row22_col0\" class=\"data row22 col0\" >23</td>\n",
       "      <td id=\"T_c2ea4_row22_col1\" class=\"data row22 col1\" >50498445</td>\n",
       "      <td id=\"T_c2ea4_row22_col2\" class=\"data row22 col2\" >11</td>\n",
       "    </tr>\n",
       "    <tr>\n",
       "      <th id=\"T_c2ea4_level0_row23\" class=\"row_heading level0 row23\" >23</th>\n",
       "      <td id=\"T_c2ea4_row23_col0\" class=\"data row23 col0\" >24</td>\n",
       "      <td id=\"T_c2ea4_row23_col1\" class=\"data row23 col1\" >37483300</td>\n",
       "      <td id=\"T_c2ea4_row23_col2\" class=\"data row23 col2\" >23</td>\n",
       "    </tr>\n",
       "    <tr>\n",
       "      <th id=\"T_c2ea4_level0_row24\" class=\"row_heading level0 row24\" >24</th>\n",
       "      <td id=\"T_c2ea4_row24_col0\" class=\"data row24 col0\" >25</td>\n",
       "      <td id=\"T_c2ea4_row24_col1\" class=\"data row24 col1\" >41440059</td>\n",
       "      <td id=\"T_c2ea4_row24_col2\" class=\"data row24 col2\" >17</td>\n",
       "    </tr>\n",
       "    <tr>\n",
       "      <th id=\"T_c2ea4_level0_row25\" class=\"row_heading level0 row25\" >25</th>\n",
       "      <td id=\"T_c2ea4_row25_col0\" class=\"data row25 col0\" >26</td>\n",
       "      <td id=\"T_c2ea4_row25_col1\" class=\"data row25 col1\" >65469807</td>\n",
       "      <td id=\"T_c2ea4_row25_col2\" class=\"data row25 col2\" >2</td>\n",
       "    </tr>\n",
       "    <tr>\n",
       "      <th id=\"T_c2ea4_level0_row26\" class=\"row_heading level0 row26\" >26</th>\n",
       "      <td id=\"T_c2ea4_row26_col0\" class=\"data row26 col0\" >27</td>\n",
       "      <td id=\"T_c2ea4_row26_col1\" class=\"data row26 col1\" >63838230</td>\n",
       "      <td id=\"T_c2ea4_row26_col2\" class=\"data row26 col2\" >3</td>\n",
       "    </tr>\n",
       "    <tr>\n",
       "      <th id=\"T_c2ea4_level0_row27\" class=\"row_heading level0 row27\" >27</th>\n",
       "      <td id=\"T_c2ea4_row27_col0\" class=\"data row27 col0\" >28</td>\n",
       "      <td id=\"T_c2ea4_row27_col1\" class=\"data row27 col1\" >56273246</td>\n",
       "      <td id=\"T_c2ea4_row27_col2\" class=\"data row27 col2\" >8</td>\n",
       "    </tr>\n",
       "    <tr>\n",
       "      <th id=\"T_c2ea4_level0_row28\" class=\"row_heading level0 row28\" >28</th>\n",
       "      <td id=\"T_c2ea4_row28_col0\" class=\"data row28 col0\" >29</td>\n",
       "      <td id=\"T_c2ea4_row28_col1\" class=\"data row28 col1\" >53276990</td>\n",
       "      <td id=\"T_c2ea4_row28_col2\" class=\"data row28 col2\" >10</td>\n",
       "    </tr>\n",
       "    <tr>\n",
       "      <th id=\"T_c2ea4_level0_row29\" class=\"row_heading level0 row29\" >29</th>\n",
       "      <td id=\"T_c2ea4_row29_col0\" class=\"data row29 col0\" >30</td>\n",
       "      <td id=\"T_c2ea4_row29_col1\" class=\"data row29 col1\" >61714966</td>\n",
       "      <td id=\"T_c2ea4_row29_col2\" class=\"data row29 col2\" >4</td>\n",
       "    </tr>\n",
       "    <tr>\n",
       "      <th id=\"T_c2ea4_level0_row30\" class=\"row_heading level0 row30\" >30</th>\n",
       "      <td id=\"T_c2ea4_row30_col0\" class=\"data row30 col0\" >31</td>\n",
       "      <td id=\"T_c2ea4_row30_col1\" class=\"data row30 col1\" >44618246</td>\n",
       "      <td id=\"T_c2ea4_row30_col2\" class=\"data row30 col2\" >14</td>\n",
       "    </tr>\n",
       "  </tbody>\n",
       "</table>\n"
      ],
      "text/plain": [
       "<pandas.io.formats.style.Styler at 0x2624903c8b0>"
      ]
     },
     "execution_count": 44,
     "metadata": {},
     "output_type": "execute_result"
    }
   ],
   "source": [
    "df6 = df.groupby('day').sum()['msPlayed'].reset_index()\n",
    "df6['rank'] = df6['msPlayed'].rank(method='dense', ascending=False).astype(int)\n",
    "np.abs(df6).style.background_gradient(sns.light_palette(\"orange\", as_cmap=True))"
   ]
  },
  {
   "cell_type": "code",
   "execution_count": 45,
   "id": "e84ca85b",
   "metadata": {},
   "outputs": [
    {
     "data": {
      "text/plain": [
       "<matplotlib.lines.Line2D at 0x2624913b550>"
      ]
     },
     "execution_count": 45,
     "metadata": {},
     "output_type": "execute_result"
    },
    {
     "data": {
      "image/png": "[encoded data removed]",
      "text/plain": [
       "<Figure size 864x432 with 1 Axes>"
      ]
     },
     "metadata": {
      "needs_background": "light"
     },
     "output_type": "display_data"
    }
   ],
   "source": [
    "plt.figure(figsize=(12,6))\n",
    "sns.lineplot(x='day', y='msPlayed', data=df6, marker='o')\n",
    "plt.axvline(x=15, c='red')\n",
    "plt.axhline(y=df6['msPlayed'].mean(), c='red')"
   ]
  },
  {
   "cell_type": "code",
   "execution_count": 46,
   "id": "00e76793",
   "metadata": {},
   "outputs": [
    {
     "data": {
      "text/plain": [
       "<AxesSubplot:ylabel='msPlayed'>"
      ]
     },
     "execution_count": 46,
     "metadata": {},
     "output_type": "execute_result"
    },
    {
     "data": {
      "image/png": "[encoded data removed]",
      "text/plain": [
       "<Figure size 432x288 with 1 Axes>"
      ]
     },
     "metadata": {
      "needs_background": "light"
     },
     "output_type": "display_data"
    }
   ],
   "source": [
    "sns.boxplot(data=df6, y='msPlayed')"
   ]
  },
  {
   "cell_type": "markdown",
   "id": "5f4ce292",
   "metadata": {},
   "source": [
    "### Insights: There are more peaks in the second half of the month than first half. This suggests that I was more active on Spotify in the second half of the month. I was particularly active on Spotify on 13th than other days within the one year period. The activity time peaked on 13th but is not an outlier."
   ]
  },
  {
   "cell_type": "markdown",
   "id": "e4d3b45c",
   "metadata": {},
   "source": [
    "## Finding out whether all the 13th of the twelve months have equal activity time or whether one month dominates the trend (aka outlier)"
   ]
  },
  {
   "cell_type": "code",
   "execution_count": 47,
   "id": "2858ed04",
   "metadata": {},
   "outputs": [
    {
     "data": {
      "text/html": [
       "<style type=\"text/css\">\n",
       "#T_8cbde_row0_col0, #T_8cbde_row0_col1, #T_8cbde_row1_col1, #T_8cbde_row1_col2, #T_8cbde_row2_col1, #T_8cbde_row3_col1, #T_8cbde_row4_col1, #T_8cbde_row5_col1, #T_8cbde_row6_col1, #T_8cbde_row7_col1, #T_8cbde_row8_col1, #T_8cbde_row9_col1, #T_8cbde_row10_col1, #T_8cbde_row11_col1 {\n",
       "  background-color: #f3f0ee;\n",
       "  color: #000000;\n",
       "}\n",
       "#T_8cbde_row0_col2 {\n",
       "  background-color: #fbbf53;\n",
       "  color: #000000;\n",
       "}\n",
       "#T_8cbde_row1_col0, #T_8cbde_row7_col2 {\n",
       "  background-color: #f4e9d9;\n",
       "  color: #000000;\n",
       "}\n",
       "#T_8cbde_row2_col0 {\n",
       "  background-color: #f5e3c3;\n",
       "  color: #000000;\n",
       "}\n",
       "#T_8cbde_row2_col2 {\n",
       "  background-color: #f6ddb2;\n",
       "  color: #000000;\n",
       "}\n",
       "#T_8cbde_row3_col0 {\n",
       "  background-color: #f6dcae;\n",
       "  color: #000000;\n",
       "}\n",
       "#T_8cbde_row3_col2, #T_8cbde_row5_col0 {\n",
       "  background-color: #f8ce82;\n",
       "  color: #000000;\n",
       "}\n",
       "#T_8cbde_row4_col0 {\n",
       "  background-color: #f7d597;\n",
       "  color: #000000;\n",
       "}\n",
       "#T_8cbde_row4_col2 {\n",
       "  background-color: #f9c971;\n",
       "  color: #000000;\n",
       "}\n",
       "#T_8cbde_row5_col2, #T_8cbde_row11_col0 {\n",
       "  background-color: #ffa500;\n",
       "  color: #000000;\n",
       "}\n",
       "#T_8cbde_row6_col0 {\n",
       "  background-color: #f9c76c;\n",
       "  color: #000000;\n",
       "}\n",
       "#T_8cbde_row6_col2 {\n",
       "  background-color: #f7d495;\n",
       "  color: #000000;\n",
       "}\n",
       "#T_8cbde_row7_col0 {\n",
       "  background-color: #fbc057;\n",
       "  color: #000000;\n",
       "}\n",
       "#T_8cbde_row8_col0 {\n",
       "  background-color: #fcb941;\n",
       "  color: #000000;\n",
       "}\n",
       "#T_8cbde_row8_col2 {\n",
       "  background-color: #f8cf86;\n",
       "  color: #000000;\n",
       "}\n",
       "#T_8cbde_row9_col0 {\n",
       "  background-color: #fdb32b;\n",
       "  color: #000000;\n",
       "}\n",
       "#T_8cbde_row9_col2 {\n",
       "  background-color: #f6ddb1;\n",
       "  color: #000000;\n",
       "}\n",
       "#T_8cbde_row10_col0 {\n",
       "  background-color: #feac16;\n",
       "  color: #000000;\n",
       "}\n",
       "#T_8cbde_row10_col2 {\n",
       "  background-color: #f3f0ed;\n",
       "  color: #000000;\n",
       "}\n",
       "#T_8cbde_row11_col2 {\n",
       "  background-color: #f7d9a4;\n",
       "  color: #000000;\n",
       "}\n",
       "</style>\n",
       "<table id=\"T_8cbde_\">\n",
       "  <thead>\n",
       "    <tr>\n",
       "      <th class=\"blank level0\" >&nbsp;</th>\n",
       "      <th class=\"col_heading level0 col0\" >month</th>\n",
       "      <th class=\"col_heading level0 col1\" >day</th>\n",
       "      <th class=\"col_heading level0 col2\" >msPlayed</th>\n",
       "    </tr>\n",
       "  </thead>\n",
       "  <tbody>\n",
       "    <tr>\n",
       "      <th id=\"T_8cbde_level0_row0\" class=\"row_heading level0 row0\" >11</th>\n",
       "      <td id=\"T_8cbde_row0_col0\" class=\"data row0 col0\" >1</td>\n",
       "      <td id=\"T_8cbde_row0_col1\" class=\"data row0 col1\" >13</td>\n",
       "      <td id=\"T_8cbde_row0_col2\" class=\"data row0 col2\" >10467136</td>\n",
       "    </tr>\n",
       "    <tr>\n",
       "      <th id=\"T_8cbde_level0_row1\" class=\"row_heading level0 row1\" >37</th>\n",
       "      <td id=\"T_8cbde_row1_col0\" class=\"data row1 col0\" >2</td>\n",
       "      <td id=\"T_8cbde_row1_col1\" class=\"data row1 col1\" >13</td>\n",
       "      <td id=\"T_8cbde_row1_col2\" class=\"data row1 col2\" >245356</td>\n",
       "    </tr>\n",
       "    <tr>\n",
       "      <th id=\"T_8cbde_level0_row2\" class=\"row_heading level0 row2\" >62</th>\n",
       "      <td id=\"T_8cbde_row2_col0\" class=\"data row2 col0\" >3</td>\n",
       "      <td id=\"T_8cbde_row2_col1\" class=\"data row2 col1\" >13</td>\n",
       "      <td id=\"T_8cbde_row2_col2\" class=\"data row2 col2\" >4287570</td>\n",
       "    </tr>\n",
       "    <tr>\n",
       "      <th id=\"T_8cbde_level0_row3\" class=\"row_heading level0 row3\" >90</th>\n",
       "      <td id=\"T_8cbde_row3_col0\" class=\"data row3 col0\" >4</td>\n",
       "      <td id=\"T_8cbde_row3_col1\" class=\"data row3 col1\" >13</td>\n",
       "      <td id=\"T_8cbde_row3_col2\" class=\"data row3 col2\" >7392072</td>\n",
       "    </tr>\n",
       "    <tr>\n",
       "      <th id=\"T_8cbde_level0_row4\" class=\"row_heading level0 row4\" >117</th>\n",
       "      <td id=\"T_8cbde_row4_col0\" class=\"data row4 col0\" >5</td>\n",
       "      <td id=\"T_8cbde_row4_col1\" class=\"data row4 col1\" >13</td>\n",
       "      <td id=\"T_8cbde_row4_col2\" class=\"data row4 col2\" >8540096</td>\n",
       "    </tr>\n",
       "    <tr>\n",
       "      <th id=\"T_8cbde_level0_row5\" class=\"row_heading level0 row5\" >145</th>\n",
       "      <td id=\"T_8cbde_row5_col0\" class=\"data row5 col0\" >6</td>\n",
       "      <td id=\"T_8cbde_row5_col1\" class=\"data row5 col1\" >13</td>\n",
       "      <td id=\"T_8cbde_row5_col2\" class=\"data row5 col2\" >15993341</td>\n",
       "    </tr>\n",
       "    <tr>\n",
       "      <th id=\"T_8cbde_level0_row6\" class=\"row_heading level0 row6\" >171</th>\n",
       "      <td id=\"T_8cbde_row6_col0\" class=\"data row6 col0\" >7</td>\n",
       "      <td id=\"T_8cbde_row6_col1\" class=\"data row6 col1\" >13</td>\n",
       "      <td id=\"T_8cbde_row6_col2\" class=\"data row6 col2\" >6179974</td>\n",
       "    </tr>\n",
       "    <tr>\n",
       "      <th id=\"T_8cbde_level0_row7\" class=\"row_heading level0 row7\" >201</th>\n",
       "      <td id=\"T_8cbde_row7_col0\" class=\"data row7 col0\" >8</td>\n",
       "      <td id=\"T_8cbde_row7_col1\" class=\"data row7 col1\" >13</td>\n",
       "      <td id=\"T_8cbde_row7_col2\" class=\"data row7 col2\" >1721433</td>\n",
       "    </tr>\n",
       "    <tr>\n",
       "      <th id=\"T_8cbde_level0_row8\" class=\"row_heading level0 row8\" >230</th>\n",
       "      <td id=\"T_8cbde_row8_col0\" class=\"data row8 col0\" >9</td>\n",
       "      <td id=\"T_8cbde_row8_col1\" class=\"data row8 col1\" >13</td>\n",
       "      <td id=\"T_8cbde_row8_col2\" class=\"data row8 col2\" >7173880</td>\n",
       "    </tr>\n",
       "    <tr>\n",
       "      <th id=\"T_8cbde_level0_row9\" class=\"row_heading level0 row9\" >260</th>\n",
       "      <td id=\"T_8cbde_row9_col0\" class=\"data row9 col0\" >10</td>\n",
       "      <td id=\"T_8cbde_row9_col1\" class=\"data row9 col1\" >13</td>\n",
       "      <td id=\"T_8cbde_row9_col2\" class=\"data row9 col2\" >4362082</td>\n",
       "    </tr>\n",
       "    <tr>\n",
       "      <th id=\"T_8cbde_level0_row10\" class=\"row_heading level0 row10\" >288</th>\n",
       "      <td id=\"T_8cbde_row10_col0\" class=\"data row10 col0\" >11</td>\n",
       "      <td id=\"T_8cbde_row10_col1\" class=\"data row10 col1\" >13</td>\n",
       "      <td id=\"T_8cbde_row10_col2\" class=\"data row10 col2\" >374939</td>\n",
       "    </tr>\n",
       "    <tr>\n",
       "      <th id=\"T_8cbde_level0_row11\" class=\"row_heading level0 row11\" >313</th>\n",
       "      <td id=\"T_8cbde_row11_col0\" class=\"data row11 col0\" >12</td>\n",
       "      <td id=\"T_8cbde_row11_col1\" class=\"data row11 col1\" >13</td>\n",
       "      <td id=\"T_8cbde_row11_col2\" class=\"data row11 col2\" >5199943</td>\n",
       "    </tr>\n",
       "  </tbody>\n",
       "</table>\n"
      ],
      "text/plain": [
       "<pandas.io.formats.style.Styler at 0x262491ffe20>"
      ]
     },
     "execution_count": 47,
     "metadata": {},
     "output_type": "execute_result"
    }
   ],
   "source": [
    "df7 = df.groupby(['month', 'day']).sum()['msPlayed'].reset_index()\n",
    "df7 = df7[df7['day'] == 13]\n",
    "np.abs(df7).style.background_gradient(sns.light_palette(\"orange\", as_cmap=True))"
   ]
  },
  {
   "cell_type": "code",
   "execution_count": 48,
   "id": "8dbef147",
   "metadata": {},
   "outputs": [
    {
     "data": {
      "text/plain": [
       "<matplotlib.lines.Line2D at 0x26249226610>"
      ]
     },
     "execution_count": 48,
     "metadata": {},
     "output_type": "execute_result"
    },
    {
     "data": {
      "image/png": "[encoded data removed]",
      "text/plain": [
       "<Figure size 864x432 with 1 Axes>"
      ]
     },
     "metadata": {
      "needs_background": "light"
     },
     "output_type": "display_data"
    }
   ],
   "source": [
    "plt.figure(figsize=(12,6))\n",
    "sns.lineplot(x='month', y='msPlayed', data=df7, marker='o')\n",
    "plt.axhline(y=df7['msPlayed'].mean(), c='red')\n",
    "plt.axhline(y=df7['msPlayed'].median(), c='green')"
   ]
  },
  {
   "cell_type": "code",
   "execution_count": 49,
   "id": "2df9df72",
   "metadata": {},
   "outputs": [
    {
     "data": {
      "text/plain": [
       "<AxesSubplot:ylabel='msPlayed'>"
      ]
     },
     "execution_count": 49,
     "metadata": {},
     "output_type": "execute_result"
    },
    {
     "data": {
      "image/png": "[encoded data removed]",
      "text/plain": [
       "<Figure size 432x288 with 1 Axes>"
      ]
     },
     "metadata": {
      "needs_background": "light"
     },
     "output_type": "display_data"
    }
   ],
   "source": [
    "sns.boxplot(data=df7, y='msPlayed')"
   ]
  },
  {
   "cell_type": "markdown",
   "id": "c4a7bd50",
   "metadata": {},
   "source": [
    "### Insight: Amongst all the 13th, June has recorded exceptionally high activity time. This peak / outlier might have contributed to the reason why 13th is the day with highest activity."
   ]
  },
  {
   "cell_type": "markdown",
   "id": "f122a218",
   "metadata": {},
   "source": [
    "## Which hour am I most active on Spotify?"
   ]
  },
  {
   "cell_type": "markdown",
   "id": "7677b589",
   "metadata": {},
   "source": [
    "As the time recorded is in UTC format (SG is 8 hours ahead) a conversion must be performed on the data."
   ]
  },
  {
   "cell_type": "code",
   "execution_count": 50,
   "id": "9f1b62c0",
   "metadata": {},
   "outputs": [
    {
     "data": {
      "text/html": [
       "<style type=\"text/css\">\n",
       "#T_d056e_row0_col0, #T_d056e_row2_col2, #T_d056e_row15_col1 {\n",
       "  background-color: #f3f0ee;\n",
       "  color: #000000;\n",
       "}\n",
       "#T_d056e_row0_col1 {\n",
       "  background-color: #fbbf51;\n",
       "  color: #000000;\n",
       "}\n",
       "#T_d056e_row0_col2 {\n",
       "  background-color: #f8d18c;\n",
       "  color: #000000;\n",
       "}\n",
       "#T_d056e_row1_col0 {\n",
       "  background-color: #f3ede4;\n",
       "  color: #000000;\n",
       "}\n",
       "#T_d056e_row1_col1 {\n",
       "  background-color: #feac16;\n",
       "  color: #000000;\n",
       "}\n",
       "#T_d056e_row1_col2 {\n",
       "  background-color: #f4e7d2;\n",
       "  color: #000000;\n",
       "}\n",
       "#T_d056e_row2_col0 {\n",
       "  background-color: #f4eada;\n",
       "  color: #000000;\n",
       "}\n",
       "#T_d056e_row2_col1, #T_d056e_row15_col2, #T_d056e_row17_col0 {\n",
       "  background-color: #ffa500;\n",
       "  color: #000000;\n",
       "}\n",
       "#T_d056e_row3_col0 {\n",
       "  background-color: #f4e6d0;\n",
       "  color: #000000;\n",
       "}\n",
       "#T_d056e_row3_col1 {\n",
       "  background-color: #fac15a;\n",
       "  color: #000000;\n",
       "}\n",
       "#T_d056e_row3_col2 {\n",
       "  background-color: #f9c870;\n",
       "  color: #000000;\n",
       "}\n",
       "#T_d056e_row4_col0 {\n",
       "  background-color: #f5e3c5;\n",
       "  color: #000000;\n",
       "}\n",
       "#T_d056e_row4_col1 {\n",
       "  background-color: #f9cc7b;\n",
       "  color: #000000;\n",
       "}\n",
       "#T_d056e_row4_col2 {\n",
       "  background-color: #fbc054;\n",
       "  color: #000000;\n",
       "}\n",
       "#T_d056e_row5_col0 {\n",
       "  background-color: #f5e0bb;\n",
       "  color: #000000;\n",
       "}\n",
       "#T_d056e_row5_col1 {\n",
       "  background-color: #fdb127;\n",
       "  color: #000000;\n",
       "}\n",
       "#T_d056e_row5_col2 {\n",
       "  background-color: #f6daa8;\n",
       "  color: #000000;\n",
       "}\n",
       "#T_d056e_row6_col0 {\n",
       "  background-color: #f6ddb1;\n",
       "  color: #000000;\n",
       "}\n",
       "#T_d056e_row6_col1 {\n",
       "  background-color: #fead1a;\n",
       "  color: #000000;\n",
       "}\n",
       "#T_d056e_row6_col2 {\n",
       "  background-color: #f5e3c4;\n",
       "  color: #000000;\n",
       "}\n",
       "#T_d056e_row7_col0 {\n",
       "  background-color: #f7d9a6;\n",
       "  color: #000000;\n",
       "}\n",
       "#T_d056e_row7_col1, #T_d056e_row14_col2 {\n",
       "  background-color: #feae1c;\n",
       "  color: #000000;\n",
       "}\n",
       "#T_d056e_row7_col2, #T_d056e_row13_col1 {\n",
       "  background-color: #f6deb6;\n",
       "  color: #000000;\n",
       "}\n",
       "#T_d056e_row8_col0 {\n",
       "  background-color: #f7d69b;\n",
       "  color: #000000;\n",
       "}\n",
       "#T_d056e_row8_col1 {\n",
       "  background-color: #fcba41;\n",
       "  color: #000000;\n",
       "}\n",
       "#T_d056e_row8_col2 {\n",
       "  background-color: #f7d69a;\n",
       "  color: #000000;\n",
       "}\n",
       "#T_d056e_row9_col0 {\n",
       "  background-color: #f8d391;\n",
       "  color: #000000;\n",
       "}\n",
       "#T_d056e_row9_col1 {\n",
       "  background-color: #f9c76d;\n",
       "  color: #000000;\n",
       "}\n",
       "#T_d056e_row9_col2 {\n",
       "  background-color: #fac462;\n",
       "  color: #000000;\n",
       "}\n",
       "#T_d056e_row10_col0 {\n",
       "  background-color: #f8cf87;\n",
       "  color: #000000;\n",
       "}\n",
       "#T_d056e_row10_col1, #T_d056e_row15_col0 {\n",
       "  background-color: #fbbf53;\n",
       "  color: #000000;\n",
       "}\n",
       "#T_d056e_row10_col2 {\n",
       "  background-color: #f9cd7e;\n",
       "  color: #000000;\n",
       "}\n",
       "#T_d056e_row11_col0 {\n",
       "  background-color: #f9cc7c;\n",
       "  color: #000000;\n",
       "}\n",
       "#T_d056e_row11_col1 {\n",
       "  background-color: #f7d79e;\n",
       "  color: #000000;\n",
       "}\n",
       "#T_d056e_row11_col2 {\n",
       "  background-color: #fcb738;\n",
       "  color: #000000;\n",
       "}\n",
       "#T_d056e_row12_col0 {\n",
       "  background-color: #f9c972;\n",
       "  color: #000000;\n",
       "}\n",
       "#T_d056e_row12_col1 {\n",
       "  background-color: #f8d290;\n",
       "  color: #000000;\n",
       "}\n",
       "#T_d056e_row12_col2 {\n",
       "  background-color: #fbbb46;\n",
       "  color: #000000;\n",
       "}\n",
       "#T_d056e_row13_col0 {\n",
       "  background-color: #fac668;\n",
       "  color: #000000;\n",
       "}\n",
       "#T_d056e_row13_col2 {\n",
       "  background-color: #fdb22a;\n",
       "  color: #000000;\n",
       "}\n",
       "#T_d056e_row14_col0 {\n",
       "  background-color: #fac25e;\n",
       "  color: #000000;\n",
       "}\n",
       "#T_d056e_row14_col1, #T_d056e_row16_col1 {\n",
       "  background-color: #f3ede3;\n",
       "  color: #000000;\n",
       "}\n",
       "#T_d056e_row16_col0 {\n",
       "  background-color: #fea80a;\n",
       "  color: #000000;\n",
       "}\n",
       "#T_d056e_row16_col2 {\n",
       "  background-color: #fea90e;\n",
       "  color: #000000;\n",
       "}\n",
       "#T_d056e_row17_col1 {\n",
       "  background-color: #ffa501;\n",
       "  color: #000000;\n",
       "}\n",
       "#T_d056e_row17_col2 {\n",
       "  background-color: #f4ece0;\n",
       "  color: #000000;\n",
       "}\n",
       "</style>\n",
       "<table id=\"T_d056e_\">\n",
       "  <thead>\n",
       "    <tr>\n",
       "      <th class=\"blank level0\" >&nbsp;</th>\n",
       "      <th class=\"col_heading level0 col0\" >hour</th>\n",
       "      <th class=\"col_heading level0 col1\" >msPlayed</th>\n",
       "      <th class=\"col_heading level0 col2\" >rank</th>\n",
       "    </tr>\n",
       "  </thead>\n",
       "  <tbody>\n",
       "    <tr>\n",
       "      <th id=\"T_d056e_level0_row0\" class=\"row_heading level0 row0\" >0</th>\n",
       "      <td id=\"T_d056e_row0_col0\" class=\"data row0 col0\" >8</td>\n",
       "      <td id=\"T_d056e_row0_col1\" class=\"data row0 col1\" >91192151</td>\n",
       "      <td id=\"T_d056e_row0_col2\" class=\"data row0 col2\" >8</td>\n",
       "    </tr>\n",
       "    <tr>\n",
       "      <th id=\"T_d056e_level0_row1\" class=\"row_heading level0 row1\" >1</th>\n",
       "      <td id=\"T_d056e_row1_col0\" class=\"data row1 col0\" >9</td>\n",
       "      <td id=\"T_d056e_row1_col1\" class=\"data row1 col1\" >125544450</td>\n",
       "      <td id=\"T_d056e_row1_col2\" class=\"data row1 col2\" >3</td>\n",
       "    </tr>\n",
       "    <tr>\n",
       "      <th id=\"T_d056e_level0_row2\" class=\"row_heading level0 row2\" >2</th>\n",
       "      <td id=\"T_d056e_row2_col0\" class=\"data row2 col0\" >10</td>\n",
       "      <td id=\"T_d056e_row2_col1\" class=\"data row2 col1\" >138148633</td>\n",
       "      <td id=\"T_d056e_row2_col2\" class=\"data row2 col2\" >1</td>\n",
       "    </tr>\n",
       "    <tr>\n",
       "      <th id=\"T_d056e_level0_row3\" class=\"row_heading level0 row3\" >3</th>\n",
       "      <td id=\"T_d056e_row3_col0\" class=\"data row3 col0\" >11</td>\n",
       "      <td id=\"T_d056e_row3_col1\" class=\"data row3 col1\" >86553499</td>\n",
       "      <td id=\"T_d056e_row3_col2\" class=\"data row3 col2\" >10</td>\n",
       "    </tr>\n",
       "    <tr>\n",
       "      <th id=\"T_d056e_level0_row4\" class=\"row_heading level0 row4\" >4</th>\n",
       "      <td id=\"T_d056e_row4_col0\" class=\"data row4 col0\" >12</td>\n",
       "      <td id=\"T_d056e_row4_col1\" class=\"data row4 col1\" >67056575</td>\n",
       "      <td id=\"T_d056e_row4_col2\" class=\"data row4 col2\" >12</td>\n",
       "    </tr>\n",
       "    <tr>\n",
       "      <th id=\"T_d056e_level0_row5\" class=\"row_heading level0 row5\" >5</th>\n",
       "      <td id=\"T_d056e_row5_col0\" class=\"data row5 col0\" >13</td>\n",
       "      <td id=\"T_d056e_row5_col1\" class=\"data row5 col1\" >115567887</td>\n",
       "      <td id=\"T_d056e_row5_col2\" class=\"data row5 col2\" >6</td>\n",
       "    </tr>\n",
       "    <tr>\n",
       "      <th id=\"T_d056e_level0_row6\" class=\"row_heading level0 row6\" >6</th>\n",
       "      <td id=\"T_d056e_row6_col0\" class=\"data row6 col0\" >14</td>\n",
       "      <td id=\"T_d056e_row6_col1\" class=\"data row6 col1\" >123027967</td>\n",
       "      <td id=\"T_d056e_row6_col2\" class=\"data row6 col2\" >4</td>\n",
       "    </tr>\n",
       "    <tr>\n",
       "      <th id=\"T_d056e_level0_row7\" class=\"row_heading level0 row7\" >7</th>\n",
       "      <td id=\"T_d056e_row7_col0\" class=\"data row7 col0\" >15</td>\n",
       "      <td id=\"T_d056e_row7_col1\" class=\"data row7 col1\" >121519836</td>\n",
       "      <td id=\"T_d056e_row7_col2\" class=\"data row7 col2\" >5</td>\n",
       "    </tr>\n",
       "    <tr>\n",
       "      <th id=\"T_d056e_level0_row8\" class=\"row_heading level0 row8\" >8</th>\n",
       "      <td id=\"T_d056e_row8_col0\" class=\"data row8 col0\" >16</td>\n",
       "      <td id=\"T_d056e_row8_col1\" class=\"data row8 col1\" >100397789</td>\n",
       "      <td id=\"T_d056e_row8_col2\" class=\"data row8 col2\" >7</td>\n",
       "    </tr>\n",
       "    <tr>\n",
       "      <th id=\"T_d056e_level0_row9\" class=\"row_heading level0 row9\" >9</th>\n",
       "      <td id=\"T_d056e_row9_col0\" class=\"data row9 col0\" >17</td>\n",
       "      <td id=\"T_d056e_row9_col1\" class=\"data row9 col1\" >74993042</td>\n",
       "      <td id=\"T_d056e_row9_col2\" class=\"data row9 col2\" >11</td>\n",
       "    </tr>\n",
       "    <tr>\n",
       "      <th id=\"T_d056e_level0_row10\" class=\"row_heading level0 row10\" >10</th>\n",
       "      <td id=\"T_d056e_row10_col0\" class=\"data row10 col0\" >18</td>\n",
       "      <td id=\"T_d056e_row10_col1\" class=\"data row10 col1\" >89860244</td>\n",
       "      <td id=\"T_d056e_row10_col2\" class=\"data row10 col2\" >9</td>\n",
       "    </tr>\n",
       "    <tr>\n",
       "      <th id=\"T_d056e_level0_row11\" class=\"row_heading level0 row11\" >11</th>\n",
       "      <td id=\"T_d056e_row11_col0\" class=\"data row11 col0\" >19</td>\n",
       "      <td id=\"T_d056e_row11_col1\" class=\"data row11 col1\" >46916043</td>\n",
       "      <td id=\"T_d056e_row11_col2\" class=\"data row11 col2\" >14</td>\n",
       "    </tr>\n",
       "    <tr>\n",
       "      <th id=\"T_d056e_level0_row12\" class=\"row_heading level0 row12\" >12</th>\n",
       "      <td id=\"T_d056e_row12_col0\" class=\"data row12 col0\" >20</td>\n",
       "      <td id=\"T_d056e_row12_col1\" class=\"data row12 col1\" >55066014</td>\n",
       "      <td id=\"T_d056e_row12_col2\" class=\"data row12 col2\" >13</td>\n",
       "    </tr>\n",
       "    <tr>\n",
       "      <th id=\"T_d056e_level0_row13\" class=\"row_heading level0 row13\" >13</th>\n",
       "      <td id=\"T_d056e_row13_col0\" class=\"data row13 col0\" >21</td>\n",
       "      <td id=\"T_d056e_row13_col1\" class=\"data row13 col1\" >33402803</td>\n",
       "      <td id=\"T_d056e_row13_col2\" class=\"data row13 col2\" >15</td>\n",
       "    </tr>\n",
       "    <tr>\n",
       "      <th id=\"T_d056e_level0_row14\" class=\"row_heading level0 row14\" >14</th>\n",
       "      <td id=\"T_d056e_row14_col0\" class=\"data row14 col0\" >22</td>\n",
       "      <td id=\"T_d056e_row14_col1\" class=\"data row14 col1\" >7575507</td>\n",
       "      <td id=\"T_d056e_row14_col2\" class=\"data row14 col2\" >16</td>\n",
       "    </tr>\n",
       "    <tr>\n",
       "      <th id=\"T_d056e_level0_row15\" class=\"row_heading level0 row15\" >15</th>\n",
       "      <td id=\"T_d056e_row15_col0\" class=\"data row15 col0\" >23</td>\n",
       "      <td id=\"T_d056e_row15_col1\" class=\"data row15 col1\" >713820</td>\n",
       "      <td id=\"T_d056e_row15_col2\" class=\"data row15 col2\" >18</td>\n",
       "    </tr>\n",
       "    <tr>\n",
       "      <th id=\"T_d056e_level0_row16\" class=\"row_heading level0 row16\" >16</th>\n",
       "      <td id=\"T_d056e_row16_col0\" class=\"data row16 col0\" >30</td>\n",
       "      <td id=\"T_d056e_row16_col1\" class=\"data row16 col1\" >7496802</td>\n",
       "      <td id=\"T_d056e_row16_col2\" class=\"data row16 col2\" >17</td>\n",
       "    </tr>\n",
       "    <tr>\n",
       "      <th id=\"T_d056e_level0_row17\" class=\"row_heading level0 row17\" >17</th>\n",
       "      <td id=\"T_d056e_row17_col0\" class=\"data row17 col0\" >31</td>\n",
       "      <td id=\"T_d056e_row17_col1\" class=\"data row17 col1\" >137203885</td>\n",
       "      <td id=\"T_d056e_row17_col2\" class=\"data row17 col2\" >2</td>\n",
       "    </tr>\n",
       "  </tbody>\n",
       "</table>\n"
      ],
      "text/plain": [
       "<pandas.io.formats.style.Styler at 0x26249293e20>"
      ]
     },
     "execution_count": 50,
     "metadata": {},
     "output_type": "execute_result"
    }
   ],
   "source": [
    "df8 = df.groupby('hour').sum()['msPlayed'].reset_index()\n",
    "df8['rank'] = df8['msPlayed'].rank(method='dense', ascending=False).astype(int)\n",
    "df8['hour'] = df8['hour'] + 8\n",
    "np.abs(df8).style.background_gradient(sns.light_palette(\"orange\", as_cmap=True))"
   ]
  },
  {
   "cell_type": "code",
   "execution_count": 51,
   "id": "25103c97",
   "metadata": {},
   "outputs": [],
   "source": [
    "df8['hour'].replace(30, (30-24), inplace=True)\n",
    "df8['hour'].replace(31, (31-24), inplace=True)"
   ]
  },
  {
   "cell_type": "code",
   "execution_count": 52,
   "id": "b66ed54b",
   "metadata": {},
   "outputs": [
    {
     "data": {
      "text/html": [
       "<style type=\"text/css\">\n",
       "#T_94a9e_row0_col0, #T_94a9e_row1_col2 {\n",
       "  background-color: #f4e7d2;\n",
       "  color: #000000;\n",
       "}\n",
       "#T_94a9e_row0_col1 {\n",
       "  background-color: #fbbf51;\n",
       "  color: #000000;\n",
       "}\n",
       "#T_94a9e_row0_col2, #T_94a9e_row5_col0 {\n",
       "  background-color: #f8d18c;\n",
       "  color: #000000;\n",
       "}\n",
       "#T_94a9e_row1_col0, #T_94a9e_row6_col2 {\n",
       "  background-color: #f5e3c4;\n",
       "  color: #000000;\n",
       "}\n",
       "#T_94a9e_row1_col1 {\n",
       "  background-color: #feac16;\n",
       "  color: #000000;\n",
       "}\n",
       "#T_94a9e_row2_col0, #T_94a9e_row7_col2, #T_94a9e_row13_col1 {\n",
       "  background-color: #f6deb6;\n",
       "  color: #000000;\n",
       "}\n",
       "#T_94a9e_row2_col1, #T_94a9e_row15_col0, #T_94a9e_row15_col2 {\n",
       "  background-color: #ffa500;\n",
       "  color: #000000;\n",
       "}\n",
       "#T_94a9e_row2_col2, #T_94a9e_row15_col1, #T_94a9e_row16_col0 {\n",
       "  background-color: #f3f0ee;\n",
       "  color: #000000;\n",
       "}\n",
       "#T_94a9e_row3_col0, #T_94a9e_row5_col2 {\n",
       "  background-color: #f6daa8;\n",
       "  color: #000000;\n",
       "}\n",
       "#T_94a9e_row3_col1 {\n",
       "  background-color: #fac15a;\n",
       "  color: #000000;\n",
       "}\n",
       "#T_94a9e_row3_col2, #T_94a9e_row7_col0 {\n",
       "  background-color: #f9c870;\n",
       "  color: #000000;\n",
       "}\n",
       "#T_94a9e_row4_col0, #T_94a9e_row8_col2 {\n",
       "  background-color: #f7d69a;\n",
       "  color: #000000;\n",
       "}\n",
       "#T_94a9e_row4_col1 {\n",
       "  background-color: #f9cc7b;\n",
       "  color: #000000;\n",
       "}\n",
       "#T_94a9e_row4_col2, #T_94a9e_row9_col0 {\n",
       "  background-color: #fbc054;\n",
       "  color: #000000;\n",
       "}\n",
       "#T_94a9e_row5_col1 {\n",
       "  background-color: #fdb127;\n",
       "  color: #000000;\n",
       "}\n",
       "#T_94a9e_row6_col0, #T_94a9e_row10_col2 {\n",
       "  background-color: #f9cd7e;\n",
       "  color: #000000;\n",
       "}\n",
       "#T_94a9e_row6_col1 {\n",
       "  background-color: #fead1a;\n",
       "  color: #000000;\n",
       "}\n",
       "#T_94a9e_row7_col1, #T_94a9e_row13_col0, #T_94a9e_row14_col2 {\n",
       "  background-color: #feae1c;\n",
       "  color: #000000;\n",
       "}\n",
       "#T_94a9e_row8_col0, #T_94a9e_row9_col2 {\n",
       "  background-color: #fac462;\n",
       "  color: #000000;\n",
       "}\n",
       "#T_94a9e_row8_col1 {\n",
       "  background-color: #fcba41;\n",
       "  color: #000000;\n",
       "}\n",
       "#T_94a9e_row9_col1 {\n",
       "  background-color: #f9c76d;\n",
       "  color: #000000;\n",
       "}\n",
       "#T_94a9e_row10_col0, #T_94a9e_row12_col2 {\n",
       "  background-color: #fbbb46;\n",
       "  color: #000000;\n",
       "}\n",
       "#T_94a9e_row10_col1 {\n",
       "  background-color: #fbbf53;\n",
       "  color: #000000;\n",
       "}\n",
       "#T_94a9e_row11_col0, #T_94a9e_row11_col2 {\n",
       "  background-color: #fcb738;\n",
       "  color: #000000;\n",
       "}\n",
       "#T_94a9e_row11_col1 {\n",
       "  background-color: #f7d79e;\n",
       "  color: #000000;\n",
       "}\n",
       "#T_94a9e_row12_col0, #T_94a9e_row13_col2 {\n",
       "  background-color: #fdb22a;\n",
       "  color: #000000;\n",
       "}\n",
       "#T_94a9e_row12_col1 {\n",
       "  background-color: #f8d290;\n",
       "  color: #000000;\n",
       "}\n",
       "#T_94a9e_row14_col0, #T_94a9e_row16_col2 {\n",
       "  background-color: #fea90e;\n",
       "  color: #000000;\n",
       "}\n",
       "#T_94a9e_row14_col1, #T_94a9e_row16_col1 {\n",
       "  background-color: #f3ede3;\n",
       "  color: #000000;\n",
       "}\n",
       "#T_94a9e_row17_col0, #T_94a9e_row17_col2 {\n",
       "  background-color: #f4ece0;\n",
       "  color: #000000;\n",
       "}\n",
       "#T_94a9e_row17_col1 {\n",
       "  background-color: #ffa501;\n",
       "  color: #000000;\n",
       "}\n",
       "</style>\n",
       "<table id=\"T_94a9e_\">\n",
       "  <thead>\n",
       "    <tr>\n",
       "      <th class=\"blank level0\" >&nbsp;</th>\n",
       "      <th class=\"col_heading level0 col0\" >hour</th>\n",
       "      <th class=\"col_heading level0 col1\" >msPlayed</th>\n",
       "      <th class=\"col_heading level0 col2\" >rank</th>\n",
       "    </tr>\n",
       "  </thead>\n",
       "  <tbody>\n",
       "    <tr>\n",
       "      <th id=\"T_94a9e_level0_row0\" class=\"row_heading level0 row0\" >0</th>\n",
       "      <td id=\"T_94a9e_row0_col0\" class=\"data row0 col0\" >8</td>\n",
       "      <td id=\"T_94a9e_row0_col1\" class=\"data row0 col1\" >91192151</td>\n",
       "      <td id=\"T_94a9e_row0_col2\" class=\"data row0 col2\" >8</td>\n",
       "    </tr>\n",
       "    <tr>\n",
       "      <th id=\"T_94a9e_level0_row1\" class=\"row_heading level0 row1\" >1</th>\n",
       "      <td id=\"T_94a9e_row1_col0\" class=\"data row1 col0\" >9</td>\n",
       "      <td id=\"T_94a9e_row1_col1\" class=\"data row1 col1\" >125544450</td>\n",
       "      <td id=\"T_94a9e_row1_col2\" class=\"data row1 col2\" >3</td>\n",
       "    </tr>\n",
       "    <tr>\n",
       "      <th id=\"T_94a9e_level0_row2\" class=\"row_heading level0 row2\" >2</th>\n",
       "      <td id=\"T_94a9e_row2_col0\" class=\"data row2 col0\" >10</td>\n",
       "      <td id=\"T_94a9e_row2_col1\" class=\"data row2 col1\" >138148633</td>\n",
       "      <td id=\"T_94a9e_row2_col2\" class=\"data row2 col2\" >1</td>\n",
       "    </tr>\n",
       "    <tr>\n",
       "      <th id=\"T_94a9e_level0_row3\" class=\"row_heading level0 row3\" >3</th>\n",
       "      <td id=\"T_94a9e_row3_col0\" class=\"data row3 col0\" >11</td>\n",
       "      <td id=\"T_94a9e_row3_col1\" class=\"data row3 col1\" >86553499</td>\n",
       "      <td id=\"T_94a9e_row3_col2\" class=\"data row3 col2\" >10</td>\n",
       "    </tr>\n",
       "    <tr>\n",
       "      <th id=\"T_94a9e_level0_row4\" class=\"row_heading level0 row4\" >4</th>\n",
       "      <td id=\"T_94a9e_row4_col0\" class=\"data row4 col0\" >12</td>\n",
       "      <td id=\"T_94a9e_row4_col1\" class=\"data row4 col1\" >67056575</td>\n",
       "      <td id=\"T_94a9e_row4_col2\" class=\"data row4 col2\" >12</td>\n",
       "    </tr>\n",
       "    <tr>\n",
       "      <th id=\"T_94a9e_level0_row5\" class=\"row_heading level0 row5\" >5</th>\n",
       "      <td id=\"T_94a9e_row5_col0\" class=\"data row5 col0\" >13</td>\n",
       "      <td id=\"T_94a9e_row5_col1\" class=\"data row5 col1\" >115567887</td>\n",
       "      <td id=\"T_94a9e_row5_col2\" class=\"data row5 col2\" >6</td>\n",
       "    </tr>\n",
       "    <tr>\n",
       "      <th id=\"T_94a9e_level0_row6\" class=\"row_heading level0 row6\" >6</th>\n",
       "      <td id=\"T_94a9e_row6_col0\" class=\"data row6 col0\" >14</td>\n",
       "      <td id=\"T_94a9e_row6_col1\" class=\"data row6 col1\" >123027967</td>\n",
       "      <td id=\"T_94a9e_row6_col2\" class=\"data row6 col2\" >4</td>\n",
       "    </tr>\n",
       "    <tr>\n",
       "      <th id=\"T_94a9e_level0_row7\" class=\"row_heading level0 row7\" >7</th>\n",
       "      <td id=\"T_94a9e_row7_col0\" class=\"data row7 col0\" >15</td>\n",
       "      <td id=\"T_94a9e_row7_col1\" class=\"data row7 col1\" >121519836</td>\n",
       "      <td id=\"T_94a9e_row7_col2\" class=\"data row7 col2\" >5</td>\n",
       "    </tr>\n",
       "    <tr>\n",
       "      <th id=\"T_94a9e_level0_row8\" class=\"row_heading level0 row8\" >8</th>\n",
       "      <td id=\"T_94a9e_row8_col0\" class=\"data row8 col0\" >16</td>\n",
       "      <td id=\"T_94a9e_row8_col1\" class=\"data row8 col1\" >100397789</td>\n",
       "      <td id=\"T_94a9e_row8_col2\" class=\"data row8 col2\" >7</td>\n",
       "    </tr>\n",
       "    <tr>\n",
       "      <th id=\"T_94a9e_level0_row9\" class=\"row_heading level0 row9\" >9</th>\n",
       "      <td id=\"T_94a9e_row9_col0\" class=\"data row9 col0\" >17</td>\n",
       "      <td id=\"T_94a9e_row9_col1\" class=\"data row9 col1\" >74993042</td>\n",
       "      <td id=\"T_94a9e_row9_col2\" class=\"data row9 col2\" >11</td>\n",
       "    </tr>\n",
       "    <tr>\n",
       "      <th id=\"T_94a9e_level0_row10\" class=\"row_heading level0 row10\" >10</th>\n",
       "      <td id=\"T_94a9e_row10_col0\" class=\"data row10 col0\" >18</td>\n",
       "      <td id=\"T_94a9e_row10_col1\" class=\"data row10 col1\" >89860244</td>\n",
       "      <td id=\"T_94a9e_row10_col2\" class=\"data row10 col2\" >9</td>\n",
       "    </tr>\n",
       "    <tr>\n",
       "      <th id=\"T_94a9e_level0_row11\" class=\"row_heading level0 row11\" >11</th>\n",
       "      <td id=\"T_94a9e_row11_col0\" class=\"data row11 col0\" >19</td>\n",
       "      <td id=\"T_94a9e_row11_col1\" class=\"data row11 col1\" >46916043</td>\n",
       "      <td id=\"T_94a9e_row11_col2\" class=\"data row11 col2\" >14</td>\n",
       "    </tr>\n",
       "    <tr>\n",
       "      <th id=\"T_94a9e_level0_row12\" class=\"row_heading level0 row12\" >12</th>\n",
       "      <td id=\"T_94a9e_row12_col0\" class=\"data row12 col0\" >20</td>\n",
       "      <td id=\"T_94a9e_row12_col1\" class=\"data row12 col1\" >55066014</td>\n",
       "      <td id=\"T_94a9e_row12_col2\" class=\"data row12 col2\" >13</td>\n",
       "    </tr>\n",
       "    <tr>\n",
       "      <th id=\"T_94a9e_level0_row13\" class=\"row_heading level0 row13\" >13</th>\n",
       "      <td id=\"T_94a9e_row13_col0\" class=\"data row13 col0\" >21</td>\n",
       "      <td id=\"T_94a9e_row13_col1\" class=\"data row13 col1\" >33402803</td>\n",
       "      <td id=\"T_94a9e_row13_col2\" class=\"data row13 col2\" >15</td>\n",
       "    </tr>\n",
       "    <tr>\n",
       "      <th id=\"T_94a9e_level0_row14\" class=\"row_heading level0 row14\" >14</th>\n",
       "      <td id=\"T_94a9e_row14_col0\" class=\"data row14 col0\" >22</td>\n",
       "      <td id=\"T_94a9e_row14_col1\" class=\"data row14 col1\" >7575507</td>\n",
       "      <td id=\"T_94a9e_row14_col2\" class=\"data row14 col2\" >16</td>\n",
       "    </tr>\n",
       "    <tr>\n",
       "      <th id=\"T_94a9e_level0_row15\" class=\"row_heading level0 row15\" >15</th>\n",
       "      <td id=\"T_94a9e_row15_col0\" class=\"data row15 col0\" >23</td>\n",
       "      <td id=\"T_94a9e_row15_col1\" class=\"data row15 col1\" >713820</td>\n",
       "      <td id=\"T_94a9e_row15_col2\" class=\"data row15 col2\" >18</td>\n",
       "    </tr>\n",
       "    <tr>\n",
       "      <th id=\"T_94a9e_level0_row16\" class=\"row_heading level0 row16\" >16</th>\n",
       "      <td id=\"T_94a9e_row16_col0\" class=\"data row16 col0\" >6</td>\n",
       "      <td id=\"T_94a9e_row16_col1\" class=\"data row16 col1\" >7496802</td>\n",
       "      <td id=\"T_94a9e_row16_col2\" class=\"data row16 col2\" >17</td>\n",
       "    </tr>\n",
       "    <tr>\n",
       "      <th id=\"T_94a9e_level0_row17\" class=\"row_heading level0 row17\" >17</th>\n",
       "      <td id=\"T_94a9e_row17_col0\" class=\"data row17 col0\" >7</td>\n",
       "      <td id=\"T_94a9e_row17_col1\" class=\"data row17 col1\" >137203885</td>\n",
       "      <td id=\"T_94a9e_row17_col2\" class=\"data row17 col2\" >2</td>\n",
       "    </tr>\n",
       "  </tbody>\n",
       "</table>\n"
      ],
      "text/plain": [
       "<pandas.io.formats.style.Styler at 0x26249a3a730>"
      ]
     },
     "execution_count": 52,
     "metadata": {},
     "output_type": "execute_result"
    }
   ],
   "source": [
    "np.abs(df8).style.background_gradient(sns.light_palette(\"orange\", as_cmap=True))"
   ]
  },
  {
   "cell_type": "code",
   "execution_count": 53,
   "id": "2e8c0270",
   "metadata": {},
   "outputs": [
    {
     "data": {
      "text/plain": [
       "<matplotlib.lines.Line2D at 0x262492b1910>"
      ]
     },
     "execution_count": 53,
     "metadata": {},
     "output_type": "execute_result"
    },
    {
     "data": {
      "image/png": "[encoded data removed]",
      "text/plain": [
       "<Figure size 864x432 with 1 Axes>"
      ]
     },
     "metadata": {
      "needs_background": "light"
     },
     "output_type": "display_data"
    }
   ],
   "source": [
    "plt.figure(figsize=(12,6))\n",
    "sns.lineplot(x='hour', y='msPlayed', data=df8, marker='o')\n",
    "plt.axhline(y=df8['msPlayed'].mean(), c='red')\n",
    "plt.axhline(y=df8['msPlayed'].median(), c='green')"
   ]
  },
  {
   "cell_type": "markdown",
   "id": "2bf05028",
   "metadata": {},
   "source": [
    "### Insight: Activity on Spotify generally begins at the earlier half of the day. This could be during my commute to work and me listening to music during early working hours when my focus is at its the highest. This suggests that music was used as a medium for (1) entertainment and (2) to increase focus at work.\n",
    "\n",
    "### Music is also likely used as a medium to stay awake post-lunch as suggested by the peak in activity after 12pm.\n",
    "\n",
    "### Activity also peaked during going home hours at 6pm."
   ]
  },
  {
   "cell_type": "markdown",
   "id": "eea26e7f",
   "metadata": {},
   "source": [
    "# Part 3: Data exploration using Machine Learning"
   ]
  },
  {
   "cell_type": "markdown",
   "id": "a30fa6f4",
   "metadata": {},
   "source": [
    "## PCA - to explore changes when PCA is applied"
   ]
  },
  {
   "cell_type": "code",
   "execution_count": 54,
   "id": "18b7b666",
   "metadata": {},
   "outputs": [],
   "source": [
    "from sklearn.decomposition import PCA\n",
    "from sklearn.preprocessing import StandardScaler"
   ]
  },
  {
   "cell_type": "code",
   "execution_count": 55,
   "id": "93e6c98e",
   "metadata": {},
   "outputs": [],
   "source": [
    "scaler = StandardScaler()"
   ]
  },
  {
   "cell_type": "code",
   "execution_count": 56,
   "id": "68065690",
   "metadata": {},
   "outputs": [],
   "source": [
    "scaled_df = scaler.fit_transform(df.drop(['endTime', 'artistName', 'trackName', 'date', 'time'], axis=1))"
   ]
  },
  {
   "cell_type": "code",
   "execution_count": 57,
   "id": "439bd1c5",
   "metadata": {},
   "outputs": [],
   "source": [
    "pca_run1 = PCA(n_components=2)"
   ]
  },
  {
   "cell_type": "code",
   "execution_count": 58,
   "id": "24e0f445",
   "metadata": {},
   "outputs": [],
   "source": [
    "pca_components = pca_run1.fit_transform(scaled_df)"
   ]
  },
  {
   "cell_type": "code",
   "execution_count": 59,
   "id": "13111868",
   "metadata": {},
   "outputs": [
    {
     "data": {
      "text/plain": [
       "array([0.34896471, 0.20924087])"
      ]
     },
     "execution_count": 59,
     "metadata": {},
     "output_type": "execute_result"
    }
   ],
   "source": [
    "pca_run1.explained_variance_ratio_"
   ]
  },
  {
   "cell_type": "code",
   "execution_count": 60,
   "id": "33202164",
   "metadata": {},
   "outputs": [
    {
     "data": {
      "text/plain": [
       "0.558205585356726"
      ]
     },
     "execution_count": 60,
     "metadata": {},
     "output_type": "execute_result"
    }
   ],
   "source": [
    "pca_run1.explained_variance_ratio_.sum()"
   ]
  },
  {
   "cell_type": "code",
   "execution_count": 61,
   "id": "da605fc7",
   "metadata": {},
   "outputs": [
    {
     "data": {
      "text/plain": [
       "Index(['msPlayed', 'year', 'month', 'day', 'hour'], dtype='object')"
      ]
     },
     "execution_count": 61,
     "metadata": {},
     "output_type": "execute_result"
    }
   ],
   "source": [
    "df.drop(['endTime', 'artistName', 'trackName', 'date', 'time'], axis=1).columns"
   ]
  },
  {
   "cell_type": "markdown",
   "id": "13e3beff",
   "metadata": {},
   "source": [
    "The two PCA components were created using the above data points."
   ]
  },
  {
   "cell_type": "markdown",
   "id": "df6b791e",
   "metadata": {},
   "source": [
    "### Insight: By shrinking the attributes from 5 dimensions to 2 dimensions, the 2 dimensions only explain about 55% of the data's variance. This means that the attributes are similar to each other in terms of covariance as PCA creates new components based on variance. I.e., PCA will create the new components according to the order of variance. \n",
    "\n",
    "### The reason for the low explained variance ratio could be due to similarity between the data fields (i.e., year, month, day, hour). These fields are all time-related, therefore, the amount of variance between them are low."
   ]
  },
  {
   "cell_type": "markdown",
   "id": "249c53a9",
   "metadata": {},
   "source": [
    "## DBSCAN - to explore potential clusters in the data set"
   ]
  },
  {
   "cell_type": "code",
   "execution_count": 62,
   "id": "fcd168a8",
   "metadata": {},
   "outputs": [],
   "source": [
    "from sklearn.cluster import DBSCAN"
   ]
  },
  {
   "cell_type": "code",
   "execution_count": 63,
   "id": "a2495c42",
   "metadata": {},
   "outputs": [],
   "source": [
    "dbscan = DBSCAN(eps=0.8)"
   ]
  },
  {
   "cell_type": "markdown",
   "id": "441ee61d",
   "metadata": {},
   "source": [
    "### Insight: I have tried using eps = 0.5 and eps = 1, the former clustered all the points as one class while the latter clustered all the points similar to eps = 0.8. I decided to keep the number in the middle."
   ]
  },
  {
   "cell_type": "code",
   "execution_count": 64,
   "id": "2af6ac76",
   "metadata": {},
   "outputs": [],
   "source": [
    "df6_scaled = scaler.fit_transform(df6)"
   ]
  },
  {
   "cell_type": "code",
   "execution_count": 65,
   "id": "76d52dc2",
   "metadata": {},
   "outputs": [
    {
     "data": {
      "text/plain": [
       "DBSCAN(eps=0.8)"
      ]
     },
     "execution_count": 65,
     "metadata": {},
     "output_type": "execute_result"
    }
   ],
   "source": [
    "dbscan.fit(df6_scaled)"
   ]
  },
  {
   "cell_type": "code",
   "execution_count": 66,
   "id": "1ee29d1c",
   "metadata": {},
   "outputs": [],
   "source": [
    "y_pred = dbscan.fit_predict(df6_scaled)"
   ]
  },
  {
   "cell_type": "code",
   "execution_count": 67,
   "id": "b4c1a244",
   "metadata": {},
   "outputs": [
    {
     "data": {
      "image/png": "[encoded data removed]",
      "text/plain": [
       "<Figure size 720x432 with 1 Axes>"
      ]
     },
     "metadata": {
      "needs_background": "light"
     },
     "output_type": "display_data"
    }
   ],
   "source": [
    "plt.figure(figsize=(10,6))\n",
    "plt.scatter(df6['day'], df6['msPlayed'], c=y_pred)\n",
    "plt.title(\"Clusters determined by DBSCAN\")\n",
    "plt.xlabel('day of month')\n",
    "plt.ylabel('milliseconds played');"
   ]
  },
  {
   "cell_type": "code",
   "execution_count": 68,
   "id": "e024ab07",
   "metadata": {},
   "outputs": [
    {
     "data": {
      "image/png": "[encoded data removed]",
      "text/plain": [
       "<Figure size 720x432 with 1 Axes>"
      ]
     },
     "metadata": {
      "needs_background": "light"
     },
     "output_type": "display_data"
    }
   ],
   "source": [
    "plt.figure(figsize=(10,6))\n",
    "plt.scatter(df6['rank'], df6['msPlayed'], c=y_pred)\n",
    "plt.title(\"Clusters determined by DBSCAN\")\n",
    "plt.xlabel('rank by milliseconds played')\n",
    "plt.ylabel('milliseconds played');"
   ]
  },
  {
   "cell_type": "markdown",
   "id": "73173b66",
   "metadata": {},
   "source": [
    "### Insight: From the viz, we can infer that the teal and yellow group are clustered based on their rank as the data points are clustered closely together when we plot the data points by rank. Similar trend is also observed for the day of month when the data points are plotted based on that.\n",
    "\n",
    "### The purple data points could be data points that are outliers and/or have no clear distinct grouping as it consists of points that lie on the extreme end and those that are randomly spreaded."
   ]
  },
  {
   "cell_type": "markdown",
   "id": "aebc33dc",
   "metadata": {},
   "source": [
    "# Part 4: Summary"
   ]
  },
  {
   "cell_type": "markdown",
   "id": "5b5b4dab",
   "metadata": {},
   "source": [
    "### In this exercise, I have explored a data set that contains info about my activity on Spotify. The most popular genres are pop and rock. The least active month for me was in Nov '21 due to meetings and work matters. Amongst all the days in a month, I tend to be more active in the second half of the month, particularly 13th due to an outlier. I was also more active while commuting to-and-fro work and during post-lunch hours at work. These data can potentially be clustered into three classes by time of activity and activity duration.\n",
    "\n",
    "### Limitations of this exercise include the inability to match all the songs by its respective genre unless through manual intervention or RPA to avoid resource wastage. By having the data on song genre, I could have found out the (1) most popular genres amongst the entire data set, (2) most produced genre by artist, (3) activity time spent by genre, (4) possible clusters by genre etc."
   ]
  },
  {
   "cell_type": "code",
   "execution_count": null,
   "id": "ae53d4a8",
   "metadata": {},
   "outputs": [],
   "source": []
  }
 ],
 "metadata": {
  "kernelspec": {
   "display_name": "Python 3 (ipykernel)",
   "language": "python",
   "name": "python3"
  },
  "language_info": {
   "codemirror_mode": {
    "name": "ipython",
    "version": 3
   },
   "file_extension": ".py",
   "mimetype": "text/x-python",
   "name": "python",
   "nbconvert_exporter": "python",
   "pygments_lexer": "ipython3",
   "version": "3.9.7"
  }
 },
 "nbformat": 4,
 "nbformat_minor": 5
}
