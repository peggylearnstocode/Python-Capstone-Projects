{
 "cells": [
  {
   "cell_type": "markdown",
   "id": "f90c9640",
   "metadata": {},
   "source": [
    "### Capstone Project 1\n",
    "#### Find PI to the Nth Digit - Enter a number and have the program generate π (pi) up to that many decimal places. Keep a limit to how far the program will go."
   ]
  },
  {
   "cell_type": "code",
   "execution_count": null,
   "id": "184fe44d",
   "metadata": {},
   "outputs": [],
   "source": [
    "import math\n",
    "\n",
    "def pi_rounder(num):\n",
    "    return round(math.pi, num)\n",
    "\n",
    "pi_rounder(5)"
   ]
  },
  {
   "cell_type": "markdown",
   "id": "40ea745b",
   "metadata": {},
   "source": [
    "### Capstone Project 2\n",
    "#### Find e to the Nth Digit - Just like the previous problem, but with e instead of π (pi). Enter a number and have the program generate e up to that many decimal places. Keep a limit to how far the program will go."
   ]
  },
  {
   "cell_type": "code",
   "execution_count": null,
   "id": "534981cf",
   "metadata": {},
   "outputs": [],
   "source": [
    "import math\n",
    "\n",
    "def e_rounder():\n",
    "    \n",
    "    while True:\n",
    "        \n",
    "        try:\n",
    "            num = int(input('Please input a digit to round e to. It has to be lesser or equals to 20: '))\n",
    "            assert num <= 20, 'Please input a digit lesser or equals to 20 only'\n",
    "        \n",
    "        except ValueError:\n",
    "            print('Please enter a number only')\n",
    "            \n",
    "        except AssertionError as e:\n",
    "            print(e)\n",
    "        \n",
    "        else:\n",
    "            if num <= 20:\n",
    "                return round(math.e, num)\n",
    "                break\n",
    "\n",
    "            else:\n",
    "                print('Function allows max. rounding to 20 decimals. Please try again.')\n",
    "                continue\n",
    "            \n",
    "e_rounder()"
   ]
  },
  {
   "cell_type": "markdown",
   "id": "98598e7a",
   "metadata": {},
   "source": [
    "### Capstone Project 3\n",
    "#### Fibonacci Sequence - Enter a number and have the program generate the Fibonacci sequence to that number or to the Nth number."
   ]
  },
  {
   "cell_type": "code",
   "execution_count": null,
   "id": "3b83d616",
   "metadata": {},
   "outputs": [],
   "source": [
    "def fibonacci():\n",
    "    \n",
    "    try:\n",
    "        num = int(input('Please input a number for the sequence to run up to but not including: '))\n",
    "    \n",
    "    except ValueError:\n",
    "        print('Please enter a number only')\n",
    "    \n",
    "    else:\n",
    "        fibonacci_sequence = []\n",
    "        num1, num2 = (0, 1)\n",
    "        fibonacci_sequence.append(num1)\n",
    "        fibonacci_sequence.append(num2)\n",
    "\n",
    "        while num2 < num:\n",
    "            x = num1 + num2\n",
    "            num1 = num2\n",
    "            num2 = x\n",
    "            fibonacci_sequence.append(x)\n",
    "\n",
    "        return fibonacci_sequence[:-1]\n",
    "\n",
    "fibonacci()"
   ]
  },
  {
   "cell_type": "markdown",
   "id": "39a724d9",
   "metadata": {},
   "source": [
    "### Capstone Project 4\n",
    "#### Prime Factorization - Have the user enter a number and find all Prime Factors (if there are any) and display them."
   ]
  },
  {
   "cell_type": "code",
   "execution_count": null,
   "id": "a3a3d68a",
   "metadata": {},
   "outputs": [],
   "source": [
    "def prime_factor():\n",
    "    \n",
    "    while True:\n",
    "        \n",
    "        try:\n",
    "            num = int(input('Enter a number to check its prime factorization: '))\n",
    "        \n",
    "        except ValueError:\n",
    "            print('Please enter a number only')\n",
    "        \n",
    "        else:\n",
    "            prime_list = [2, 3, 5, 7]\n",
    "            factors = []\n",
    "\n",
    "            for x in prime_list:\n",
    "\n",
    "                if num % x == 0:\n",
    "                    factors.append(x)\n",
    "                elif num % x != 0:\n",
    "                    pass\n",
    "\n",
    "            if factors != []:\n",
    "                return factors\n",
    "            else:\n",
    "                return 'Number passed to the function is a prime number.'\n",
    "    \n",
    "prime_factor()"
   ]
  },
  {
   "cell_type": "markdown",
   "id": "4d9fab8e",
   "metadata": {},
   "source": [
    "### Capstone Project 5\n",
    "#### Next Prime Number - Have the program find prime numbers until the user chooses to stop asking for the next one."
   ]
  },
  {
   "cell_type": "code",
   "execution_count": null,
   "id": "e24754b2",
   "metadata": {},
   "outputs": [],
   "source": [
    "def find_prime():\n",
    "    \n",
    "    num = 2\n",
    "    prime_list = [2]\n",
    "    print('Here is the list of prime numbers: ')\n",
    "    print(prime_list[0])\n",
    "    \n",
    "    while True:\n",
    "        try:\n",
    "            user_input = input('Do you want to print the next prime number? Enter y for yes, n for no: ').lower()\n",
    "            assert user_input in ('y', 'n'), 'please enter either y or n only'\n",
    "        \n",
    "        except AssertionError as e:\n",
    "            print(e)\n",
    "        \n",
    "        else:\n",
    "            if user_input == 'y':\n",
    "                user_check = True\n",
    "\n",
    "                while user_check:\n",
    "                    prime_check = []\n",
    "                    num += 1\n",
    "\n",
    "                    for x in prime_list:\n",
    "                        prime_check.append(num % x)\n",
    "\n",
    "                    if 0 not in prime_check:\n",
    "                        prime_list.append(num)\n",
    "                        print(prime_list[-1])               \n",
    "                        user_check = False\n",
    "            else:\n",
    "                break\n",
    "                    \n",
    "find_prime()     "
   ]
  },
  {
   "cell_type": "markdown",
   "id": "1044424a",
   "metadata": {},
   "source": [
    "### Capstone Project 6\n",
    "#### Mortgage Calculator - Calculate the monthly payments of a fixed term mortgage over given Nth terms at a given interest rate. Also figure out how long it will take the user to pay back the loan. For added complexity, add an option for users to select the compounding interval (Monthly, Weekly, Daily, Continually)."
   ]
  },
  {
   "cell_type": "code",
   "execution_count": null,
   "id": "da985cdc",
   "metadata": {},
   "outputs": [],
   "source": [
    "import math\n",
    "interval_dict = {'m':12, 'w':52, 'd':365, 'c':math.e}\n",
    "\n",
    "class Mortgage_Calculator():\n",
    "    \n",
    "    def __init__(self, interval, term, amount, rate):\n",
    "        self.interval = interval\n",
    "        self.term = term\n",
    "        self.amount = amount\n",
    "        self.rate = rate\n",
    "        \n",
    "    def monthly_payment(self):\n",
    "        \n",
    "        total = self.amount * (1 + (self.rate/100)/interval_dict[self.interval])**(self.term*interval_dict[self.interval])\n",
    "        monthly_payment = total / (self.term*12)\n",
    "        return monthly_payment\n",
    "\n",
    "x = Mortgage_Calculator('c',2,10000,1)\n",
    "x.monthly_payment()"
   ]
  },
  {
   "cell_type": "markdown",
   "id": "11629d49",
   "metadata": {},
   "source": [
    "### Capstone Project 7\n",
    "#### Alarm Clock - A simple clock where it plays a sound after X number of minutes/seconds or at a particular time."
   ]
  },
  {
   "cell_type": "code",
   "execution_count": null,
   "id": "85d7cf0b",
   "metadata": {},
   "outputs": [],
   "source": [
    "import datetime\n",
    "import ipywidgets\n",
    "import playsound\n",
    "from IPython.display import display\n",
    "\n",
    "print('Please set the hour and minute of your alarm clock in 24-hour format: ')\n",
    "\n",
    "hour = ipywidgets.IntSlider(min=0,max=23,step=1,description='hour')\n",
    "minute = ipywidgets.IntSlider(min=0,max=59,step=1,description='minute')\n",
    "\n",
    "display(hour)\n",
    "display(minute)\n",
    "\n",
    "def set_time(hour, min):\n",
    "    t = datetime.time(hour, min)\n",
    "    return t\n",
    "\n",
    "def set_alarm():\n",
    "    \n",
    "    while True:\n",
    "        \n",
    "        now = datetime.datetime.now()\n",
    "        \n",
    "        if t.hour == now.hour and t.minute == now.minute:\n",
    "            print('Wake Up!')\n",
    "            playsound.playsound('C:\\\\Users\\\\NPStudent\\\\Downloads\\\\Alarm Clock_alarm.wav')\n",
    "            break"
   ]
  },
  {
   "cell_type": "code",
   "execution_count": null,
   "id": "04345c7f",
   "metadata": {},
   "outputs": [],
   "source": [
    "t = set_time(hour.value,minute.value)\n",
    "set_alarm()"
   ]
  },
  {
   "cell_type": "markdown",
   "id": "6fda2f4c",
   "metadata": {},
   "source": [
    "### Capstone Project 8\n",
    "#### Distance Between Two Cities - Calculates the distance between two cities and allows the user to specify a unit of distance.This program may require finding coordinates for the cities like latitude and longitude."
   ]
  },
  {
   "cell_type": "code",
   "execution_count": null,
   "id": "c1fe4ee3",
   "metadata": {},
   "outputs": [],
   "source": [
    "import geopy\n",
    "from geopy.geocoders import Nominatim\n",
    "from geopy import distance\n",
    "\n",
    "def dist_btw_two_locations():\n",
    "\n",
    "    geolocator = Nominatim(user_agent=\"your_app_name\")\n",
    "    location1 = geolocator.geocode(input('Enter the first location\\'s street name: '))\n",
    "    location2 = geolocator.geocode(input('Enter the second location\\'s street name: '))\n",
    "\n",
    "    location1_list = location1.address.split(',')\n",
    "    location2_list = location2.address.split(',')\n",
    "\n",
    "    location1_coor = (location1.latitude, location1.longitude)\n",
    "    location2_coor = (location2.latitude, location2.longitude)\n",
    "\n",
    "    unit_of_dist = input('Please select either km or miles as unit of dist: ')\n",
    "    dist = geopy.distance.distance(location1_coor, location2_coor).km\n",
    "\n",
    "    print(f'The distance between {location1_list[0] + location1_list[1]} and {location2_list[0] + location2_list[1]} is {round(dist, 2)} {unit_of_dist}')\n",
    "                                         \n",
    "dist_btw_two_locations()"
   ]
  },
  {
   "cell_type": "markdown",
   "id": "fe21f6df",
   "metadata": {},
   "source": [
    "### Capstone Project 9\n",
    "#### Credit Card Validator - Takes in a credit card number from a common credit card vendor (Visa, MasterCard, American Express) and validates it to make sure that it is a valid number (look into how credit cards use a checksum)."
   ]
  },
  {
   "cell_type": "code",
   "execution_count": null,
   "id": "bbb79edd",
   "metadata": {},
   "outputs": [],
   "source": [
    "def cc_validator():\n",
    "    \n",
    "    cc_num = input('User, please input your credit card number without spacing: ')\n",
    "    cc_num_list = list(cc_num)\n",
    "    \n",
    "    for index, value in enumerate(cc_num_list):\n",
    "        if (index+1) % 2 != 0:\n",
    "            cc_num_list[index] = str(int(value)*2)\n",
    "        else:\n",
    "            pass\n",
    "    \n",
    "    for index, val in enumerate(cc_num_list):\n",
    "        \n",
    "        if len(val) == 2:\n",
    "            val_split_list = list(val)\n",
    "            interim_val = 0\n",
    "            \n",
    "            for num in val_split_list:\n",
    "                interim_val += int(num)\n",
    "            \n",
    "            cc_num_list[index] = interim_val\n",
    "    \n",
    "    total_sum = 0\n",
    "    \n",
    "    for num in cc_num_list:\n",
    "        total_sum += int(num)\n",
    "        \n",
    "    if total_sum % 10 == 0:\n",
    "        return 'Credit card valid'\n",
    "    else:\n",
    "        return 'Credit card invalid'\n",
    "    \n",
    "cc_validator()    "
   ]
  },
  {
   "cell_type": "markdown",
   "id": "a604aefe",
   "metadata": {},
   "source": [
    "### Capstone Project 10\n",
    "#### Factorial Finder - The Factorial of a positive integer, n, is defined as the product of the sequence n, n-1, n-2, ...1 and the factorial of zero, 0, is defined as being 1. Solve this using both loops and recursion."
   ]
  },
  {
   "cell_type": "code",
   "execution_count": null,
   "id": "f77208d6",
   "metadata": {},
   "outputs": [],
   "source": [
    "def factorial_finder():\n",
    "    \n",
    "    while True:\n",
    "        \n",
    "        try: \n",
    "            num = int(input('User, please input a positive integer to find its factorial: '))\n",
    "        \n",
    "        except ValueError:\n",
    "            print('Please enter a positive integer.')\n",
    "        \n",
    "        else:\n",
    "            if num < 0:\n",
    "                print('Please provide a positive integer')\n",
    "            elif num == 0:\n",
    "                return 'The factorial is 1'\n",
    "                break\n",
    "            else:\n",
    "                factorial = 1\n",
    "                for x in range(num):              \n",
    "                    factorial *= (x+1)\n",
    "                return f'The factorial is {factorial}'\n",
    "                break\n",
    "\n",
    "factorial_finder()"
   ]
  },
  {
   "cell_type": "code",
   "execution_count": null,
   "id": "ed032483",
   "metadata": {},
   "outputs": [],
   "source": []
  }
 ],
 "metadata": {
  "kernelspec": {
   "display_name": "Python 3 (ipykernel)",
   "language": "python",
   "name": "python3"
  },
  "language_info": {
   "codemirror_mode": {
    "name": "ipython",
    "version": 3
   },
   "file_extension": ".py",
   "mimetype": "text/x-python",
   "name": "python",
   "nbconvert_exporter": "python",
   "pygments_lexer": "ipython3",
   "version": "3.7.11"
  }
 },
 "nbformat": 4,
 "nbformat_minor": 5
}
