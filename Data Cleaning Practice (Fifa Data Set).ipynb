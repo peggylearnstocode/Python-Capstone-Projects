{
 "cells": [
  {
   "cell_type": "markdown",
   "id": "9bf59cc9",
   "metadata": {},
   "source": [
    "The purpose of this document is to put my data cleaning skills into practice. \n",
    "\n",
    "The Fifa data set was downloaded from the internet."
   ]
  },
  {
   "cell_type": "code",
   "execution_count": 1,
   "id": "6ec24624",
   "metadata": {},
   "outputs": [],
   "source": [
    "import numpy as np\n",
    "import pandas as pd\n",
    "import matplotlib.pyplot as plt\n",
    "import seaborn as sns"
   ]
  },
  {
   "cell_type": "code",
   "execution_count": 2,
   "id": "8b7ae2be",
   "metadata": {},
   "outputs": [],
   "source": [
    "df = pd.read_csv('fifa.csv')"
   ]
  },
  {
   "cell_type": "code",
   "execution_count": 3,
   "id": "f82c71c2",
   "metadata": {
    "scrolled": true
   },
   "outputs": [
    {
     "name": "stdout",
     "output_type": "stream",
     "text": [
      "<class 'pandas.core.frame.DataFrame'>\n",
      "RangeIndex: 16155 entries, 0 to 16154\n",
      "Data columns (total 81 columns):\n",
      " #   Column                      Non-Null Count  Dtype  \n",
      "---  ------                      --------------  -----  \n",
      " 0   Unnamed: 0                  16155 non-null  int64  \n",
      " 1   sofifa_id                   16155 non-null  int64  \n",
      " 2   player_url                  16155 non-null  object \n",
      " 3   short_name                  16155 non-null  object \n",
      " 4   long_name                   16155 non-null  object \n",
      " 5   age                         16155 non-null  int64  \n",
      " 6   dob                         16155 non-null  object \n",
      " 7   height_cm                   16155 non-null  int64  \n",
      " 8   weight_kg                   16155 non-null  int64  \n",
      " 9   nationality                 16155 non-null  object \n",
      " 10  club_name                   15916 non-null  object \n",
      " 11  league_name                 15916 non-null  object \n",
      " 12  league_rank                 15916 non-null  float64\n",
      " 13  overall                     16155 non-null  int64  \n",
      " 14  potential                   16155 non-null  int64  \n",
      " 15  value_eur                   16155 non-null  int64  \n",
      " 16  wage_eur                    16155 non-null  int64  \n",
      " 17  player_positions            16155 non-null  object \n",
      " 18  preferred_foot              16155 non-null  object \n",
      " 19  international_reputation    16155 non-null  int64  \n",
      " 20  weak_foot                   16155 non-null  int64  \n",
      " 21  skill_moves                 16155 non-null  int64  \n",
      " 22  work_rate                   16155 non-null  object \n",
      " 23  body_type                   16155 non-null  object \n",
      " 24  real_face                   16155 non-null  object \n",
      " 25  release_clause_eur          0 non-null      float64\n",
      " 26  player_tags                 1236 non-null   object \n",
      " 27  team_position               15916 non-null  object \n",
      " 28  team_jersey_number          15916 non-null  float64\n",
      " 29  loaned_from                 912 non-null    object \n",
      " 30  joined                      15004 non-null  object \n",
      " 31  contract_valid_until        15916 non-null  float64\n",
      " 32  nation_position             1081 non-null   object \n",
      " 33  nation_jersey_number        1081 non-null   float64\n",
      " 34  pace                        14380 non-null  float64\n",
      " 35  shooting                    14380 non-null  float64\n",
      " 36  passing                     14380 non-null  float64\n",
      " 37  dribbling                   14380 non-null  float64\n",
      " 38  defending                   14380 non-null  float64\n",
      " 39  physic                      14380 non-null  float64\n",
      " 40  gk_diving                   1775 non-null   float64\n",
      " 41  gk_handling                 1775 non-null   float64\n",
      " 42  gk_kicking                  1775 non-null   float64\n",
      " 43  gk_reflexes                 1775 non-null   float64\n",
      " 44  gk_speed                    1775 non-null   float64\n",
      " 45  gk_positioning              1775 non-null   float64\n",
      " 46  player_traits               6599 non-null   object \n",
      " 47  attacking_crossing          16155 non-null  int64  \n",
      " 48  attacking_finishing         16155 non-null  int64  \n",
      " 49  attacking_heading_accuracy  16155 non-null  int64  \n",
      " 50  attacking_short_passing     16155 non-null  int64  \n",
      " 51  attacking_volleys           16155 non-null  int64  \n",
      " 52  skill_dribbling             16155 non-null  int64  \n",
      " 53  skill_curve                 16155 non-null  int64  \n",
      " 54  skill_fk_accuracy           16155 non-null  int64  \n",
      " 55  skill_long_passing          16155 non-null  int64  \n",
      " 56  skill_ball_control          16155 non-null  int64  \n",
      " 57  movement_acceleration       16155 non-null  int64  \n",
      " 58  movement_sprint_speed       16155 non-null  int64  \n",
      " 59  movement_agility            16155 non-null  int64  \n",
      " 60  movement_reactions          16155 non-null  int64  \n",
      " 61  movement_balance            16155 non-null  int64  \n",
      " 62  power_shot_power            16155 non-null  int64  \n",
      " 63  power_jumping               16155 non-null  int64  \n",
      " 64  power_stamina               16155 non-null  int64  \n",
      " 65  power_strength              16155 non-null  int64  \n",
      " 66  power_long_shots            16155 non-null  int64  \n",
      " 67  mentality_aggression        16155 non-null  int64  \n",
      " 68  mentality_interceptions     16155 non-null  int64  \n",
      " 69  mentality_positioning       16155 non-null  int64  \n",
      " 70  mentality_vision            16155 non-null  int64  \n",
      " 71  mentality_penalties         16155 non-null  int64  \n",
      " 72  mentality_composure         0 non-null      float64\n",
      " 73  defending_marking           16155 non-null  int64  \n",
      " 74  defending_standing_tackle   16155 non-null  int64  \n",
      " 75  defending_sliding_tackle    16155 non-null  int64  \n",
      " 76  goalkeeping_diving          16155 non-null  int64  \n",
      " 77  goalkeeping_handling        16155 non-null  int64  \n",
      " 78  goalkeeping_kicking         16155 non-null  int64  \n",
      " 79  goalkeeping_positioning     16155 non-null  int64  \n",
      " 80  goalkeeping_reflexes        16155 non-null  int64  \n",
      "dtypes: float64(18), int64(45), object(18)\n",
      "memory usage: 10.0+ MB\n"
     ]
    }
   ],
   "source": [
    "df.info()"
   ]
  },
  {
   "cell_type": "markdown",
   "id": "6d512243",
   "metadata": {},
   "source": [
    "The values in this column suggests that these are just index numbers"
   ]
  },
  {
   "cell_type": "code",
   "execution_count": 4,
   "id": "ebe8b0eb",
   "metadata": {},
   "outputs": [
    {
     "data": {
      "text/plain": [
       "array([    0,     1,     2, ..., 16152, 16153, 16154], dtype=int64)"
      ]
     },
     "execution_count": 4,
     "metadata": {},
     "output_type": "execute_result"
    }
   ],
   "source": [
    "df['Unnamed: 0'].unique()"
   ]
  },
  {
   "cell_type": "code",
   "execution_count": 5,
   "id": "77e0631d",
   "metadata": {},
   "outputs": [],
   "source": [
    "df.drop('Unnamed: 0', axis=1, inplace=True)"
   ]
  },
  {
   "cell_type": "code",
   "execution_count": 6,
   "id": "49630432",
   "metadata": {
    "scrolled": true
   },
   "outputs": [
    {
     "data": {
      "text/plain": [
       "club_name                 239\n",
       "league_name               239\n",
       "league_rank               239\n",
       "release_clause_eur      16155\n",
       "player_tags             14919\n",
       "team_position             239\n",
       "team_jersey_number        239\n",
       "loaned_from             15243\n",
       "joined                   1151\n",
       "contract_valid_until      239\n",
       "nation_position         15074\n",
       "nation_jersey_number    15074\n",
       "pace                     1775\n",
       "shooting                 1775\n",
       "passing                  1775\n",
       "dribbling                1775\n",
       "defending                1775\n",
       "physic                   1775\n",
       "gk_diving               14380\n",
       "gk_handling             14380\n",
       "gk_kicking              14380\n",
       "gk_reflexes             14380\n",
       "gk_speed                14380\n",
       "gk_positioning          14380\n",
       "player_traits            9556\n",
       "mentality_composure     16155\n",
       "dtype: int64"
      ]
     },
     "execution_count": 6,
     "metadata": {},
     "output_type": "execute_result"
    }
   ],
   "source": [
    "df[df.columns[df.isnull().any()]].isnull().sum()"
   ]
  },
  {
   "cell_type": "markdown",
   "id": "4884211c",
   "metadata": {},
   "source": [
    "The columns 'release_clause_eur' and 'mentality_composure' does not contain any values at all. Hence, these columns can be dropped"
   ]
  },
  {
   "cell_type": "code",
   "execution_count": 7,
   "id": "59da0fca",
   "metadata": {},
   "outputs": [],
   "source": [
    "df.drop(['release_clause_eur', 'mentality_composure'], axis=1, inplace=True)"
   ]
  },
  {
   "cell_type": "markdown",
   "id": "2eab7cde",
   "metadata": {},
   "source": [
    "The columns 'club_name', 'league_name', 'team_position', 'team_jersey_number' and 'contract_valid_until' are all related to the club that the player is identified with. If the club cannot be identified, the rest of the variables will be unknown"
   ]
  },
  {
   "cell_type": "code",
   "execution_count": 8,
   "id": "6fcf2bb5",
   "metadata": {},
   "outputs": [],
   "source": [
    "df[['club_name', 'league_name', 'team_position', 'team_jersey_number', 'contract_valid_until']] = df[['club_name', 'league_name', 'team_position', 'team_jersey_number', 'contract_valid_until']].fillna('Unidentified')"
   ]
  },
  {
   "cell_type": "code",
   "execution_count": 9,
   "id": "0b870ea1",
   "metadata": {
    "scrolled": true
   },
   "outputs": [
    {
     "data": {
      "text/plain": [
       "league_rank               239\n",
       "player_tags             14919\n",
       "loaned_from             15243\n",
       "joined                   1151\n",
       "nation_position         15074\n",
       "nation_jersey_number    15074\n",
       "pace                     1775\n",
       "shooting                 1775\n",
       "passing                  1775\n",
       "dribbling                1775\n",
       "defending                1775\n",
       "physic                   1775\n",
       "gk_diving               14380\n",
       "gk_handling             14380\n",
       "gk_kicking              14380\n",
       "gk_reflexes             14380\n",
       "gk_speed                14380\n",
       "gk_positioning          14380\n",
       "player_traits            9556\n",
       "dtype: int64"
      ]
     },
     "execution_count": 9,
     "metadata": {},
     "output_type": "execute_result"
    }
   ],
   "source": [
    "df[df.columns[df.isnull().any()]].isnull().sum()"
   ]
  },
  {
   "cell_type": "markdown",
   "id": "aa45a8d7",
   "metadata": {},
   "source": [
    "The columns 'nation_position' and 'nation_jersey_number' are related. These columns would also be related to the 'nationality' column as they are all related to nations"
   ]
  },
  {
   "cell_type": "code",
   "execution_count": 10,
   "id": "566af1f3",
   "metadata": {
    "scrolled": true
   },
   "outputs": [
    {
     "data": {
      "text/plain": [
       "array(['Uruguay', 'France', 'Germany', 'Croatia', 'Spain', 'Argentina',\n",
       "       'Morocco', 'Italy', 'Bosnia Herzegovina', 'England', 'Serbia',\n",
       "       'Japan', 'Mexico', 'Slovakia', 'United States', 'Portugal',\n",
       "       'Brazil', 'Poland', 'Algeria', 'Netherlands', 'Armenia', 'Turkey',\n",
       "       'Montenegro', 'Cameroon', 'Bulgaria', 'Ivory Coast', 'Denmark',\n",
       "       'Belgium', 'Nigeria', 'Venezuela', 'Ghana', 'Togo', 'Switzerland',\n",
       "       'Senegal', 'Tunisia', 'Sweden', 'Gabon', 'Costa Rica',\n",
       "       'South Africa', 'Russia', 'Paraguay', 'Colombia', 'Ukraine',\n",
       "       'Austria', 'Canada', 'North Macedonia', 'Chile', 'Romania',\n",
       "       'Iceland', 'Guinea', 'Mali', 'Congo', 'Albania', 'Benin',\n",
       "       'Hungary', 'Israel', 'DR Congo', 'Republic of Ireland',\n",
       "       'Australia', 'Czech Republic', 'Norway', 'Cuba', 'Saudi Arabia',\n",
       "       'Georgia', 'Greece', 'Kenya', 'Mozambique', 'Burkina Faso',\n",
       "       'Scotland', 'Lithuania', 'Iran', 'Egypt', 'Cape Verde', 'Latvia',\n",
       "       'Uzbekistan', 'Estonia', 'Oman', 'Angola', 'Liberia',\n",
       "       'Guinea Bissau', 'Korea Republic', 'Finland', 'Belarus',\n",
       "       'Trinidad & Tobago', 'Honduras', 'Iraq', 'Haiti', 'Wales',\n",
       "       'Panama', 'Slovenia', 'New Zealand', 'Zambia', 'New Caledonia',\n",
       "       'Jamaica', 'Kosovo', 'Philippines', 'Peru', 'Cyprus', 'Zimbabwe',\n",
       "       'Equatorial Guinea', 'Sierra Leone', 'Barbados', 'Ecuador',\n",
       "       'Niger', 'Curacao', 'Guatemala', 'Central African Republic',\n",
       "       'Northern Ireland', 'Syria', 'Korea DPR', 'Kazakhstan', 'Moldova',\n",
       "       'Guam', 'Antigua & Barbuda', 'Madagascar', 'Bahrain',\n",
       "       'Turkmenistan', 'Guyana', 'Comoros', 'Jordan', 'Gambia', 'Sudan',\n",
       "       'Mauritania', 'Bermuda', 'Suriname', 'Kuwait', 'Burundi',\n",
       "       'China PR', 'Thailand', 'Luxembourg', 'Libya', 'Uganda', 'Lebanon',\n",
       "       'Gibraltar', 'Palestine', 'Malta', 'Liechtenstein',\n",
       "       'Faroe Islands', 'Cambodia', 'Grenada', 'Azerbaijan',\n",
       "       'Saint Kitts and Nevis', 'Kyrgyzstan', 'Fiji', 'Saint Lucia',\n",
       "       'India', 'Montserrat', 'Indonesia'], dtype=object)"
      ]
     },
     "execution_count": 10,
     "metadata": {},
     "output_type": "execute_result"
    }
   ],
   "source": [
    "df[df['nation_position'].isna()]['nationality'].unique()"
   ]
  },
  {
   "cell_type": "code",
   "execution_count": 11,
   "id": "3372fe3d",
   "metadata": {},
   "outputs": [
    {
     "data": {
      "text/plain": [
       "array([nan, 'LS', 'LCB', 'GK', 'LB', 'LM', 'RS', 'SUB', 'CAM', 'RB', 'RM',\n",
       "       'CDM', 'RCB'], dtype=object)"
      ]
     },
     "execution_count": 11,
     "metadata": {},
     "output_type": "execute_result"
    }
   ],
   "source": [
    "df[df['nationality'] == 'Uruguay']['nation_position'].unique()"
   ]
  },
  {
   "cell_type": "code",
   "execution_count": 12,
   "id": "fec6a917",
   "metadata": {},
   "outputs": [
    {
     "data": {
      "text/plain": [
       "array([nan, 10.,  1., 19., 14., 16., 11., 23.,  4.,  5.,  6.,  8., 13.,\n",
       "       22., 20.,  3., 21., 12.,  2., 15.,  7.,  9., 17., 18.])"
      ]
     },
     "execution_count": 12,
     "metadata": {},
     "output_type": "execute_result"
    }
   ],
   "source": [
    "df[df['nationality'] == 'France']['nation_jersey_number'].unique()"
   ]
  },
  {
   "cell_type": "markdown",
   "id": "9b519589",
   "metadata": {},
   "source": [
    "As shown from the findings above, the nation position and nation jersey number does not have a hard value tied to a particular nationality. Hence, a unique value cannot be identified for the diff. nations"
   ]
  },
  {
   "cell_type": "code",
   "execution_count": 13,
   "id": "d40c19b0",
   "metadata": {},
   "outputs": [],
   "source": [
    "df[['nation_position', 'nation_jersey_number']] = df[['nation_position', 'nation_jersey_number']].fillna('Unidentified')"
   ]
  },
  {
   "cell_type": "code",
   "execution_count": 14,
   "id": "da3b7c17",
   "metadata": {},
   "outputs": [
    {
     "data": {
      "text/plain": [
       "league_rank         239\n",
       "player_tags       14919\n",
       "loaned_from       15243\n",
       "joined             1151\n",
       "pace               1775\n",
       "shooting           1775\n",
       "passing            1775\n",
       "dribbling          1775\n",
       "defending          1775\n",
       "physic             1775\n",
       "gk_diving         14380\n",
       "gk_handling       14380\n",
       "gk_kicking        14380\n",
       "gk_reflexes       14380\n",
       "gk_speed          14380\n",
       "gk_positioning    14380\n",
       "player_traits      9556\n",
       "dtype: int64"
      ]
     },
     "execution_count": 14,
     "metadata": {},
     "output_type": "execute_result"
    }
   ],
   "source": [
    "df[df.columns[df.isnull().any()]].isnull().sum()"
   ]
  },
  {
   "cell_type": "code",
   "execution_count": 15,
   "id": "55e9bd52",
   "metadata": {},
   "outputs": [
    {
     "data": {
      "text/plain": [
       "count    1775.000000\n",
       "mean       64.624789\n",
       "std         7.779809\n",
       "min        35.000000\n",
       "25%        59.000000\n",
       "50%        64.000000\n",
       "75%        69.000000\n",
       "max        88.000000\n",
       "Name: gk_diving, dtype: float64"
      ]
     },
     "execution_count": 15,
     "metadata": {},
     "output_type": "execute_result"
    }
   ],
   "source": [
    "df['gk_diving'].describe()"
   ]
  },
  {
   "cell_type": "code",
   "execution_count": 16,
   "id": "711e1ba6",
   "metadata": {},
   "outputs": [
    {
     "data": {
      "text/plain": [
       "count    16155.000000\n",
       "mean        15.869514\n",
       "std         17.576799\n",
       "min          1.000000\n",
       "25%          8.000000\n",
       "50%         11.000000\n",
       "75%         13.000000\n",
       "max         88.000000\n",
       "Name: goalkeeping_diving, dtype: float64"
      ]
     },
     "execution_count": 16,
     "metadata": {},
     "output_type": "execute_result"
    }
   ],
   "source": [
    "df['goalkeeping_diving'].describe()"
   ]
  },
  {
   "cell_type": "code",
   "execution_count": 17,
   "id": "1d243fca",
   "metadata": {},
   "outputs": [
    {
     "data": {
      "image/png": "[encoded data removed]",
      "text/plain": [
       "<Figure size 500x800 with 10 Axes>"
      ]
     },
     "metadata": {
      "needs_background": "light"
     },
     "output_type": "display_data"
    }
   ],
   "source": [
    "fig, axes = plt.subplots(5, 2, dpi=100, figsize=(5,8))\n",
    "\n",
    "gk = ['gk_diving', 'gk_handling', 'gk_kicking', 'gk_reflexes', 'gk_positioning']\n",
    "goalkeeping = ['goalkeeping_diving', 'goalkeeping_handling', 'goalkeeping_kicking', 'goalkeeping_reflexes', 'goalkeeping_positioning']\n",
    "\n",
    "for i in range(len(gk)):\n",
    "    \n",
    "    # to plot the values in gk\n",
    "    sns.kdeplot(ax=axes[i,0], x=gk[i], data=df)\n",
    "    #axes[i,0].set_title(gk[i])\n",
    "    \n",
    "    # to plot the values in goalkeeping\n",
    "    sns.kdeplot(ax=axes[i,1], x=goalkeeping[i], data=df)\n",
    "    #axes[i,1].set_title(goalkeeping[i])\n",
    "    \n",
    "plt.tight_layout()"
   ]
  },
  {
   "cell_type": "code",
   "execution_count": 18,
   "id": "7bc5634c",
   "metadata": {},
   "outputs": [
    {
     "data": {
      "image/png": "[encoded data removed]",
      "text/plain": [
       "<Figure size 500x800 with 10 Axes>"
      ]
     },
     "metadata": {
      "needs_background": "light"
     },
     "output_type": "display_data"
    }
   ],
   "source": [
    "fig, axes = plt.subplots(5, 2, dpi=100, figsize=(5,8))\n",
    "\n",
    "gk = ['gk_diving', 'gk_handling', 'gk_kicking', 'gk_reflexes', 'gk_positioning']\n",
    "goalkeeping = ['goalkeeping_diving', 'goalkeeping_handling', 'goalkeeping_kicking', 'goalkeeping_reflexes', 'goalkeeping_positioning']\n",
    "\n",
    "for i in range(len(gk)):\n",
    "    \n",
    "    # to plot the values in gk\n",
    "    sns.boxplot(ax=axes[i,0], x=gk[i], data=df)\n",
    "    #axes[i,0].set_title(gk[i])\n",
    "    \n",
    "    # to plot the values in goalkeeping\n",
    "    sns.boxplot(ax=axes[i,1], x=goalkeeping[i], data=df)\n",
    "    #axes[i,1].set_title(goalkeeping[i])\n",
    "    \n",
    "plt.tight_layout()"
   ]
  },
  {
   "cell_type": "markdown",
   "id": "22538212",
   "metadata": {},
   "source": [
    "From the charts and tables above, it seems that values in the goalkeeping columns are very skewed to the right despite those two lists containing similar scoring attributes - both are on goalkeeping scores. Additionally, the range of values for gk and goalkeeping columns vary (i.e. don't belong to the same range)\n",
    "\n",
    "Next step is to conduct a check on other columns with scores to see if there is a particular score range for the attributes to make the job easier, we will find out the columns that contain numerical values"
   ]
  },
  {
   "cell_type": "code",
   "execution_count": 19,
   "id": "1f51c2bb",
   "metadata": {},
   "outputs": [
    {
     "data": {
      "text/html": [
       "<div>\n",
       "<style scoped>\n",
       "    .dataframe tbody tr th:only-of-type {\n",
       "        vertical-align: middle;\n",
       "    }\n",
       "\n",
       "    .dataframe tbody tr th {\n",
       "        vertical-align: top;\n",
       "    }\n",
       "\n",
       "    .dataframe thead th {\n",
       "        text-align: right;\n",
       "    }\n",
       "</style>\n",
       "<table border=\"1\" class=\"dataframe\">\n",
       "  <thead>\n",
       "    <tr style=\"text-align: right;\">\n",
       "      <th></th>\n",
       "      <th>sofifa_id</th>\n",
       "      <th>age</th>\n",
       "      <th>height_cm</th>\n",
       "      <th>weight_kg</th>\n",
       "      <th>league_rank</th>\n",
       "      <th>overall</th>\n",
       "      <th>potential</th>\n",
       "      <th>value_eur</th>\n",
       "      <th>wage_eur</th>\n",
       "      <th>international_reputation</th>\n",
       "      <th>weak_foot</th>\n",
       "      <th>skill_moves</th>\n",
       "      <th>pace</th>\n",
       "      <th>shooting</th>\n",
       "      <th>passing</th>\n",
       "      <th>dribbling</th>\n",
       "      <th>defending</th>\n",
       "      <th>physic</th>\n",
       "      <th>gk_diving</th>\n",
       "      <th>gk_handling</th>\n",
       "      <th>gk_kicking</th>\n",
       "      <th>gk_reflexes</th>\n",
       "      <th>gk_speed</th>\n",
       "      <th>gk_positioning</th>\n",
       "      <th>attacking_crossing</th>\n",
       "      <th>attacking_finishing</th>\n",
       "      <th>attacking_heading_accuracy</th>\n",
       "      <th>attacking_short_passing</th>\n",
       "      <th>attacking_volleys</th>\n",
       "      <th>skill_dribbling</th>\n",
       "      <th>skill_curve</th>\n",
       "      <th>skill_fk_accuracy</th>\n",
       "      <th>skill_long_passing</th>\n",
       "      <th>skill_ball_control</th>\n",
       "      <th>movement_acceleration</th>\n",
       "      <th>movement_sprint_speed</th>\n",
       "      <th>movement_agility</th>\n",
       "      <th>movement_reactions</th>\n",
       "      <th>movement_balance</th>\n",
       "      <th>power_shot_power</th>\n",
       "      <th>power_jumping</th>\n",
       "      <th>power_stamina</th>\n",
       "      <th>power_strength</th>\n",
       "      <th>power_long_shots</th>\n",
       "      <th>mentality_aggression</th>\n",
       "      <th>mentality_interceptions</th>\n",
       "      <th>mentality_positioning</th>\n",
       "      <th>mentality_vision</th>\n",
       "      <th>mentality_penalties</th>\n",
       "      <th>defending_marking</th>\n",
       "      <th>defending_standing_tackle</th>\n",
       "      <th>defending_sliding_tackle</th>\n",
       "      <th>goalkeeping_diving</th>\n",
       "      <th>goalkeeping_handling</th>\n",
       "      <th>goalkeeping_kicking</th>\n",
       "      <th>goalkeeping_positioning</th>\n",
       "      <th>goalkeeping_reflexes</th>\n",
       "    </tr>\n",
       "  </thead>\n",
       "  <tbody>\n",
       "    <tr>\n",
       "      <th>count</th>\n",
       "      <td>16155.000000</td>\n",
       "      <td>16155.000000</td>\n",
       "      <td>16155.000000</td>\n",
       "      <td>16155.000000</td>\n",
       "      <td>15916.000000</td>\n",
       "      <td>16155.000000</td>\n",
       "      <td>16155.000000</td>\n",
       "      <td>1.615500e+04</td>\n",
       "      <td>16155.000000</td>\n",
       "      <td>16155.000000</td>\n",
       "      <td>16155.000000</td>\n",
       "      <td>16155.000000</td>\n",
       "      <td>14380.000000</td>\n",
       "      <td>14380.000000</td>\n",
       "      <td>14380.000000</td>\n",
       "      <td>14380.000000</td>\n",
       "      <td>14380.000000</td>\n",
       "      <td>14380.000000</td>\n",
       "      <td>1775.000000</td>\n",
       "      <td>1775.000000</td>\n",
       "      <td>1775.000000</td>\n",
       "      <td>1775.000000</td>\n",
       "      <td>1775.000000</td>\n",
       "      <td>1775.000000</td>\n",
       "      <td>16155.000000</td>\n",
       "      <td>16155.000000</td>\n",
       "      <td>16155.000000</td>\n",
       "      <td>16155.000000</td>\n",
       "      <td>16155.000000</td>\n",
       "      <td>16155.000000</td>\n",
       "      <td>16155.000000</td>\n",
       "      <td>16155.000000</td>\n",
       "      <td>16155.000000</td>\n",
       "      <td>16155.000000</td>\n",
       "      <td>16155.000000</td>\n",
       "      <td>16155.000000</td>\n",
       "      <td>16155.000000</td>\n",
       "      <td>16155.000000</td>\n",
       "      <td>16155.000000</td>\n",
       "      <td>16155.000000</td>\n",
       "      <td>16155.000000</td>\n",
       "      <td>16155.000000</td>\n",
       "      <td>16155.000000</td>\n",
       "      <td>16155.000000</td>\n",
       "      <td>16155.000000</td>\n",
       "      <td>16155.000000</td>\n",
       "      <td>16155.000000</td>\n",
       "      <td>16155.000000</td>\n",
       "      <td>16155.000000</td>\n",
       "      <td>16155.000000</td>\n",
       "      <td>16155.000000</td>\n",
       "      <td>16155.000000</td>\n",
       "      <td>16155.000000</td>\n",
       "      <td>16155.000000</td>\n",
       "      <td>16155.000000</td>\n",
       "      <td>16155.000000</td>\n",
       "      <td>16155.000000</td>\n",
       "    </tr>\n",
       "    <tr>\n",
       "      <th>mean</th>\n",
       "      <td>189284.184525</td>\n",
       "      <td>24.776230</td>\n",
       "      <td>181.083627</td>\n",
       "      <td>75.474342</td>\n",
       "      <td>1.378424</td>\n",
       "      <td>63.830393</td>\n",
       "      <td>68.350108</td>\n",
       "      <td>1.060882e+06</td>\n",
       "      <td>13056.453110</td>\n",
       "      <td>1.122501</td>\n",
       "      <td>2.929619</td>\n",
       "      <td>2.265429</td>\n",
       "      <td>68.049026</td>\n",
       "      <td>51.582337</td>\n",
       "      <td>55.638665</td>\n",
       "      <td>60.525661</td>\n",
       "      <td>49.896662</td>\n",
       "      <td>64.537830</td>\n",
       "      <td>64.624789</td>\n",
       "      <td>60.765634</td>\n",
       "      <td>59.375211</td>\n",
       "      <td>65.852394</td>\n",
       "      <td>43.865915</td>\n",
       "      <td>61.147042</td>\n",
       "      <td>49.915877</td>\n",
       "      <td>45.892355</td>\n",
       "      <td>53.193377</td>\n",
       "      <td>56.907026</td>\n",
       "      <td>44.229403</td>\n",
       "      <td>54.527700</td>\n",
       "      <td>47.532343</td>\n",
       "      <td>44.354132</td>\n",
       "      <td>51.565583</td>\n",
       "      <td>57.607985</td>\n",
       "      <td>65.117858</td>\n",
       "      <td>65.585515</td>\n",
       "      <td>63.184958</td>\n",
       "      <td>60.646301</td>\n",
       "      <td>63.852553</td>\n",
       "      <td>55.978892</td>\n",
       "      <td>65.072609</td>\n",
       "      <td>63.417456</td>\n",
       "      <td>65.095574</td>\n",
       "      <td>48.329124</td>\n",
       "      <td>55.395543</td>\n",
       "      <td>46.879418</td>\n",
       "      <td>50.113278</td>\n",
       "      <td>50.765645</td>\n",
       "      <td>49.648344</td>\n",
       "      <td>45.009037</td>\n",
       "      <td>47.656639</td>\n",
       "      <td>45.885918</td>\n",
       "      <td>15.869514</td>\n",
       "      <td>15.511668</td>\n",
       "      <td>15.354875</td>\n",
       "      <td>15.504735</td>\n",
       "      <td>15.998514</td>\n",
       "    </tr>\n",
       "    <tr>\n",
       "      <th>std</th>\n",
       "      <td>39749.261554</td>\n",
       "      <td>4.625321</td>\n",
       "      <td>6.618974</td>\n",
       "      <td>6.891796</td>\n",
       "      <td>0.736796</td>\n",
       "      <td>7.169896</td>\n",
       "      <td>6.580610</td>\n",
       "      <td>2.819128e+06</td>\n",
       "      <td>23488.182571</td>\n",
       "      <td>0.396263</td>\n",
       "      <td>0.650281</td>\n",
       "      <td>0.717399</td>\n",
       "      <td>10.965779</td>\n",
       "      <td>13.401158</td>\n",
       "      <td>10.725853</td>\n",
       "      <td>10.758680</td>\n",
       "      <td>15.788470</td>\n",
       "      <td>9.700209</td>\n",
       "      <td>7.779809</td>\n",
       "      <td>8.461082</td>\n",
       "      <td>8.640448</td>\n",
       "      <td>8.319891</td>\n",
       "      <td>8.484421</td>\n",
       "      <td>9.134613</td>\n",
       "      <td>15.772594</td>\n",
       "      <td>16.631994</td>\n",
       "      <td>14.759745</td>\n",
       "      <td>14.510707</td>\n",
       "      <td>15.304337</td>\n",
       "      <td>16.193951</td>\n",
       "      <td>16.105431</td>\n",
       "      <td>15.642168</td>\n",
       "      <td>14.867562</td>\n",
       "      <td>15.239856</td>\n",
       "      <td>13.689466</td>\n",
       "      <td>13.281079</td>\n",
       "      <td>14.271756</td>\n",
       "      <td>9.542055</td>\n",
       "      <td>13.389376</td>\n",
       "      <td>16.078853</td>\n",
       "      <td>11.620670</td>\n",
       "      <td>15.195508</td>\n",
       "      <td>12.616545</td>\n",
       "      <td>16.585339</td>\n",
       "      <td>16.814330</td>\n",
       "      <td>18.278554</td>\n",
       "      <td>16.395071</td>\n",
       "      <td>15.098199</td>\n",
       "      <td>14.552244</td>\n",
       "      <td>17.915206</td>\n",
       "      <td>18.743105</td>\n",
       "      <td>18.145497</td>\n",
       "      <td>17.576799</td>\n",
       "      <td>16.414173</td>\n",
       "      <td>16.010498</td>\n",
       "      <td>16.585081</td>\n",
       "      <td>17.983209</td>\n",
       "    </tr>\n",
       "    <tr>\n",
       "      <th>min</th>\n",
       "      <td>2.000000</td>\n",
       "      <td>16.000000</td>\n",
       "      <td>155.000000</td>\n",
       "      <td>50.000000</td>\n",
       "      <td>1.000000</td>\n",
       "      <td>40.000000</td>\n",
       "      <td>40.000000</td>\n",
       "      <td>0.000000e+00</td>\n",
       "      <td>0.000000</td>\n",
       "      <td>1.000000</td>\n",
       "      <td>1.000000</td>\n",
       "      <td>1.000000</td>\n",
       "      <td>22.000000</td>\n",
       "      <td>22.000000</td>\n",
       "      <td>24.000000</td>\n",
       "      <td>25.000000</td>\n",
       "      <td>21.000000</td>\n",
       "      <td>28.000000</td>\n",
       "      <td>35.000000</td>\n",
       "      <td>36.000000</td>\n",
       "      <td>21.000000</td>\n",
       "      <td>31.000000</td>\n",
       "      <td>20.000000</td>\n",
       "      <td>38.000000</td>\n",
       "      <td>20.000000</td>\n",
       "      <td>20.000000</td>\n",
       "      <td>20.000000</td>\n",
       "      <td>20.000000</td>\n",
       "      <td>20.000000</td>\n",
       "      <td>20.000000</td>\n",
       "      <td>20.000000</td>\n",
       "      <td>20.000000</td>\n",
       "      <td>20.000000</td>\n",
       "      <td>20.000000</td>\n",
       "      <td>20.000000</td>\n",
       "      <td>20.000000</td>\n",
       "      <td>20.000000</td>\n",
       "      <td>20.000000</td>\n",
       "      <td>20.000000</td>\n",
       "      <td>20.000000</td>\n",
       "      <td>20.000000</td>\n",
       "      <td>20.000000</td>\n",
       "      <td>21.000000</td>\n",
       "      <td>20.000000</td>\n",
       "      <td>20.000000</td>\n",
       "      <td>20.000000</td>\n",
       "      <td>20.000000</td>\n",
       "      <td>20.000000</td>\n",
       "      <td>20.000000</td>\n",
       "      <td>20.000000</td>\n",
       "      <td>20.000000</td>\n",
       "      <td>20.000000</td>\n",
       "      <td>1.000000</td>\n",
       "      <td>1.000000</td>\n",
       "      <td>1.000000</td>\n",
       "      <td>1.000000</td>\n",
       "      <td>1.000000</td>\n",
       "    </tr>\n",
       "    <tr>\n",
       "      <th>25%</th>\n",
       "      <td>178042.500000</td>\n",
       "      <td>21.000000</td>\n",
       "      <td>176.000000</td>\n",
       "      <td>70.000000</td>\n",
       "      <td>1.000000</td>\n",
       "      <td>59.000000</td>\n",
       "      <td>64.000000</td>\n",
       "      <td>1.200000e+05</td>\n",
       "      <td>2000.000000</td>\n",
       "      <td>1.000000</td>\n",
       "      <td>3.000000</td>\n",
       "      <td>2.000000</td>\n",
       "      <td>62.000000</td>\n",
       "      <td>41.000000</td>\n",
       "      <td>49.000000</td>\n",
       "      <td>54.000000</td>\n",
       "      <td>33.000000</td>\n",
       "      <td>58.000000</td>\n",
       "      <td>59.000000</td>\n",
       "      <td>55.000000</td>\n",
       "      <td>53.000000</td>\n",
       "      <td>60.000000</td>\n",
       "      <td>39.000000</td>\n",
       "      <td>54.000000</td>\n",
       "      <td>37.000000</td>\n",
       "      <td>29.000000</td>\n",
       "      <td>45.000000</td>\n",
       "      <td>50.000000</td>\n",
       "      <td>30.000000</td>\n",
       "      <td>45.000000</td>\n",
       "      <td>34.000000</td>\n",
       "      <td>31.000000</td>\n",
       "      <td>41.000000</td>\n",
       "      <td>52.000000</td>\n",
       "      <td>56.500000</td>\n",
       "      <td>57.000000</td>\n",
       "      <td>56.000000</td>\n",
       "      <td>54.000000</td>\n",
       "      <td>56.000000</td>\n",
       "      <td>46.000000</td>\n",
       "      <td>58.000000</td>\n",
       "      <td>56.000000</td>\n",
       "      <td>58.000000</td>\n",
       "      <td>33.000000</td>\n",
       "      <td>43.000000</td>\n",
       "      <td>25.000000</td>\n",
       "      <td>37.000000</td>\n",
       "      <td>41.000000</td>\n",
       "      <td>39.000000</td>\n",
       "      <td>25.000000</td>\n",
       "      <td>25.000000</td>\n",
       "      <td>25.000000</td>\n",
       "      <td>8.000000</td>\n",
       "      <td>8.000000</td>\n",
       "      <td>8.000000</td>\n",
       "      <td>8.000000</td>\n",
       "      <td>8.000000</td>\n",
       "    </tr>\n",
       "    <tr>\n",
       "      <th>50%</th>\n",
       "      <td>200841.000000</td>\n",
       "      <td>24.000000</td>\n",
       "      <td>181.000000</td>\n",
       "      <td>75.000000</td>\n",
       "      <td>1.000000</td>\n",
       "      <td>64.000000</td>\n",
       "      <td>68.000000</td>\n",
       "      <td>3.500000e+05</td>\n",
       "      <td>5000.000000</td>\n",
       "      <td>1.000000</td>\n",
       "      <td>3.000000</td>\n",
       "      <td>2.000000</td>\n",
       "      <td>69.000000</td>\n",
       "      <td>53.000000</td>\n",
       "      <td>56.000000</td>\n",
       "      <td>62.000000</td>\n",
       "      <td>53.000000</td>\n",
       "      <td>65.000000</td>\n",
       "      <td>64.000000</td>\n",
       "      <td>61.000000</td>\n",
       "      <td>59.000000</td>\n",
       "      <td>65.000000</td>\n",
       "      <td>44.000000</td>\n",
       "      <td>61.000000</td>\n",
       "      <td>52.000000</td>\n",
       "      <td>47.000000</td>\n",
       "      <td>55.000000</td>\n",
       "      <td>60.000000</td>\n",
       "      <td>44.000000</td>\n",
       "      <td>58.000000</td>\n",
       "      <td>48.000000</td>\n",
       "      <td>42.000000</td>\n",
       "      <td>54.000000</td>\n",
       "      <td>61.000000</td>\n",
       "      <td>67.000000</td>\n",
       "      <td>68.000000</td>\n",
       "      <td>65.000000</td>\n",
       "      <td>61.000000</td>\n",
       "      <td>65.000000</td>\n",
       "      <td>59.000000</td>\n",
       "      <td>65.000000</td>\n",
       "      <td>66.000000</td>\n",
       "      <td>66.000000</td>\n",
       "      <td>51.000000</td>\n",
       "      <td>58.000000</td>\n",
       "      <td>50.000000</td>\n",
       "      <td>53.000000</td>\n",
       "      <td>52.000000</td>\n",
       "      <td>50.000000</td>\n",
       "      <td>46.000000</td>\n",
       "      <td>52.000000</td>\n",
       "      <td>49.000000</td>\n",
       "      <td>11.000000</td>\n",
       "      <td>11.000000</td>\n",
       "      <td>11.000000</td>\n",
       "      <td>10.000000</td>\n",
       "      <td>10.000000</td>\n",
       "    </tr>\n",
       "    <tr>\n",
       "      <th>75%</th>\n",
       "      <td>214346.000000</td>\n",
       "      <td>28.000000</td>\n",
       "      <td>186.000000</td>\n",
       "      <td>80.000000</td>\n",
       "      <td>2.000000</td>\n",
       "      <td>68.000000</td>\n",
       "      <td>73.000000</td>\n",
       "      <td>8.250000e+05</td>\n",
       "      <td>10000.000000</td>\n",
       "      <td>1.000000</td>\n",
       "      <td>3.000000</td>\n",
       "      <td>3.000000</td>\n",
       "      <td>75.000000</td>\n",
       "      <td>62.000000</td>\n",
       "      <td>63.000000</td>\n",
       "      <td>68.000000</td>\n",
       "      <td>63.000000</td>\n",
       "      <td>72.000000</td>\n",
       "      <td>69.000000</td>\n",
       "      <td>67.000000</td>\n",
       "      <td>65.000000</td>\n",
       "      <td>71.000000</td>\n",
       "      <td>49.000000</td>\n",
       "      <td>68.000000</td>\n",
       "      <td>62.000000</td>\n",
       "      <td>60.000000</td>\n",
       "      <td>64.000000</td>\n",
       "      <td>67.000000</td>\n",
       "      <td>57.000000</td>\n",
       "      <td>66.000000</td>\n",
       "      <td>60.000000</td>\n",
       "      <td>57.000000</td>\n",
       "      <td>63.000000</td>\n",
       "      <td>68.000000</td>\n",
       "      <td>75.000000</td>\n",
       "      <td>75.000000</td>\n",
       "      <td>74.000000</td>\n",
       "      <td>67.000000</td>\n",
       "      <td>73.000000</td>\n",
       "      <td>68.000000</td>\n",
       "      <td>73.000000</td>\n",
       "      <td>74.000000</td>\n",
       "      <td>74.000000</td>\n",
       "      <td>62.000000</td>\n",
       "      <td>68.000000</td>\n",
       "      <td>63.000000</td>\n",
       "      <td>63.000000</td>\n",
       "      <td>62.000000</td>\n",
       "      <td>61.000000</td>\n",
       "      <td>61.000000</td>\n",
       "      <td>64.000000</td>\n",
       "      <td>62.000000</td>\n",
       "      <td>13.000000</td>\n",
       "      <td>14.000000</td>\n",
       "      <td>13.000000</td>\n",
       "      <td>13.000000</td>\n",
       "      <td>13.000000</td>\n",
       "    </tr>\n",
       "    <tr>\n",
       "      <th>max</th>\n",
       "      <td>225562.000000</td>\n",
       "      <td>44.000000</td>\n",
       "      <td>204.000000</td>\n",
       "      <td>110.000000</td>\n",
       "      <td>4.000000</td>\n",
       "      <td>93.000000</td>\n",
       "      <td>95.000000</td>\n",
       "      <td>1.005000e+08</td>\n",
       "      <td>550000.000000</td>\n",
       "      <td>5.000000</td>\n",
       "      <td>5.000000</td>\n",
       "      <td>5.000000</td>\n",
       "      <td>97.000000</td>\n",
       "      <td>93.000000</td>\n",
       "      <td>91.000000</td>\n",
       "      <td>96.000000</td>\n",
       "      <td>90.000000</td>\n",
       "      <td>91.000000</td>\n",
       "      <td>88.000000</td>\n",
       "      <td>87.000000</td>\n",
       "      <td>92.000000</td>\n",
       "      <td>90.000000</td>\n",
       "      <td>66.000000</td>\n",
       "      <td>90.000000</td>\n",
       "      <td>91.000000</td>\n",
       "      <td>95.000000</td>\n",
       "      <td>94.000000</td>\n",
       "      <td>95.000000</td>\n",
       "      <td>92.000000</td>\n",
       "      <td>96.000000</td>\n",
       "      <td>94.000000</td>\n",
       "      <td>93.000000</td>\n",
       "      <td>95.000000</td>\n",
       "      <td>96.000000</td>\n",
       "      <td>97.000000</td>\n",
       "      <td>97.000000</td>\n",
       "      <td>96.000000</td>\n",
       "      <td>94.000000</td>\n",
       "      <td>97.000000</td>\n",
       "      <td>96.000000</td>\n",
       "      <td>97.000000</td>\n",
       "      <td>95.000000</td>\n",
       "      <td>97.000000</td>\n",
       "      <td>93.000000</td>\n",
       "      <td>95.000000</td>\n",
       "      <td>93.000000</td>\n",
       "      <td>94.000000</td>\n",
       "      <td>96.000000</td>\n",
       "      <td>95.000000</td>\n",
       "      <td>90.000000</td>\n",
       "      <td>91.000000</td>\n",
       "      <td>95.000000</td>\n",
       "      <td>88.000000</td>\n",
       "      <td>87.000000</td>\n",
       "      <td>92.000000</td>\n",
       "      <td>90.000000</td>\n",
       "      <td>90.000000</td>\n",
       "    </tr>\n",
       "  </tbody>\n",
       "</table>\n",
       "</div>"
      ],
      "text/plain": [
       "           sofifa_id           age     height_cm     weight_kg   league_rank  \\\n",
       "count   16155.000000  16155.000000  16155.000000  16155.000000  15916.000000   \n",
       "mean   189284.184525     24.776230    181.083627     75.474342      1.378424   \n",
       "std     39749.261554      4.625321      6.618974      6.891796      0.736796   \n",
       "min         2.000000     16.000000    155.000000     50.000000      1.000000   \n",
       "25%    178042.500000     21.000000    176.000000     70.000000      1.000000   \n",
       "50%    200841.000000     24.000000    181.000000     75.000000      1.000000   \n",
       "75%    214346.000000     28.000000    186.000000     80.000000      2.000000   \n",
       "max    225562.000000     44.000000    204.000000    110.000000      4.000000   \n",
       "\n",
       "            overall     potential     value_eur       wage_eur  \\\n",
       "count  16155.000000  16155.000000  1.615500e+04   16155.000000   \n",
       "mean      63.830393     68.350108  1.060882e+06   13056.453110   \n",
       "std        7.169896      6.580610  2.819128e+06   23488.182571   \n",
       "min       40.000000     40.000000  0.000000e+00       0.000000   \n",
       "25%       59.000000     64.000000  1.200000e+05    2000.000000   \n",
       "50%       64.000000     68.000000  3.500000e+05    5000.000000   \n",
       "75%       68.000000     73.000000  8.250000e+05   10000.000000   \n",
       "max       93.000000     95.000000  1.005000e+08  550000.000000   \n",
       "\n",
       "       international_reputation     weak_foot   skill_moves          pace  \\\n",
       "count              16155.000000  16155.000000  16155.000000  14380.000000   \n",
       "mean                   1.122501      2.929619      2.265429     68.049026   \n",
       "std                    0.396263      0.650281      0.717399     10.965779   \n",
       "min                    1.000000      1.000000      1.000000     22.000000   \n",
       "25%                    1.000000      3.000000      2.000000     62.000000   \n",
       "50%                    1.000000      3.000000      2.000000     69.000000   \n",
       "75%                    1.000000      3.000000      3.000000     75.000000   \n",
       "max                    5.000000      5.000000      5.000000     97.000000   \n",
       "\n",
       "           shooting       passing     dribbling     defending        physic  \\\n",
       "count  14380.000000  14380.000000  14380.000000  14380.000000  14380.000000   \n",
       "mean      51.582337     55.638665     60.525661     49.896662     64.537830   \n",
       "std       13.401158     10.725853     10.758680     15.788470      9.700209   \n",
       "min       22.000000     24.000000     25.000000     21.000000     28.000000   \n",
       "25%       41.000000     49.000000     54.000000     33.000000     58.000000   \n",
       "50%       53.000000     56.000000     62.000000     53.000000     65.000000   \n",
       "75%       62.000000     63.000000     68.000000     63.000000     72.000000   \n",
       "max       93.000000     91.000000     96.000000     90.000000     91.000000   \n",
       "\n",
       "         gk_diving  gk_handling   gk_kicking  gk_reflexes     gk_speed  \\\n",
       "count  1775.000000  1775.000000  1775.000000  1775.000000  1775.000000   \n",
       "mean     64.624789    60.765634    59.375211    65.852394    43.865915   \n",
       "std       7.779809     8.461082     8.640448     8.319891     8.484421   \n",
       "min      35.000000    36.000000    21.000000    31.000000    20.000000   \n",
       "25%      59.000000    55.000000    53.000000    60.000000    39.000000   \n",
       "50%      64.000000    61.000000    59.000000    65.000000    44.000000   \n",
       "75%      69.000000    67.000000    65.000000    71.000000    49.000000   \n",
       "max      88.000000    87.000000    92.000000    90.000000    66.000000   \n",
       "\n",
       "       gk_positioning  attacking_crossing  attacking_finishing  \\\n",
       "count     1775.000000        16155.000000         16155.000000   \n",
       "mean        61.147042           49.915877            45.892355   \n",
       "std          9.134613           15.772594            16.631994   \n",
       "min         38.000000           20.000000            20.000000   \n",
       "25%         54.000000           37.000000            29.000000   \n",
       "50%         61.000000           52.000000            47.000000   \n",
       "75%         68.000000           62.000000            60.000000   \n",
       "max         90.000000           91.000000            95.000000   \n",
       "\n",
       "       attacking_heading_accuracy  attacking_short_passing  attacking_volleys  \\\n",
       "count                16155.000000             16155.000000       16155.000000   \n",
       "mean                    53.193377                56.907026          44.229403   \n",
       "std                     14.759745                14.510707          15.304337   \n",
       "min                     20.000000                20.000000          20.000000   \n",
       "25%                     45.000000                50.000000          30.000000   \n",
       "50%                     55.000000                60.000000          44.000000   \n",
       "75%                     64.000000                67.000000          57.000000   \n",
       "max                     94.000000                95.000000          92.000000   \n",
       "\n",
       "       skill_dribbling   skill_curve  skill_fk_accuracy  skill_long_passing  \\\n",
       "count     16155.000000  16155.000000       16155.000000        16155.000000   \n",
       "mean         54.527700     47.532343          44.354132           51.565583   \n",
       "std          16.193951     16.105431          15.642168           14.867562   \n",
       "min          20.000000     20.000000          20.000000           20.000000   \n",
       "25%          45.000000     34.000000          31.000000           41.000000   \n",
       "50%          58.000000     48.000000          42.000000           54.000000   \n",
       "75%          66.000000     60.000000          57.000000           63.000000   \n",
       "max          96.000000     94.000000          93.000000           95.000000   \n",
       "\n",
       "       skill_ball_control  movement_acceleration  movement_sprint_speed  \\\n",
       "count        16155.000000           16155.000000           16155.000000   \n",
       "mean            57.607985              65.117858              65.585515   \n",
       "std             15.239856              13.689466              13.281079   \n",
       "min             20.000000              20.000000              20.000000   \n",
       "25%             52.000000              56.500000              57.000000   \n",
       "50%             61.000000              67.000000              68.000000   \n",
       "75%             68.000000              75.000000              75.000000   \n",
       "max             96.000000              97.000000              97.000000   \n",
       "\n",
       "       movement_agility  movement_reactions  movement_balance  \\\n",
       "count      16155.000000        16155.000000      16155.000000   \n",
       "mean          63.184958           60.646301         63.852553   \n",
       "std           14.271756            9.542055         13.389376   \n",
       "min           20.000000           20.000000         20.000000   \n",
       "25%           56.000000           54.000000         56.000000   \n",
       "50%           65.000000           61.000000         65.000000   \n",
       "75%           74.000000           67.000000         73.000000   \n",
       "max           96.000000           94.000000         97.000000   \n",
       "\n",
       "       power_shot_power  power_jumping  power_stamina  power_strength  \\\n",
       "count      16155.000000   16155.000000   16155.000000    16155.000000   \n",
       "mean          55.978892      65.072609      63.417456       65.095574   \n",
       "std           16.078853      11.620670      15.195508       12.616545   \n",
       "min           20.000000      20.000000      20.000000       21.000000   \n",
       "25%           46.000000      58.000000      56.000000       58.000000   \n",
       "50%           59.000000      65.000000      66.000000       66.000000   \n",
       "75%           68.000000      73.000000      74.000000       74.000000   \n",
       "max           96.000000      97.000000      95.000000       97.000000   \n",
       "\n",
       "       power_long_shots  mentality_aggression  mentality_interceptions  \\\n",
       "count      16155.000000          16155.000000             16155.000000   \n",
       "mean          48.329124             55.395543                46.879418   \n",
       "std           16.585339             16.814330                18.278554   \n",
       "min           20.000000             20.000000                20.000000   \n",
       "25%           33.000000             43.000000                25.000000   \n",
       "50%           51.000000             58.000000                50.000000   \n",
       "75%           62.000000             68.000000                63.000000   \n",
       "max           93.000000             95.000000                93.000000   \n",
       "\n",
       "       mentality_positioning  mentality_vision  mentality_penalties  \\\n",
       "count           16155.000000      16155.000000         16155.000000   \n",
       "mean               50.113278         50.765645            49.648344   \n",
       "std                16.395071         15.098199            14.552244   \n",
       "min                20.000000         20.000000            20.000000   \n",
       "25%                37.000000         41.000000            39.000000   \n",
       "50%                53.000000         52.000000            50.000000   \n",
       "75%                63.000000         62.000000            61.000000   \n",
       "max                94.000000         96.000000            95.000000   \n",
       "\n",
       "       defending_marking  defending_standing_tackle  defending_sliding_tackle  \\\n",
       "count       16155.000000               16155.000000              16155.000000   \n",
       "mean           45.009037                  47.656639                 45.885918   \n",
       "std            17.915206                  18.743105                 18.145497   \n",
       "min            20.000000                  20.000000                 20.000000   \n",
       "25%            25.000000                  25.000000                 25.000000   \n",
       "50%            46.000000                  52.000000                 49.000000   \n",
       "75%            61.000000                  64.000000                 62.000000   \n",
       "max            90.000000                  91.000000                 95.000000   \n",
       "\n",
       "       goalkeeping_diving  goalkeeping_handling  goalkeeping_kicking  \\\n",
       "count        16155.000000          16155.000000         16155.000000   \n",
       "mean            15.869514             15.511668            15.354875   \n",
       "std             17.576799             16.414173            16.010498   \n",
       "min              1.000000              1.000000             1.000000   \n",
       "25%              8.000000              8.000000             8.000000   \n",
       "50%             11.000000             11.000000            11.000000   \n",
       "75%             13.000000             14.000000            13.000000   \n",
       "max             88.000000             87.000000            92.000000   \n",
       "\n",
       "       goalkeeping_positioning  goalkeeping_reflexes  \n",
       "count             16155.000000          16155.000000  \n",
       "mean                 15.504735             15.998514  \n",
       "std                  16.585081             17.983209  \n",
       "min                   1.000000              1.000000  \n",
       "25%                   8.000000              8.000000  \n",
       "50%                  10.000000             10.000000  \n",
       "75%                  13.000000             13.000000  \n",
       "max                  90.000000             90.000000  "
      ]
     },
     "execution_count": 19,
     "metadata": {},
     "output_type": "execute_result"
    }
   ],
   "source": [
    "checklist = list(df.select_dtypes(exclude='object').columns)\n",
    "pd.set_option('display.max_columns', None)\n",
    "df[checklist].describe()"
   ]
  },
  {
   "cell_type": "markdown",
   "id": "aef5bb3e",
   "metadata": {},
   "source": [
    "Upon exploring the other attributes such as movement, power, mentality, defending. It can be deduced that the 'goalkeeping' columns contain oddly low min. scores and very wide range. Hence, the 'goalkeeping' columns should be dropped given its abnormality."
   ]
  },
  {
   "cell_type": "code",
   "execution_count": 20,
   "id": "55198207",
   "metadata": {},
   "outputs": [],
   "source": [
    "df.drop(['goalkeeping_diving', 'goalkeeping_handling', 'goalkeeping_kicking', 'goalkeeping_reflexes', 'goalkeeping_positioning'], axis=1, inplace=True)"
   ]
  },
  {
   "cell_type": "markdown",
   "id": "3b06c404",
   "metadata": {},
   "source": [
    "Now that the 'goalkeeping' columns have been dropped, we have to deal with the null values in the 'columns'"
   ]
  },
  {
   "cell_type": "code",
   "execution_count": 22,
   "id": "4a5f5c12",
   "metadata": {},
   "outputs": [
    {
     "data": {
      "image/png": "[encoded data removed]",
      "text/plain": [
       "<Figure size 500x500 with 6 Axes>"
      ]
     },
     "metadata": {
      "needs_background": "light"
     },
     "output_type": "display_data"
    }
   ],
   "source": [
    "fig, axes = plt.subplots(3, 2, dpi=100, figsize=(5,5))\n",
    "\n",
    "gk1 = ['gk_diving', 'gk_handling', 'gk_kicking']\n",
    "gk2 = ['gk_reflexes', 'gk_positioning', 'gk_speed']\n",
    "\n",
    "for i in range(len(gk1)):\n",
    "    \n",
    "    # to plot the values in gk1\n",
    "    sns.kdeplot(ax=axes[i,0], x=gk1[i], data=df)\n",
    "    \n",
    "    # to plot the values in gk2\n",
    "    sns.kdeplot(ax=axes[i,1], x=gk2[i], data=df)\n",
    "    \n",
    "plt.tight_layout()"
   ]
  },
  {
   "cell_type": "code",
   "execution_count": 23,
   "id": "6c5cae95",
   "metadata": {},
   "outputs": [
    {
     "data": {
      "image/png": "[encoded data removed]",
      "text/plain": [
       "<Figure size 500x500 with 6 Axes>"
      ]
     },
     "metadata": {
      "needs_background": "light"
     },
     "output_type": "display_data"
    }
   ],
   "source": [
    "fig, axes = plt.subplots(3, 2, dpi=100, figsize=(5,5))\n",
    "\n",
    "gk1 = ['gk_diving', 'gk_handling', 'gk_kicking']\n",
    "gk2 = ['gk_reflexes', 'gk_positioning', 'gk_speed']\n",
    "\n",
    "for i in range(len(gk1)):\n",
    "    \n",
    "    # to plot the values in gk1\n",
    "    sns.boxplot(ax=axes[i,0], x=gk1[i], data=df)\n",
    "    \n",
    "    # to plot the values in gk2\n",
    "    sns.boxplot(ax=axes[i,1], x=gk2[i], data=df)\n",
    "    \n",
    "plt.tight_layout()"
   ]
  },
  {
   "cell_type": "code",
   "execution_count": 24,
   "id": "c0c2f5c9",
   "metadata": {},
   "outputs": [
    {
     "data": {
      "text/html": [
       "<div>\n",
       "<style scoped>\n",
       "    .dataframe tbody tr th:only-of-type {\n",
       "        vertical-align: middle;\n",
       "    }\n",
       "\n",
       "    .dataframe tbody tr th {\n",
       "        vertical-align: top;\n",
       "    }\n",
       "\n",
       "    .dataframe thead th {\n",
       "        text-align: right;\n",
       "    }\n",
       "</style>\n",
       "<table border=\"1\" class=\"dataframe\">\n",
       "  <thead>\n",
       "    <tr style=\"text-align: right;\">\n",
       "      <th></th>\n",
       "      <th>gk_diving</th>\n",
       "      <th>gk_handling</th>\n",
       "      <th>gk_kicking</th>\n",
       "      <th>gk_reflexes</th>\n",
       "      <th>gk_positioning</th>\n",
       "      <th>gk_speed</th>\n",
       "    </tr>\n",
       "  </thead>\n",
       "  <tbody>\n",
       "    <tr>\n",
       "      <th>count</th>\n",
       "      <td>1775.000000</td>\n",
       "      <td>1775.000000</td>\n",
       "      <td>1775.000000</td>\n",
       "      <td>1775.000000</td>\n",
       "      <td>1775.000000</td>\n",
       "      <td>1775.000000</td>\n",
       "    </tr>\n",
       "    <tr>\n",
       "      <th>mean</th>\n",
       "      <td>64.624789</td>\n",
       "      <td>60.765634</td>\n",
       "      <td>59.375211</td>\n",
       "      <td>65.852394</td>\n",
       "      <td>61.147042</td>\n",
       "      <td>43.865915</td>\n",
       "    </tr>\n",
       "    <tr>\n",
       "      <th>std</th>\n",
       "      <td>7.779809</td>\n",
       "      <td>8.461082</td>\n",
       "      <td>8.640448</td>\n",
       "      <td>8.319891</td>\n",
       "      <td>9.134613</td>\n",
       "      <td>8.484421</td>\n",
       "    </tr>\n",
       "    <tr>\n",
       "      <th>min</th>\n",
       "      <td>35.000000</td>\n",
       "      <td>36.000000</td>\n",
       "      <td>21.000000</td>\n",
       "      <td>31.000000</td>\n",
       "      <td>38.000000</td>\n",
       "      <td>20.000000</td>\n",
       "    </tr>\n",
       "    <tr>\n",
       "      <th>25%</th>\n",
       "      <td>59.000000</td>\n",
       "      <td>55.000000</td>\n",
       "      <td>53.000000</td>\n",
       "      <td>60.000000</td>\n",
       "      <td>54.000000</td>\n",
       "      <td>39.000000</td>\n",
       "    </tr>\n",
       "    <tr>\n",
       "      <th>50%</th>\n",
       "      <td>64.000000</td>\n",
       "      <td>61.000000</td>\n",
       "      <td>59.000000</td>\n",
       "      <td>65.000000</td>\n",
       "      <td>61.000000</td>\n",
       "      <td>44.000000</td>\n",
       "    </tr>\n",
       "    <tr>\n",
       "      <th>75%</th>\n",
       "      <td>69.000000</td>\n",
       "      <td>67.000000</td>\n",
       "      <td>65.000000</td>\n",
       "      <td>71.000000</td>\n",
       "      <td>68.000000</td>\n",
       "      <td>49.000000</td>\n",
       "    </tr>\n",
       "    <tr>\n",
       "      <th>max</th>\n",
       "      <td>88.000000</td>\n",
       "      <td>87.000000</td>\n",
       "      <td>92.000000</td>\n",
       "      <td>90.000000</td>\n",
       "      <td>90.000000</td>\n",
       "      <td>66.000000</td>\n",
       "    </tr>\n",
       "  </tbody>\n",
       "</table>\n",
       "</div>"
      ],
      "text/plain": [
       "         gk_diving  gk_handling   gk_kicking  gk_reflexes  gk_positioning  \\\n",
       "count  1775.000000  1775.000000  1775.000000  1775.000000     1775.000000   \n",
       "mean     64.624789    60.765634    59.375211    65.852394       61.147042   \n",
       "std       7.779809     8.461082     8.640448     8.319891        9.134613   \n",
       "min      35.000000    36.000000    21.000000    31.000000       38.000000   \n",
       "25%      59.000000    55.000000    53.000000    60.000000       54.000000   \n",
       "50%      64.000000    61.000000    59.000000    65.000000       61.000000   \n",
       "75%      69.000000    67.000000    65.000000    71.000000       68.000000   \n",
       "max      88.000000    87.000000    92.000000    90.000000       90.000000   \n",
       "\n",
       "          gk_speed  \n",
       "count  1775.000000  \n",
       "mean     43.865915  \n",
       "std       8.484421  \n",
       "min      20.000000  \n",
       "25%      39.000000  \n",
       "50%      44.000000  \n",
       "75%      49.000000  \n",
       "max      66.000000  "
      ]
     },
     "execution_count": 24,
     "metadata": {},
     "output_type": "execute_result"
    }
   ],
   "source": [
    "df[gk1+gk2].describe()"
   ]
  },
  {
   "cell_type": "markdown",
   "id": "4164dcd1",
   "metadata": {},
   "source": [
    "As the distribution of the 'gk' attributes are mostly fairly normally distributed, we will use the mean to replace the null values in these columns."
   ]
  },
  {
   "cell_type": "code",
   "execution_count": 25,
   "id": "f501bdb8",
   "metadata": {},
   "outputs": [],
   "source": [
    "df[gk1+gk2] = df[gk1+gk2].fillna(df[gk1+gk2].mean())"
   ]
  },
  {
   "cell_type": "code",
   "execution_count": 26,
   "id": "26d062cf",
   "metadata": {},
   "outputs": [
    {
     "data": {
      "text/plain": [
       "league_rank        239\n",
       "player_tags      14919\n",
       "loaned_from      15243\n",
       "joined            1151\n",
       "pace              1775\n",
       "shooting          1775\n",
       "passing           1775\n",
       "dribbling         1775\n",
       "defending         1775\n",
       "physic            1775\n",
       "player_traits     9556\n",
       "dtype: int64"
      ]
     },
     "execution_count": 26,
     "metadata": {},
     "output_type": "execute_result"
    }
   ],
   "source": [
    "df[df.columns[df.isnull().any()]].isnull().sum()"
   ]
  },
  {
   "cell_type": "code",
   "execution_count": 27,
   "id": "b93820b3",
   "metadata": {},
   "outputs": [
    {
     "data": {
      "text/plain": [
       "array(['2004-07-01', '2009-07-01', '2009-08-28', ..., '2014-03-16',\n",
       "       '2013-11-16', '2006-06-26'], dtype=object)"
      ]
     },
     "execution_count": 27,
     "metadata": {},
     "output_type": "execute_result"
    }
   ],
   "source": [
    "df['joined'].unique()"
   ]
  },
  {
   "cell_type": "code",
   "execution_count": 28,
   "id": "a92ce45c",
   "metadata": {
    "scrolled": true
   },
   "outputs": [
    {
     "data": {
      "text/plain": [
       "array([2018.0, 2017.0, 2016.0, 2019.0, 2015.0, 2020.0, 2021.0,\n",
       "       'Unidentified', 2014.0], dtype=object)"
      ]
     },
     "execution_count": 28,
     "metadata": {},
     "output_type": "execute_result"
    }
   ],
   "source": [
    "df['contract_valid_until'].unique()"
   ]
  },
  {
   "cell_type": "code",
   "execution_count": 29,
   "id": "306d55d7",
   "metadata": {
    "scrolled": true
   },
   "outputs": [
    {
     "ename": "ValueError",
     "evalue": "cannot convert float NaN to integer",
     "output_type": "error",
     "traceback": [
      "\u001b[1;31m---------------------------------------------------------------------------\u001b[0m",
      "\u001b[1;31mValueError\u001b[0m                                Traceback (most recent call last)",
      "\u001b[1;32m~\\AppData\\Local\\Temp/ipykernel_12032/2727817218.py\u001b[0m in \u001b[0;36m<module>\u001b[1;34m\u001b[0m\n\u001b[0;32m      1\u001b[0m \u001b[1;31m# as nan is inside the 'joined' column, we are unable to find the avg. tenure of contracts for the players\u001b[0m\u001b[1;33m\u001b[0m\u001b[1;33m\u001b[0m\u001b[0m\n\u001b[0;32m      2\u001b[0m \u001b[1;33m\u001b[0m\u001b[0m\n\u001b[1;32m----> 3\u001b[1;33m \u001b[0mdf\u001b[0m\u001b[1;33m[\u001b[0m\u001b[1;34m'joined'\u001b[0m\u001b[1;33m]\u001b[0m\u001b[1;33m.\u001b[0m\u001b[0mstr\u001b[0m\u001b[1;33m[\u001b[0m\u001b[1;33m:\u001b[0m\u001b[1;36m4\u001b[0m\u001b[1;33m]\u001b[0m\u001b[1;33m.\u001b[0m\u001b[0mastype\u001b[0m\u001b[1;33m(\u001b[0m\u001b[0mint\u001b[0m\u001b[1;33m)\u001b[0m\u001b[1;33m\u001b[0m\u001b[1;33m\u001b[0m\u001b[0m\n\u001b[0m",
      "\u001b[1;32m~\\anaconda3\\lib\\site-packages\\pandas\\core\\generic.py\u001b[0m in \u001b[0;36mastype\u001b[1;34m(self, dtype, copy, errors)\u001b[0m\n\u001b[0;32m   5813\u001b[0m         \u001b[1;32melse\u001b[0m\u001b[1;33m:\u001b[0m\u001b[1;33m\u001b[0m\u001b[1;33m\u001b[0m\u001b[0m\n\u001b[0;32m   5814\u001b[0m             \u001b[1;31m# else, only a single dtype is given\u001b[0m\u001b[1;33m\u001b[0m\u001b[1;33m\u001b[0m\u001b[0m\n\u001b[1;32m-> 5815\u001b[1;33m             \u001b[0mnew_data\u001b[0m \u001b[1;33m=\u001b[0m \u001b[0mself\u001b[0m\u001b[1;33m.\u001b[0m\u001b[0m_mgr\u001b[0m\u001b[1;33m.\u001b[0m\u001b[0mastype\u001b[0m\u001b[1;33m(\u001b[0m\u001b[0mdtype\u001b[0m\u001b[1;33m=\u001b[0m\u001b[0mdtype\u001b[0m\u001b[1;33m,\u001b[0m \u001b[0mcopy\u001b[0m\u001b[1;33m=\u001b[0m\u001b[0mcopy\u001b[0m\u001b[1;33m,\u001b[0m \u001b[0merrors\u001b[0m\u001b[1;33m=\u001b[0m\u001b[0merrors\u001b[0m\u001b[1;33m)\u001b[0m\u001b[1;33m\u001b[0m\u001b[1;33m\u001b[0m\u001b[0m\n\u001b[0m\u001b[0;32m   5816\u001b[0m             \u001b[1;32mreturn\u001b[0m \u001b[0mself\u001b[0m\u001b[1;33m.\u001b[0m\u001b[0m_constructor\u001b[0m\u001b[1;33m(\u001b[0m\u001b[0mnew_data\u001b[0m\u001b[1;33m)\u001b[0m\u001b[1;33m.\u001b[0m\u001b[0m__finalize__\u001b[0m\u001b[1;33m(\u001b[0m\u001b[0mself\u001b[0m\u001b[1;33m,\u001b[0m \u001b[0mmethod\u001b[0m\u001b[1;33m=\u001b[0m\u001b[1;34m\"astype\"\u001b[0m\u001b[1;33m)\u001b[0m\u001b[1;33m\u001b[0m\u001b[1;33m\u001b[0m\u001b[0m\n\u001b[0;32m   5817\u001b[0m \u001b[1;33m\u001b[0m\u001b[0m\n",
      "\u001b[1;32m~\\anaconda3\\lib\\site-packages\\pandas\\core\\internals\\managers.py\u001b[0m in \u001b[0;36mastype\u001b[1;34m(self, dtype, copy, errors)\u001b[0m\n\u001b[0;32m    416\u001b[0m \u001b[1;33m\u001b[0m\u001b[0m\n\u001b[0;32m    417\u001b[0m     \u001b[1;32mdef\u001b[0m \u001b[0mastype\u001b[0m\u001b[1;33m(\u001b[0m\u001b[0mself\u001b[0m\u001b[1;33m:\u001b[0m \u001b[0mT\u001b[0m\u001b[1;33m,\u001b[0m \u001b[0mdtype\u001b[0m\u001b[1;33m,\u001b[0m \u001b[0mcopy\u001b[0m\u001b[1;33m:\u001b[0m \u001b[0mbool\u001b[0m \u001b[1;33m=\u001b[0m \u001b[1;32mFalse\u001b[0m\u001b[1;33m,\u001b[0m \u001b[0merrors\u001b[0m\u001b[1;33m:\u001b[0m \u001b[0mstr\u001b[0m \u001b[1;33m=\u001b[0m \u001b[1;34m\"raise\"\u001b[0m\u001b[1;33m)\u001b[0m \u001b[1;33m->\u001b[0m \u001b[0mT\u001b[0m\u001b[1;33m:\u001b[0m\u001b[1;33m\u001b[0m\u001b[1;33m\u001b[0m\u001b[0m\n\u001b[1;32m--> 418\u001b[1;33m         \u001b[1;32mreturn\u001b[0m \u001b[0mself\u001b[0m\u001b[1;33m.\u001b[0m\u001b[0mapply\u001b[0m\u001b[1;33m(\u001b[0m\u001b[1;34m\"astype\"\u001b[0m\u001b[1;33m,\u001b[0m \u001b[0mdtype\u001b[0m\u001b[1;33m=\u001b[0m\u001b[0mdtype\u001b[0m\u001b[1;33m,\u001b[0m \u001b[0mcopy\u001b[0m\u001b[1;33m=\u001b[0m\u001b[0mcopy\u001b[0m\u001b[1;33m,\u001b[0m \u001b[0merrors\u001b[0m\u001b[1;33m=\u001b[0m\u001b[0merrors\u001b[0m\u001b[1;33m)\u001b[0m\u001b[1;33m\u001b[0m\u001b[1;33m\u001b[0m\u001b[0m\n\u001b[0m\u001b[0;32m    419\u001b[0m \u001b[1;33m\u001b[0m\u001b[0m\n\u001b[0;32m    420\u001b[0m     def convert(\n",
      "\u001b[1;32m~\\anaconda3\\lib\\site-packages\\pandas\\core\\internals\\managers.py\u001b[0m in \u001b[0;36mapply\u001b[1;34m(self, f, align_keys, ignore_failures, **kwargs)\u001b[0m\n\u001b[0;32m    325\u001b[0m                     \u001b[0mapplied\u001b[0m \u001b[1;33m=\u001b[0m \u001b[0mb\u001b[0m\u001b[1;33m.\u001b[0m\u001b[0mapply\u001b[0m\u001b[1;33m(\u001b[0m\u001b[0mf\u001b[0m\u001b[1;33m,\u001b[0m \u001b[1;33m**\u001b[0m\u001b[0mkwargs\u001b[0m\u001b[1;33m)\u001b[0m\u001b[1;33m\u001b[0m\u001b[1;33m\u001b[0m\u001b[0m\n\u001b[0;32m    326\u001b[0m                 \u001b[1;32melse\u001b[0m\u001b[1;33m:\u001b[0m\u001b[1;33m\u001b[0m\u001b[1;33m\u001b[0m\u001b[0m\n\u001b[1;32m--> 327\u001b[1;33m                     \u001b[0mapplied\u001b[0m \u001b[1;33m=\u001b[0m \u001b[0mgetattr\u001b[0m\u001b[1;33m(\u001b[0m\u001b[0mb\u001b[0m\u001b[1;33m,\u001b[0m \u001b[0mf\u001b[0m\u001b[1;33m)\u001b[0m\u001b[1;33m(\u001b[0m\u001b[1;33m**\u001b[0m\u001b[0mkwargs\u001b[0m\u001b[1;33m)\u001b[0m\u001b[1;33m\u001b[0m\u001b[1;33m\u001b[0m\u001b[0m\n\u001b[0m\u001b[0;32m    328\u001b[0m             \u001b[1;32mexcept\u001b[0m \u001b[1;33m(\u001b[0m\u001b[0mTypeError\u001b[0m\u001b[1;33m,\u001b[0m \u001b[0mNotImplementedError\u001b[0m\u001b[1;33m)\u001b[0m\u001b[1;33m:\u001b[0m\u001b[1;33m\u001b[0m\u001b[1;33m\u001b[0m\u001b[0m\n\u001b[0;32m    329\u001b[0m                 \u001b[1;32mif\u001b[0m \u001b[1;32mnot\u001b[0m \u001b[0mignore_failures\u001b[0m\u001b[1;33m:\u001b[0m\u001b[1;33m\u001b[0m\u001b[1;33m\u001b[0m\u001b[0m\n",
      "\u001b[1;32m~\\anaconda3\\lib\\site-packages\\pandas\\core\\internals\\blocks.py\u001b[0m in \u001b[0;36mastype\u001b[1;34m(self, dtype, copy, errors)\u001b[0m\n\u001b[0;32m    589\u001b[0m         \u001b[0mvalues\u001b[0m \u001b[1;33m=\u001b[0m \u001b[0mself\u001b[0m\u001b[1;33m.\u001b[0m\u001b[0mvalues\u001b[0m\u001b[1;33m\u001b[0m\u001b[1;33m\u001b[0m\u001b[0m\n\u001b[0;32m    590\u001b[0m \u001b[1;33m\u001b[0m\u001b[0m\n\u001b[1;32m--> 591\u001b[1;33m         \u001b[0mnew_values\u001b[0m \u001b[1;33m=\u001b[0m \u001b[0mastype_array_safe\u001b[0m\u001b[1;33m(\u001b[0m\u001b[0mvalues\u001b[0m\u001b[1;33m,\u001b[0m \u001b[0mdtype\u001b[0m\u001b[1;33m,\u001b[0m \u001b[0mcopy\u001b[0m\u001b[1;33m=\u001b[0m\u001b[0mcopy\u001b[0m\u001b[1;33m,\u001b[0m \u001b[0merrors\u001b[0m\u001b[1;33m=\u001b[0m\u001b[0merrors\u001b[0m\u001b[1;33m)\u001b[0m\u001b[1;33m\u001b[0m\u001b[1;33m\u001b[0m\u001b[0m\n\u001b[0m\u001b[0;32m    592\u001b[0m \u001b[1;33m\u001b[0m\u001b[0m\n\u001b[0;32m    593\u001b[0m         \u001b[0mnew_values\u001b[0m \u001b[1;33m=\u001b[0m \u001b[0mmaybe_coerce_values\u001b[0m\u001b[1;33m(\u001b[0m\u001b[0mnew_values\u001b[0m\u001b[1;33m)\u001b[0m\u001b[1;33m\u001b[0m\u001b[1;33m\u001b[0m\u001b[0m\n",
      "\u001b[1;32m~\\anaconda3\\lib\\site-packages\\pandas\\core\\dtypes\\cast.py\u001b[0m in \u001b[0;36mastype_array_safe\u001b[1;34m(values, dtype, copy, errors)\u001b[0m\n\u001b[0;32m   1307\u001b[0m \u001b[1;33m\u001b[0m\u001b[0m\n\u001b[0;32m   1308\u001b[0m     \u001b[1;32mtry\u001b[0m\u001b[1;33m:\u001b[0m\u001b[1;33m\u001b[0m\u001b[1;33m\u001b[0m\u001b[0m\n\u001b[1;32m-> 1309\u001b[1;33m         \u001b[0mnew_values\u001b[0m \u001b[1;33m=\u001b[0m \u001b[0mastype_array\u001b[0m\u001b[1;33m(\u001b[0m\u001b[0mvalues\u001b[0m\u001b[1;33m,\u001b[0m \u001b[0mdtype\u001b[0m\u001b[1;33m,\u001b[0m \u001b[0mcopy\u001b[0m\u001b[1;33m=\u001b[0m\u001b[0mcopy\u001b[0m\u001b[1;33m)\u001b[0m\u001b[1;33m\u001b[0m\u001b[1;33m\u001b[0m\u001b[0m\n\u001b[0m\u001b[0;32m   1310\u001b[0m     \u001b[1;32mexcept\u001b[0m \u001b[1;33m(\u001b[0m\u001b[0mValueError\u001b[0m\u001b[1;33m,\u001b[0m \u001b[0mTypeError\u001b[0m\u001b[1;33m)\u001b[0m\u001b[1;33m:\u001b[0m\u001b[1;33m\u001b[0m\u001b[1;33m\u001b[0m\u001b[0m\n\u001b[0;32m   1311\u001b[0m         \u001b[1;31m# e.g. astype_nansafe can fail on object-dtype of strings\u001b[0m\u001b[1;33m\u001b[0m\u001b[1;33m\u001b[0m\u001b[0m\n",
      "\u001b[1;32m~\\anaconda3\\lib\\site-packages\\pandas\\core\\dtypes\\cast.py\u001b[0m in \u001b[0;36mastype_array\u001b[1;34m(values, dtype, copy)\u001b[0m\n\u001b[0;32m   1255\u001b[0m \u001b[1;33m\u001b[0m\u001b[0m\n\u001b[0;32m   1256\u001b[0m     \u001b[1;32melse\u001b[0m\u001b[1;33m:\u001b[0m\u001b[1;33m\u001b[0m\u001b[1;33m\u001b[0m\u001b[0m\n\u001b[1;32m-> 1257\u001b[1;33m         \u001b[0mvalues\u001b[0m \u001b[1;33m=\u001b[0m \u001b[0mastype_nansafe\u001b[0m\u001b[1;33m(\u001b[0m\u001b[0mvalues\u001b[0m\u001b[1;33m,\u001b[0m \u001b[0mdtype\u001b[0m\u001b[1;33m,\u001b[0m \u001b[0mcopy\u001b[0m\u001b[1;33m=\u001b[0m\u001b[0mcopy\u001b[0m\u001b[1;33m)\u001b[0m\u001b[1;33m\u001b[0m\u001b[1;33m\u001b[0m\u001b[0m\n\u001b[0m\u001b[0;32m   1258\u001b[0m \u001b[1;33m\u001b[0m\u001b[0m\n\u001b[0;32m   1259\u001b[0m     \u001b[1;31m# in pandas we don't store numpy str dtypes, so convert to object\u001b[0m\u001b[1;33m\u001b[0m\u001b[1;33m\u001b[0m\u001b[0m\n",
      "\u001b[1;32m~\\anaconda3\\lib\\site-packages\\pandas\\core\\dtypes\\cast.py\u001b[0m in \u001b[0;36mastype_nansafe\u001b[1;34m(arr, dtype, copy, skipna)\u001b[0m\n\u001b[0;32m   1172\u001b[0m         \u001b[1;31m# work around NumPy brokenness, #1987\u001b[0m\u001b[1;33m\u001b[0m\u001b[1;33m\u001b[0m\u001b[0m\n\u001b[0;32m   1173\u001b[0m         \u001b[1;32mif\u001b[0m \u001b[0mnp\u001b[0m\u001b[1;33m.\u001b[0m\u001b[0missubdtype\u001b[0m\u001b[1;33m(\u001b[0m\u001b[0mdtype\u001b[0m\u001b[1;33m.\u001b[0m\u001b[0mtype\u001b[0m\u001b[1;33m,\u001b[0m \u001b[0mnp\u001b[0m\u001b[1;33m.\u001b[0m\u001b[0minteger\u001b[0m\u001b[1;33m)\u001b[0m\u001b[1;33m:\u001b[0m\u001b[1;33m\u001b[0m\u001b[1;33m\u001b[0m\u001b[0m\n\u001b[1;32m-> 1174\u001b[1;33m             \u001b[1;32mreturn\u001b[0m \u001b[0mlib\u001b[0m\u001b[1;33m.\u001b[0m\u001b[0mastype_intsafe\u001b[0m\u001b[1;33m(\u001b[0m\u001b[0marr\u001b[0m\u001b[1;33m,\u001b[0m \u001b[0mdtype\u001b[0m\u001b[1;33m)\u001b[0m\u001b[1;33m\u001b[0m\u001b[1;33m\u001b[0m\u001b[0m\n\u001b[0m\u001b[0;32m   1175\u001b[0m \u001b[1;33m\u001b[0m\u001b[0m\n\u001b[0;32m   1176\u001b[0m         \u001b[1;31m# if we have a datetime/timedelta array of objects\u001b[0m\u001b[1;33m\u001b[0m\u001b[1;33m\u001b[0m\u001b[0m\n",
      "\u001b[1;32m~\\anaconda3\\lib\\site-packages\\pandas\\_libs\\lib.pyx\u001b[0m in \u001b[0;36mpandas._libs.lib.astype_intsafe\u001b[1;34m()\u001b[0m\n",
      "\u001b[1;31mValueError\u001b[0m: cannot convert float NaN to integer"
     ]
    }
   ],
   "source": [
    "# as nan is inside the 'joined' column, we are unable to find the avg. tenure of contracts for the players \n",
    "\n",
    "df['joined'].str[:4].astype(int)"
   ]
  },
  {
   "cell_type": "code",
   "execution_count": 30,
   "id": "81978739",
   "metadata": {},
   "outputs": [],
   "source": [
    "df2 = df[df['joined'].notnull()]"
   ]
  },
  {
   "cell_type": "code",
   "execution_count": 31,
   "id": "78cb57e7",
   "metadata": {},
   "outputs": [
    {
     "name": "stderr",
     "output_type": "stream",
     "text": [
      "C:\\Users\\keroy\\AppData\\Local\\Temp/ipykernel_12032/2615950963.py:1: SettingWithCopyWarning: \n",
      "A value is trying to be set on a copy of a slice from a DataFrame.\n",
      "Try using .loc[row_indexer,col_indexer] = value instead\n",
      "\n",
      "See the caveats in the documentation: https://pandas.pydata.org/pandas-docs/stable/user_guide/indexing.html#returning-a-view-versus-a-copy\n",
      "  df2['contract_length'] = df2['contract_valid_until'] - df2['joined'].str[:4].astype(int)\n"
     ]
    }
   ],
   "source": [
    "df2['contract_length'] = df2['contract_valid_until'] - df2['joined'].str[:4].astype(int)"
   ]
  },
  {
   "cell_type": "code",
   "execution_count": 32,
   "id": "8f2b41fe",
   "metadata": {},
   "outputs": [
    {
     "data": {
      "text/plain": [
       "array([14.0, 9.0, 8.0, 4.0, 5.0, 16.0, 10.0, 6.0, 12.0, 11.0, 23.0, 7.0,\n",
       "       15.0, 3.0, 18.0, 2.0, 17.0, 1.0, 13.0, 21.0, 19.0, 20.0, 22.0],\n",
       "      dtype=object)"
      ]
     },
     "execution_count": 32,
     "metadata": {},
     "output_type": "execute_result"
    }
   ],
   "source": [
    "df2['contract_length'].unique()"
   ]
  },
  {
   "cell_type": "code",
   "execution_count": 33,
   "id": "ac92c095",
   "metadata": {},
   "outputs": [
    {
     "name": "stderr",
     "output_type": "stream",
     "text": [
      "C:\\Users\\keroy\\AppData\\Local\\Temp/ipykernel_12032/1238866753.py:1: SettingWithCopyWarning: \n",
      "A value is trying to be set on a copy of a slice from a DataFrame.\n",
      "Try using .loc[row_indexer,col_indexer] = value instead\n",
      "\n",
      "See the caveats in the documentation: https://pandas.pydata.org/pandas-docs/stable/user_guide/indexing.html#returning-a-view-versus-a-copy\n",
      "  df2['contract_length'] = df2['contract_length'].astype(int)\n"
     ]
    }
   ],
   "source": [
    "df2['contract_length'] = df2['contract_length'].astype(int)"
   ]
  },
  {
   "cell_type": "code",
   "execution_count": 34,
   "id": "f0f7edf5",
   "metadata": {},
   "outputs": [
    {
     "data": {
      "text/plain": [
       "count    15004.000000\n",
       "mean         4.710411\n",
       "std          2.845751\n",
       "min          1.000000\n",
       "25%          3.000000\n",
       "50%          4.000000\n",
       "75%          7.000000\n",
       "max         23.000000\n",
       "Name: contract_length, dtype: float64"
      ]
     },
     "execution_count": 34,
     "metadata": {},
     "output_type": "execute_result"
    }
   ],
   "source": [
    "df2.describe()['contract_length']"
   ]
  },
  {
   "cell_type": "code",
   "execution_count": 35,
   "id": "45128143",
   "metadata": {},
   "outputs": [
    {
     "data": {
      "text/plain": [
       "<AxesSubplot:xlabel='contract_length'>"
      ]
     },
     "execution_count": 35,
     "metadata": {},
     "output_type": "execute_result"
    },
    {
     "data": {
      "image/png": "[encoded data removed]",
      "text/plain": [
       "<Figure size 432x288 with 1 Axes>"
      ]
     },
     "metadata": {
      "needs_background": "light"
     },
     "output_type": "display_data"
    }
   ],
   "source": [
    "sns.boxplot(data=df2, x='contract_length')"
   ]
  },
  {
   "cell_type": "markdown",
   "id": "33924b53",
   "metadata": {},
   "source": [
    "The kdeplot and boxplot has shown that the df2 data set is right-tailed. Hence, the mean may not be a good indication as it is affected by the extreme data values."
   ]
  },
  {
   "cell_type": "code",
   "execution_count": 36,
   "id": "0e6d1d0c",
   "metadata": {},
   "outputs": [
    {
     "data": {
      "text/plain": [
       "<AxesSubplot:xlabel='contract_length', ylabel='Density'>"
      ]
     },
     "execution_count": 36,
     "metadata": {},
     "output_type": "execute_result"
    },
    {
     "data": {
      "image/png": "[encoded data removed]",
      "text/plain": [
       "<Figure size 432x288 with 1 Axes>"
      ]
     },
     "metadata": {
      "needs_background": "light"
     },
     "output_type": "display_data"
    }
   ],
   "source": [
    "sns.kdeplot(data=df2, x='contract_length', shade='fill')"
   ]
  },
  {
   "cell_type": "markdown",
   "id": "1efb917c",
   "metadata": {},
   "source": [
    "The mode of the data is 3 years."
   ]
  },
  {
   "cell_type": "code",
   "execution_count": 37,
   "id": "76284d39",
   "metadata": {},
   "outputs": [
    {
     "data": {
      "text/plain": [
       "0    3\n",
       "dtype: int32"
      ]
     },
     "execution_count": 37,
     "metadata": {},
     "output_type": "execute_result"
    }
   ],
   "source": [
    "df2['contract_length'].mode()"
   ]
  },
  {
   "cell_type": "markdown",
   "id": "cd8e340e",
   "metadata": {},
   "source": [
    "The median of the data is 4 years. Given that the median is between the mode and mean (in a right-tailed distribution), we will use the median."
   ]
  },
  {
   "cell_type": "code",
   "execution_count": 38,
   "id": "fd6487ad",
   "metadata": {},
   "outputs": [
    {
     "data": {
      "text/plain": [
       "4.0"
      ]
     },
     "execution_count": 38,
     "metadata": {},
     "output_type": "execute_result"
    }
   ],
   "source": [
    "df2['contract_length'].median()"
   ]
  },
  {
   "cell_type": "markdown",
   "id": "4f67de8b",
   "metadata": {},
   "source": [
    "Filling all the 'joined' column that we can by deducting 4 years from the year in 'contract_valid_until'."
   ]
  },
  {
   "cell_type": "code",
   "execution_count": 39,
   "id": "8cf06a02",
   "metadata": {},
   "outputs": [],
   "source": [
    "df.loc[(df['contract_valid_until'] != 'Unidentified') & (df['joined'].isnull()), 'joined'] = (df[(df['contract_valid_until'] != 'Unidentified') & (df['joined'].isnull())]['contract_valid_until'] - 4).astype(str) + '-01-01'"
   ]
  },
  {
   "cell_type": "code",
   "execution_count": 40,
   "id": "9aeee407",
   "metadata": {
    "scrolled": true
   },
   "outputs": [
    {
     "data": {
      "text/plain": [
       "league_rank        239\n",
       "player_tags      14919\n",
       "loaned_from      15243\n",
       "joined             239\n",
       "pace              1775\n",
       "shooting          1775\n",
       "passing           1775\n",
       "dribbling         1775\n",
       "defending         1775\n",
       "physic            1775\n",
       "player_traits     9556\n",
       "dtype: int64"
      ]
     },
     "execution_count": 40,
     "metadata": {},
     "output_type": "execute_result"
    }
   ],
   "source": [
    "df[df.columns[df.isnull().any()]].isnull().sum()"
   ]
  },
  {
   "cell_type": "markdown",
   "id": "37c50563",
   "metadata": {},
   "source": [
    "Filling the remaining rows that we are unable to fill with."
   ]
  },
  {
   "cell_type": "code",
   "execution_count": 41,
   "id": "1c608ad8",
   "metadata": {},
   "outputs": [],
   "source": [
    "df.loc[df['joined'].isnull(), 'joined'] = 'Unidentified'"
   ]
  },
  {
   "cell_type": "code",
   "execution_count": 42,
   "id": "6a66044f",
   "metadata": {},
   "outputs": [
    {
     "data": {
      "text/plain": [
       "league_rank        239\n",
       "player_tags      14919\n",
       "loaned_from      15243\n",
       "pace              1775\n",
       "shooting          1775\n",
       "passing           1775\n",
       "dribbling         1775\n",
       "defending         1775\n",
       "physic            1775\n",
       "player_traits     9556\n",
       "dtype: int64"
      ]
     },
     "execution_count": 42,
     "metadata": {},
     "output_type": "execute_result"
    }
   ],
   "source": [
    "df[df.columns[df.isnull().any()]].isnull().sum()"
   ]
  },
  {
   "cell_type": "markdown",
   "id": "0af4915f",
   "metadata": {},
   "source": [
    "This column seems to contain remarks. Since we can't statistically fill up a remark, we can indicate the null values as 'No Remarks'."
   ]
  },
  {
   "cell_type": "code",
   "execution_count": 43,
   "id": "5ba89f7e",
   "metadata": {},
   "outputs": [
    {
     "data": {
      "text/plain": [
       "array(['Finesse Shot, Speed Dribbler (AI), One Club Player, Team Player',\n",
       "       'Power Free-Kick, Flair, Long Shot Taker (AI), Speed Dribbler (AI)',\n",
       "       'Diver, Injury Prone, Avoids Using Weaker Foot, Selfish, Long Shot Taker (AI), Speed Dribbler (AI), Chip Shot (AI)',\n",
       "       'Power Free-Kick, Leadership, Flair, Long Shot Taker (AI), Technical Dribbler (AI)',\n",
       "       'GK Up for Corners, GK Long Throw, 1-on-1 Rush',\n",
       "       'Diver, Beat Offside Trap, Selfish, Flair, Technical Dribbler (AI)',\n",
       "       'Finesse Shot, Playmaker (AI), Technical Dribbler (AI)',\n",
       "       'Injury Free, Selfish, Finesse Shot, Flair, Playmaker (AI), Technical Dribbler (AI)',\n",
       "       'Injury Prone, Flair, Long Shot Taker (AI), Technical Dribbler (AI)',\n",
       "       'Injury Prone, Leadership, Playmaker (AI), One Club Player',\n",
       "       'Injury Prone, Flair, Speed Dribbler (AI)',\n",
       "       'Finesse Shot, Power Header',\n",
       "       'Avoids Using Weaker Foot, Long Shot Taker (AI), Speed Dribbler (AI), Chip Shot (AI)',\n",
       "       'Injury Free, Chip Shot (AI)',\n",
       "       'Injury Free, Dives Into Tackles (AI), Leadership, One Club Player',\n",
       "       'Leadership, Power Header',\n",
       "       'Leadership, Long Passer (AI), Power Header',\n",
       "       'Avoids Using Weaker Foot, Flair, Playmaker (AI)',\n",
       "       'Long Passer (AI), Playmaker (AI), Technical Dribbler (AI)',\n",
       "       'Diver, Flair, Playmaker (AI), Technical Dribbler (AI)',\n",
       "       'Diver, Flair, Technical Dribbler (AI)', 'GK Long Throw',\n",
       "       'Injury Prone, Avoids Using Weaker Foot, Leadership, Long Passer (AI), Playmaker (AI)',\n",
       "       'Diver, Avoids Using Weaker Foot, Dives Into Tackles (AI), Flair',\n",
       "       'Beat Offside Trap, Long Shot Taker (AI), Speed Dribbler (AI)',\n",
       "       'Finesse Shot, Outside Foot Shot',\n",
       "       'Injury Prone, Beat Offside Trap, Flair, Technical Dribbler (AI)',\n",
       "       'Finesse Shot, Flair, Playmaker (AI), Technical Dribbler (AI)',\n",
       "       'Playmaker (AI), One Club Player',\n",
       "       'Injury Free, Leadership, Long Shot Taker (AI), Playmaker (AI)',\n",
       "       'Leadership, Long Shot Taker (AI)',\n",
       "       'Injury Prone, Dives Into Tackles (AI), Leadership',\n",
       "       'Injury Prone, Flair, Technical Dribbler (AI)', 'Diver',\n",
       "       'Long Shot Taker (AI), Playmaker (AI), Technical Dribbler (AI)',\n",
       "       'Beat Offside Trap, Finesse Shot', 'Beat Offside Trap',\n",
       "       'Long Shot Taker (AI)', 'Puncher', 'Power Header',\n",
       "       'Long Passer (AI), Giant Throw-in',\n",
       "       'Puncher, GK Long Throw, One Club Player, Team Player',\n",
       "       'Leadership, Finesse Shot, Long Shot Taker (AI), Outside Foot Shot, Technical Dribbler (AI)',\n",
       "       'Long Passer (AI)', 'Flair',\n",
       "       'Beat Offside Trap, Long Shot Taker (AI), Technical Dribbler (AI)',\n",
       "       'Flair, Technical Dribbler (AI)', nan, 'Outside Foot Shot',\n",
       "       'Leadership, GK Long Throw, 1-on-1 Rush, One Club Player',\n",
       "       'Long Passer (AI), Playmaker (AI)',\n",
       "       'Leadership, Long Passer (AI), One Club Player, Team Player',\n",
       "       'Long Throw-in, Avoids Using Weaker Foot, Dives Into Tackles (AI), Leadership, Power Header',\n",
       "       'Long Passer (AI), Long Shot Taker (AI), Playmaker (AI)',\n",
       "       'Flair, Long Shot Taker (AI), Technical Dribbler (AI)',\n",
       "       'Dives Into Tackles (AI)',\n",
       "       'Dives Into Tackles (AI), Flair, Long Shot Taker (AI), Technical Dribbler (AI)',\n",
       "       'Finesse Shot, Playmaker (AI), Outside Foot Shot, Technical Dribbler (AI)',\n",
       "       'Power Free-Kick, Diver, Selfish, Long Shot Taker (AI), Technical Dribbler (AI)',\n",
       "       'Injury Prone, Avoids Using Weaker Foot, Selfish, Finesse Shot, Flair, Speed Dribbler (AI)',\n",
       "       'Finesse Shot, Long Shot Taker (AI), Playmaker (AI), Technical Dribbler (AI)',\n",
       "       'Team Player', 'Finesse Shot',\n",
       "       'Power Free-Kick, Long Shot Taker (AI), Speed Dribbler (AI)',\n",
       "       'Leadership, Puncher, One Club Player',\n",
       "       'Leadership, Power Header, One Club Player',\n",
       "       'Injury Free, Leadership, Power Header', 'Injury Prone',\n",
       "       'Injury Prone, Leadership', 'Injury Prone, Power Header',\n",
       "       'Power Free-Kick, Avoids Using Weaker Foot, Power Header',\n",
       "       'Power Free-Kick, Diver', 'Speed Dribbler (AI)',\n",
       "       'Leadership, GK Long Throw, Team Player',\n",
       "       'Injury Free, Playmaker (AI)', 'Beat Offside Trap, Power Header',\n",
       "       'Diver, Flair, Long Shot Taker (AI), Speed Dribbler (AI)',\n",
       "       'Injury Free, Flair, Playmaker (AI), Technical Dribbler (AI)',\n",
       "       'Finesse Shot, Flair, Technical Dribbler (AI)',\n",
       "       'Selfish, Flair, Speed Dribbler (AI), Technical Dribbler (AI)',\n",
       "       'Long Shot Taker (AI), Playmaker (AI)',\n",
       "       'Power Free-Kick, Dives Into Tackles (AI), Flair, Long Shot Taker (AI), Technical Dribbler (AI)',\n",
       "       'Diver, Technical Dribbler (AI)', 'Playmaker (AI)',\n",
       "       'Injury Prone, Avoids Using Weaker Foot, Beat Offside Trap',\n",
       "       'Power Free-Kick', 'Long Throw-in',\n",
       "       'Injury Prone, Leadership, Team Player',\n",
       "       'Flair, Playmaker (AI), Technical Dribbler (AI)',\n",
       "       'Long Passer (AI), Power Header',\n",
       "       'Avoids Using Weaker Foot, Flair, Playmaker (AI), Outside Foot Shot, Technical Dribbler (AI)',\n",
       "       'Beat Offside Trap, Flair, Technical Dribbler (AI)',\n",
       "       'Injury Free, Puncher', 'Puncher, GK Long Throw',\n",
       "       'Long Throw-in, Power Free-Kick, Flair, Long Passer (AI), Long Shot Taker (AI)',\n",
       "       'Leadership, One Club Player, Team Player',\n",
       "       'Leadership, Long Passer (AI), Long Shot Taker (AI), Playmaker (AI), One Club Player, Team Player',\n",
       "       'Injury Free, Leadership, GK Up for Corners, GK Long Throw',\n",
       "       'Leadership, Flair, Technical Dribbler (AI)',\n",
       "       'Injury Prone, Dives Into Tackles (AI)',\n",
       "       'Power Free-Kick, Power Header',\n",
       "       'Dives Into Tackles (AI), Team Player',\n",
       "       'Flair, Speed Dribbler (AI)', 'Diver, Speed Dribbler (AI)',\n",
       "       'Injury Free, Early Crosser', 'Leadership',\n",
       "       'Avoids Using Weaker Foot', 'Injury Prone, Speed Dribbler (AI)',\n",
       "       'Power Free-Kick, Injury Free, Flair, Long Shot Taker (AI), Playmaker (AI), Technical Dribbler (AI)',\n",
       "       'Finesse Shot, Flair, Long Shot Taker (AI), Technical Dribbler (AI)',\n",
       "       'Injury Prone, Flair, Playmaker (AI)',\n",
       "       'Long Passer (AI), Long Shot Taker (AI)',\n",
       "       'Injury Prone, Beat Offside Trap, Finesse Shot, Speed Dribbler (AI)',\n",
       "       'Injury Prone, Avoids Using Weaker Foot, Technical Dribbler (AI)',\n",
       "       'Injury Free, Playmaker (AI), Technical Dribbler (AI)',\n",
       "       'Injury Prone, Selfish, Finesse Shot',\n",
       "       'Injury Prone, Finesse Shot, Playmaker (AI)',\n",
       "       'Diver, Injury Prone, Flair, Long Shot Taker (AI), Technical Dribbler (AI)',\n",
       "       'Injury Free, Long Shot Taker (AI), Power Header',\n",
       "       'Long Shot Taker (AI), Speed Dribbler (AI)',\n",
       "       'Beat Offside Trap, Selfish, Speed Dribbler (AI)',\n",
       "       'Avoids Using Weaker Foot, Dives Into Tackles (AI)',\n",
       "       'Diver, Selfish, Flair, Long Shot Taker (AI), Technical Dribbler (AI)',\n",
       "       'Avoids Using Weaker Foot, Finesse Shot, Flair, Playmaker (AI), Outside Foot Shot',\n",
       "       'Diver, Power Header', 'Injury Free, Avoids Using Weaker Foot',\n",
       "       'Finesse Shot, Speed Dribbler (AI)',\n",
       "       'Leadership, Puncher, Team Player', 'Injury Free, Power Header',\n",
       "       'Leadership, Puncher', 'Injury Prone, Team Player',\n",
       "       'Power Free-Kick, Flair, Long Shot Taker (AI), Playmaker (AI), Technical Dribbler (AI)',\n",
       "       'Diver, Playmaker (AI), Technical Dribbler (AI)',\n",
       "       'Dives Into Tackles (AI), Power Header',\n",
       "       'Finesse Shot, Long Passer (AI), Long Shot Taker (AI), Playmaker (AI)',\n",
       "       'Diver, Finesse Shot, Speed Dribbler (AI)',\n",
       "       'Long Throw-in, Injury Free, Dives Into Tackles (AI), Power Header',\n",
       "       'Avoids Using Weaker Foot, Beat Offside Trap, Finesse Shot, Outside Foot Shot',\n",
       "       'Injury Prone, Finesse Shot, Speed Dribbler (AI)',\n",
       "       'Beat Offside Trap, Speed Dribbler (AI)',\n",
       "       'Avoids Using Weaker Foot, Beat Offside Trap, Flair, Speed Dribbler (AI)',\n",
       "       'Long Shot Taker (AI), Power Header',\n",
       "       'Injury Free, Dives Into Tackles (AI), Flair',\n",
       "       'Diver, Avoids Using Weaker Foot, Beat Offside Trap, Finesse Shot',\n",
       "       'Flair, Long Shot Taker (AI), Speed Dribbler (AI)',\n",
       "       'Finesse Shot, Flair, Long Shot Taker (AI), Playmaker (AI), Technical Dribbler (AI)',\n",
       "       'GK Up for Corners',\n",
       "       'Avoids Using Weaker Foot, Flair, Technical Dribbler (AI)',\n",
       "       'Injury Prone, Avoids Using Weaker Foot, Long Passer (AI)',\n",
       "       'Injury Free, Long Passer (AI), Team Player', 'Early Crosser',\n",
       "       'Selfish, Flair, Speed Dribbler (AI)',\n",
       "       'Injury Prone, Selfish, Flair, Long Shot Taker (AI), Speed Dribbler (AI)',\n",
       "       'Injury Prone, Leadership, Flair, Long Shot Taker (AI)',\n",
       "       'Avoids Using Weaker Foot, Long Shot Taker (AI), Technical Dribbler (AI)',\n",
       "       'Injury Prone, Beat Offside Trap, Speed Dribbler (AI)',\n",
       "       'Injury Free, Avoids Using Weaker Foot, Flair, Playmaker (AI), Technical Dribbler (AI)',\n",
       "       'Leadership, Long Shot Taker (AI), Playmaker (AI), One Club Player, Team Player, Chip Shot (AI)',\n",
       "       'Injury Free, Avoids Using Weaker Foot, Long Passer (AI), Team Player',\n",
       "       'Injury Prone, Dives Into Tackles (AI), Technical Dribbler (AI)',\n",
       "       'Diver, Selfish, Flair, Long Shot Taker (AI), Outside Foot Shot, Technical Dribbler (AI)',\n",
       "       'Beat Offside Trap, Selfish, Long Shot Taker (AI)',\n",
       "       'Diver, Finesse Shot', 'One Club Player',\n",
       "       'Injury Prone, Avoids Using Weaker Foot, Dives Into Tackles (AI)',\n",
       "       'Playmaker (AI), Technical Dribbler (AI)', 'Injury Free',\n",
       "       'Injury Free, Leadership, Team Player',\n",
       "       'Avoids Using Weaker Foot, Speed Dribbler (AI)',\n",
       "       'Power Free-Kick, Injury Prone, Power Header',\n",
       "       'Technical Dribbler (AI)',\n",
       "       'Power Free-Kick, Long Shot Taker (AI), Playmaker (AI)',\n",
       "       'Long Throw-in, Long Passer (AI), Power Header',\n",
       "       'Dives Into Tackles (AI), Technical Dribbler (AI)',\n",
       "       'Power Free-Kick, Avoids Using Weaker Foot, Long Shot Taker (AI), Power Header',\n",
       "       'Injury Free, Leadership',\n",
       "       'Flair, Playmaker (AI), Team Player, Technical Dribbler (AI)',\n",
       "       'Finesse Shot, Flair, Speed Dribbler (AI)',\n",
       "       'Injury Prone, Puncher',\n",
       "       'Long Throw-in, Flair, Technical Dribbler (AI)',\n",
       "       'Diver, Flair, Speed Dribbler (AI)',\n",
       "       'Speed Dribbler (AI), Chip Shot (AI)',\n",
       "       'Selfish, Flair, Long Shot Taker (AI), Technical Dribbler (AI)',\n",
       "       'Chip Shot (AI), Technical Dribbler (AI)',\n",
       "       'Injury Free, Long Passer (AI)',\n",
       "       'Avoids Using Weaker Foot, Long Shot Taker (AI), Speed Dribbler (AI)',\n",
       "       'Power Free-Kick, Finesse Shot, Outside Foot Shot',\n",
       "       'Selfish, Technical Dribbler (AI)',\n",
       "       'Long Shot Taker (AI), Giant Throw-in',\n",
       "       'GK Up for Corners, GK Long Throw',\n",
       "       'Dives Into Tackles (AI), Long Passer (AI)',\n",
       "       'Long Shot Taker (AI), Technical Dribbler (AI)',\n",
       "       'Long Throw-in, Dives Into Tackles (AI), Early Crosser',\n",
       "       'Beat Offside Trap, Finesse Shot, Chip Shot (AI), Technical Dribbler (AI)',\n",
       "       'Power Free-Kick, Long Passer (AI), Long Shot Taker (AI), Team Player',\n",
       "       'Speed Dribbler (AI), Playmaker (AI)',\n",
       "       'Injury Prone, Finesse Shot, Power Header',\n",
       "       'Dives Into Tackles (AI), Leadership, Long Passer (AI)',\n",
       "       'Dives Into Tackles (AI), Long Passer (AI), Power Header',\n",
       "       'Long Throw-in, Diver, Avoids Using Weaker Foot, Leadership, Long Shot Taker (AI)',\n",
       "       'Leadership, GK Long Throw',\n",
       "       'Long Throw-in, Diver, Leadership, Long Passer (AI)',\n",
       "       'Injury Prone, Long Passer (AI), Power Header',\n",
       "       'Leadership, Finesse Shot, One Club Player, Technical Dribbler (AI)',\n",
       "       'Power Free-Kick, Injury Prone, Avoids Using Weaker Foot, Dives Into Tackles (AI), Long Passer (AI), Power Header',\n",
       "       'Injury Free, Long Passer (AI), Long Shot Taker (AI)',\n",
       "       'Diver, Beat Offside Trap, Selfish, Finesse Shot',\n",
       "       'Power Free-Kick, Injury Prone',\n",
       "       'Injury Free, Leadership, Long Passer (AI)',\n",
       "       'Power Free-Kick, Injury Prone, Leadership',\n",
       "       'Power Free-Kick, Long Shot Taker (AI)',\n",
       "       'Speed Dribbler (AI), Power Header',\n",
       "       'Finesse Shot, Technical Dribbler (AI)',\n",
       "       'Power Free-Kick, Early Crosser, Playmaker (AI), Technical Dribbler (AI)',\n",
       "       'Power Free-Kick, Avoids Using Weaker Foot, Selfish, Flair, Long Shot Taker (AI), Technical Dribbler (AI)',\n",
       "       'Flair, Long Shot Taker (AI), Speed Dribbler (AI), Technical Dribbler (AI)',\n",
       "       'Dives Into Tackles (AI), Long Shot Taker (AI), Speed Dribbler (AI), Playmaker (AI)',\n",
       "       'Avoids Using Weaker Foot, Flair, Playmaker (AI), Technical Dribbler (AI)',\n",
       "       'Injury Prone, Selfish',\n",
       "       'Flair, Team Player, Technical Dribbler (AI)',\n",
       "       'Diver, Speed Dribbler (AI), Chip Shot (AI)',\n",
       "       'Selfish, Flair, Technical Dribbler (AI)',\n",
       "       'Playmaker (AI), Team Player',\n",
       "       'Diver, Selfish, Flair, Speed Dribbler (AI)',\n",
       "       'Beat Offside Trap, Long Shot Taker (AI)',\n",
       "       'Early Crosser, Long Shot Taker (AI)',\n",
       "       'Finesse Shot, Flair, Speed Dribbler (AI), Power Header',\n",
       "       'Injury Prone, Avoids Using Weaker Foot', 'Selfish',\n",
       "       'Injury Prone, Selfish, Finesse Shot, Long Shot Taker (AI), Technical Dribbler (AI)',\n",
       "       'Beat Offside Trap, Speed Dribbler (AI), Chip Shot (AI)',\n",
       "       'Avoids Using Weaker Foot, Long Shot Taker (AI)',\n",
       "       'Power Free-Kick, Avoids Using Weaker Foot, Long Passer (AI)',\n",
       "       'Diver, Injury Prone, Leadership, Long Shot Taker (AI), Playmaker (AI)',\n",
       "       'Injury Prone, Leadership, Finesse Shot, Flair, Playmaker (AI)',\n",
       "       'Injury Prone, Leadership, One Club Player, Team Player',\n",
       "       'Beat Offside Trap, Long Shot Taker (AI), Outside Foot Shot',\n",
       "       'GK Up for Corners, Puncher',\n",
       "       'Beat Offside Trap, Leadership, Finesse Shot, Flair, Team Player',\n",
       "       'Leadership, Team Player',\n",
       "       'Diver, Beat Offside Trap, Selfish, Speed Dribbler (AI)',\n",
       "       'Long Shot Taker (AI), Power Header, Team Player',\n",
       "       'Diver, Finesse Shot, Technical Dribbler (AI)',\n",
       "       'Power Free-Kick, Injury Free, Long Shot Taker (AI)',\n",
       "       'Injury Prone, Beat Offside Trap, Power Header',\n",
       "       'Early Crosser, Finesse Shot, Speed Dribbler (AI)',\n",
       "       'Early Crosser, Flair, Speed Dribbler (AI)',\n",
       "       'Diver, Avoids Using Weaker Foot, Early Crosser, Technical Dribbler (AI)',\n",
       "       'Injury Prone, Avoids Using Weaker Foot, Speed Dribbler (AI)',\n",
       "       'Selfish, Speed Dribbler (AI)', 'Injury Free, Selfish',\n",
       "       'Dives Into Tackles (AI), Long Shot Taker (AI)', 'Selfish, Flair',\n",
       "       'Avoids Using Weaker Foot, Finesse Shot, Flair, Technical Dribbler (AI)',\n",
       "       'Power Free-Kick, Dives Into Tackles (AI), Early Crosser, Long Shot Taker (AI)',\n",
       "       'Injury Prone, Flair, Playmaker (AI), Technical Dribbler (AI)',\n",
       "       'Injury Free, Speed Dribbler (AI)',\n",
       "       'Injury Prone, Beat Offside Trap',\n",
       "       'Diver, Selfish, Finesse Shot, Flair, Outside Foot Shot, Technical Dribbler (AI)',\n",
       "       'Power Free-Kick, Early Crosser, Long Shot Taker (AI)',\n",
       "       'Dives Into Tackles (AI), Flair',\n",
       "       'Leadership, Long Shot Taker (AI), Playmaker (AI)',\n",
       "       'Power Free-Kick, Injury Free, Dives Into Tackles (AI)',\n",
       "       'Avoids Using Weaker Foot, Selfish, Technical Dribbler (AI)',\n",
       "       'Long Throw-in, Avoids Using Weaker Foot, Speed Dribbler (AI)',\n",
       "       'Flair, Long Shot Taker (AI), Playmaker (AI), Technical Dribbler (AI)',\n",
       "       'Beat Offside Trap, Flair, Speed Dribbler (AI), Technical Dribbler (AI)',\n",
       "       'Injury Prone, Selfish, Flair, Long Shot Taker (AI), Chip Shot (AI), Technical Dribbler (AI)',\n",
       "       'Chip Shot (AI)',\n",
       "       'Injury Prone, Speed Dribbler (AI), Chip Shot (AI)',\n",
       "       'Injury Prone, Technical Dribbler (AI)',\n",
       "       'Long Throw-in, Injury Prone, Dives Into Tackles (AI), Power Header',\n",
       "       'Selfish, Speed Dribbler (AI), Outside Foot Shot',\n",
       "       'Long Throw-in, Injury Free, Avoids Using Weaker Foot',\n",
       "       'Leadership, Long Passer (AI)',\n",
       "       'Avoids Using Weaker Foot, Early Crosser',\n",
       "       'Power Free-Kick, Leadership, One Club Player',\n",
       "       'Injury Free, Leadership, Playmaker (AI)',\n",
       "       'Beat Offside Trap, Flair, Speed Dribbler (AI)',\n",
       "       'Beat Offside Trap, Finesse Shot, Speed Dribbler (AI)',\n",
       "       'Avoids Using Weaker Foot, Beat Offside Trap, Long Shot Taker (AI)',\n",
       "       'Selfish, Long Shot Taker (AI)',\n",
       "       'Dives Into Tackles (AI), Leadership',\n",
       "       'Avoids Using Weaker Foot, Early Crosser, Long Shot Taker (AI)',\n",
       "       'Avoids Using Weaker Foot, Playmaker (AI), Technical Dribbler (AI)',\n",
       "       'Finesse Shot, Long Shot Taker (AI)',\n",
       "       'Injury Prone, Avoids Using Weaker Foot, Power Header',\n",
       "       'Long Throw-in, Leadership', 'Injury Prone, Finesse Shot',\n",
       "       'Long Throw-in, Injury Prone, Avoids Using Weaker Foot',\n",
       "       'Power Free-Kick, Long Passer (AI)',\n",
       "       'Beat Offside Trap, Leadership', 'Flair, Chip Shot (AI)',\n",
       "       'Selfish, Team Player', 'Long Throw-in, Injury Free',\n",
       "       'Early Crosser, Long Shot Taker (AI), Playmaker (AI)',\n",
       "       'Finesse Shot, Flair', 'Early Crosser, Speed Dribbler (AI)',\n",
       "       'Selfish, Finesse Shot, Flair, Technical Dribbler (AI)',\n",
       "       'Power Free-Kick, Early Crosser, Long Passer (AI), Long Shot Taker (AI)',\n",
       "       'Diver, Finesse Shot, Long Shot Taker (AI), Speed Dribbler (AI)',\n",
       "       'Injury Prone, Selfish, Flair, Technical Dribbler (AI)',\n",
       "       'Diver, Beat Offside Trap, Flair',\n",
       "       'Injury Prone, Beat Offside Trap, Flair',\n",
       "       'Speed Dribbler (AI), Outside Foot Shot',\n",
       "       'Avoids Using Weaker Foot, Puncher',\n",
       "       'Diver, Selfish, Speed Dribbler (AI)',\n",
       "       'Avoids Using Weaker Foot, Flair, Speed Dribbler (AI)',\n",
       "       'Flair, Long Passer (AI), Playmaker (AI)',\n",
       "       'Injury Prone, Selfish, Finesse Shot, Flair, Long Shot Taker (AI)',\n",
       "       'Injury Prone, Long Shot Taker (AI)',\n",
       "       'Injury Prone, Dives Into Tackles (AI), Long Shot Taker (AI)',\n",
       "       'Power Free-Kick, Speed Dribbler (AI)',\n",
       "       'Long Passer (AI), Technical Dribbler (AI)',\n",
       "       'Avoids Using Weaker Foot, Flair, Long Shot Taker (AI), Technical Dribbler (AI)',\n",
       "       'Dives Into Tackles (AI), Leadership, Team Player',\n",
       "       'Power Free-Kick, Long Shot Taker (AI), Power Header',\n",
       "       'Injury Prone, Leadership, Power Header',\n",
       "       'Avoids Using Weaker Foot, Finesse Shot, Playmaker (AI)',\n",
       "       'Injury Free, Long Passer (AI), Long Shot Taker (AI), Playmaker (AI)',\n",
       "       'Diver, Early Crosser',\n",
       "       'Flair, Long Passer (AI), Long Shot Taker (AI), Playmaker (AI), Technical Dribbler (AI)',\n",
       "       'Finesse Shot, One Club Player, Team Player',\n",
       "       'Diver, Beat Offside Trap, Power Header',\n",
       "       'Power Free-Kick, Dives Into Tackles (AI), Power Header',\n",
       "       'Injury Prone, Long Shot Taker (AI), Technical Dribbler (AI)',\n",
       "       'Playmaker (AI), One Club Player, Team Player, Technical Dribbler (AI)',\n",
       "       'Injury Prone, Avoids Using Weaker Foot, Flair',\n",
       "       'Injury Prone, Long Passer (AI), Long Shot Taker (AI)',\n",
       "       'Injury Prone, Selfish, Technical Dribbler (AI)',\n",
       "       'Power Free-Kick, Injury Prone, Avoids Using Weaker Foot, Long Shot Taker (AI)',\n",
       "       'Flair, Playmaker (AI), Chip Shot (AI)',\n",
       "       'Finesse Shot, Playmaker (AI)', 'Power Header, Team Player',\n",
       "       'Long Throw-in, Long Passer (AI)', 'Leadership, Playmaker (AI)',\n",
       "       'Diver, Flair, Long Shot Taker (AI), Playmaker (AI), Technical Dribbler (AI)',\n",
       "       'Dives Into Tackles (AI), Selfish, Flair',\n",
       "       'Selfish, Finesse Shot, Technical Dribbler (AI)',\n",
       "       'Diver, Injury Prone, Flair, Speed Dribbler (AI)',\n",
       "       'Flair, Outside Foot Shot, Technical Dribbler (AI)',\n",
       "       'Diver, Chip Shot (AI), Technical Dribbler (AI)',\n",
       "       'Injury Prone, Playmaker (AI), Technical Dribbler (AI)',\n",
       "       'Dives Into Tackles (AI), Beat Offside Trap, Power Header',\n",
       "       'Avoids Using Weaker Foot, Technical Dribbler (AI)',\n",
       "       'Power Free-Kick, Early Crosser, Giant Throw-in',\n",
       "       'Speed Dribbler (AI), Technical Dribbler (AI)',\n",
       "       'Finesse Shot, Team Player', 'Long Throw-in, Speed Dribbler (AI)',\n",
       "       'Avoids Using Weaker Foot, Flair',\n",
       "       'Diver, Beat Offside Trap, Long Shot Taker (AI), Speed Dribbler (AI)',\n",
       "       'Long Throw-in, Long Shot Taker (AI)',\n",
       "       'Flair, Speed Dribbler (AI), Technical Dribbler (AI)',\n",
       "       'Long Passer (AI), Long Shot Taker (AI), Power Header',\n",
       "       'Beat Offside Trap, Flair',\n",
       "       'Power Free-Kick, Long Passer (AI), Long Shot Taker (AI)',\n",
       "       'Flair, Power Header',\n",
       "       'Selfish, Flair, Long Shot Taker (AI), Speed Dribbler (AI)',\n",
       "       'Avoids Using Weaker Foot, Long Shot Taker (AI), Playmaker (AI), Technical Dribbler (AI)',\n",
       "       'Dives Into Tackles (AI), Playmaker (AI)',\n",
       "       'Long Throw-in, Power Header',\n",
       "       'Early Crosser, Long Passer (AI), Playmaker (AI)',\n",
       "       'Leadership, Long Shot Taker (AI), Speed Dribbler (AI)',\n",
       "       'Injury Prone, Beat Offside Trap, Long Shot Taker (AI)',\n",
       "       'One Club Player, Team Player',\n",
       "       'Long Throw-in, Power Free-Kick, Leadership, Long Passer (AI), Power Header, Team Player',\n",
       "       'Injury Prone, Early Crosser, Speed Dribbler (AI)',\n",
       "       'Injury Free, Leadership, Power Header, One Club Player, Team Player',\n",
       "       'Power Free-Kick, Injury Free, Leadership, Long Shot Taker (AI), Team Player',\n",
       "       'Long Throw-in, Diver, Speed Dribbler (AI)',\n",
       "       'Injury Prone, Dives Into Tackles (AI), One Club Player',\n",
       "       'Injury Prone, Long Shot Taker (AI), Speed Dribbler (AI)',\n",
       "       'Diver, Early Crosser, Speed Dribbler (AI)',\n",
       "       'Avoids Using Weaker Foot, Selfish, Playmaker (AI), Technical Dribbler (AI)',\n",
       "       'Avoids Using Weaker Foot, Early Crosser, Long Passer (AI), Long Shot Taker (AI), Playmaker (AI)',\n",
       "       'Injury Free, Dives Into Tackles (AI), Long Shot Taker (AI)',\n",
       "       'Selfish, Speed Dribbler (AI), Technical Dribbler (AI)',\n",
       "       'Early Crosser, Chip Shot (AI)',\n",
       "       'Dives Into Tackles (AI), Leadership, Long Passer (AI), Power Header',\n",
       "       'Beat Offside Trap, Finesse Shot, Long Shot Taker (AI)',\n",
       "       'Power Free-Kick, Long Shot Taker (AI), Technical Dribbler (AI)',\n",
       "       'Flair, Long Shot Taker (AI)', 'Flair, Outside Foot Shot',\n",
       "       'Flair, Playmaker (AI)',\n",
       "       'Leadership, Finesse Shot, Playmaker (AI), Chip Shot (AI)',\n",
       "       'Early Crosser, Long Passer (AI)', 'Beat Offside Trap, Selfish',\n",
       "       'Selfish, Flair, Chip Shot (AI)',\n",
       "       'Long Throw-in, Speed Dribbler (AI), Power Header',\n",
       "       'Selfish, Long Shot Taker (AI), Speed Dribbler (AI)',\n",
       "       'Flair, Long Passer (AI), Long Shot Taker (AI), Playmaker (AI)',\n",
       "       'Injury Prone, Finesse Shot, Flair, Outside Foot Shot, Technical Dribbler (AI)',\n",
       "       'Dives Into Tackles (AI), Long Passer (AI), Long Shot Taker (AI)',\n",
       "       'Avoids Using Weaker Foot, Early Crosser, Speed Dribbler (AI)',\n",
       "       'Long Throw-in, Early Crosser', 'Diver, Beat Offside Trap',\n",
       "       'Diver, Injury Prone, Technical Dribbler (AI)',\n",
       "       'Avoids Using Weaker Foot, Beat Offside Trap, Power Header',\n",
       "       'Diver, Long Shot Taker (AI)',\n",
       "       'Avoids Using Weaker Foot, Outside Foot Shot',\n",
       "       'Power Free-Kick, Avoids Using Weaker Foot, Flair, Long Shot Taker (AI), Technical Dribbler (AI)',\n",
       "       'Power Free-Kick, Long Passer (AI), Long Shot Taker (AI), Playmaker (AI)',\n",
       "       'Injury Free, Beat Offside Trap, Finesse Shot, Team Player',\n",
       "       'Long Throw-in, Injury Prone', 'Injury Free, Long Shot Taker (AI)',\n",
       "       'Flair, Long Passer (AI), Technical Dribbler (AI)',\n",
       "       'Beat Offside Trap, Flair, Power Header',\n",
       "       'Dives Into Tackles (AI), Leadership, Power Header',\n",
       "       'Dives Into Tackles (AI), Speed Dribbler (AI)',\n",
       "       'Avoids Using Weaker Foot, Flair, Long Shot Taker (AI)',\n",
       "       'Speed Dribbler (AI), Playmaker (AI), Technical Dribbler (AI)',\n",
       "       'Injury Free, Dives Into Tackles (AI)',\n",
       "       'Injury Prone, Early Crosser',\n",
       "       'Injury Prone, Beat Offside Trap, Selfish, Long Shot Taker (AI)',\n",
       "       'Long Throw-in, Leadership, Early Crosser',\n",
       "       'Injury Free, Long Shot Taker (AI), Team Player',\n",
       "       'Injury Prone, Flair, Long Passer (AI)',\n",
       "       'Injury Prone, Dives Into Tackles (AI), Leadership, Power Header, Team Player',\n",
       "       'Leadership, Long Shot Taker (AI), Playmaker (AI), One Club Player, Team Player',\n",
       "       'Injury Free, Team Player',\n",
       "       'Avoids Using Weaker Foot, Power Header',\n",
       "       'Speed Dribbler (AI), Team Player',\n",
       "       'Dives Into Tackles (AI), Speed Dribbler (AI), Team Player',\n",
       "       'Leadership, Puncher, GK Long Throw', 'Diver, Injury Prone',\n",
       "       'Injury Prone, Leadership, Long Shot Taker (AI), Playmaker (AI)',\n",
       "       'Long Throw-in, One Club Player',\n",
       "       'Flair, Power Header, Technical Dribbler (AI)',\n",
       "       'Injury Prone, Avoids Using Weaker Foot, Long Passer (AI), Playmaker (AI)',\n",
       "       'Avoids Using Weaker Foot, Early Crosser, Team Player',\n",
       "       'GK Up for Corners, Team Player',\n",
       "       'Leadership, Playmaker (AI), One Club Player',\n",
       "       'Long Throw-in, Power Free-Kick, Selfish, Long Shot Taker (AI), Playmaker (AI)',\n",
       "       'Injury Prone, GK Up for Corners',\n",
       "       'Injury Prone, Playmaker (AI), Team Player, Technical Dribbler (AI)',\n",
       "       'Diver, Selfish, Flair', 'Playmaker (AI), Power Header',\n",
       "       'Diver, Finesse Shot, Power Header, Technical Dribbler (AI)',\n",
       "       'Long Throw-in, Injury Prone, Long Shot Taker (AI), Playmaker (AI)',\n",
       "       'Injury Free, Playmaker (AI), Power Header',\n",
       "       'Beat Offside Trap, Selfish, Chip Shot (AI)',\n",
       "       'Injury Prone, Long Passer (AI)',\n",
       "       'Finesse Shot, Long Shot Taker (AI), Speed Dribbler (AI)',\n",
       "       'Injury Prone, Flair, Speed Dribbler (AI), Technical Dribbler (AI)',\n",
       "       'Power Free-Kick, Flair, Speed Dribbler (AI)',\n",
       "       'Injury Prone, Avoids Using Weaker Foot, Long Shot Taker (AI), Technical Dribbler (AI)',\n",
       "       'Long Throw-in, Dives Into Tackles (AI)',\n",
       "       'Long Passer (AI), Long Shot Taker (AI), Playmaker (AI), Power Header',\n",
       "       'Long Throw-in, Technical Dribbler (AI)',\n",
       "       'Power Free-Kick, Selfish, Long Shot Taker (AI), Speed Dribbler (AI)',\n",
       "       'Diver, Injury Prone, Flair, Technical Dribbler (AI)',\n",
       "       'Giant Throw-in', 'Injury Prone, Playmaker (AI)',\n",
       "       'Avoids Using Weaker Foot, Dives Into Tackles (AI), Leadership',\n",
       "       'Injury Prone, Long Shot Taker (AI), Playmaker (AI)',\n",
       "       'Power Free-Kick, Dives Into Tackles (AI), Long Shot Taker (AI)',\n",
       "       'Selfish, Long Shot Taker (AI), Technical Dribbler (AI)',\n",
       "       'Diver, Injury Prone, Beat Offside Trap',\n",
       "       'Playmaker (AI), Swerve Pass, Team Player',\n",
       "       'Diver, Injury Prone, Power Header',\n",
       "       'Long Throw-in, Injury Prone, Long Shot Taker (AI)',\n",
       "       'Long Throw-in, Injury Free, Early Crosser',\n",
       "       'Injury Prone, Finesse Shot, Flair, Technical Dribbler (AI)',\n",
       "       'Long Throw-in, Leadership, Power Header',\n",
       "       'Playmaker (AI), Team Player, Technical Dribbler (AI)',\n",
       "       'Injury Prone, Long Passer (AI), Team Player',\n",
       "       'Early Crosser, Long Passer (AI), Long Shot Taker (AI)',\n",
       "       'Early Crosser, Technical Dribbler (AI)',\n",
       "       'Early Crosser, Long Shot Taker (AI), One Club Player, Team Player',\n",
       "       'Selfish, Finesse Shot, Long Shot Taker (AI)',\n",
       "       'Avoids Using Weaker Foot, Selfish, Outside Foot Shot, Technical Dribbler (AI)',\n",
       "       'Avoids Using Weaker Foot, Giant Throw-in',\n",
       "       'Long Throw-in, Early Crosser, Speed Dribbler (AI)',\n",
       "       'Flair, Long Shot Taker (AI), Outside Foot Shot',\n",
       "       'Diver, Finesse Shot, Power Header',\n",
       "       'Injury Free, Playmaker (AI), Team Player',\n",
       "       'Power Free-Kick, Diver, Speed Dribbler (AI), Chip Shot (AI)',\n",
       "       'Injury Free, Speed Dribbler (AI), Team Player',\n",
       "       'Avoids Using Weaker Foot, Dives Into Tackles (AI), Chip Shot (AI)',\n",
       "       'Injury Free, Early Crosser, Speed Dribbler (AI)',\n",
       "       'Beat Offside Trap, Finesse Shot, Chip Shot (AI)',\n",
       "       'Long Throw-in, Injury Free, Long Shot Taker (AI)',\n",
       "       'Avoids Using Weaker Foot, Team Player',\n",
       "       'Power Free-Kick, Injury Prone, Long Shot Taker (AI)',\n",
       "       'Leadership, Long Shot Taker (AI), One Club Player',\n",
       "       'Finesse Shot, Long Shot Taker (AI), Playmaker (AI)',\n",
       "       'Dives Into Tackles (AI), Finesse Shot, Long Shot Taker (AI)',\n",
       "       'Long Throw-in, Power Free-Kick',\n",
       "       'Outside Foot Shot, Technical Dribbler (AI)',\n",
       "       'Flair, Giant Throw-in',\n",
       "       'Dives Into Tackles (AI), Leadership, Long Shot Taker (AI)',\n",
       "       'Early Crosser, Flair', 'Long Throw-in, Flair, Playmaker (AI)',\n",
       "       'Long Throw-in, Avoids Using Weaker Foot',\n",
       "       'Avoids Using Weaker Foot, Selfish, Flair',\n",
       "       'Selfish, Early Crosser, Technical Dribbler (AI)',\n",
       "       'Avoids Using Weaker Foot, Beat Offside Trap',\n",
       "       'Injury Free, Flair, Technical Dribbler (AI)',\n",
       "       'Selfish, Power Header',\n",
       "       'Leadership, Long Shot Taker (AI), Technical Dribbler (AI)',\n",
       "       'Selfish, Finesse Shot, Speed Dribbler (AI)',\n",
       "       'Long Shot Taker (AI), Outside Foot Shot',\n",
       "       'Injury Free, Finesse Shot',\n",
       "       'Long Throw-in, Injury Prone, Early Crosser',\n",
       "       'Avoids Using Weaker Foot, Selfish, Long Shot Taker (AI)',\n",
       "       'Diver, Beat Offside Trap, Finesse Shot',\n",
       "       'Avoids Using Weaker Foot, Beat Offside Trap, Speed Dribbler (AI)',\n",
       "       'Power Free-Kick, Early Crosser, Speed Dribbler (AI)',\n",
       "       'Avoids Using Weaker Foot, Beat Offside Trap, Early Crosser, Speed Dribbler (AI)',\n",
       "       'Dives Into Tackles (AI), Beat Offside Trap, Leadership, Team Player',\n",
       "       'Puncher, Team Player',\n",
       "       'Injury Prone, Long Passer (AI), Playmaker (AI)',\n",
       "       'Injury Prone, Selfish, Long Shot Taker (AI), Outside Foot Shot',\n",
       "       'Power Free-Kick, Power Header, Giant Throw-in',\n",
       "       'Dives Into Tackles (AI), Early Crosser, One Club Player, Team Player',\n",
       "       'Diver, Beat Offside Trap, Long Shot Taker (AI)',\n",
       "       'Leadership, Power Header, Team Player',\n",
       "       'Avoids Using Weaker Foot, Dives Into Tackles (AI), Early Crosser',\n",
       "       'Flair, Long Shot Taker (AI), Playmaker (AI)',\n",
       "       'Beat Offside Trap, Selfish, Finesse Shot, Speed Dribbler (AI)',\n",
       "       'Diver, Selfish',\n",
       "       'Finesse Shot, Flair, Long Shot Taker (AI), Playmaker (AI)',\n",
       "       'Avoids Using Weaker Foot, Flair, Outside Foot Shot, Technical Dribbler (AI)',\n",
       "       'Injury Prone, Avoids Using Weaker Foot, Dives Into Tackles (AI), Leadership',\n",
       "       'Injury Free, Dives Into Tackles (AI), Power Header',\n",
       "       'Injury Prone, Dives Into Tackles (AI), Long Passer (AI), One Club Player, Team Player',\n",
       "       'Finesse Shot, Chip Shot (AI)',\n",
       "       'Early Crosser, Playmaker (AI), Technical Dribbler (AI)',\n",
       "       'Power Free-Kick, Leadership, Long Shot Taker (AI)',\n",
       "       'Injury Free, Leadership, Finesse Shot, Power Header',\n",
       "       'Diver, Finesse Shot, Team Player, Technical Dribbler (AI)',\n",
       "       'Finesse Shot, Playmaker (AI), One Club Player, Team Player',\n",
       "       'Leadership, Flair, Power Header', 'Selfish, Finesse Shot',\n",
       "       'Injury Prone, Dives Into Tackles (AI), Long Passer (AI)',\n",
       "       'Diver, Long Passer (AI)',\n",
       "       'Avoids Using Weaker Foot, Dives Into Tackles (AI), Long Shot Taker (AI), Technical Dribbler (AI)',\n",
       "       'Avoids Using Weaker Foot, Early Crosser, Long Shot Taker (AI), Playmaker (AI)',\n",
       "       'Dives Into Tackles (AI), Selfish',\n",
       "       'Injury Prone, Flair, Long Shot Taker (AI), Playmaker (AI)',\n",
       "       'Injury Prone, Flair, Long Shot Taker (AI)', 'Injury Prone, Flair',\n",
       "       'Diver, Beat Offside Trap, Flair, Technical Dribbler (AI)',\n",
       "       'Injury Prone, Beat Offside Trap, Long Shot Taker (AI), Speed Dribbler (AI)',\n",
       "       'Long Shot Taker (AI), Speed Dribbler (AI), Technical Dribbler (AI)',\n",
       "       'Beat Offside Trap, Technical Dribbler (AI)',\n",
       "       'Beat Offside Trap, Chip Shot (AI)',\n",
       "       'Power Free-Kick, Playmaker (AI)',\n",
       "       'Beat Offside Trap, Power Header, Chip Shot (AI)',\n",
       "       'Power Free-Kick, Selfish',\n",
       "       'Power Free-Kick, Diver, Finesse Shot, Technical Dribbler (AI)',\n",
       "       'Injury Free, Selfish, Speed Dribbler (AI), Power Header',\n",
       "       'Injury Free, Long Shot Taker (AI), Playmaker (AI), Technical Dribbler (AI)',\n",
       "       'Avoids Using Weaker Foot, Dives Into Tackles (AI), Leadership, Team Player',\n",
       "       'Long Shot Taker (AI), Team Player',\n",
       "       'Injury Prone, Leadership, Playmaker (AI)',\n",
       "       'Leadership, Long Passer (AI), Long Shot Taker (AI), One Club Player, Team Player',\n",
       "       'Injury Free, Flair, Long Shot Taker (AI)',\n",
       "       'GK Up for Corners, Puncher, GK Long Throw',\n",
       "       'Injury Prone, Avoids Using Weaker Foot, Team Player',\n",
       "       'Diver, Finesse Shot, Flair, Playmaker (AI)',\n",
       "       'Power Free-Kick, Team Player',\n",
       "       'Diver, Selfish, Long Shot Taker (AI), Playmaker (AI), Technical Dribbler (AI)',\n",
       "       'Diver, Team Player',\n",
       "       'Long Throw-in, Leadership, Long Shot Taker (AI), Playmaker (AI)',\n",
       "       'Injury Free, GK Up for Corners',\n",
       "       'Diver, Injury Free, Dives Into Tackles (AI)',\n",
       "       'Long Throw-in, Power Free-Kick, Long Shot Taker (AI)',\n",
       "       'Diver, Finesse Shot, Playmaker (AI), Technical Dribbler (AI)',\n",
       "       'Power Free-Kick, Avoids Using Weaker Foot',\n",
       "       'Selfish, Flair, Outside Foot Shot, Technical Dribbler (AI)',\n",
       "       'Selfish, Finesse Shot, Flair, Chip Shot (AI), Technical Dribbler (AI)',\n",
       "       'Power Free-Kick, Diver, Selfish, Flair, Playmaker (AI), Technical Dribbler (AI)',\n",
       "       'Avoids Using Weaker Foot, Beat Offside Trap, Outside Foot Shot, Chip Shot (AI)',\n",
       "       'Injury Free, Beat Offside Trap',\n",
       "       'Selfish, Finesse Shot, Flair, Long Shot Taker (AI), Technical Dribbler (AI)',\n",
       "       'Injury Prone, Power Header, Team Player',\n",
       "       'Diver, Dives Into Tackles (AI)',\n",
       "       'Selfish, Long Passer (AI), Long Shot Taker (AI)',\n",
       "       'Long Shot Taker (AI), Playmaker (AI), Outside Foot Shot',\n",
       "       'Diver, Avoids Using Weaker Foot, Selfish, Flair, Long Shot Taker (AI)',\n",
       "       'Power Free-Kick, Injury Prone, Beat Offside Trap',\n",
       "       'Power Free-Kick, Leadership, Long Passer (AI)',\n",
       "       'Injury Prone, Early Crosser, Flair, Long Shot Taker (AI)',\n",
       "       'Diver, Flair, Long Shot Taker (AI), Technical Dribbler (AI)',\n",
       "       'Beat Offside Trap, Early Crosser, Long Passer (AI), Chip Shot (AI)',\n",
       "       'Long Passer (AI), Long Shot Taker (AI), Playmaker (AI), Technical Dribbler (AI)',\n",
       "       'Early Crosser, Finesse Shot, Technical Dribbler (AI)',\n",
       "       'Selfish, Flair, Long Passer (AI), Technical Dribbler (AI)',\n",
       "       'Leadership, Finesse Shot', 'GK Long Throw, Team Player',\n",
       "       'Long Passer (AI), Playmaker (AI), Team Player',\n",
       "       'Injury Free, Leadership, Puncher, Team Player',\n",
       "       'Finesse Shot, Playmaker (AI), Team Player',\n",
       "       'Diver, Finesse Shot, Long Shot Taker (AI), Playmaker (AI)',\n",
       "       'Leadership, Flair, Long Passer (AI), Long Shot Taker (AI)',\n",
       "       'Injury Prone, Selfish, Early Crosser, Technical Dribbler (AI)',\n",
       "       'Power Header, Giant Throw-in',\n",
       "       'Injury Free, Avoids Using Weaker Foot, Dives Into Tackles (AI), Long Passer (AI)',\n",
       "       'Leadership, Long Shot Taker (AI), Team Player',\n",
       "       'Long Throw-in, Injury Prone, Power Header',\n",
       "       'Injury Prone, Avoids Using Weaker Foot, Selfish, Early Crosser, Technical Dribbler (AI)',\n",
       "       'Power Free-Kick, Flair, Long Shot Taker (AI), Technical Dribbler (AI)',\n",
       "       'Leadership, GK Up for Corners',\n",
       "       'Power Free-Kick, Diver, Playmaker (AI), Technical Dribbler (AI)',\n",
       "       'Avoids Using Weaker Foot, Long Passer (AI)',\n",
       "       'Selfish, Playmaker (AI), Technical Dribbler (AI)',\n",
       "       'Avoids Using Weaker Foot, Dives Into Tackles (AI), Selfish, Flair, Technical Dribbler (AI)',\n",
       "       'Power Free-Kick, Early Crosser',\n",
       "       'Beat Offside Trap, Selfish, Flair, Speed Dribbler (AI)',\n",
       "       'Injury Free, Power Header, One Club Player, Team Player',\n",
       "       'Finesse Shot, Outside Foot Shot, Chip Shot (AI)',\n",
       "       'Selfish, Long Shot Taker (AI), Playmaker (AI)',\n",
       "       'Avoids Using Weaker Foot, Long Shot Taker (AI), Playmaker (AI)',\n",
       "       'Dives Into Tackles (AI), Selfish, Speed Dribbler (AI)',\n",
       "       'Power Free-Kick, Injury Prone, Dives Into Tackles (AI)',\n",
       "       'Power Free-Kick, Flair, Long Shot Taker (AI), Playmaker (AI)',\n",
       "       'Diver, Injury Prone, Beat Offside Trap, Finesse Shot, Speed Dribbler (AI)',\n",
       "       'Beat Offside Trap, Selfish, Long Shot Taker (AI), Speed Dribbler (AI)',\n",
       "       'Dives Into Tackles (AI), Early Crosser',\n",
       "       'Injury Prone, Long Passer (AI), Playmaker (AI), Team Player',\n",
       "       'Diver, Beat Offside Trap, Speed Dribbler (AI)',\n",
       "       'Avoids Using Weaker Foot, Flair, Giant Throw-in',\n",
       "       'Long Throw-in, Injury Prone, Dives Into Tackles (AI)',\n",
       "       'Dives Into Tackles (AI), Outside Foot Shot',\n",
       "       'Injury Prone, Dives Into Tackles (AI), Leadership, Team Player',\n",
       "       'Injury Prone, Dives Into Tackles (AI), Power Header',\n",
       "       'Diver, Beat Offside Trap, Team Player',\n",
       "       'Flair, Long Passer (AI), Long Shot Taker (AI), Technical Dribbler (AI)',\n",
       "       'Injury Prone, Leadership, Puncher, One Club Player',\n",
       "       'Dives Into Tackles (AI), Long Shot Taker (AI), Playmaker (AI)',\n",
       "       'Diver, Long Shot Taker (AI), Technical Dribbler (AI)',\n",
       "       'Leadership, Finesse Shot, Long Shot Taker (AI)',\n",
       "       'Beat Offside Trap, Leadership, Finesse Shot, Long Shot Taker (AI), Team Player',\n",
       "       'Leadership, Finesse Shot, Flair, Playmaker (AI), Technical Dribbler (AI)',\n",
       "       'Injury Free, Finesse Shot, Flair',\n",
       "       'Long Throw-in, Long Passer (AI), Long Shot Taker (AI)',\n",
       "       'Long Throw-in, Avoids Using Weaker Foot, Leadership',\n",
       "       'Avoids Using Weaker Foot, Finesse Shot',\n",
       "       'Injury Free, Early Crosser, Flair',\n",
       "       'Power Free-Kick, Injury Prone, One Club Player',\n",
       "       'Power Free-Kick, Dives Into Tackles (AI), Long Passer (AI)',\n",
       "       'Leadership, Long Passer (AI), Playmaker (AI)',\n",
       "       'Diver, Injury Free, Early Crosser, Speed Dribbler (AI)',\n",
       "       'Injury Free, Finesse Shot, Power Header',\n",
       "       'Avoids Using Weaker Foot, Finesse Shot, Flair, Long Shot Taker (AI), Technical Dribbler (AI)',\n",
       "       'Long Throw-in, Long Shot Taker (AI), Speed Dribbler (AI)',\n",
       "       'Beat Offside Trap, Selfish, Technical Dribbler (AI)',\n",
       "       'Dives Into Tackles (AI), Selfish, Flair, Technical Dribbler (AI)',\n",
       "       'Selfish, Early Crosser, Flair',\n",
       "       'Avoids Using Weaker Foot, Selfish, Speed Dribbler (AI)',\n",
       "       'Beat Offside Trap, Finesse Shot, Flair',\n",
       "       'Long Throw-in, Dives Into Tackles (AI), Power Header',\n",
       "       'Injury Free, Dives Into Tackles (AI), Long Passer (AI)',\n",
       "       'Flair, Long Passer (AI)', 'Power Free-Kick, Injury Free',\n",
       "       'Power Free-Kick, Finesse Shot, Long Shot Taker (AI)',\n",
       "       'Avoids Using Weaker Foot, Leadership, Power Header',\n",
       "       'Long Throw-in, Avoids Using Weaker Foot, Dives Into Tackles (AI), Long Passer (AI)',\n",
       "       'Power Free-Kick, Injury Prone, Long Passer (AI), Long Shot Taker (AI), Playmaker (AI), Swerve Pass',\n",
       "       'Power Free-Kick, Dives Into Tackles (AI)',\n",
       "       'Power Free-Kick, Early Crosser, Long Passer (AI)',\n",
       "       'Long Throw-in, Diver',\n",
       "       'Long Shot Taker (AI), Playmaker (AI), Power Header',\n",
       "       'Injury Prone, Dives Into Tackles (AI), Giant Throw-in',\n",
       "       'Power Free-Kick, Diver, Dives Into Tackles (AI), Power Header',\n",
       "       'Diver, Early Crosser, Long Shot Taker (AI)',\n",
       "       'Puncher, One Club Player', 'Leadership, Early Crosser',\n",
       "       'Injury Prone, GK Long Throw',\n",
       "       'Power Free-Kick, Injury Free, Leadership, Long Shot Taker (AI)',\n",
       "       'Selfish, Finesse Shot, Long Shot Taker (AI), Technical Dribbler (AI)',\n",
       "       'Selfish, Playmaker (AI)',\n",
       "       'Injury Prone, Finesse Shot, Technical Dribbler (AI)',\n",
       "       'Long Throw-in, Injury Prone, Long Shot Taker (AI), Technical Dribbler (AI)',\n",
       "       'Diver, Playmaker (AI)',\n",
       "       'Power Free-Kick, Selfish, Long Shot Taker (AI), Technical Dribbler (AI)',\n",
       "       'Injury Prone, Dives Into Tackles (AI), Selfish, Playmaker (AI)',\n",
       "       'Injury Prone, Beat Offside Trap, Technical Dribbler (AI)',\n",
       "       'Long Throw-in, Selfish, Flair, Long Shot Taker (AI), Technical Dribbler (AI)',\n",
       "       'Selfish, Playmaker (AI), Chip Shot (AI)',\n",
       "       'Injury Prone, Beat Offside Trap, Flair, Speed Dribbler (AI)',\n",
       "       'Power Free-Kick, Technical Dribbler (AI)', 'Diver, Flair',\n",
       "       'Selfish, Flair, Long Shot Taker (AI)',\n",
       "       'Long Shot Taker (AI), Chip Shot (AI), Technical Dribbler (AI)',\n",
       "       'Diver, Flair, Long Shot Taker (AI)',\n",
       "       'Power Free-Kick, Beat Offside Trap',\n",
       "       'Beat Offside Trap, Finesse Shot, Technical Dribbler (AI)',\n",
       "       'Injury Prone, Avoids Using Weaker Foot, Flair, Technical Dribbler (AI)',\n",
       "       'Dives Into Tackles (AI), Giant Throw-in',\n",
       "       'Injury Prone, Selfish, Finesse Shot, Technical Dribbler (AI)',\n",
       "       'Injury Prone, Early Crosser, Flair, Long Shot Taker (AI), Technical Dribbler (AI)',\n",
       "       'Injury Prone, Selfish, Speed Dribbler (AI)',\n",
       "       'Avoids Using Weaker Foot, Leadership, Long Passer (AI)',\n",
       "       'Power Free-Kick, Injury Prone, Selfish, Long Shot Taker (AI)',\n",
       "       'Avoids Using Weaker Foot, Long Shot Taker (AI), Team Player',\n",
       "       'Injury Free, Puncher, GK Long Throw',\n",
       "       'Long Throw-in, One Club Player, Team Player',\n",
       "       'Long Shot Taker (AI), One Club Player',\n",
       "       'Leadership, One Club Player',\n",
       "       'Injury Prone, Dives Into Tackles (AI), Early Crosser, Speed Dribbler (AI)',\n",
       "       'Long Throw-in, Injury Prone, Avoids Using Weaker Foot, Early Crosser',\n",
       "       'Injury Free, Beat Offside Trap, Long Shot Taker (AI)',\n",
       "       'Injury Free, Flair', 'Leadership, Speed Dribbler (AI)',\n",
       "       'Power Free-Kick, Injury Prone, Playmaker (AI)',\n",
       "       'Early Crosser, Long Shot Taker (AI), Outside Foot Shot',\n",
       "       'Long Passer (AI), Power Header, Technical Dribbler (AI)',\n",
       "       'Injury Prone, Selfish, Power Header',\n",
       "       'Long Throw-in, Power Free-Kick, Early Crosser, Long Shot Taker (AI)',\n",
       "       'Avoids Using Weaker Foot, Giant Throw-in, Technical Dribbler (AI)',\n",
       "       'Leadership, Technical Dribbler (AI)',\n",
       "       'Early Crosser, Flair, Technical Dribbler (AI)',\n",
       "       'Injury Prone, Beat Offside Trap, Finesse Shot',\n",
       "       'Long Shot Taker (AI), Speed Dribbler (AI), Outside Foot Shot',\n",
       "       'Selfish, Early Crosser, Long Shot Taker (AI), Speed Dribbler (AI)',\n",
       "       'Beat Offside Trap, Selfish, Flair',\n",
       "       'Long Throw-in, Avoids Using Weaker Foot, Playmaker (AI)',\n",
       "       'Power Free-Kick, Selfish, Flair, Long Shot Taker (AI), Chip Shot (AI), Technical Dribbler (AI)',\n",
       "       'Injury Prone, Speed Dribbler (AI), Technical Dribbler (AI)',\n",
       "       'Diver, Selfish, Flair, Technical Dribbler (AI)',\n",
       "       'Power Free-Kick, Beat Offside Trap, Long Shot Taker (AI)',\n",
       "       'Leadership, Long Shot Taker (AI), Power Header',\n",
       "       'Injury Free, Long Passer (AI), Power Header',\n",
       "       'Injury Free, One Club Player, Team Player',\n",
       "       'Avoids Using Weaker Foot, Giant Throw-in, Team Player',\n",
       "       'Long Passer (AI), Team Player',\n",
       "       'Long Throw-in, Beat Offside Trap',\n",
       "       'Long Throw-in, Dives Into Tackles (AI), Long Shot Taker (AI)',\n",
       "       'Power Free-Kick, Playmaker (AI), Technical Dribbler (AI)',\n",
       "       'Power Free-Kick, Flair',\n",
       "       'Avoids Using Weaker Foot, Leadership, Early Crosser, Long Passer (AI)',\n",
       "       'Injury Prone, Selfish, Flair, Playmaker (AI), Technical Dribbler (AI)',\n",
       "       'Finesse Shot, Speed Dribbler (AI), Playmaker (AI), Technical Dribbler (AI)',\n",
       "       'Avoids Using Weaker Foot, Finesse Shot, Speed Dribbler (AI)',\n",
       "       'Outside Foot Shot, Chip Shot (AI)', 'Long Throw-in, Team Player',\n",
       "       'Selfish, Early Crosser', 'Early Crosser, Giant Throw-in',\n",
       "       'Beat Offside Trap, Speed Dribbler (AI), Outside Foot Shot',\n",
       "       'Finesse Shot, Speed Dribbler (AI), Technical Dribbler (AI)',\n",
       "       'Avoids Using Weaker Foot, Finesse Shot, Flair',\n",
       "       'Injury Free, Leadership, GK Up for Corners, Puncher',\n",
       "       'Avoids Using Weaker Foot, Leadership, Long Shot Taker (AI)',\n",
       "       'Early Crosser, Team Player',\n",
       "       'Playmaker (AI), Chip Shot (AI), Technical Dribbler (AI)',\n",
       "       'Injury Free, Leadership, One Club Player',\n",
       "       'Leadership, Playmaker (AI), Team Player',\n",
       "       'Injury Prone, Avoids Using Weaker Foot, Long Shot Taker (AI)',\n",
       "       'Leadership, GK Up for Corners, Puncher',\n",
       "       'Long Throw-in, Injury Free, Dives Into Tackles (AI)',\n",
       "       'Avoids Using Weaker Foot, Selfish',\n",
       "       'Avoids Using Weaker Foot, Beat Offside Trap, Selfish',\n",
       "       'Long Shot Taker (AI), Power Header, One Club Player',\n",
       "       'Power Free-Kick, Long Passer (AI), Long Shot Taker (AI), Power Header',\n",
       "       'Avoids Using Weaker Foot, Power Header, Outside Foot Shot',\n",
       "       'Avoids Using Weaker Foot, Playmaker (AI)',\n",
       "       'Flair, Long Shot Taker (AI), Speed Dribbler (AI), Playmaker (AI)',\n",
       "       'Early Crosser, Long Passer (AI), Giant Throw-in',\n",
       "       'Finesse Shot, Long Shot Taker (AI), Power Header',\n",
       "       'Selfish, Outside Foot Shot',\n",
       "       'Long Throw-in, Diver, Beat Offside Trap, Chip Shot (AI)',\n",
       "       'Injury Prone, Long Shot Taker (AI), Outside Foot Shot',\n",
       "       'Diver, Beat Offside Trap, Flair, Speed Dribbler (AI)',\n",
       "       'Dives Into Tackles (AI), Leadership, One Club Player, Team Player',\n",
       "       'Long Throw-in, Injury Prone, Beat Offside Trap, Speed Dribbler (AI)',\n",
       "       'Power Free-Kick, Injury Prone, Dives Into Tackles (AI), Long Passer (AI), Long Shot Taker (AI)',\n",
       "       'Leadership, GK Long Throw, One Club Player',\n",
       "       'Diver, Dives Into Tackles (AI), Beat Offside Trap, Finesse Shot',\n",
       "       'Power Free-Kick, Leadership',\n",
       "       'Injury Prone, Early Crosser, Long Shot Taker (AI)',\n",
       "       'Long Throw-in, Power Free-Kick, Long Passer (AI)',\n",
       "       'Avoids Using Weaker Foot, One Club Player',\n",
       "       'Diver, Injury Prone, Beat Offside Trap, Technical Dribbler (AI)',\n",
       "       'Long Throw-in, Injury Free, Dives Into Tackles (AI), Leadership, Team Player',\n",
       "       'GK Up for Corners, One Club Player',\n",
       "       'Flair, Power Header, Outside Foot Shot, Chip Shot (AI)',\n",
       "       'Dives Into Tackles (AI), Flair, Playmaker (AI), Technical Dribbler (AI)',\n",
       "       'Avoids Using Weaker Foot, Beat Offside Trap, Outside Foot Shot',\n",
       "       'Injury Free, Long Shot Taker (AI), Playmaker (AI)',\n",
       "       'Injury Prone, Dives Into Tackles (AI), Team Player',\n",
       "       'Avoids Using Weaker Foot, Dives Into Tackles (AI), Long Passer (AI)',\n",
       "       'Power Free-Kick, Avoids Using Weaker Foot, Long Shot Taker (AI), Speed Dribbler (AI)',\n",
       "       'Power Free-Kick, Dives Into Tackles (AI), Leadership',\n",
       "       'Dives Into Tackles (AI), Power Header, Team Player',\n",
       "       'Injury Prone, Leadership, Long Passer (AI), One Club Player',\n",
       "       'Diver, Injury Prone, Selfish, Finesse Shot',\n",
       "       'Injury Free, Dives Into Tackles (AI), Leadership',\n",
       "       'Injury Free, Flair, Long Shot Taker (AI), Playmaker (AI)',\n",
       "       'Injury Free, Leadership, One Club Player, Team Player',\n",
       "       'Power Free-Kick, Avoids Using Weaker Foot, Long Shot Taker (AI)',\n",
       "       'Long Passer (AI), Speed Dribbler (AI)',\n",
       "       'Avoids Using Weaker Foot, Early Crosser, Long Passer (AI)',\n",
       "       'Long Throw-in, Selfish',\n",
       "       'Diver, Dives Into Tackles (AI), Beat Offside Trap',\n",
       "       'Dives Into Tackles (AI), Selfish, Speed Dribbler (AI), Chip Shot (AI)',\n",
       "       'Power Free-Kick, Injury Prone, Long Passer (AI)',\n",
       "       'Diver, Selfish, Early Crosser, Speed Dribbler (AI)',\n",
       "       'Injury Free, Long Passer (AI), Playmaker (AI)',\n",
       "       'Long Throw-in, Injury Free, Team Player',\n",
       "       'Finesse Shot, Long Shot Taker (AI), Technical Dribbler (AI)',\n",
       "       'Power Free-Kick, Finesse Shot', 'Long Throw-in, Playmaker (AI)',\n",
       "       'Injury Prone, Dives Into Tackles (AI), Leadership, Power Header',\n",
       "       'Long Throw-in, Avoids Using Weaker Foot, Selfish',\n",
       "       'Dives Into Tackles (AI), Beat Offside Trap',\n",
       "       'Avoids Using Weaker Foot, Leadership',\n",
       "       'Long Throw-in, Early Crosser, Long Passer (AI)',\n",
       "       'Injury Free, Finesse Shot, Speed Dribbler (AI)',\n",
       "       'Diver, Speed Dribbler (AI), Technical Dribbler (AI)',\n",
       "       'Diver, Selfish, Finesse Shot',\n",
       "       'Avoids Using Weaker Foot, Leadership, Power Header, Team Player',\n",
       "       'Injury Prone, Long Passer (AI), Long Shot Taker (AI), Playmaker (AI)',\n",
       "       'Long Throw-in, Power Free-Kick, Dives Into Tackles (AI)',\n",
       "       'Dives Into Tackles (AI), Finesse Shot',\n",
       "       'Avoids Using Weaker Foot, Dives Into Tackles (AI), Flair, Long Shot Taker (AI)',\n",
       "       'Avoids Using Weaker Foot, Dives Into Tackles (AI), Speed Dribbler (AI)',\n",
       "       'Long Passer (AI), One Club Player, Team Player',\n",
       "       'Injury Prone, One Club Player, Team Player',\n",
       "       'Avoids Using Weaker Foot, Power Header, Team Player',\n",
       "       'Injury Prone, Avoids Using Weaker Foot, Long Shot Taker (AI), Speed Dribbler (AI)',\n",
       "       'Injury Prone, Selfish, Flair',\n",
       "       'Long Throw-in, Dives Into Tackles (AI), Early Crosser, Long Shot Taker (AI)',\n",
       "       'Avoids Using Weaker Foot, Early Crosser, Flair',\n",
       "       'Injury Prone, Dives Into Tackles (AI), Playmaker (AI)',\n",
       "       'Power Free-Kick, Long Shot Taker (AI), Team Player',\n",
       "       'Injury Prone, Long Shot Taker (AI), Team Player',\n",
       "       'Selfish, Leadership, Long Shot Taker (AI)',\n",
       "       'Power Free-Kick, Injury Free, Long Passer (AI)'], dtype=object)"
      ]
     },
     "execution_count": 43,
     "metadata": {},
     "output_type": "execute_result"
    }
   ],
   "source": [
    "df['player_traits'].unique()"
   ]
  },
  {
   "cell_type": "code",
   "execution_count": 44,
   "id": "b58e9f19",
   "metadata": {},
   "outputs": [],
   "source": [
    "df.loc[df['player_traits'].isnull(), 'player_traits'] = 'No Remarks'"
   ]
  },
  {
   "cell_type": "code",
   "execution_count": 45,
   "id": "200c7c88",
   "metadata": {},
   "outputs": [
    {
     "data": {
      "text/plain": [
       "league_rank      239\n",
       "player_tags    14919\n",
       "loaned_from    15243\n",
       "pace            1775\n",
       "shooting        1775\n",
       "passing         1775\n",
       "dribbling       1775\n",
       "defending       1775\n",
       "physic          1775\n",
       "dtype: int64"
      ]
     },
     "execution_count": 45,
     "metadata": {},
     "output_type": "execute_result"
    }
   ],
   "source": [
    "df[df.columns[df.isnull().any()]].isnull().sum()"
   ]
  },
  {
   "cell_type": "markdown",
   "id": "a670f768",
   "metadata": {},
   "source": [
    "This column seems to contain tags. Since we can't statistically fill up a tag, we can indicate the null values as 'No Tags'."
   ]
  },
  {
   "cell_type": "code",
   "execution_count": 46,
   "id": "875c3c17",
   "metadata": {
    "scrolled": true
   },
   "outputs": [
    {
     "data": {
      "text/plain": [
       "array(['#Speedster, #Dribbler, #FK Specialist, #Acrobat, #Clinical Finisher, #Complete Forward',\n",
       "       '#Speedster, #Dribbler, #Distance Shooter, #Acrobat, #Clinical Finisher, #Complete Forward',\n",
       "       '#Speedster, #Dribbler, #Distance Shooter, #Acrobat',\n",
       "       '#Poacher, #Aerial Threat, #Distance Shooter, #Acrobat, #Strength, #Clinical Finisher, #Complete Forward',\n",
       "       nan, '#Acrobat, #Clinical Finisher', '#Dribbler, #Playmaker',\n",
       "       '#Speedster, #Dribbler, #Acrobat',\n",
       "       '#Distance Shooter, #Clinical Finisher',\n",
       "       '#Playmaker, #Engine, #Tactician', '#Dribbler, #Acrobat',\n",
       "       '#Aerial Threat', '#Speedster, #Distance Shooter',\n",
       "       '#Clinical Finisher', '#Engine, #Tackling, #Tactician',\n",
       "       '#Tackling, #Tactician', '#Dribbler, #Playmaker, #Acrobat',\n",
       "       '#Aerial Threat, #Tackling, #Tactician, #Strength, #Complete Defender',\n",
       "       '#Speedster, #Dribbler, #Crosser, #Acrobat',\n",
       "       '#Speedster, #Dribbler, #Distance Shooter, #FK Specialist, #Acrobat',\n",
       "       '#Engine, #Clinical Finisher', '#Playmaker, #FK Specialist',\n",
       "       '#Strength', '#Engine, #Distance Shooter, #Clinical Finisher',\n",
       "       '#Tackling, #Tactician, #Strength, #Complete Defender',\n",
       "       '#Tactician',\n",
       "       '#Playmaker, #Distance Shooter, #Crosser, #Complete Midfielder',\n",
       "       '#Poacher', '#Engine, #Tactician', '#Playmaker, #Acrobat',\n",
       "       '#Dribbler, #Engine, #Clinical Finisher', '#Acrobat', '#Dribbler',\n",
       "       '#Tactician, #Strength', '#Playmaker', '#Tackling, #Strength',\n",
       "       '#Distance Shooter, #Strength', '#Engine', '#Crosser',\n",
       "       '#Distance Shooter', '#Aerial Threat, #Tactician, #Strength',\n",
       "       '#Tackling', '#Speedster, #Acrobat', '#Aerial Threat, #Strength',\n",
       "       '#Dribbler, #Engine, #Acrobat', '#Speedster',\n",
       "       '#Distance Shooter, #Crosser', '#FK Specialist, #Acrobat',\n",
       "       '#Poacher, #Strength', '#Distance Shooter, #FK Specialist',\n",
       "       '#Dribbler, #Crosser', '#Dribbler, #FK Specialist',\n",
       "       '#Poacher, #Distance Shooter, #FK Specialist, #Clinical Finisher',\n",
       "       '#FK Specialist', '#Poacher, #Clinical Finisher',\n",
       "       '#Speedster, #Dribbler',\n",
       "       '#Distance Shooter, #Crosser, #FK Specialist',\n",
       "       '#Speedster, #Engine', '#Engine, #Strength', '#Engine, #Acrobat'],\n",
       "      dtype=object)"
      ]
     },
     "execution_count": 46,
     "metadata": {},
     "output_type": "execute_result"
    }
   ],
   "source": [
    "df['player_tags'].unique()"
   ]
  },
  {
   "cell_type": "code",
   "execution_count": 47,
   "id": "3f0371a5",
   "metadata": {},
   "outputs": [],
   "source": [
    "df.loc[df['player_tags'].isnull(), 'player_tags'] = 'No Tags'"
   ]
  },
  {
   "cell_type": "code",
   "execution_count": 48,
   "id": "c4647011",
   "metadata": {},
   "outputs": [
    {
     "data": {
      "text/plain": [
       "league_rank      239\n",
       "loaned_from    15243\n",
       "pace            1775\n",
       "shooting        1775\n",
       "passing         1775\n",
       "dribbling       1775\n",
       "defending       1775\n",
       "physic          1775\n",
       "dtype: int64"
      ]
     },
     "execution_count": 48,
     "metadata": {},
     "output_type": "execute_result"
    }
   ],
   "source": [
    "df[df.columns[df.isnull().any()]].isnull().sum()"
   ]
  },
  {
   "cell_type": "code",
   "execution_count": 49,
   "id": "1b4f091b",
   "metadata": {
    "scrolled": true
   },
   "outputs": [
    {
     "data": {
      "text/plain": [
       "array([nan, 'AS Monaco', 'Manchester City', 'Manchester United',\n",
       "       'Chelsea', 'SL Benfica', 'FC Barcelona', 'Valencia CF',\n",
       "       'FC Schalke 04', 'Atlético Madrid', 'Cagliari', 'Rubin Kazan',\n",
       "       'Newcastle United', 'Swansea City', 'FC Porto',\n",
       "       'Toulouse Football Club', 'Udinese', 'Bayer 04 Leverkusen',\n",
       "       'Napoli', 'Tottenham Hotspur', 'Southampton',\n",
       "       'Zenit St. Petersburg', 'Galatasaray SK', 'Fulham', 'Palermo',\n",
       "       'Juventus', 'Liverpool', 'Real Madrid', 'PSV', 'Inter',\n",
       "       'PFC CSKA Moscow', 'RC Celta', 'Real Valladolid CF', 'Sevilla FC',\n",
       "       'Milan', 'Spartak Moscow', 'Roma', 'Sporting CP',\n",
       "       'Borussia Dortmund', 'KRC Genk', 'PAOK', 'Beşiktaş JK',\n",
       "       'Fiorentina', 'FC Bayern München', 'SC Braga', 'Villarreal CF',\n",
       "       'Arsenal', 'Real Betis', 'Universidad Católica', 'Guadalajara',\n",
       "       'RCD Espanyol', 'Norwich City', 'Granada CF', 'Elche CF',\n",
       "       'Real Sociedad', 'Catania', '1. FSV Mainz 05',\n",
       "       'Olympique de Marseille', 'Real Zaragoza', 'Paris Saint-Germain',\n",
       "       'RB Leipzig', 'Rio Ave FC', 'Deportivo Cali', 'FC Barcelona B',\n",
       "       'Shakhtar Donetsk', 'Pescara', 'Sassuolo', 'Cardiff City',\n",
       "       'West Ham United', 'Bologna', 'Torino', 'TSG 1899 Hoffenheim',\n",
       "       'RSC Anderlecht', 'Chievo Verona', 'Hertha BSC', 'Millonarios FC',\n",
       "       'Reading', 'Kasimpaşa SK', 'Club Atlético Lanús', 'Sunderland',\n",
       "       'Fenerbahçe SK', 'Lazio', 'Boca Juniors', 'OGC Nice',\n",
       "       'Aston Villa', 'Lokomotiv Moscow', 'Real Sporting de Gijón',\n",
       "       'Standard de Liège', 'Borussia Mönchengladbach',\n",
       "       'Stade Rennais FC', 'Estudiantes de La Plata', 'Atlético Huila',\n",
       "       'Deportivo Toluca', 'Bursaspor', 'Stoke City',\n",
       "       'San Lorenzo de Almagro', 'Club León', 'CA Osasuna', 'Genoa',\n",
       "       'VfB Stuttgart', 'Estoril Praia', 'FC Red Bull Salzburg',\n",
       "       'KAA Gent', 'FC Lorient', 'Once Caldas', 'Atalanta',\n",
       "       'Queens Park Rangers', 'CD Cobreloa', 'Watford',\n",
       "       'Wolverhampton Wanderers', 'Crystal Palace', 'Rionegro Águilas',\n",
       "       'Sampdoria', '1. FC Kaiserslautern', 'River Plate', 'Envigado FC',\n",
       "       'Middlesbrough', 'Atlético Nacional', 'Racing Club', 'Club Atlas',\n",
       "       'Ulsan Hyundai FC', 'Parma', \"CD O'Higgins\", 'Hamburger SV',\n",
       "       'Feyenoord', 'SC Freiburg', 'Dinamo Moscow',\n",
       "       'Athletic Club de Bilbao', 'Levante UD', 'Málaga CF',\n",
       "       'Club Brugge KV', 'Ajax', 'Universidad de Chile', 'Olympiacos CFP',\n",
       "       'FC Twente', 'FC København', 'Tigres U.A.N.L.', 'KV Mechelen',\n",
       "       'Celtic', 'Monarcas Morelia', 'Club Tijuana', 'Nottingham Forest',\n",
       "       'Monterrey', 'Belgrano de Córdoba', 'Trabzonspor',\n",
       "       'Eintracht Frankfurt', 'Santos Laguna', 'CD Palestino',\n",
       "       'Jaguares de Chiapas', 'Club América', 'Legia Warszawa',\n",
       "       'Stade de Reims', 'Gimnasia y Esgrima La Plata', 'U.N.A.M.',\n",
       "       'Rayo Vallecano', 'La Equidad', '1. FC Köln', 'Spezia',\n",
       "       'Blackburn Rovers', 'AZ Alkmaar', 'Derby County',\n",
       "       'Deportes Tolima', 'Bolton Wanderers', 'Junior FC', 'Pachuca',\n",
       "       'Querétaro', 'Jeonbuk Hyundai Motors', 'Hellas Verona', 'Varese',\n",
       "       'Livorno', 'Sporting Club de Bastia', 'Modena', 'Hannover 96',\n",
       "       'ADO Den Haag', 'LOSC Lille', 'En Avant de Guingamp',\n",
       "       'SV Zulte-Waregem', 'IFK Göteborg', 'Cruz Azul',\n",
       "       'Sheffield United', 'Leicester City', 'Suwon Samsung Bluewings',\n",
       "       'AS Saint-Étienne', 'Córdoba CF', 'Deportivo de La Coruña',\n",
       "       'Bournemouth', 'Hull City', 'Ipswich Town', 'CD Lugo',\n",
       "       'CD Nacional', 'Club Olimpo', 'Lillestrøm SK', 'Millwall',\n",
       "       'Puebla FC', 'Jeju United FC', 'FC Girondins de Bordeaux',\n",
       "       'Santiago Wanderers', 'Vålerenga Fotball', 'BSC Young Boys',\n",
       "       'FC Basel 1893', 'SC Paderborn 07', 'FC Sion',\n",
       "       'Independiente Santa Fe', 'Godoy Cruz', 'IF Elfsborg',\n",
       "       'Mjällby AIF', 'FC Ural Yekaterinburg', 'Peterborough United',\n",
       "       'Fortuna Düsseldorf', 'FC Groningen', 'Vitesse', 'Unión Española',\n",
       "       'Brentford', 'Terek Grozny', 'Angers SCO', 'IK Start',\n",
       "       'Rosenborg BK', 'Vélez Sarsfield', 'Colorado Rapids',\n",
       "       'Wigan Athletic', 'Defensa y Justicia', 'Rotherham United',\n",
       "       'Huddersfield Town', 'SV Werder Bremen', '1. FC Nürnberg',\n",
       "       'FC Rostov', 'West Bromwich Albion', 'Colo-Colo', 'Molde FK',\n",
       "       'Kuban Krasnodar', 'Pogoń Szczecin', 'Audax Italiano',\n",
       "       'Incheon United FC', 'Empoli', 'Northampton Town',\n",
       "       'New England Revolution', 'Dijon FCO', 'Gyeongnam FC', 'Everton',\n",
       "       'Brighton & Hove Albion', 'Yeovil Town', 'Seattle Sounders FC',\n",
       "       'Burnley', 'Bristol City', 'Malmö FF', 'Independiente',\n",
       "       'Dundee United', 'Kalmar FF', 'Busan IPark', 'UD Las Palmas',\n",
       "       'Sivasspor', 'Oldham Athletic', 'Gillingham', 'Deportes Iquique',\n",
       "       'Al Ittihad', 'Al Shabab', 'Örebro SK', 'Sligo Rovers',\n",
       "       'Port Vale', 'Birmingham City', 'FC Luzern', 'Swindon Town',\n",
       "       'FK Austria Wien', 'SK Rapid Wien', 'Charlton Athletic', 'Bury',\n",
       "       'Shamrock Rovers', 'Preston North End', 'Strømsgodset IF',\n",
       "       'Uniautónoma FC', 'Al Ahli', 'Seongnam FC', 'Cork City',\n",
       "       'Al Nassr', 'Viking FK', 'FC Midtjylland',\n",
       "       \"St. Patrick's Athletic\", 'FC Seoul'], dtype=object)"
      ]
     },
     "execution_count": 49,
     "metadata": {},
     "output_type": "execute_result"
    }
   ],
   "source": [
    "df['loaned_from'].unique()"
   ]
  },
  {
   "cell_type": "markdown",
   "id": "73fb9d06",
   "metadata": {},
   "source": [
    "The values in the 'loaned_from' column contains names of football clubs. The null values probably means that either the player is not loaned from another football club or no record is available for the player.\n",
    "\n",
    "We will assume that these players were not loaned from another football club.\n",
    "\n",
    "We will assume that they joined the club they now belong in from the beginning."
   ]
  },
  {
   "cell_type": "code",
   "execution_count": 50,
   "id": "7adc451f",
   "metadata": {},
   "outputs": [],
   "source": [
    "df['loaned_from'] = df['loaned_from'].fillna('Not Loaned')"
   ]
  },
  {
   "cell_type": "code",
   "execution_count": 51,
   "id": "e195abbf",
   "metadata": {},
   "outputs": [
    {
     "data": {
      "text/plain": [
       "league_rank     239\n",
       "pace           1775\n",
       "shooting       1775\n",
       "passing        1775\n",
       "dribbling      1775\n",
       "defending      1775\n",
       "physic         1775\n",
       "dtype: int64"
      ]
     },
     "execution_count": 51,
     "metadata": {},
     "output_type": "execute_result"
    }
   ],
   "source": [
    "df[df.columns[df.isnull().any()]].isnull().sum()"
   ]
  },
  {
   "cell_type": "code",
   "execution_count": 52,
   "id": "840d5812",
   "metadata": {},
   "outputs": [
    {
     "data": {
      "text/plain": [
       "Unidentified    239\n",
       "Name: league_name, dtype: int64"
      ]
     },
     "execution_count": 52,
     "metadata": {},
     "output_type": "execute_result"
    }
   ],
   "source": [
    "df[df['league_rank'].isnull()]['league_name'].value_counts()"
   ]
  },
  {
   "cell_type": "markdown",
   "id": "9558b696",
   "metadata": {},
   "source": [
    "The above has shown that results with unidentified league name also has unknown league rank. Thus, we can replace the null values in 'league_rank' with 'Unidentified' too."
   ]
  },
  {
   "cell_type": "code",
   "execution_count": 53,
   "id": "8e82859d",
   "metadata": {},
   "outputs": [],
   "source": [
    "df['league_rank'] = df['league_rank'].fillna('Unidentified')"
   ]
  },
  {
   "cell_type": "code",
   "execution_count": 54,
   "id": "257b3fb2",
   "metadata": {},
   "outputs": [
    {
     "data": {
      "text/plain": [
       "pace         1775\n",
       "shooting     1775\n",
       "passing      1775\n",
       "dribbling    1775\n",
       "defending    1775\n",
       "physic       1775\n",
       "dtype: int64"
      ]
     },
     "execution_count": 54,
     "metadata": {},
     "output_type": "execute_result"
    }
   ],
   "source": [
    "df[df.columns[df.isnull().any()]].isnull().sum()"
   ]
  },
  {
   "cell_type": "markdown",
   "id": "a3bf27b1",
   "metadata": {},
   "source": [
    "The below charts are to look at the dist. of scores for 'pace', 'shooting', 'passing', 'dribbling', 'defending', 'physic'. \n",
    "\n",
    "It is to find out if the scores are normally distributed."
   ]
  },
  {
   "cell_type": "code",
   "execution_count": 56,
   "id": "8cc565f8",
   "metadata": {},
   "outputs": [
    {
     "data": {
      "image/png": "[encoded data removed]",
      "text/plain": [
       "<Figure size 600x400 with 6 Axes>"
      ]
     },
     "metadata": {
      "needs_background": "light"
     },
     "output_type": "display_data"
    }
   ],
   "source": [
    "fig, axes = plt.subplots(2, 3, dpi=(100))\n",
    "\n",
    "scores1 = ['pace', 'shooting', 'passing']\n",
    "scores2 = ['dribbling', 'defending', 'physic']\n",
    "\n",
    "for i in range(len(scores1)):\n",
    "    sns.kdeplot(ax=axes[0,i], x=scores1[i], data=df)\n",
    "    \n",
    "    sns.kdeplot(ax=axes[1,i], x=scores2[i], data=df)\n",
    "    \n",
    "plt.tight_layout()"
   ]
  },
  {
   "cell_type": "markdown",
   "id": "94b23e7b",
   "metadata": {},
   "source": [
    "From the charts above, we can deduce that 'dribbling' and 'passing' are more normally distributed compared to the rest. Thus, we can replace the null values with the mean as a gauge\n",
    "\n",
    "For 'pace', 'physic' and 'shooting', we can replace the null values with the median as these are not so normally distributed.\n",
    "\n",
    "For 'defending', the distribution is bimodal, hence, this suggests that there are two groups of players - one group that is very good at defending, and another not so good at defending."
   ]
  },
  {
   "cell_type": "code",
   "execution_count": 58,
   "id": "5a592e7b",
   "metadata": {},
   "outputs": [],
   "source": [
    "df['dribbling'] = df['dribbling'].fillna(df['dribbling'].mean())\n",
    "df['passing'] = df['passing'].fillna(df['passing'].mean())\n",
    "\n",
    "df['pace'] = df['pace'].fillna(df['pace'].median())\n",
    "df['physic'] = df['physic'].fillna(df['physic'].median())\n",
    "df['shooting'] = df['shooting'].fillna(df['shooting'].median())"
   ]
  },
  {
   "cell_type": "code",
   "execution_count": 59,
   "id": "4ccf7edd",
   "metadata": {},
   "outputs": [
    {
     "data": {
      "text/plain": [
       "defending    1775\n",
       "dtype: int64"
      ]
     },
     "execution_count": 59,
     "metadata": {},
     "output_type": "execute_result"
    }
   ],
   "source": [
    "df[df.columns[df.isnull().any()]].isnull().sum()"
   ]
  },
  {
   "cell_type": "code",
   "execution_count": 60,
   "id": "d354bac2",
   "metadata": {},
   "outputs": [
    {
     "data": {
      "text/plain": [
       "count    14380.000000\n",
       "mean        49.896662\n",
       "std         15.788470\n",
       "min         21.000000\n",
       "25%         33.000000\n",
       "50%         53.000000\n",
       "75%         63.000000\n",
       "max         90.000000\n",
       "Name: defending, dtype: float64"
      ]
     },
     "execution_count": 60,
     "metadata": {},
     "output_type": "execute_result"
    }
   ],
   "source": [
    "df['defending'].describe()"
   ]
  },
  {
   "cell_type": "code",
   "execution_count": 61,
   "id": "c73464e0",
   "metadata": {},
   "outputs": [
    {
     "data": {
      "text/plain": [
       "<AxesSubplot:xlabel='defending'>"
      ]
     },
     "execution_count": 61,
     "metadata": {},
     "output_type": "execute_result"
    },
    {
     "data": {
      "image/png": "[encoded data removed]",
      "text/plain": [
       "<Figure size 432x288 with 1 Axes>"
      ]
     },
     "metadata": {
      "needs_background": "light"
     },
     "output_type": "display_data"
    }
   ],
   "source": [
    "sns.boxplot(data=df, x='defending')"
   ]
  },
  {
   "cell_type": "markdown",
   "id": "604d18f2",
   "metadata": {},
   "source": [
    "The stats description and boxplot above have shown that there are very high scores given for this feature (right-tailed). However, there are no outliers as the dist. is bimodal, our best guess is to take the mean to replace the null values."
   ]
  },
  {
   "cell_type": "code",
   "execution_count": 62,
   "id": "bfecdef7",
   "metadata": {},
   "outputs": [],
   "source": [
    "df['defending'] = df['defending'].fillna(df['defending'].mean())"
   ]
  },
  {
   "cell_type": "markdown",
   "id": "d90fea90",
   "metadata": {},
   "source": [
    "All columns with null values have been dealt with."
   ]
  },
  {
   "cell_type": "code",
   "execution_count": 63,
   "id": "4ad4aaf4",
   "metadata": {},
   "outputs": [
    {
     "data": {
      "text/plain": [
       "Series([], dtype: float64)"
      ]
     },
     "execution_count": 63,
     "metadata": {},
     "output_type": "execute_result"
    }
   ],
   "source": [
    "df[df.columns[df.isnull().any()]].isnull().sum()"
   ]
  },
  {
   "cell_type": "markdown",
   "id": "5f3654eb",
   "metadata": {},
   "source": [
    "Checking for other columns that contain outliers"
   ]
  },
  {
   "cell_type": "code",
   "execution_count": 65,
   "id": "8cdf1e89",
   "metadata": {},
   "outputs": [
    {
     "data": {
      "text/html": [
       "<div>\n",
       "<style scoped>\n",
       "    .dataframe tbody tr th:only-of-type {\n",
       "        vertical-align: middle;\n",
       "    }\n",
       "\n",
       "    .dataframe tbody tr th {\n",
       "        vertical-align: top;\n",
       "    }\n",
       "\n",
       "    .dataframe thead th {\n",
       "        text-align: right;\n",
       "    }\n",
       "</style>\n",
       "<table border=\"1\" class=\"dataframe\">\n",
       "  <thead>\n",
       "    <tr style=\"text-align: right;\">\n",
       "      <th></th>\n",
       "      <th>sofifa_id</th>\n",
       "      <th>age</th>\n",
       "      <th>height_cm</th>\n",
       "      <th>weight_kg</th>\n",
       "      <th>overall</th>\n",
       "      <th>potential</th>\n",
       "      <th>value_eur</th>\n",
       "      <th>wage_eur</th>\n",
       "      <th>international_reputation</th>\n",
       "      <th>weak_foot</th>\n",
       "      <th>skill_moves</th>\n",
       "      <th>pace</th>\n",
       "      <th>shooting</th>\n",
       "      <th>passing</th>\n",
       "      <th>dribbling</th>\n",
       "      <th>defending</th>\n",
       "      <th>physic</th>\n",
       "      <th>gk_diving</th>\n",
       "      <th>gk_handling</th>\n",
       "      <th>gk_kicking</th>\n",
       "      <th>gk_reflexes</th>\n",
       "      <th>gk_speed</th>\n",
       "      <th>gk_positioning</th>\n",
       "      <th>attacking_crossing</th>\n",
       "      <th>attacking_finishing</th>\n",
       "      <th>attacking_heading_accuracy</th>\n",
       "      <th>attacking_short_passing</th>\n",
       "      <th>attacking_volleys</th>\n",
       "      <th>skill_dribbling</th>\n",
       "      <th>skill_curve</th>\n",
       "      <th>skill_fk_accuracy</th>\n",
       "      <th>skill_long_passing</th>\n",
       "      <th>skill_ball_control</th>\n",
       "      <th>movement_acceleration</th>\n",
       "      <th>movement_sprint_speed</th>\n",
       "      <th>movement_agility</th>\n",
       "      <th>movement_reactions</th>\n",
       "      <th>movement_balance</th>\n",
       "      <th>power_shot_power</th>\n",
       "      <th>power_jumping</th>\n",
       "      <th>power_stamina</th>\n",
       "      <th>power_strength</th>\n",
       "      <th>power_long_shots</th>\n",
       "      <th>mentality_aggression</th>\n",
       "      <th>mentality_interceptions</th>\n",
       "      <th>mentality_positioning</th>\n",
       "      <th>mentality_vision</th>\n",
       "      <th>mentality_penalties</th>\n",
       "      <th>defending_marking</th>\n",
       "      <th>defending_standing_tackle</th>\n",
       "      <th>defending_sliding_tackle</th>\n",
       "    </tr>\n",
       "  </thead>\n",
       "  <tbody>\n",
       "    <tr>\n",
       "      <th>count</th>\n",
       "      <td>16155.000000</td>\n",
       "      <td>16155.000000</td>\n",
       "      <td>16155.000000</td>\n",
       "      <td>16155.000000</td>\n",
       "      <td>16155.000000</td>\n",
       "      <td>16155.000000</td>\n",
       "      <td>1.615500e+04</td>\n",
       "      <td>16155.000000</td>\n",
       "      <td>16155.000000</td>\n",
       "      <td>16155.000000</td>\n",
       "      <td>16155.000000</td>\n",
       "      <td>16155.000000</td>\n",
       "      <td>16155.000000</td>\n",
       "      <td>16155.000000</td>\n",
       "      <td>16155.000000</td>\n",
       "      <td>16155.000000</td>\n",
       "      <td>16155.000000</td>\n",
       "      <td>16155.000000</td>\n",
       "      <td>16155.000000</td>\n",
       "      <td>16155.000000</td>\n",
       "      <td>16155.000000</td>\n",
       "      <td>16155.000000</td>\n",
       "      <td>16155.000000</td>\n",
       "      <td>16155.000000</td>\n",
       "      <td>16155.000000</td>\n",
       "      <td>16155.000000</td>\n",
       "      <td>16155.000000</td>\n",
       "      <td>16155.000000</td>\n",
       "      <td>16155.000000</td>\n",
       "      <td>16155.000000</td>\n",
       "      <td>16155.000000</td>\n",
       "      <td>16155.000000</td>\n",
       "      <td>16155.000000</td>\n",
       "      <td>16155.000000</td>\n",
       "      <td>16155.000000</td>\n",
       "      <td>16155.000000</td>\n",
       "      <td>16155.000000</td>\n",
       "      <td>16155.000000</td>\n",
       "      <td>16155.000000</td>\n",
       "      <td>16155.000000</td>\n",
       "      <td>16155.000000</td>\n",
       "      <td>16155.000000</td>\n",
       "      <td>16155.000000</td>\n",
       "      <td>16155.000000</td>\n",
       "      <td>16155.000000</td>\n",
       "      <td>16155.000000</td>\n",
       "      <td>16155.000000</td>\n",
       "      <td>16155.000000</td>\n",
       "      <td>16155.000000</td>\n",
       "      <td>16155.000000</td>\n",
       "      <td>16155.000000</td>\n",
       "    </tr>\n",
       "    <tr>\n",
       "      <th>mean</th>\n",
       "      <td>189284.184525</td>\n",
       "      <td>24.776230</td>\n",
       "      <td>181.083627</td>\n",
       "      <td>75.474342</td>\n",
       "      <td>63.830393</td>\n",
       "      <td>68.350108</td>\n",
       "      <td>1.060882e+06</td>\n",
       "      <td>13056.453110</td>\n",
       "      <td>1.122501</td>\n",
       "      <td>2.929619</td>\n",
       "      <td>2.265429</td>\n",
       "      <td>68.153513</td>\n",
       "      <td>51.738100</td>\n",
       "      <td>55.638665</td>\n",
       "      <td>60.525661</td>\n",
       "      <td>49.896662</td>\n",
       "      <td>64.588610</td>\n",
       "      <td>64.624789</td>\n",
       "      <td>60.765634</td>\n",
       "      <td>59.375211</td>\n",
       "      <td>65.852394</td>\n",
       "      <td>43.865915</td>\n",
       "      <td>61.147042</td>\n",
       "      <td>49.915877</td>\n",
       "      <td>45.892355</td>\n",
       "      <td>53.193377</td>\n",
       "      <td>56.907026</td>\n",
       "      <td>44.229403</td>\n",
       "      <td>54.527700</td>\n",
       "      <td>47.532343</td>\n",
       "      <td>44.354132</td>\n",
       "      <td>51.565583</td>\n",
       "      <td>57.607985</td>\n",
       "      <td>65.117858</td>\n",
       "      <td>65.585515</td>\n",
       "      <td>63.184958</td>\n",
       "      <td>60.646301</td>\n",
       "      <td>63.852553</td>\n",
       "      <td>55.978892</td>\n",
       "      <td>65.072609</td>\n",
       "      <td>63.417456</td>\n",
       "      <td>65.095574</td>\n",
       "      <td>48.329124</td>\n",
       "      <td>55.395543</td>\n",
       "      <td>46.879418</td>\n",
       "      <td>50.113278</td>\n",
       "      <td>50.765645</td>\n",
       "      <td>49.648344</td>\n",
       "      <td>45.009037</td>\n",
       "      <td>47.656639</td>\n",
       "      <td>45.885918</td>\n",
       "    </tr>\n",
       "    <tr>\n",
       "      <th>std</th>\n",
       "      <td>39749.261554</td>\n",
       "      <td>4.625321</td>\n",
       "      <td>6.618974</td>\n",
       "      <td>6.891796</td>\n",
       "      <td>7.169896</td>\n",
       "      <td>6.580610</td>\n",
       "      <td>2.819128e+06</td>\n",
       "      <td>23488.182571</td>\n",
       "      <td>0.396263</td>\n",
       "      <td>0.650281</td>\n",
       "      <td>0.717399</td>\n",
       "      <td>10.350067</td>\n",
       "      <td>12.651251</td>\n",
       "      <td>10.119432</td>\n",
       "      <td>10.150403</td>\n",
       "      <td>14.895818</td>\n",
       "      <td>9.152918</td>\n",
       "      <td>2.578135</td>\n",
       "      <td>2.803901</td>\n",
       "      <td>2.863341</td>\n",
       "      <td>2.757112</td>\n",
       "      <td>2.811635</td>\n",
       "      <td>3.027101</td>\n",
       "      <td>15.772594</td>\n",
       "      <td>16.631994</td>\n",
       "      <td>14.759745</td>\n",
       "      <td>14.510707</td>\n",
       "      <td>15.304337</td>\n",
       "      <td>16.193951</td>\n",
       "      <td>16.105431</td>\n",
       "      <td>15.642168</td>\n",
       "      <td>14.867562</td>\n",
       "      <td>15.239856</td>\n",
       "      <td>13.689466</td>\n",
       "      <td>13.281079</td>\n",
       "      <td>14.271756</td>\n",
       "      <td>9.542055</td>\n",
       "      <td>13.389376</td>\n",
       "      <td>16.078853</td>\n",
       "      <td>11.620670</td>\n",
       "      <td>15.195508</td>\n",
       "      <td>12.616545</td>\n",
       "      <td>16.585339</td>\n",
       "      <td>16.814330</td>\n",
       "      <td>18.278554</td>\n",
       "      <td>16.395071</td>\n",
       "      <td>15.098199</td>\n",
       "      <td>14.552244</td>\n",
       "      <td>17.915206</td>\n",
       "      <td>18.743105</td>\n",
       "      <td>18.145497</td>\n",
       "    </tr>\n",
       "    <tr>\n",
       "      <th>min</th>\n",
       "      <td>2.000000</td>\n",
       "      <td>16.000000</td>\n",
       "      <td>155.000000</td>\n",
       "      <td>50.000000</td>\n",
       "      <td>40.000000</td>\n",
       "      <td>40.000000</td>\n",
       "      <td>0.000000e+00</td>\n",
       "      <td>0.000000</td>\n",
       "      <td>1.000000</td>\n",
       "      <td>1.000000</td>\n",
       "      <td>1.000000</td>\n",
       "      <td>22.000000</td>\n",
       "      <td>22.000000</td>\n",
       "      <td>24.000000</td>\n",
       "      <td>25.000000</td>\n",
       "      <td>21.000000</td>\n",
       "      <td>28.000000</td>\n",
       "      <td>35.000000</td>\n",
       "      <td>36.000000</td>\n",
       "      <td>21.000000</td>\n",
       "      <td>31.000000</td>\n",
       "      <td>20.000000</td>\n",
       "      <td>38.000000</td>\n",
       "      <td>20.000000</td>\n",
       "      <td>20.000000</td>\n",
       "      <td>20.000000</td>\n",
       "      <td>20.000000</td>\n",
       "      <td>20.000000</td>\n",
       "      <td>20.000000</td>\n",
       "      <td>20.000000</td>\n",
       "      <td>20.000000</td>\n",
       "      <td>20.000000</td>\n",
       "      <td>20.000000</td>\n",
       "      <td>20.000000</td>\n",
       "      <td>20.000000</td>\n",
       "      <td>20.000000</td>\n",
       "      <td>20.000000</td>\n",
       "      <td>20.000000</td>\n",
       "      <td>20.000000</td>\n",
       "      <td>20.000000</td>\n",
       "      <td>20.000000</td>\n",
       "      <td>21.000000</td>\n",
       "      <td>20.000000</td>\n",
       "      <td>20.000000</td>\n",
       "      <td>20.000000</td>\n",
       "      <td>20.000000</td>\n",
       "      <td>20.000000</td>\n",
       "      <td>20.000000</td>\n",
       "      <td>20.000000</td>\n",
       "      <td>20.000000</td>\n",
       "      <td>20.000000</td>\n",
       "    </tr>\n",
       "    <tr>\n",
       "      <th>25%</th>\n",
       "      <td>178042.500000</td>\n",
       "      <td>21.000000</td>\n",
       "      <td>176.000000</td>\n",
       "      <td>70.000000</td>\n",
       "      <td>59.000000</td>\n",
       "      <td>64.000000</td>\n",
       "      <td>1.200000e+05</td>\n",
       "      <td>2000.000000</td>\n",
       "      <td>1.000000</td>\n",
       "      <td>3.000000</td>\n",
       "      <td>2.000000</td>\n",
       "      <td>63.000000</td>\n",
       "      <td>43.000000</td>\n",
       "      <td>50.000000</td>\n",
       "      <td>55.000000</td>\n",
       "      <td>35.000000</td>\n",
       "      <td>59.000000</td>\n",
       "      <td>64.624789</td>\n",
       "      <td>60.765634</td>\n",
       "      <td>59.375211</td>\n",
       "      <td>65.852394</td>\n",
       "      <td>43.865915</td>\n",
       "      <td>61.147042</td>\n",
       "      <td>37.000000</td>\n",
       "      <td>29.000000</td>\n",
       "      <td>45.000000</td>\n",
       "      <td>50.000000</td>\n",
       "      <td>30.000000</td>\n",
       "      <td>45.000000</td>\n",
       "      <td>34.000000</td>\n",
       "      <td>31.000000</td>\n",
       "      <td>41.000000</td>\n",
       "      <td>52.000000</td>\n",
       "      <td>56.500000</td>\n",
       "      <td>57.000000</td>\n",
       "      <td>56.000000</td>\n",
       "      <td>54.000000</td>\n",
       "      <td>56.000000</td>\n",
       "      <td>46.000000</td>\n",
       "      <td>58.000000</td>\n",
       "      <td>56.000000</td>\n",
       "      <td>58.000000</td>\n",
       "      <td>33.000000</td>\n",
       "      <td>43.000000</td>\n",
       "      <td>25.000000</td>\n",
       "      <td>37.000000</td>\n",
       "      <td>41.000000</td>\n",
       "      <td>39.000000</td>\n",
       "      <td>25.000000</td>\n",
       "      <td>25.000000</td>\n",
       "      <td>25.000000</td>\n",
       "    </tr>\n",
       "    <tr>\n",
       "      <th>50%</th>\n",
       "      <td>200841.000000</td>\n",
       "      <td>24.000000</td>\n",
       "      <td>181.000000</td>\n",
       "      <td>75.000000</td>\n",
       "      <td>64.000000</td>\n",
       "      <td>68.000000</td>\n",
       "      <td>3.500000e+05</td>\n",
       "      <td>5000.000000</td>\n",
       "      <td>1.000000</td>\n",
       "      <td>3.000000</td>\n",
       "      <td>2.000000</td>\n",
       "      <td>69.000000</td>\n",
       "      <td>53.000000</td>\n",
       "      <td>55.638665</td>\n",
       "      <td>60.525661</td>\n",
       "      <td>49.896662</td>\n",
       "      <td>65.000000</td>\n",
       "      <td>64.624789</td>\n",
       "      <td>60.765634</td>\n",
       "      <td>59.375211</td>\n",
       "      <td>65.852394</td>\n",
       "      <td>43.865915</td>\n",
       "      <td>61.147042</td>\n",
       "      <td>52.000000</td>\n",
       "      <td>47.000000</td>\n",
       "      <td>55.000000</td>\n",
       "      <td>60.000000</td>\n",
       "      <td>44.000000</td>\n",
       "      <td>58.000000</td>\n",
       "      <td>48.000000</td>\n",
       "      <td>42.000000</td>\n",
       "      <td>54.000000</td>\n",
       "      <td>61.000000</td>\n",
       "      <td>67.000000</td>\n",
       "      <td>68.000000</td>\n",
       "      <td>65.000000</td>\n",
       "      <td>61.000000</td>\n",
       "      <td>65.000000</td>\n",
       "      <td>59.000000</td>\n",
       "      <td>65.000000</td>\n",
       "      <td>66.000000</td>\n",
       "      <td>66.000000</td>\n",
       "      <td>51.000000</td>\n",
       "      <td>58.000000</td>\n",
       "      <td>50.000000</td>\n",
       "      <td>53.000000</td>\n",
       "      <td>52.000000</td>\n",
       "      <td>50.000000</td>\n",
       "      <td>46.000000</td>\n",
       "      <td>52.000000</td>\n",
       "      <td>49.000000</td>\n",
       "    </tr>\n",
       "    <tr>\n",
       "      <th>75%</th>\n",
       "      <td>214346.000000</td>\n",
       "      <td>28.000000</td>\n",
       "      <td>186.000000</td>\n",
       "      <td>80.000000</td>\n",
       "      <td>68.000000</td>\n",
       "      <td>73.000000</td>\n",
       "      <td>8.250000e+05</td>\n",
       "      <td>10000.000000</td>\n",
       "      <td>1.000000</td>\n",
       "      <td>3.000000</td>\n",
       "      <td>3.000000</td>\n",
       "      <td>75.000000</td>\n",
       "      <td>61.000000</td>\n",
       "      <td>62.000000</td>\n",
       "      <td>67.000000</td>\n",
       "      <td>62.000000</td>\n",
       "      <td>71.000000</td>\n",
       "      <td>64.624789</td>\n",
       "      <td>60.765634</td>\n",
       "      <td>59.375211</td>\n",
       "      <td>65.852394</td>\n",
       "      <td>43.865915</td>\n",
       "      <td>61.147042</td>\n",
       "      <td>62.000000</td>\n",
       "      <td>60.000000</td>\n",
       "      <td>64.000000</td>\n",
       "      <td>67.000000</td>\n",
       "      <td>57.000000</td>\n",
       "      <td>66.000000</td>\n",
       "      <td>60.000000</td>\n",
       "      <td>57.000000</td>\n",
       "      <td>63.000000</td>\n",
       "      <td>68.000000</td>\n",
       "      <td>75.000000</td>\n",
       "      <td>75.000000</td>\n",
       "      <td>74.000000</td>\n",
       "      <td>67.000000</td>\n",
       "      <td>73.000000</td>\n",
       "      <td>68.000000</td>\n",
       "      <td>73.000000</td>\n",
       "      <td>74.000000</td>\n",
       "      <td>74.000000</td>\n",
       "      <td>62.000000</td>\n",
       "      <td>68.000000</td>\n",
       "      <td>63.000000</td>\n",
       "      <td>63.000000</td>\n",
       "      <td>62.000000</td>\n",
       "      <td>61.000000</td>\n",
       "      <td>61.000000</td>\n",
       "      <td>64.000000</td>\n",
       "      <td>62.000000</td>\n",
       "    </tr>\n",
       "    <tr>\n",
       "      <th>max</th>\n",
       "      <td>225562.000000</td>\n",
       "      <td>44.000000</td>\n",
       "      <td>204.000000</td>\n",
       "      <td>110.000000</td>\n",
       "      <td>93.000000</td>\n",
       "      <td>95.000000</td>\n",
       "      <td>1.005000e+08</td>\n",
       "      <td>550000.000000</td>\n",
       "      <td>5.000000</td>\n",
       "      <td>5.000000</td>\n",
       "      <td>5.000000</td>\n",
       "      <td>97.000000</td>\n",
       "      <td>93.000000</td>\n",
       "      <td>91.000000</td>\n",
       "      <td>96.000000</td>\n",
       "      <td>90.000000</td>\n",
       "      <td>91.000000</td>\n",
       "      <td>88.000000</td>\n",
       "      <td>87.000000</td>\n",
       "      <td>92.000000</td>\n",
       "      <td>90.000000</td>\n",
       "      <td>66.000000</td>\n",
       "      <td>90.000000</td>\n",
       "      <td>91.000000</td>\n",
       "      <td>95.000000</td>\n",
       "      <td>94.000000</td>\n",
       "      <td>95.000000</td>\n",
       "      <td>92.000000</td>\n",
       "      <td>96.000000</td>\n",
       "      <td>94.000000</td>\n",
       "      <td>93.000000</td>\n",
       "      <td>95.000000</td>\n",
       "      <td>96.000000</td>\n",
       "      <td>97.000000</td>\n",
       "      <td>97.000000</td>\n",
       "      <td>96.000000</td>\n",
       "      <td>94.000000</td>\n",
       "      <td>97.000000</td>\n",
       "      <td>96.000000</td>\n",
       "      <td>97.000000</td>\n",
       "      <td>95.000000</td>\n",
       "      <td>97.000000</td>\n",
       "      <td>93.000000</td>\n",
       "      <td>95.000000</td>\n",
       "      <td>93.000000</td>\n",
       "      <td>94.000000</td>\n",
       "      <td>96.000000</td>\n",
       "      <td>95.000000</td>\n",
       "      <td>90.000000</td>\n",
       "      <td>91.000000</td>\n",
       "      <td>95.000000</td>\n",
       "    </tr>\n",
       "  </tbody>\n",
       "</table>\n",
       "</div>"
      ],
      "text/plain": [
       "           sofifa_id           age     height_cm     weight_kg       overall  \\\n",
       "count   16155.000000  16155.000000  16155.000000  16155.000000  16155.000000   \n",
       "mean   189284.184525     24.776230    181.083627     75.474342     63.830393   \n",
       "std     39749.261554      4.625321      6.618974      6.891796      7.169896   \n",
       "min         2.000000     16.000000    155.000000     50.000000     40.000000   \n",
       "25%    178042.500000     21.000000    176.000000     70.000000     59.000000   \n",
       "50%    200841.000000     24.000000    181.000000     75.000000     64.000000   \n",
       "75%    214346.000000     28.000000    186.000000     80.000000     68.000000   \n",
       "max    225562.000000     44.000000    204.000000    110.000000     93.000000   \n",
       "\n",
       "          potential     value_eur       wage_eur  international_reputation  \\\n",
       "count  16155.000000  1.615500e+04   16155.000000              16155.000000   \n",
       "mean      68.350108  1.060882e+06   13056.453110                  1.122501   \n",
       "std        6.580610  2.819128e+06   23488.182571                  0.396263   \n",
       "min       40.000000  0.000000e+00       0.000000                  1.000000   \n",
       "25%       64.000000  1.200000e+05    2000.000000                  1.000000   \n",
       "50%       68.000000  3.500000e+05    5000.000000                  1.000000   \n",
       "75%       73.000000  8.250000e+05   10000.000000                  1.000000   \n",
       "max       95.000000  1.005000e+08  550000.000000                  5.000000   \n",
       "\n",
       "          weak_foot   skill_moves          pace      shooting       passing  \\\n",
       "count  16155.000000  16155.000000  16155.000000  16155.000000  16155.000000   \n",
       "mean       2.929619      2.265429     68.153513     51.738100     55.638665   \n",
       "std        0.650281      0.717399     10.350067     12.651251     10.119432   \n",
       "min        1.000000      1.000000     22.000000     22.000000     24.000000   \n",
       "25%        3.000000      2.000000     63.000000     43.000000     50.000000   \n",
       "50%        3.000000      2.000000     69.000000     53.000000     55.638665   \n",
       "75%        3.000000      3.000000     75.000000     61.000000     62.000000   \n",
       "max        5.000000      5.000000     97.000000     93.000000     91.000000   \n",
       "\n",
       "          dribbling     defending        physic     gk_diving   gk_handling  \\\n",
       "count  16155.000000  16155.000000  16155.000000  16155.000000  16155.000000   \n",
       "mean      60.525661     49.896662     64.588610     64.624789     60.765634   \n",
       "std       10.150403     14.895818      9.152918      2.578135      2.803901   \n",
       "min       25.000000     21.000000     28.000000     35.000000     36.000000   \n",
       "25%       55.000000     35.000000     59.000000     64.624789     60.765634   \n",
       "50%       60.525661     49.896662     65.000000     64.624789     60.765634   \n",
       "75%       67.000000     62.000000     71.000000     64.624789     60.765634   \n",
       "max       96.000000     90.000000     91.000000     88.000000     87.000000   \n",
       "\n",
       "         gk_kicking   gk_reflexes      gk_speed  gk_positioning  \\\n",
       "count  16155.000000  16155.000000  16155.000000    16155.000000   \n",
       "mean      59.375211     65.852394     43.865915       61.147042   \n",
       "std        2.863341      2.757112      2.811635        3.027101   \n",
       "min       21.000000     31.000000     20.000000       38.000000   \n",
       "25%       59.375211     65.852394     43.865915       61.147042   \n",
       "50%       59.375211     65.852394     43.865915       61.147042   \n",
       "75%       59.375211     65.852394     43.865915       61.147042   \n",
       "max       92.000000     90.000000     66.000000       90.000000   \n",
       "\n",
       "       attacking_crossing  attacking_finishing  attacking_heading_accuracy  \\\n",
       "count        16155.000000         16155.000000                16155.000000   \n",
       "mean            49.915877            45.892355                   53.193377   \n",
       "std             15.772594            16.631994                   14.759745   \n",
       "min             20.000000            20.000000                   20.000000   \n",
       "25%             37.000000            29.000000                   45.000000   \n",
       "50%             52.000000            47.000000                   55.000000   \n",
       "75%             62.000000            60.000000                   64.000000   \n",
       "max             91.000000            95.000000                   94.000000   \n",
       "\n",
       "       attacking_short_passing  attacking_volleys  skill_dribbling  \\\n",
       "count             16155.000000       16155.000000     16155.000000   \n",
       "mean                 56.907026          44.229403        54.527700   \n",
       "std                  14.510707          15.304337        16.193951   \n",
       "min                  20.000000          20.000000        20.000000   \n",
       "25%                  50.000000          30.000000        45.000000   \n",
       "50%                  60.000000          44.000000        58.000000   \n",
       "75%                  67.000000          57.000000        66.000000   \n",
       "max                  95.000000          92.000000        96.000000   \n",
       "\n",
       "        skill_curve  skill_fk_accuracy  skill_long_passing  \\\n",
       "count  16155.000000       16155.000000        16155.000000   \n",
       "mean      47.532343          44.354132           51.565583   \n",
       "std       16.105431          15.642168           14.867562   \n",
       "min       20.000000          20.000000           20.000000   \n",
       "25%       34.000000          31.000000           41.000000   \n",
       "50%       48.000000          42.000000           54.000000   \n",
       "75%       60.000000          57.000000           63.000000   \n",
       "max       94.000000          93.000000           95.000000   \n",
       "\n",
       "       skill_ball_control  movement_acceleration  movement_sprint_speed  \\\n",
       "count        16155.000000           16155.000000           16155.000000   \n",
       "mean            57.607985              65.117858              65.585515   \n",
       "std             15.239856              13.689466              13.281079   \n",
       "min             20.000000              20.000000              20.000000   \n",
       "25%             52.000000              56.500000              57.000000   \n",
       "50%             61.000000              67.000000              68.000000   \n",
       "75%             68.000000              75.000000              75.000000   \n",
       "max             96.000000              97.000000              97.000000   \n",
       "\n",
       "       movement_agility  movement_reactions  movement_balance  \\\n",
       "count      16155.000000        16155.000000      16155.000000   \n",
       "mean          63.184958           60.646301         63.852553   \n",
       "std           14.271756            9.542055         13.389376   \n",
       "min           20.000000           20.000000         20.000000   \n",
       "25%           56.000000           54.000000         56.000000   \n",
       "50%           65.000000           61.000000         65.000000   \n",
       "75%           74.000000           67.000000         73.000000   \n",
       "max           96.000000           94.000000         97.000000   \n",
       "\n",
       "       power_shot_power  power_jumping  power_stamina  power_strength  \\\n",
       "count      16155.000000   16155.000000   16155.000000    16155.000000   \n",
       "mean          55.978892      65.072609      63.417456       65.095574   \n",
       "std           16.078853      11.620670      15.195508       12.616545   \n",
       "min           20.000000      20.000000      20.000000       21.000000   \n",
       "25%           46.000000      58.000000      56.000000       58.000000   \n",
       "50%           59.000000      65.000000      66.000000       66.000000   \n",
       "75%           68.000000      73.000000      74.000000       74.000000   \n",
       "max           96.000000      97.000000      95.000000       97.000000   \n",
       "\n",
       "       power_long_shots  mentality_aggression  mentality_interceptions  \\\n",
       "count      16155.000000          16155.000000             16155.000000   \n",
       "mean          48.329124             55.395543                46.879418   \n",
       "std           16.585339             16.814330                18.278554   \n",
       "min           20.000000             20.000000                20.000000   \n",
       "25%           33.000000             43.000000                25.000000   \n",
       "50%           51.000000             58.000000                50.000000   \n",
       "75%           62.000000             68.000000                63.000000   \n",
       "max           93.000000             95.000000                93.000000   \n",
       "\n",
       "       mentality_positioning  mentality_vision  mentality_penalties  \\\n",
       "count           16155.000000      16155.000000         16155.000000   \n",
       "mean               50.113278         50.765645            49.648344   \n",
       "std                16.395071         15.098199            14.552244   \n",
       "min                20.000000         20.000000            20.000000   \n",
       "25%                37.000000         41.000000            39.000000   \n",
       "50%                53.000000         52.000000            50.000000   \n",
       "75%                63.000000         62.000000            61.000000   \n",
       "max                94.000000         96.000000            95.000000   \n",
       "\n",
       "       defending_marking  defending_standing_tackle  defending_sliding_tackle  \n",
       "count       16155.000000               16155.000000              16155.000000  \n",
       "mean           45.009037                  47.656639                 45.885918  \n",
       "std            17.915206                  18.743105                 18.145497  \n",
       "min            20.000000                  20.000000                 20.000000  \n",
       "25%            25.000000                  25.000000                 25.000000  \n",
       "50%            46.000000                  52.000000                 49.000000  \n",
       "75%            61.000000                  64.000000                 62.000000  \n",
       "max            90.000000                  91.000000                 95.000000  "
      ]
     },
     "execution_count": 65,
     "metadata": {},
     "output_type": "execute_result"
    }
   ],
   "source": [
    "checklist = list(df.select_dtypes(exclude='object').columns)\n",
    "df[checklist].describe()"
   ]
  },
  {
   "cell_type": "markdown",
   "id": "bdc35012",
   "metadata": {},
   "source": [
    "From the table above, 'value_eur' amd 'wage_eur' contains abnormal value as having a value and wage of $0 is odd."
   ]
  },
  {
   "cell_type": "code",
   "execution_count": 66,
   "id": "fc927b11",
   "metadata": {
    "scrolled": true
   },
   "outputs": [
    {
     "data": {
      "image/png": "[encoded data removed]",
      "text/plain": [
       "<Figure size 576x144 with 2 Axes>"
      ]
     },
     "metadata": {
      "needs_background": "light"
     },
     "output_type": "display_data"
    }
   ],
   "source": [
    "fig, axes = plt.subplots(1, 2, figsize=(8,2))\n",
    "\n",
    "eur_check = ['value_eur', 'wage_eur']\n",
    "\n",
    "for i in range(len(eur_check)):\n",
    "    sns.boxplot(ax=axes[i], data=df, x=eur_check[i])"
   ]
  },
  {
   "cell_type": "markdown",
   "id": "dd2c7118",
   "metadata": {},
   "source": [
    "Based on the boxplots above, the data available is oddly distributed and there are a lot of outliers."
   ]
  },
  {
   "cell_type": "code",
   "execution_count": 68,
   "id": "51b7950e",
   "metadata": {},
   "outputs": [
    {
     "data": {
      "text/plain": [
       "311"
      ]
     },
     "execution_count": 68,
     "metadata": {},
     "output_type": "execute_result"
    }
   ],
   "source": [
    "len(df[df['value_eur'] == 0])"
   ]
  },
  {
   "cell_type": "code",
   "execution_count": 69,
   "id": "fa4675f2",
   "metadata": {},
   "outputs": [
    {
     "data": {
      "text/plain": [
       "239"
      ]
     },
     "execution_count": 69,
     "metadata": {},
     "output_type": "execute_result"
    }
   ],
   "source": [
    "len(df[df['wage_eur'] == 0])"
   ]
  },
  {
   "cell_type": "code",
   "execution_count": 70,
   "id": "25bfdbc1",
   "metadata": {},
   "outputs": [
    {
     "data": {
      "text/plain": [
       "239"
      ]
     },
     "execution_count": 70,
     "metadata": {},
     "output_type": "execute_result"
    }
   ],
   "source": [
    "len(df[(df['value_eur'] == 0) & (df['wage_eur'] == 0)])"
   ]
  },
  {
   "cell_type": "code",
   "execution_count": 71,
   "id": "773637d5",
   "metadata": {},
   "outputs": [
    {
     "data": {
      "text/plain": [
       "239"
      ]
     },
     "execution_count": 71,
     "metadata": {},
     "output_type": "execute_result"
    }
   ],
   "source": [
    "len(df[(df['value_eur'] == 0) & (df['wage_eur'] == 0) & (df['club_name'] == 'Unidentified')])"
   ]
  },
  {
   "cell_type": "markdown",
   "id": "851cba62",
   "metadata": {},
   "source": [
    "The results above have shown that most records that have a $0 value for 'value_eur' and 'wage_eur' do not have much info on the players, e.g. have unidentified club name etc."
   ]
  },
  {
   "cell_type": "code",
   "execution_count": 72,
   "id": "6dd03984",
   "metadata": {},
   "outputs": [
    {
     "data": {
      "text/plain": [
       "<AxesSubplot:>"
      ]
     },
     "execution_count": 72,
     "metadata": {},
     "output_type": "execute_result"
    },
    {
     "data": {
      "image/png": "[encoded data removed]",
      "text/plain": [
       "<Figure size 576x1440 with 2 Axes>"
      ]
     },
     "metadata": {
      "needs_background": "light"
     },
     "output_type": "display_data"
    }
   ],
   "source": [
    "# removing variables that are unlikely correlated with the value and wage of players\n",
    "\n",
    "checklist = list(df.select_dtypes(exclude='object').columns)\n",
    "\n",
    "wage_value_remove = ['sofifa_id', 'height_cm', 'weight_kg']\n",
    "\n",
    "for i in range(len(wage_value_remove)):\n",
    "    checklist.remove(wage_value_remove[i])\n",
    "\n",
    "plt.figure(figsize=(8,20))\n",
    "sns.heatmap(df[checklist].corr()[['value_eur', 'wage_eur']], cmap='coolwarm', annot=True)"
   ]
  },
  {
   "cell_type": "markdown",
   "id": "3acba033",
   "metadata": {},
   "source": [
    "The heatmap above shows that most of the scoring variables are weakly correlated to the value and wage of players.\n",
    "The most closely related variables to players' value is 'international_reputation'.\n",
    "Whears, the most closely related variables to players' value are 'international_reputation', 'overall' and 'potential'\n",
    "\n",
    "To predict the currently null player's value and wage, a regression model can help given that there are some correlated variables with a player's value and wages.\n",
    "\n",
    "Below charts are used to explore the relationship between variables."
   ]
  },
  {
   "cell_type": "code",
   "execution_count": 87,
   "id": "f5b5bdbb",
   "metadata": {},
   "outputs": [],
   "source": [
    "df_no_zero = df[df['value_eur'] != 0]"
   ]
  },
  {
   "cell_type": "code",
   "execution_count": 88,
   "id": "257c6c14",
   "metadata": {},
   "outputs": [
    {
     "data": {
      "text/plain": [
       "<AxesSubplot:xlabel='international_reputation', ylabel='value_eur'>"
      ]
     },
     "execution_count": 88,
     "metadata": {},
     "output_type": "execute_result"
    },
    {
     "data": {
      "image/png": "[encoded data removed]",
      "text/plain": [
       "<Figure size 432x288 with 1 Axes>"
      ]
     },
     "metadata": {
      "needs_background": "light"
     },
     "output_type": "display_data"
    }
   ],
   "source": [
    "sns.scatterplot(data=df_no_zero, x='international_reputation', y='value_eur')"
   ]
  },
  {
   "cell_type": "code",
   "execution_count": 89,
   "id": "8c0fa963",
   "metadata": {},
   "outputs": [
    {
     "data": {
      "text/plain": [
       "<AxesSubplot:xlabel='international_reputation', ylabel='wage_eur'>"
      ]
     },
     "execution_count": 89,
     "metadata": {},
     "output_type": "execute_result"
    },
    {
     "data": {
      "image/png": "[encoded data removed]",
      "text/plain": [
       "<Figure size 432x288 with 1 Axes>"
      ]
     },
     "metadata": {
      "needs_background": "light"
     },
     "output_type": "display_data"
    }
   ],
   "source": [
    "sns.scatterplot(data=df_no_zero, x='international_reputation', y='wage_eur')"
   ]
  },
  {
   "cell_type": "code",
   "execution_count": 90,
   "id": "4acb2f20",
   "metadata": {},
   "outputs": [
    {
     "data": {
      "text/plain": [
       "<AxesSubplot:xlabel='overall', ylabel='wage_eur'>"
      ]
     },
     "execution_count": 90,
     "metadata": {},
     "output_type": "execute_result"
    },
    {
     "data": {
      "image/png": "[encoded data removed]",
      "text/plain": [
       "<Figure size 432x288 with 1 Axes>"
      ]
     },
     "metadata": {
      "needs_background": "light"
     },
     "output_type": "display_data"
    }
   ],
   "source": [
    "sns.scatterplot(data=df_no_zero, x='overall', y='wage_eur')"
   ]
  },
  {
   "cell_type": "code",
   "execution_count": 91,
   "id": "b32addc7",
   "metadata": {},
   "outputs": [
    {
     "data": {
      "text/plain": [
       "<AxesSubplot:xlabel='potential', ylabel='wage_eur'>"
      ]
     },
     "execution_count": 91,
     "metadata": {},
     "output_type": "execute_result"
    },
    {
     "data": {
      "image/png": "[encoded data removed]",
      "text/plain": [
       "<Figure size 432x288 with 1 Axes>"
      ]
     },
     "metadata": {
      "needs_background": "light"
     },
     "output_type": "display_data"
    }
   ],
   "source": [
    "sns.scatterplot(data=df_no_zero, x='potential', y='wage_eur')"
   ]
  },
  {
   "cell_type": "markdown",
   "id": "976e7643",
   "metadata": {},
   "source": [
    "From the charts above, the relationship seems exponential between 'overall' and 'wage_eur'; 'potential' and 'wage_eur'.\n",
    "Whereas between 'international_reputation' and 'value_eur' / 'wage_eur' do not have any clear relationship.\n",
    "\n",
    "Thus, there is no variable available that can help us predict the values for 'value_eur'."
   ]
  },
  {
   "cell_type": "markdown",
   "id": "04d04a73",
   "metadata": {},
   "source": [
    "Using 'overall' for curve fitting with 'wage_eur' since it has a higher correlation with 'wage_eur'.\n",
    "\n",
    "Learning from https://www.youtube.com/watch?v=1H-SdMuJXTk to plot an exponential model.\n",
    "\n",
    "The model is intended to predict the players' wages."
   ]
  },
  {
   "cell_type": "code",
   "execution_count": 93,
   "id": "1c061c28",
   "metadata": {},
   "outputs": [
    {
     "name": "stdout",
     "output_type": "stream",
     "text": [
      "[ 1.42531322e-01 -2.08691531e+03]\n"
     ]
    },
    {
     "data": {
      "image/png": "[encoded data removed]",
      "text/plain": [
       "<Figure size 432x288 with 1 Axes>"
      ]
     },
     "metadata": {
      "needs_background": "light"
     },
     "output_type": "display_data"
    }
   ],
   "source": [
    "from scipy.optimize import curve_fit\n",
    "\n",
    "def func(x, a, b):\n",
    "    return np.exp(a*x) + b\n",
    "\n",
    "x = df_no_zero['overall']\n",
    "y = df_no_zero['wage_eur']\n",
    "\n",
    "plt.plot(x, y, 'o', label='overall scores')\n",
    "\n",
    "popt, pcov = curve_fit(func, x, y)\n",
    "print(popt)\n",
    "\n",
    "plt.plot(x, func(x, *popt), 'r', label='fitted curve')\n",
    "\n",
    "plt.xlabel('x')\n",
    "plt.ylabel('y')\n",
    "plt.legend()\n",
    "plt.show()"
   ]
  },
  {
   "cell_type": "markdown",
   "id": "692b8ed4",
   "metadata": {},
   "source": [
    "With the above a = 1.42531322e-01; and b = -2.08691531e+03, thus, we can use this to predict the null values for 'wage_eur'."
   ]
  },
  {
   "cell_type": "code",
   "execution_count": 94,
   "id": "d99ed1b8",
   "metadata": {},
   "outputs": [
    {
     "name": "stderr",
     "output_type": "stream",
     "text": [
      "C:\\Users\\keroy\\AppData\\Local\\Temp/ipykernel_12032/2891267181.py:4: SettingWithCopyWarning: \n",
      "A value is trying to be set on a copy of a slice from a DataFrame.\n",
      "Try using .loc[row_indexer,col_indexer] = value instead\n",
      "\n",
      "See the caveats in the documentation: https://pandas.pydata.org/pandas-docs/stable/user_guide/indexing.html#returning-a-view-versus-a-copy\n",
      "  df[df['wage_eur'] == 0]['wage_eur'] = np.exp(1.42531322e-01*df[df['wage_eur'] == 0]['overall']) + -2.08691531e+03\n"
     ]
    }
   ],
   "source": [
    "df[df['wage_eur'] == 0]['wage_eur'] = np.exp(1.42531322e-01*df[df['wage_eur'] == 0]['overall']) + -2.08691531e+03"
   ]
  },
  {
   "cell_type": "code",
   "execution_count": 95,
   "id": "c8ccb680",
   "metadata": {},
   "outputs": [
    {
     "data": {
      "text/plain": [
       "239"
      ]
     },
     "execution_count": 95,
     "metadata": {},
     "output_type": "execute_result"
    }
   ],
   "source": [
    "len(df[df['wage_eur'] == 0])"
   ]
  },
  {
   "cell_type": "code",
   "execution_count": 96,
   "id": "bb2428d6",
   "metadata": {},
   "outputs": [
    {
     "ename": "ValueError",
     "evalue": "Series.replace cannot use dict-value and non-None to_replace",
     "output_type": "error",
     "traceback": [
      "\u001b[1;31m---------------------------------------------------------------------------\u001b[0m",
      "\u001b[1;31mValueError\u001b[0m                                Traceback (most recent call last)",
      "\u001b[1;32m~\\AppData\\Local\\Temp/ipykernel_12032/1237449487.py\u001b[0m in \u001b[0;36m<module>\u001b[1;34m\u001b[0m\n\u001b[1;32m----> 1\u001b[1;33m \u001b[0mdf\u001b[0m\u001b[1;33m[\u001b[0m\u001b[1;34m'wage_eur'\u001b[0m\u001b[1;33m]\u001b[0m\u001b[1;33m.\u001b[0m\u001b[0mreplace\u001b[0m\u001b[1;33m(\u001b[0m\u001b[1;36m0\u001b[0m\u001b[1;33m,\u001b[0m \u001b[0mnp\u001b[0m\u001b[1;33m.\u001b[0m\u001b[0mexp\u001b[0m\u001b[1;33m(\u001b[0m\u001b[1;36m1.42531322e-01\u001b[0m\u001b[1;33m*\u001b[0m\u001b[0mdf\u001b[0m\u001b[1;33m[\u001b[0m\u001b[1;34m'overall'\u001b[0m\u001b[1;33m]\u001b[0m\u001b[1;33m)\u001b[0m \u001b[1;33m+\u001b[0m \u001b[1;33m-\u001b[0m\u001b[1;36m2.08691531e+03\u001b[0m\u001b[1;33m,\u001b[0m \u001b[0minplace\u001b[0m\u001b[1;33m=\u001b[0m\u001b[1;32mTrue\u001b[0m\u001b[1;33m)\u001b[0m\u001b[1;33m\u001b[0m\u001b[1;33m\u001b[0m\u001b[0m\n\u001b[0m",
      "\u001b[1;32m~\\anaconda3\\lib\\site-packages\\pandas\\core\\series.py\u001b[0m in \u001b[0;36mreplace\u001b[1;34m(self, to_replace, value, inplace, limit, regex, method)\u001b[0m\n\u001b[0;32m   4866\u001b[0m         \u001b[0mmethod\u001b[0m\u001b[1;33m=\u001b[0m\u001b[1;34m\"pad\"\u001b[0m\u001b[1;33m,\u001b[0m\u001b[1;33m\u001b[0m\u001b[1;33m\u001b[0m\u001b[0m\n\u001b[0;32m   4867\u001b[0m     ):\n\u001b[1;32m-> 4868\u001b[1;33m         return super().replace(\n\u001b[0m\u001b[0;32m   4869\u001b[0m             \u001b[0mto_replace\u001b[0m\u001b[1;33m=\u001b[0m\u001b[0mto_replace\u001b[0m\u001b[1;33m,\u001b[0m\u001b[1;33m\u001b[0m\u001b[1;33m\u001b[0m\u001b[0m\n\u001b[0;32m   4870\u001b[0m             \u001b[0mvalue\u001b[0m\u001b[1;33m=\u001b[0m\u001b[0mvalue\u001b[0m\u001b[1;33m,\u001b[0m\u001b[1;33m\u001b[0m\u001b[1;33m\u001b[0m\u001b[0m\n",
      "\u001b[1;32m~\\anaconda3\\lib\\site-packages\\pandas\\core\\generic.py\u001b[0m in \u001b[0;36mreplace\u001b[1;34m(self, to_replace, value, inplace, limit, regex, method)\u001b[0m\n\u001b[0;32m   6599\u001b[0m                     \u001b[1;31m# Operate column-wise\u001b[0m\u001b[1;33m\u001b[0m\u001b[1;33m\u001b[0m\u001b[0m\n\u001b[0;32m   6600\u001b[0m                     \u001b[1;32mif\u001b[0m \u001b[0mself\u001b[0m\u001b[1;33m.\u001b[0m\u001b[0mndim\u001b[0m \u001b[1;33m==\u001b[0m \u001b[1;36m1\u001b[0m\u001b[1;33m:\u001b[0m\u001b[1;33m\u001b[0m\u001b[1;33m\u001b[0m\u001b[0m\n\u001b[1;32m-> 6601\u001b[1;33m                         raise ValueError(\n\u001b[0m\u001b[0;32m   6602\u001b[0m                             \u001b[1;34m\"Series.replace cannot use dict-value and \"\u001b[0m\u001b[1;33m\u001b[0m\u001b[1;33m\u001b[0m\u001b[0m\n\u001b[0;32m   6603\u001b[0m                             \u001b[1;34m\"non-None to_replace\"\u001b[0m\u001b[1;33m\u001b[0m\u001b[1;33m\u001b[0m\u001b[0m\n",
      "\u001b[1;31mValueError\u001b[0m: Series.replace cannot use dict-value and non-None to_replace"
     ]
    }
   ],
   "source": [
    "df['wage_eur'].replace(0, np.exp(1.42531322e-01*df['overall']) + -2.08691531e+03, inplace=True)"
   ]
  },
  {
   "cell_type": "markdown",
   "id": "ed0f8592",
   "metadata": {},
   "source": [
    "As the above causes an error, we will replace 0 with null value and use fillna to fill up the null values."
   ]
  },
  {
   "cell_type": "code",
   "execution_count": 98,
   "id": "d55af351",
   "metadata": {},
   "outputs": [],
   "source": [
    "df['wage_eur'].replace(0, np.NaN, inplace=True)"
   ]
  },
  {
   "cell_type": "code",
   "execution_count": 99,
   "id": "cd0fdc7c",
   "metadata": {
    "scrolled": true
   },
   "outputs": [
    {
     "data": {
      "text/plain": [
       "wage_eur    239\n",
       "dtype: int64"
      ]
     },
     "execution_count": 99,
     "metadata": {},
     "output_type": "execute_result"
    }
   ],
   "source": [
    "df[df.columns[df.isnull().any()]].isnull().sum()"
   ]
  },
  {
   "cell_type": "code",
   "execution_count": 100,
   "id": "cb8c70a1",
   "metadata": {},
   "outputs": [],
   "source": [
    "df['wage_eur'] = df['wage_eur'].fillna(np.exp(1.42531322e-01*df['overall']) + -2.08691531e+03)"
   ]
  },
  {
   "cell_type": "code",
   "execution_count": 101,
   "id": "84d427be",
   "metadata": {},
   "outputs": [
    {
     "data": {
      "text/plain": [
       "Series([], dtype: float64)"
      ]
     },
     "execution_count": 101,
     "metadata": {},
     "output_type": "execute_result"
    }
   ],
   "source": [
    "# to check that null values have been replaced\n",
    "\n",
    "df[df.columns[df.isnull().any()]].isnull().sum()"
   ]
  },
  {
   "cell_type": "code",
   "execution_count": 102,
   "id": "2de3de8c",
   "metadata": {},
   "outputs": [
    {
     "data": {
      "text/plain": [
       "count     16155.000000\n",
       "mean      13286.579418\n",
       "std       23516.120557\n",
       "min        -842.319507\n",
       "25%        2000.000000\n",
       "50%        5000.000000\n",
       "75%       10000.000000\n",
       "max      550000.000000\n",
       "Name: wage_eur, dtype: float64"
      ]
     },
     "execution_count": 102,
     "metadata": {},
     "output_type": "execute_result"
    }
   ],
   "source": [
    "df['wage_eur'].describe()"
   ]
  },
  {
   "cell_type": "markdown",
   "id": "e38fe3b4",
   "metadata": {},
   "source": [
    "The above exponential model cannot be accepted as it produces a negative wage which is illogical."
   ]
  },
  {
   "cell_type": "markdown",
   "id": "c3e81cd6",
   "metadata": {},
   "source": [
    "Below is an attempt to use np.ployfit function to fit the seemingly exponential r/s between 'overall' and 'wage_eur'."
   ]
  },
  {
   "cell_type": "code",
   "execution_count": 104,
   "id": "8b25732a",
   "metadata": {},
   "outputs": [
    {
     "name": "stdout",
     "output_type": "stream",
     "text": [
      "[   2353.15090792 -136828.22071039]\n"
     ]
    },
    {
     "data": {
      "image/png": "[encoded data removed]",
      "text/plain": [
       "<Figure size 432x288 with 1 Axes>"
      ]
     },
     "metadata": {
      "needs_background": "light"
     },
     "output_type": "display_data"
    }
   ],
   "source": [
    "x = df_no_zero['overall']\n",
    "y = df_no_zero['wage_eur']\n",
    "\n",
    "curve_fit = np.polyfit(x, y, 1)\n",
    "print(curve_fit)\n",
    "\n",
    "plt.plot(x, y, 'o', label='overall scores')\n",
    "\n",
    "plt.plot(x, (-136828.22071039 + (2353.15090792*np.exp(x))), 'r', label='fitted curve')\n",
    "plt.xlabel('x')\n",
    "plt.ylabel('y')\n",
    "plt.legend()\n",
    "plt.show()"
   ]
  },
  {
   "cell_type": "markdown",
   "id": "ae5a51b7",
   "metadata": {},
   "source": [
    "With the little experiment above, it shows that the exponential models are unable to predict the players' wages. Hence, it might be better to replace the wages and value based on the player's profile.\n",
    "\n",
    "To do so, we need to find similar profiles and use those values as a proxy. A possible way could be using k-nearest neighbour."
   ]
  },
  {
   "cell_type": "code",
   "execution_count": null,
   "id": "9008d1c1",
   "metadata": {},
   "outputs": [],
   "source": []
  }
 ],
 "metadata": {
  "kernelspec": {
   "display_name": "Python 3 (ipykernel)",
   "language": "python",
   "name": "python3"
  },
  "language_info": {
   "codemirror_mode": {
    "name": "ipython",
    "version": 3
   },
   "file_extension": ".py",
   "mimetype": "text/x-python",
   "name": "python",
   "nbconvert_exporter": "python",
   "pygments_lexer": "ipython3",
   "version": "3.9.7"
  }
 },
 "nbformat": 4,
 "nbformat_minor": 5
}
