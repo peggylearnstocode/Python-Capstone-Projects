{
 "cells": [
  {
   "cell_type": "markdown",
   "id": "21d831fa",
   "metadata": {},
   "source": [
    "### Chapter 3 - The Collatz Sequence"
   ]
  },
  {
   "cell_type": "code",
   "execution_count": null,
   "id": "b0336f06",
   "metadata": {},
   "outputs": [],
   "source": [
    "def collatz():\n",
    "    while True:\n",
    "        try:\n",
    "            num = int(input('Enter a num from 2 onwards: '))\n",
    "        \n",
    "        except ValueError:\n",
    "            print('Please enter a numeric value')\n",
    "        \n",
    "        else:\n",
    "            print(num)\n",
    "\n",
    "            while num != 1:\n",
    "                if num % 2 == 1:\n",
    "                    num = 3 * num + 1\n",
    "                    print(num)\n",
    "                elif num % 2 == 0:\n",
    "                    num = num // 2\n",
    "                    print(num)\n",
    "                else:\n",
    "                    print(num)\n",
    "                    break\n",
    "        \n",
    "            break\n",
    "        \n",
    "collatz()"
   ]
  },
  {
   "cell_type": "markdown",
   "id": "f4de3274",
   "metadata": {},
   "source": [
    "### Chapter 4 - Comma Code"
   ]
  },
  {
   "cell_type": "code",
   "execution_count": null,
   "id": "f152c622",
   "metadata": {},
   "outputs": [],
   "source": [
    "def print_string(list):\n",
    "    if list != []:\n",
    "            \n",
    "        result = ''\n",
    "            \n",
    "        for index, value in enumerate(list):\n",
    "            if index != (len(list)-1):\n",
    "                result = result + value + ', '\n",
    "                    \n",
    "        return result + 'and ' + list[-1]\n",
    "        \n",
    "    else:\n",
    "        print('Do not pass empty list, please run function again with a non-empty list')\n",
    "        \n",
    "print_string([])"
   ]
  },
  {
   "cell_type": "markdown",
   "id": "34dc253c",
   "metadata": {},
   "source": [
    "### Chapter 4 - Coin Flip Streaks"
   ]
  },
  {
   "cell_type": "code",
   "execution_count": null,
   "id": "1dd6e526",
   "metadata": {},
   "outputs": [],
   "source": [
    "import random\n",
    "num_of_streaks = 0\n",
    "\n",
    "for i in range(10000):\n",
    "    options = ['H', 'T']\n",
    "    record = []\n",
    "    \n",
    "    for i in range(100):\n",
    "        choice = random.choice(options)\n",
    "        record.append(choice)\n",
    "    \n",
    "    x = 0\n",
    "    y = 6\n",
    "    \n",
    "    for i in range(len(record)):\n",
    "        if ['H','H','H','H','H','H'] == record[x:y]:\n",
    "            num_of_streaks += 1\n",
    "            x += 1\n",
    "            y += 1\n",
    "            \n",
    "        elif ['T','T','T','T','T','T'] == record[x:y]:\n",
    "            num_of_streaks += 1\n",
    "            x += 1\n",
    "            y += 1\n",
    "            \n",
    "        else:\n",
    "            x += 1\n",
    "            y += 1\n",
    "            \n",
    "print_num_of_streaks = (num_of_streaks / (10000 * 100)) * 100\n",
    "            \n",
    "print(f'Chance of streak: {print_num_of_streaks}')"
   ]
  },
  {
   "cell_type": "markdown",
   "id": "b599c146",
   "metadata": {},
   "source": [
    "### Chapter 4 - Character Picture Grid"
   ]
  },
  {
   "cell_type": "code",
   "execution_count": null,
   "id": "59992d35",
   "metadata": {},
   "outputs": [],
   "source": [
    "grid = [['.', '.', '.', '.', '.', '.'],\n",
    " ['.', 'O', 'O', '.', '.', '.'],\n",
    " ['O', 'O', 'O', 'O', '.', '.'],\n",
    " ['O', 'O', 'O', 'O', 'O', '.'],\n",
    " ['.', 'O', 'O', 'O', 'O', 'O'],\n",
    " ['O', 'O', 'O', 'O', 'O', '.'],\n",
    " ['O', 'O', 'O', 'O', '.', '.'],\n",
    " ['.', 'O', 'O', '.', '.', '.'],\n",
    " ['.', '.', '.', '.', '.', '.']]\n",
    "\n",
    "\n",
    "for y in range(6):\n",
    "    for x in range(9):\n",
    "        if x == 8:\n",
    "            print(grid[x][y])\n",
    "        else:\n",
    "            print(grid[x][y], end = \"\")"
   ]
  },
  {
   "cell_type": "markdown",
   "id": "92026751",
   "metadata": {},
   "source": [
    "### Chapter 5 - Fantasy Game Inventory"
   ]
  },
  {
   "cell_type": "code",
   "execution_count": null,
   "id": "c7d97f08",
   "metadata": {},
   "outputs": [],
   "source": [
    "import pprint\n",
    "\n",
    "stuff = {'rope': 1, 'torch': 6, 'gold coin': 42, 'dagger': 1, 'arrow': 12}\n",
    "dragonloot = ['gold coin', 'dagger', 'gold coin', 'gold coin', 'ruby']\n",
    "\n",
    "def displayInventory(inventory):\n",
    "    print(\"Inventory: \")\n",
    "    total_item = 0\n",
    "    \n",
    "    for k, v in inventory.items():\n",
    "        print(str(k) + \" \" + str(v))\n",
    "        total_item = total_item + v\n",
    "    print(\"Total number of items: \" + str(total_item))\n",
    "\n",
    "#displayInventory(stuff)\n",
    "\n",
    "def addtoInventory(inventory, addeditems):\n",
    "    for item in addeditems:\n",
    "        if item in inventory.keys():\n",
    "            inventory[item] = inventory[item] + 1\n",
    "        else:\n",
    "            inventory[item] = 1\n",
    "    print(\"Inventory updated\")\n",
    "    pprint.pprint(inventory)\n",
    "    \n",
    "addtoInventory(stuff, dragonloot)"
   ]
  },
  {
   "cell_type": "markdown",
   "id": "6804cd43",
   "metadata": {},
   "source": [
    "### Chapter 6 - Adding Bullets to Wiki Markup"
   ]
  },
  {
   "cell_type": "code",
   "execution_count": null,
   "id": "3785fd3c",
   "metadata": {},
   "outputs": [],
   "source": [
    "#* Lists of animals\n",
    "#* Lists of aquarium life\n",
    "#* Lists of biologists by author abbreviation\n",
    "#* Lists of cultivars\n",
    "\n",
    "import pyperclip\n",
    "\n",
    "var = pyperclip.paste()\n",
    "\n",
    "split_var = var.split('\\n')\n",
    "\n",
    "for i in range(len(split_var)):\n",
    "    split_var[i] = '* ' + split_var[i]\n",
    "    \n",
    "var = '\\n'.join(split_var)\n",
    "\n",
    "pyperclip.copy(var)"
   ]
  },
  {
   "cell_type": "markdown",
   "id": "952dccac",
   "metadata": {},
   "source": [
    "### Chapter 6 - Table Printer"
   ]
  },
  {
   "cell_type": "code",
   "execution_count": null,
   "id": "25203684",
   "metadata": {},
   "outputs": [],
   "source": [
    "def table_printer(tableData):\n",
    "    colWidth = [0] * len(tableData)\n",
    "    \n",
    "    for x in range(len(tableData)):\n",
    "        compare_list = []\n",
    "        for y in range(len(tableData[0])):\n",
    "            compare_list.append(len(tableData[x][y]))\n",
    "        for i in compare_list:\n",
    "            if i > colWidth[x]:\n",
    "                colWidth[x] = i\n",
    "    \n",
    "    for y in range(len(tableData[0])):\n",
    "        for x in range(len(tableData)):\n",
    "            print(tableData[x][y].rjust(colWidth[x], ' '), end = ' ')\n",
    "        print('\\n')\n",
    "        y += 1\n",
    "        \n",
    "table_printer([['apples', 'oranges', 'cherries', 'banana'],\n",
    "['Alice', 'Bob', 'Carol', 'David'],\n",
    "['dogs', 'cats', 'moose', 'goose']])"
   ]
  },
  {
   "cell_type": "markdown",
   "id": "85ac384f",
   "metadata": {},
   "source": [
    "### Chapter 6 - Pig Latin"
   ]
  },
  {
   "cell_type": "code",
   "execution_count": null,
   "id": "e9046082",
   "metadata": {},
   "outputs": [],
   "source": [
    "def piglatin():\n",
    "    message = input('Enter message that you want to translate to pig latin: ')\n",
    "    vowel = ['a', 'e', 'i', 'o', 'u', 'y']\n",
    "    pig_latin = []\n",
    "    \n",
    "    for word in message.split():\n",
    "        prefix = ''\n",
    "        \n",
    "#note to self - have to use while loop and not if statement to check for non-alphabet characters\n",
    "#such as punctuations or special characters like @ # $\n",
    "#same rule applies for the suffix and prefix consonants\n",
    "\n",
    "        while len(word) > 0 and not word[0].isalpha():\n",
    "            prefix += word[0]\n",
    "            word = word[1:]\n",
    "        \n",
    "#note to self - this is the part that deals with the '4,000'. It is left with an empty string as it has already been dealt with in the prefix portion, \n",
    "#because its .alpha() test is never True\n",
    "\n",
    "        if len(word) == 0:\n",
    "            pig_latin.append(prefix)\n",
    "            continue\n",
    "\n",
    "        suffix = ''\n",
    "        while len(word) > 0 and not word[-1].isalpha():\n",
    "            suffix += word[-1]\n",
    "            word = word[:-1]\n",
    "        \n",
    "        uppercase_check = word.isupper()\n",
    "        titlecase_check = word.istitle()\n",
    "        word = word.lower()\n",
    "        \n",
    "        prefix_consonants = ''\n",
    "        while len(word) > 0 and not word[0] in vowel:\n",
    "            prefix_consonants += word[0]\n",
    "            word = word[1:]\n",
    "        if prefix_consonants != '':\n",
    "            word += prefix_consonants + 'ay'\n",
    "        else:\n",
    "            word += 'yay'\n",
    "        \n",
    "        if uppercase_check:\n",
    "            word = word.upper()\n",
    "            \n",
    "        if titlecase_check:\n",
    "            word = word.title()\n",
    "            \n",
    "        new_word = prefix + word + suffix\n",
    "        pig_latin.append(new_word)\n",
    "        \n",
    "    sentence = ' '.join(pig_latin)\n",
    "    return sentence\n",
    "    \n",
    "piglatin()"
   ]
  },
  {
   "cell_type": "code",
   "execution_count": null,
   "id": "6319a71d",
   "metadata": {},
   "outputs": [],
   "source": []
  }
 ],
 "metadata": {
  "kernelspec": {
   "display_name": "Python 3 (ipykernel)",
   "language": "python",
   "name": "python3"
  },
  "language_info": {
   "codemirror_mode": {
    "name": "ipython",
    "version": 3
   },
   "file_extension": ".py",
   "mimetype": "text/x-python",
   "name": "python",
   "nbconvert_exporter": "python",
   "pygments_lexer": "ipython3",
   "version": "3.7.11"
  }
 },
 "nbformat": 4,
 "nbformat_minor": 5
}
